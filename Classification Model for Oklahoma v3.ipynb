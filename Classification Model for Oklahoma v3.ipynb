{
 "cells": [
  {
   "cell_type": "markdown",
   "metadata": {
    "collapsed": true
   },
   "source": [
    "## Classification Model for Oklahoma"
   ]
  },
  {
   "cell_type": "code",
   "execution_count": 10,
   "metadata": {
    "collapsed": true
   },
   "outputs": [],
   "source": [
    "# packages used\n",
    "import pandas as pd\n",
    "import numpy as np\n",
    "from sklearn import tree\n",
    "#from sklearn.ensemble import BaggingClassifier\n",
    "#from sklearn.ensemble import RandomForestClassifier\n",
    "#from sklearn.ensemble import AdaBoostClassifier\n",
    "from sklearn.model_selection import train_test_split\n",
    "from sklearn.model_selection import cross_val_score\n",
    "from sklearn.metrics import confusion_matrix\n",
    "from sklearn.model_selection import GridSearchCV\n",
    "import matplotlib.pyplot as plt\n",
    "%matplotlib inline\n",
    "import pickle"
   ]
  },
  {
   "cell_type": "code",
   "execution_count": 2,
   "metadata": {
    "collapsed": true
   },
   "outputs": [],
   "source": [
    "%run ./graph_counts.py"
   ]
  },
  {
   "cell_type": "code",
   "execution_count": 3,
   "metadata": {},
   "outputs": [
    {
     "data": {
      "text/html": [
       "<div>\n",
       "<style>\n",
       "    .dataframe thead tr:only-child th {\n",
       "        text-align: right;\n",
       "    }\n",
       "\n",
       "    .dataframe thead th {\n",
       "        text-align: left;\n",
       "    }\n",
       "\n",
       "    .dataframe tbody tr th {\n",
       "        vertical-align: top;\n",
       "    }\n",
       "</style>\n",
       "<table border=\"1\" class=\"dataframe\">\n",
       "  <thead>\n",
       "    <tr style=\"text-align: right;\">\n",
       "      <th></th>\n",
       "      <th>RTL_STORE_CD</th>\n",
       "      <th>RTL_FIPS_COUNTY_DSC</th>\n",
       "      <th>RTL_PREMISE_TYPE_CD</th>\n",
       "      <th>RTL_CHANNEL_DSC</th>\n",
       "      <th>RTL_SUBCHANNEL_DSC</th>\n",
       "      <th>RTL_BEER_FLAG</th>\n",
       "      <th>RTL_LIQUOR_FLG</th>\n",
       "    </tr>\n",
       "  </thead>\n",
       "  <tbody>\n",
       "    <tr>\n",
       "      <th>0</th>\n",
       "      <td>107452530</td>\n",
       "      <td>PONTOTOC</td>\n",
       "      <td>OFF</td>\n",
       "      <td>MASS MERCHANDISER</td>\n",
       "      <td>DOLLAR STORE</td>\n",
       "      <td>Y</td>\n",
       "      <td>N</td>\n",
       "    </tr>\n",
       "    <tr>\n",
       "      <th>1</th>\n",
       "      <td>200097024</td>\n",
       "      <td>OKLAHOMA</td>\n",
       "      <td>OFF</td>\n",
       "      <td>GROCERY</td>\n",
       "      <td>SUPERMARKET-CONVENTIONAL</td>\n",
       "      <td>Y</td>\n",
       "      <td>N</td>\n",
       "    </tr>\n",
       "    <tr>\n",
       "      <th>2</th>\n",
       "      <td>100135885</td>\n",
       "      <td>MUSKOGEE</td>\n",
       "      <td>OFF</td>\n",
       "      <td>CONVENIENCE STORE</td>\n",
       "      <td>CONVENTIONAL CONVENIENCE</td>\n",
       "      <td>Y</td>\n",
       "      <td>N</td>\n",
       "    </tr>\n",
       "    <tr>\n",
       "      <th>3</th>\n",
       "      <td>100950469</td>\n",
       "      <td>CANADIAN</td>\n",
       "      <td>OFF</td>\n",
       "      <td>CONVENIENCE STORE</td>\n",
       "      <td>CONVENTIONAL CONVENIENCE</td>\n",
       "      <td>Y</td>\n",
       "      <td>N</td>\n",
       "    </tr>\n",
       "    <tr>\n",
       "      <th>4</th>\n",
       "      <td>100560558</td>\n",
       "      <td>TULSA</td>\n",
       "      <td>OFF</td>\n",
       "      <td>MASS MERCHANDISER</td>\n",
       "      <td>DOLLAR STORE</td>\n",
       "      <td>Y</td>\n",
       "      <td>N</td>\n",
       "    </tr>\n",
       "  </tbody>\n",
       "</table>\n",
       "</div>"
      ],
      "text/plain": [
       "  RTL_STORE_CD RTL_FIPS_COUNTY_DSC RTL_PREMISE_TYPE_CD    RTL_CHANNEL_DSC  \\\n",
       "0    107452530            PONTOTOC                 OFF  MASS MERCHANDISER   \n",
       "1    200097024            OKLAHOMA                 OFF            GROCERY   \n",
       "2    100135885            MUSKOGEE                 OFF  CONVENIENCE STORE   \n",
       "3    100950469            CANADIAN                 OFF  CONVENIENCE STORE   \n",
       "4    100560558               TULSA                 OFF  MASS MERCHANDISER   \n",
       "\n",
       "         RTL_SUBCHANNEL_DSC RTL_BEER_FLAG RTL_LIQUOR_FLG  \n",
       "0              DOLLAR STORE             Y              N  \n",
       "1  SUPERMARKET-CONVENTIONAL             Y              N  \n",
       "2  CONVENTIONAL CONVENIENCE             Y              N  \n",
       "3  CONVENTIONAL CONVENIENCE             Y              N  \n",
       "4              DOLLAR STORE             Y              N  "
      ]
     },
     "execution_count": 3,
     "metadata": {},
     "output_type": "execute_result"
    }
   ],
   "source": [
    "# Load the data\n",
    "data_dir = 'Data/'\n",
    "Stores = pd.read_csv(data_dir + 'AllStoresOklahoma.csv', dtype = str)\n",
    "StoreType = pd.read_csv(data_dir + 'NonLowPointStoresOklahoma.csv', dtype = str)\n",
    "Stores.head()"
   ]
  },
  {
   "cell_type": "code",
   "execution_count": 4,
   "metadata": {},
   "outputs": [
    {
     "data": {
      "text/html": [
       "<div>\n",
       "<style>\n",
       "    .dataframe thead tr:only-child th {\n",
       "        text-align: right;\n",
       "    }\n",
       "\n",
       "    .dataframe thead th {\n",
       "        text-align: left;\n",
       "    }\n",
       "\n",
       "    .dataframe tbody tr th {\n",
       "        vertical-align: top;\n",
       "    }\n",
       "</style>\n",
       "<table border=\"1\" class=\"dataframe\">\n",
       "  <thead>\n",
       "    <tr style=\"text-align: right;\">\n",
       "      <th></th>\n",
       "      <th>RTL_STORE_CD</th>\n",
       "      <th>BEERTYPE</th>\n",
       "    </tr>\n",
       "  </thead>\n",
       "  <tbody>\n",
       "    <tr>\n",
       "      <th>0</th>\n",
       "      <td>102523621</td>\n",
       "      <td>NonLowPoint</td>\n",
       "    </tr>\n",
       "    <tr>\n",
       "      <th>1</th>\n",
       "      <td>101992693</td>\n",
       "      <td>NonLowPoint</td>\n",
       "    </tr>\n",
       "    <tr>\n",
       "      <th>2</th>\n",
       "      <td>102008405</td>\n",
       "      <td>NonLowPoint</td>\n",
       "    </tr>\n",
       "    <tr>\n",
       "      <th>3</th>\n",
       "      <td>101992702</td>\n",
       "      <td>NonLowPoint</td>\n",
       "    </tr>\n",
       "    <tr>\n",
       "      <th>4</th>\n",
       "      <td>102228537</td>\n",
       "      <td>NonLowPoint</td>\n",
       "    </tr>\n",
       "  </tbody>\n",
       "</table>\n",
       "</div>"
      ],
      "text/plain": [
       "  RTL_STORE_CD     BEERTYPE\n",
       "0    102523621  NonLowPoint\n",
       "1    101992693  NonLowPoint\n",
       "2    102008405  NonLowPoint\n",
       "3    101992702  NonLowPoint\n",
       "4    102228537  NonLowPoint"
      ]
     },
     "execution_count": 4,
     "metadata": {},
     "output_type": "execute_result"
    }
   ],
   "source": [
    "StoreType.head()"
   ]
  },
  {
   "cell_type": "code",
   "execution_count": 5,
   "metadata": {
    "collapsed": true
   },
   "outputs": [],
   "source": [
    "FullData = pd.merge(Stores, StoreType, on=\"RTL_STORE_CD\", how=\"left\")"
   ]
  },
  {
   "cell_type": "code",
   "execution_count": 6,
   "metadata": {
    "collapsed": true
   },
   "outputs": [],
   "source": [
    "FullData.loc[FullData['BEERTYPE'].isnull(),\"BEERTYPE\"] = \"LowPoint\""
   ]
  },
  {
   "cell_type": "code",
   "execution_count": 7,
   "metadata": {
    "scrolled": false
   },
   "outputs": [
    {
     "data": {
      "text/html": [
       "<div>\n",
       "<style>\n",
       "    .dataframe thead tr:only-child th {\n",
       "        text-align: right;\n",
       "    }\n",
       "\n",
       "    .dataframe thead th {\n",
       "        text-align: left;\n",
       "    }\n",
       "\n",
       "    .dataframe tbody tr th {\n",
       "        vertical-align: top;\n",
       "    }\n",
       "</style>\n",
       "<table border=\"1\" class=\"dataframe\">\n",
       "  <thead>\n",
       "    <tr style=\"text-align: right;\">\n",
       "      <th></th>\n",
       "      <th>RTL_STORE_CD</th>\n",
       "      <th>RTL_FIPS_COUNTY_DSC</th>\n",
       "      <th>RTL_PREMISE_TYPE_CD</th>\n",
       "      <th>RTL_CHANNEL_DSC</th>\n",
       "      <th>RTL_SUBCHANNEL_DSC</th>\n",
       "      <th>RTL_BEER_FLAG</th>\n",
       "      <th>RTL_LIQUOR_FLG</th>\n",
       "      <th>BEERTYPE</th>\n",
       "      <th>COUNTY_ADAIR</th>\n",
       "      <th>COUNTY_ALFALFA</th>\n",
       "      <th>...</th>\n",
       "      <th>SUBCHANNEL_THEATER</th>\n",
       "      <th>SUBCHANNEL_THEME PARK</th>\n",
       "      <th>SUBCHANNEL_UNKNOWN</th>\n",
       "      <th>SUBCHANNEL_WINERIES/VINEYARDS</th>\n",
       "      <th>BEER_LICENSE_N</th>\n",
       "      <th>BEER_LICENSE_U</th>\n",
       "      <th>BEER_LICENSE_Y</th>\n",
       "      <th>LIQUOR_LICENSE_N</th>\n",
       "      <th>LIQUOR_LICENSE_U</th>\n",
       "      <th>LIQUOR_LICENSE_Y</th>\n",
       "    </tr>\n",
       "  </thead>\n",
       "  <tbody>\n",
       "    <tr>\n",
       "      <th>0</th>\n",
       "      <td>107452530</td>\n",
       "      <td>PONTOTOC</td>\n",
       "      <td>OFF</td>\n",
       "      <td>MASS MERCHANDISER</td>\n",
       "      <td>DOLLAR STORE</td>\n",
       "      <td>Y</td>\n",
       "      <td>N</td>\n",
       "      <td>LowPoint</td>\n",
       "      <td>0</td>\n",
       "      <td>0</td>\n",
       "      <td>...</td>\n",
       "      <td>0</td>\n",
       "      <td>0</td>\n",
       "      <td>0</td>\n",
       "      <td>0</td>\n",
       "      <td>0</td>\n",
       "      <td>0</td>\n",
       "      <td>1</td>\n",
       "      <td>1</td>\n",
       "      <td>0</td>\n",
       "      <td>0</td>\n",
       "    </tr>\n",
       "    <tr>\n",
       "      <th>1</th>\n",
       "      <td>200097024</td>\n",
       "      <td>OKLAHOMA</td>\n",
       "      <td>OFF</td>\n",
       "      <td>GROCERY</td>\n",
       "      <td>SUPERMARKET-CONVENTIONAL</td>\n",
       "      <td>Y</td>\n",
       "      <td>N</td>\n",
       "      <td>LowPoint</td>\n",
       "      <td>0</td>\n",
       "      <td>0</td>\n",
       "      <td>...</td>\n",
       "      <td>0</td>\n",
       "      <td>0</td>\n",
       "      <td>0</td>\n",
       "      <td>0</td>\n",
       "      <td>0</td>\n",
       "      <td>0</td>\n",
       "      <td>1</td>\n",
       "      <td>1</td>\n",
       "      <td>0</td>\n",
       "      <td>0</td>\n",
       "    </tr>\n",
       "    <tr>\n",
       "      <th>2</th>\n",
       "      <td>100135885</td>\n",
       "      <td>MUSKOGEE</td>\n",
       "      <td>OFF</td>\n",
       "      <td>CONVENIENCE STORE</td>\n",
       "      <td>CONVENTIONAL CONVENIENCE</td>\n",
       "      <td>Y</td>\n",
       "      <td>N</td>\n",
       "      <td>LowPoint</td>\n",
       "      <td>0</td>\n",
       "      <td>0</td>\n",
       "      <td>...</td>\n",
       "      <td>0</td>\n",
       "      <td>0</td>\n",
       "      <td>0</td>\n",
       "      <td>0</td>\n",
       "      <td>0</td>\n",
       "      <td>0</td>\n",
       "      <td>1</td>\n",
       "      <td>1</td>\n",
       "      <td>0</td>\n",
       "      <td>0</td>\n",
       "    </tr>\n",
       "    <tr>\n",
       "      <th>3</th>\n",
       "      <td>100950469</td>\n",
       "      <td>CANADIAN</td>\n",
       "      <td>OFF</td>\n",
       "      <td>CONVENIENCE STORE</td>\n",
       "      <td>CONVENTIONAL CONVENIENCE</td>\n",
       "      <td>Y</td>\n",
       "      <td>N</td>\n",
       "      <td>LowPoint</td>\n",
       "      <td>0</td>\n",
       "      <td>0</td>\n",
       "      <td>...</td>\n",
       "      <td>0</td>\n",
       "      <td>0</td>\n",
       "      <td>0</td>\n",
       "      <td>0</td>\n",
       "      <td>0</td>\n",
       "      <td>0</td>\n",
       "      <td>1</td>\n",
       "      <td>1</td>\n",
       "      <td>0</td>\n",
       "      <td>0</td>\n",
       "    </tr>\n",
       "    <tr>\n",
       "      <th>4</th>\n",
       "      <td>100560558</td>\n",
       "      <td>TULSA</td>\n",
       "      <td>OFF</td>\n",
       "      <td>MASS MERCHANDISER</td>\n",
       "      <td>DOLLAR STORE</td>\n",
       "      <td>Y</td>\n",
       "      <td>N</td>\n",
       "      <td>LowPoint</td>\n",
       "      <td>0</td>\n",
       "      <td>0</td>\n",
       "      <td>...</td>\n",
       "      <td>0</td>\n",
       "      <td>0</td>\n",
       "      <td>0</td>\n",
       "      <td>0</td>\n",
       "      <td>0</td>\n",
       "      <td>0</td>\n",
       "      <td>1</td>\n",
       "      <td>1</td>\n",
       "      <td>0</td>\n",
       "      <td>0</td>\n",
       "    </tr>\n",
       "  </tbody>\n",
       "</table>\n",
       "<p>5 rows × 179 columns</p>\n",
       "</div>"
      ],
      "text/plain": [
       "  RTL_STORE_CD RTL_FIPS_COUNTY_DSC RTL_PREMISE_TYPE_CD    RTL_CHANNEL_DSC  \\\n",
       "0    107452530            PONTOTOC                 OFF  MASS MERCHANDISER   \n",
       "1    200097024            OKLAHOMA                 OFF            GROCERY   \n",
       "2    100135885            MUSKOGEE                 OFF  CONVENIENCE STORE   \n",
       "3    100950469            CANADIAN                 OFF  CONVENIENCE STORE   \n",
       "4    100560558               TULSA                 OFF  MASS MERCHANDISER   \n",
       "\n",
       "         RTL_SUBCHANNEL_DSC RTL_BEER_FLAG RTL_LIQUOR_FLG  BEERTYPE  \\\n",
       "0              DOLLAR STORE             Y              N  LowPoint   \n",
       "1  SUPERMARKET-CONVENTIONAL             Y              N  LowPoint   \n",
       "2  CONVENTIONAL CONVENIENCE             Y              N  LowPoint   \n",
       "3  CONVENTIONAL CONVENIENCE             Y              N  LowPoint   \n",
       "4              DOLLAR STORE             Y              N  LowPoint   \n",
       "\n",
       "   COUNTY_ADAIR  COUNTY_ALFALFA        ...         SUBCHANNEL_THEATER  \\\n",
       "0             0               0        ...                          0   \n",
       "1             0               0        ...                          0   \n",
       "2             0               0        ...                          0   \n",
       "3             0               0        ...                          0   \n",
       "4             0               0        ...                          0   \n",
       "\n",
       "   SUBCHANNEL_THEME PARK  SUBCHANNEL_UNKNOWN  SUBCHANNEL_WINERIES/VINEYARDS  \\\n",
       "0                      0                   0                              0   \n",
       "1                      0                   0                              0   \n",
       "2                      0                   0                              0   \n",
       "3                      0                   0                              0   \n",
       "4                      0                   0                              0   \n",
       "\n",
       "   BEER_LICENSE_N  BEER_LICENSE_U  BEER_LICENSE_Y  LIQUOR_LICENSE_N  \\\n",
       "0               0               0               1                 1   \n",
       "1               0               0               1                 1   \n",
       "2               0               0               1                 1   \n",
       "3               0               0               1                 1   \n",
       "4               0               0               1                 1   \n",
       "\n",
       "   LIQUOR_LICENSE_U  LIQUOR_LICENSE_Y  \n",
       "0                 0                 0  \n",
       "1                 0                 0  \n",
       "2                 0                 0  \n",
       "3                 0                 0  \n",
       "4                 0                 0  \n",
       "\n",
       "[5 rows x 179 columns]"
      ]
     },
     "execution_count": 7,
     "metadata": {},
     "output_type": "execute_result"
    }
   ],
   "source": [
    "FullData = pd.concat([FullData, pd.get_dummies(FullData['RTL_FIPS_COUNTY_DSC'],prefix='COUNTY')], axis=1)\n",
    "FullData = pd.concat([FullData, pd.get_dummies(FullData['RTL_PREMISE_TYPE_CD'],prefix='PREMISE')], axis=1)\n",
    "FullData = pd.concat([FullData, pd.get_dummies(FullData['RTL_CHANNEL_DSC'],prefix='CHANNEL')], axis=1)\n",
    "FullData = pd.concat([FullData, pd.get_dummies(FullData['RTL_SUBCHANNEL_DSC'],prefix='SUBCHANNEL')], axis=1)\n",
    "FullData = pd.concat([FullData, pd.get_dummies(FullData['RTL_BEER_FLAG'],prefix='BEER_LICENSE')], axis=1)\n",
    "FullData = pd.concat([FullData, pd.get_dummies(FullData['RTL_LIQUOR_FLG'],prefix='LIQUOR_LICENSE')], axis=1)\n",
    "FullData.head()"
   ]
  },
  {
   "cell_type": "markdown",
   "metadata": {
    "collapsed": true
   },
   "source": [
    "## Business Rules"
   ]
  },
  {
   "cell_type": "code",
   "execution_count": 8,
   "metadata": {
    "collapsed": true
   },
   "outputs": [],
   "source": [
    "FullData['LowPoint_Y'] = \"\"\n"
   ]
  },
  {
   "cell_type": "code",
   "execution_count": 11,
   "metadata": {},
   "outputs": [],
   "source": [
    "def Rules_Oklahoma(dataframe):\n",
    "    for row in range(len(dataframe)):\n",
    "        if dataframe.loc[row,'RTL_CHANNEL_DSC'] == 'DISTRIBUTOR/SUB-DISTRIBUTOR' or dataframe.loc[row,'RTL_CHANNEL_DSC'] == 'EXTENDED MASTER OFF-PREMISE':\n",
    "                dataframe.loc[row,'LowPoint_Y'] = False\n",
    "        else:\n",
    "                dataframe.loc[row,'LowPoint_Y'] = True\n",
    "    return dataframe\n",
    "\n",
    "#save the Oklahoma business rule into pickle\n",
    "pickle.dump(Rules_Oklahoma, open('Oklahoma_business_rule.p', 'wb'))"
   ]
  },
  {
   "cell_type": "code",
   "execution_count": 12,
   "metadata": {},
   "outputs": [
    {
     "data": {
      "text/html": [
       "<div>\n",
       "<style>\n",
       "    .dataframe thead tr:only-child th {\n",
       "        text-align: right;\n",
       "    }\n",
       "\n",
       "    .dataframe thead th {\n",
       "        text-align: left;\n",
       "    }\n",
       "\n",
       "    .dataframe tbody tr th {\n",
       "        vertical-align: top;\n",
       "    }\n",
       "</style>\n",
       "<table border=\"1\" class=\"dataframe\">\n",
       "  <thead>\n",
       "    <tr style=\"text-align: right;\">\n",
       "      <th></th>\n",
       "      <th>RTL_STORE_CD</th>\n",
       "      <th>RTL_FIPS_COUNTY_DSC</th>\n",
       "      <th>RTL_PREMISE_TYPE_CD</th>\n",
       "      <th>RTL_CHANNEL_DSC</th>\n",
       "      <th>RTL_SUBCHANNEL_DSC</th>\n",
       "      <th>RTL_BEER_FLAG</th>\n",
       "      <th>RTL_LIQUOR_FLG</th>\n",
       "      <th>BEERTYPE</th>\n",
       "      <th>COUNTY_ADAIR</th>\n",
       "      <th>COUNTY_ALFALFA</th>\n",
       "      <th>...</th>\n",
       "      <th>SUBCHANNEL_THEME PARK</th>\n",
       "      <th>SUBCHANNEL_UNKNOWN</th>\n",
       "      <th>SUBCHANNEL_WINERIES/VINEYARDS</th>\n",
       "      <th>BEER_LICENSE_N</th>\n",
       "      <th>BEER_LICENSE_U</th>\n",
       "      <th>BEER_LICENSE_Y</th>\n",
       "      <th>LIQUOR_LICENSE_N</th>\n",
       "      <th>LIQUOR_LICENSE_U</th>\n",
       "      <th>LIQUOR_LICENSE_Y</th>\n",
       "      <th>LowPoint_Y</th>\n",
       "    </tr>\n",
       "  </thead>\n",
       "  <tbody>\n",
       "    <tr>\n",
       "      <th>0</th>\n",
       "      <td>107452530</td>\n",
       "      <td>PONTOTOC</td>\n",
       "      <td>OFF</td>\n",
       "      <td>MASS MERCHANDISER</td>\n",
       "      <td>DOLLAR STORE</td>\n",
       "      <td>Y</td>\n",
       "      <td>N</td>\n",
       "      <td>LowPoint</td>\n",
       "      <td>0</td>\n",
       "      <td>0</td>\n",
       "      <td>...</td>\n",
       "      <td>0</td>\n",
       "      <td>0</td>\n",
       "      <td>0</td>\n",
       "      <td>0</td>\n",
       "      <td>0</td>\n",
       "      <td>1</td>\n",
       "      <td>1</td>\n",
       "      <td>0</td>\n",
       "      <td>0</td>\n",
       "      <td>True</td>\n",
       "    </tr>\n",
       "    <tr>\n",
       "      <th>1</th>\n",
       "      <td>200097024</td>\n",
       "      <td>OKLAHOMA</td>\n",
       "      <td>OFF</td>\n",
       "      <td>GROCERY</td>\n",
       "      <td>SUPERMARKET-CONVENTIONAL</td>\n",
       "      <td>Y</td>\n",
       "      <td>N</td>\n",
       "      <td>LowPoint</td>\n",
       "      <td>0</td>\n",
       "      <td>0</td>\n",
       "      <td>...</td>\n",
       "      <td>0</td>\n",
       "      <td>0</td>\n",
       "      <td>0</td>\n",
       "      <td>0</td>\n",
       "      <td>0</td>\n",
       "      <td>1</td>\n",
       "      <td>1</td>\n",
       "      <td>0</td>\n",
       "      <td>0</td>\n",
       "      <td>True</td>\n",
       "    </tr>\n",
       "    <tr>\n",
       "      <th>2</th>\n",
       "      <td>100135885</td>\n",
       "      <td>MUSKOGEE</td>\n",
       "      <td>OFF</td>\n",
       "      <td>CONVENIENCE STORE</td>\n",
       "      <td>CONVENTIONAL CONVENIENCE</td>\n",
       "      <td>Y</td>\n",
       "      <td>N</td>\n",
       "      <td>LowPoint</td>\n",
       "      <td>0</td>\n",
       "      <td>0</td>\n",
       "      <td>...</td>\n",
       "      <td>0</td>\n",
       "      <td>0</td>\n",
       "      <td>0</td>\n",
       "      <td>0</td>\n",
       "      <td>0</td>\n",
       "      <td>1</td>\n",
       "      <td>1</td>\n",
       "      <td>0</td>\n",
       "      <td>0</td>\n",
       "      <td>True</td>\n",
       "    </tr>\n",
       "    <tr>\n",
       "      <th>3</th>\n",
       "      <td>100950469</td>\n",
       "      <td>CANADIAN</td>\n",
       "      <td>OFF</td>\n",
       "      <td>CONVENIENCE STORE</td>\n",
       "      <td>CONVENTIONAL CONVENIENCE</td>\n",
       "      <td>Y</td>\n",
       "      <td>N</td>\n",
       "      <td>LowPoint</td>\n",
       "      <td>0</td>\n",
       "      <td>0</td>\n",
       "      <td>...</td>\n",
       "      <td>0</td>\n",
       "      <td>0</td>\n",
       "      <td>0</td>\n",
       "      <td>0</td>\n",
       "      <td>0</td>\n",
       "      <td>1</td>\n",
       "      <td>1</td>\n",
       "      <td>0</td>\n",
       "      <td>0</td>\n",
       "      <td>True</td>\n",
       "    </tr>\n",
       "    <tr>\n",
       "      <th>4</th>\n",
       "      <td>100560558</td>\n",
       "      <td>TULSA</td>\n",
       "      <td>OFF</td>\n",
       "      <td>MASS MERCHANDISER</td>\n",
       "      <td>DOLLAR STORE</td>\n",
       "      <td>Y</td>\n",
       "      <td>N</td>\n",
       "      <td>LowPoint</td>\n",
       "      <td>0</td>\n",
       "      <td>0</td>\n",
       "      <td>...</td>\n",
       "      <td>0</td>\n",
       "      <td>0</td>\n",
       "      <td>0</td>\n",
       "      <td>0</td>\n",
       "      <td>0</td>\n",
       "      <td>1</td>\n",
       "      <td>1</td>\n",
       "      <td>0</td>\n",
       "      <td>0</td>\n",
       "      <td>True</td>\n",
       "    </tr>\n",
       "  </tbody>\n",
       "</table>\n",
       "<p>5 rows × 180 columns</p>\n",
       "</div>"
      ],
      "text/plain": [
       "  RTL_STORE_CD RTL_FIPS_COUNTY_DSC RTL_PREMISE_TYPE_CD    RTL_CHANNEL_DSC  \\\n",
       "0    107452530            PONTOTOC                 OFF  MASS MERCHANDISER   \n",
       "1    200097024            OKLAHOMA                 OFF            GROCERY   \n",
       "2    100135885            MUSKOGEE                 OFF  CONVENIENCE STORE   \n",
       "3    100950469            CANADIAN                 OFF  CONVENIENCE STORE   \n",
       "4    100560558               TULSA                 OFF  MASS MERCHANDISER   \n",
       "\n",
       "         RTL_SUBCHANNEL_DSC RTL_BEER_FLAG RTL_LIQUOR_FLG  BEERTYPE  \\\n",
       "0              DOLLAR STORE             Y              N  LowPoint   \n",
       "1  SUPERMARKET-CONVENTIONAL             Y              N  LowPoint   \n",
       "2  CONVENTIONAL CONVENIENCE             Y              N  LowPoint   \n",
       "3  CONVENTIONAL CONVENIENCE             Y              N  LowPoint   \n",
       "4              DOLLAR STORE             Y              N  LowPoint   \n",
       "\n",
       "   COUNTY_ADAIR  COUNTY_ALFALFA     ...      SUBCHANNEL_THEME PARK  \\\n",
       "0             0               0     ...                          0   \n",
       "1             0               0     ...                          0   \n",
       "2             0               0     ...                          0   \n",
       "3             0               0     ...                          0   \n",
       "4             0               0     ...                          0   \n",
       "\n",
       "   SUBCHANNEL_UNKNOWN  SUBCHANNEL_WINERIES/VINEYARDS  BEER_LICENSE_N  \\\n",
       "0                   0                              0               0   \n",
       "1                   0                              0               0   \n",
       "2                   0                              0               0   \n",
       "3                   0                              0               0   \n",
       "4                   0                              0               0   \n",
       "\n",
       "   BEER_LICENSE_U  BEER_LICENSE_Y  LIQUOR_LICENSE_N  LIQUOR_LICENSE_U  \\\n",
       "0               0               1                 1                 0   \n",
       "1               0               1                 1                 0   \n",
       "2               0               1                 1                 0   \n",
       "3               0               1                 1                 0   \n",
       "4               0               1                 1                 0   \n",
       "\n",
       "   LIQUOR_LICENSE_Y  LowPoint_Y  \n",
       "0                 0        True  \n",
       "1                 0        True  \n",
       "2                 0        True  \n",
       "3                 0        True  \n",
       "4                 0        True  \n",
       "\n",
       "[5 rows x 180 columns]"
      ]
     },
     "execution_count": 12,
     "metadata": {},
     "output_type": "execute_result"
    }
   ],
   "source": [
    "Oklahoma_rule_func = pickle.load(open('Oklahoma_business_rule.p', 'rb'))\n",
    "        \n",
    "result_df = Oklahoma_rule_func(FullData)\n",
    "result_df.head()\n",
    "        "
   ]
  },
  {
   "cell_type": "markdown",
   "metadata": {},
   "source": [
    "# Business Rules result"
   ]
  },
  {
   "cell_type": "code",
   "execution_count": null,
   "metadata": {},
   "outputs": [
    {
     "data": {
      "text/plain": [
       "array([[4623,  101],\n",
       "       [   0,   10]])"
      ]
     },
     "execution_count": 19,
     "metadata": {},
     "output_type": "execute_result"
    }
   ],
   "source": [
    "# Confusion Matrix\n",
    "cm = confusion_matrix(FullData['BEERTYPE'], FullData['PREDICTION'])\n",
    "cm"
   ]
  },
  {
   "cell_type": "code",
   "execution_count": null,
   "metadata": {},
   "outputs": [
    {
     "data": {
      "text/plain": [
       "0.97866497676383613"
      ]
     },
     "execution_count": 20,
     "metadata": {},
     "output_type": "execute_result"
    }
   ],
   "source": [
    "#Accuracy\n",
    "Accuracy = (cm[0,0] + cm[1,1])/ np.sum(cm)\n",
    "Accuracy"
   ]
  },
  {
   "cell_type": "code",
   "execution_count": null,
   "metadata": {},
   "outputs": [
    {
     "name": "stdout",
     "output_type": "stream",
     "text": [
      "there are 101 errors in the prediction\n"
     ]
    },
    {
     "name": "stderr",
     "output_type": "stream",
     "text": [
      "/usr/local/lib/python3.5/dist-packages/ipykernel_launcher.py:4: DeprecationWarning: \n",
      ".ix is deprecated. Please use\n",
      ".loc for label based indexing or\n",
      ".iloc for positional indexing\n",
      "\n",
      "See the documentation here:\n",
      "http://pandas.pydata.org/pandas-docs/stable/indexing.html#deprecate_ix\n",
      "  after removing the cwd from sys.path.\n"
     ]
    }
   ],
   "source": [
    "#check how many stores are predicted wrong; which are they; what characters do they have\n",
    "error_index_list = []\n",
    "for index in range(len(FullData)):\n",
    "    if FullData.ix[index , 'BEERTYPE'] != FullData.ix[index , 'PREDICTION']:\n",
    "        error_index_list.append(index)\n",
    "print('there are', len(error_index_list), 'errors in the prediction')"
   ]
  },
  {
   "cell_type": "code",
   "execution_count": null,
   "metadata": {},
   "outputs": [
    {
     "name": "stdout",
     "output_type": "stream",
     "text": [
      "there are 101 false_NonLowPoint errors.\n"
     ]
    },
    {
     "data": {
      "text/html": [
       "<div>\n",
       "<style>\n",
       "    .dataframe thead tr:only-child th {\n",
       "        text-align: right;\n",
       "    }\n",
       "\n",
       "    .dataframe thead th {\n",
       "        text-align: left;\n",
       "    }\n",
       "\n",
       "    .dataframe tbody tr th {\n",
       "        vertical-align: top;\n",
       "    }\n",
       "</style>\n",
       "<table border=\"1\" class=\"dataframe\">\n",
       "  <thead>\n",
       "    <tr style=\"text-align: right;\">\n",
       "      <th></th>\n",
       "      <th>RTL_STORE_CD</th>\n",
       "      <th>RTL_FIPS_COUNTY_DSC</th>\n",
       "      <th>RTL_PREMISE_TYPE_CD</th>\n",
       "      <th>RTL_CHANNEL_DSC</th>\n",
       "      <th>RTL_SUBCHANNEL_DSC</th>\n",
       "      <th>RTL_BEER_FLAG</th>\n",
       "      <th>RTL_LIQUOR_FLG</th>\n",
       "      <th>BEERTYPE</th>\n",
       "      <th>COUNTY_ADAIR</th>\n",
       "      <th>COUNTY_ALFALFA</th>\n",
       "      <th>...</th>\n",
       "      <th>SUBCHANNEL_THEME PARK</th>\n",
       "      <th>SUBCHANNEL_UNKNOWN</th>\n",
       "      <th>SUBCHANNEL_WINERIES/VINEYARDS</th>\n",
       "      <th>BEER_LICENSE_N</th>\n",
       "      <th>BEER_LICENSE_U</th>\n",
       "      <th>BEER_LICENSE_Y</th>\n",
       "      <th>LIQUOR_LICENSE_N</th>\n",
       "      <th>LIQUOR_LICENSE_U</th>\n",
       "      <th>LIQUOR_LICENSE_Y</th>\n",
       "      <th>PREDICTION</th>\n",
       "    </tr>\n",
       "  </thead>\n",
       "  <tbody>\n",
       "    <tr>\n",
       "      <th>77</th>\n",
       "      <td>107526955</td>\n",
       "      <td>TULSA</td>\n",
       "      <td>OFF</td>\n",
       "      <td>EXTENDED MASTER OFF-PREMISE</td>\n",
       "      <td>ETHNIC MARKETS</td>\n",
       "      <td>N</td>\n",
       "      <td>N</td>\n",
       "      <td>LowPoint</td>\n",
       "      <td>0</td>\n",
       "      <td>0</td>\n",
       "      <td>...</td>\n",
       "      <td>0</td>\n",
       "      <td>0</td>\n",
       "      <td>0</td>\n",
       "      <td>1</td>\n",
       "      <td>0</td>\n",
       "      <td>0</td>\n",
       "      <td>1</td>\n",
       "      <td>0</td>\n",
       "      <td>0</td>\n",
       "      <td>NonLowPoint</td>\n",
       "    </tr>\n",
       "    <tr>\n",
       "      <th>100</th>\n",
       "      <td>107335479</td>\n",
       "      <td>OKLAHOMA</td>\n",
       "      <td>OFF</td>\n",
       "      <td>EXTENDED MASTER OFF-PREMISE</td>\n",
       "      <td>OTHER OFF-PREMISE</td>\n",
       "      <td>N</td>\n",
       "      <td>N</td>\n",
       "      <td>LowPoint</td>\n",
       "      <td>0</td>\n",
       "      <td>0</td>\n",
       "      <td>...</td>\n",
       "      <td>0</td>\n",
       "      <td>0</td>\n",
       "      <td>0</td>\n",
       "      <td>1</td>\n",
       "      <td>0</td>\n",
       "      <td>0</td>\n",
       "      <td>1</td>\n",
       "      <td>0</td>\n",
       "      <td>0</td>\n",
       "      <td>NonLowPoint</td>\n",
       "    </tr>\n",
       "    <tr>\n",
       "      <th>103</th>\n",
       "      <td>101976624</td>\n",
       "      <td>CHEROKEE</td>\n",
       "      <td>OFF</td>\n",
       "      <td>EXTENDED MASTER OFF-PREMISE</td>\n",
       "      <td>MARINA</td>\n",
       "      <td>N</td>\n",
       "      <td>N</td>\n",
       "      <td>LowPoint</td>\n",
       "      <td>0</td>\n",
       "      <td>0</td>\n",
       "      <td>...</td>\n",
       "      <td>0</td>\n",
       "      <td>0</td>\n",
       "      <td>0</td>\n",
       "      <td>1</td>\n",
       "      <td>0</td>\n",
       "      <td>0</td>\n",
       "      <td>1</td>\n",
       "      <td>0</td>\n",
       "      <td>0</td>\n",
       "      <td>NonLowPoint</td>\n",
       "    </tr>\n",
       "    <tr>\n",
       "      <th>120</th>\n",
       "      <td>103129889</td>\n",
       "      <td>OTTAWA</td>\n",
       "      <td>OFF</td>\n",
       "      <td>EXTENDED MASTER OFF-PREMISE</td>\n",
       "      <td>MARINA</td>\n",
       "      <td>N</td>\n",
       "      <td>N</td>\n",
       "      <td>LowPoint</td>\n",
       "      <td>0</td>\n",
       "      <td>0</td>\n",
       "      <td>...</td>\n",
       "      <td>0</td>\n",
       "      <td>0</td>\n",
       "      <td>0</td>\n",
       "      <td>1</td>\n",
       "      <td>0</td>\n",
       "      <td>0</td>\n",
       "      <td>1</td>\n",
       "      <td>0</td>\n",
       "      <td>0</td>\n",
       "      <td>NonLowPoint</td>\n",
       "    </tr>\n",
       "    <tr>\n",
       "      <th>151</th>\n",
       "      <td>100164484</td>\n",
       "      <td>CLEVELAND</td>\n",
       "      <td>OFF</td>\n",
       "      <td>EXTENDED MASTER OFF-PREMISE</td>\n",
       "      <td>ETHNIC MARKETS</td>\n",
       "      <td>N</td>\n",
       "      <td>N</td>\n",
       "      <td>LowPoint</td>\n",
       "      <td>0</td>\n",
       "      <td>0</td>\n",
       "      <td>...</td>\n",
       "      <td>0</td>\n",
       "      <td>0</td>\n",
       "      <td>0</td>\n",
       "      <td>1</td>\n",
       "      <td>0</td>\n",
       "      <td>0</td>\n",
       "      <td>1</td>\n",
       "      <td>0</td>\n",
       "      <td>0</td>\n",
       "      <td>NonLowPoint</td>\n",
       "    </tr>\n",
       "  </tbody>\n",
       "</table>\n",
       "<p>5 rows × 180 columns</p>\n",
       "</div>"
      ],
      "text/plain": [
       "    RTL_STORE_CD RTL_FIPS_COUNTY_DSC RTL_PREMISE_TYPE_CD  \\\n",
       "77     107526955               TULSA                 OFF   \n",
       "100    107335479            OKLAHOMA                 OFF   \n",
       "103    101976624            CHEROKEE                 OFF   \n",
       "120    103129889              OTTAWA                 OFF   \n",
       "151    100164484           CLEVELAND                 OFF   \n",
       "\n",
       "                 RTL_CHANNEL_DSC RTL_SUBCHANNEL_DSC RTL_BEER_FLAG  \\\n",
       "77   EXTENDED MASTER OFF-PREMISE     ETHNIC MARKETS             N   \n",
       "100  EXTENDED MASTER OFF-PREMISE  OTHER OFF-PREMISE             N   \n",
       "103  EXTENDED MASTER OFF-PREMISE             MARINA             N   \n",
       "120  EXTENDED MASTER OFF-PREMISE             MARINA             N   \n",
       "151  EXTENDED MASTER OFF-PREMISE     ETHNIC MARKETS             N   \n",
       "\n",
       "    RTL_LIQUOR_FLG  BEERTYPE  COUNTY_ADAIR  COUNTY_ALFALFA     ...       \\\n",
       "77               N  LowPoint             0               0     ...        \n",
       "100              N  LowPoint             0               0     ...        \n",
       "103              N  LowPoint             0               0     ...        \n",
       "120              N  LowPoint             0               0     ...        \n",
       "151              N  LowPoint             0               0     ...        \n",
       "\n",
       "     SUBCHANNEL_THEME PARK  SUBCHANNEL_UNKNOWN  SUBCHANNEL_WINERIES/VINEYARDS  \\\n",
       "77                       0                   0                              0   \n",
       "100                      0                   0                              0   \n",
       "103                      0                   0                              0   \n",
       "120                      0                   0                              0   \n",
       "151                      0                   0                              0   \n",
       "\n",
       "     BEER_LICENSE_N  BEER_LICENSE_U  BEER_LICENSE_Y  LIQUOR_LICENSE_N  \\\n",
       "77                1               0               0                 1   \n",
       "100               1               0               0                 1   \n",
       "103               1               0               0                 1   \n",
       "120               1               0               0                 1   \n",
       "151               1               0               0                 1   \n",
       "\n",
       "     LIQUOR_LICENSE_U  LIQUOR_LICENSE_Y   PREDICTION  \n",
       "77                  0                 0  NonLowPoint  \n",
       "100                 0                 0  NonLowPoint  \n",
       "103                 0                 0  NonLowPoint  \n",
       "120                 0                 0  NonLowPoint  \n",
       "151                 0                 0  NonLowPoint  \n",
       "\n",
       "[5 rows x 180 columns]"
      ]
     },
     "execution_count": 22,
     "metadata": {},
     "output_type": "execute_result"
    }
   ],
   "source": [
    "#check the error predictions\n",
    "error_df = FullData.ix[error_index_list, ]\n",
    "false_NonLowPoint = error_df.loc[error_df['BEERTYPE'] == 'LowPoint']\n",
    "print('there are', len(false_NonLowPoint), 'false_NonLowPoint errors.')\n",
    "false_NonLowPoint.head()"
   ]
  },
  {
   "cell_type": "code",
   "execution_count": null,
   "metadata": {},
   "outputs": [
    {
     "name": "stdout",
     "output_type": "stream",
     "text": [
      "there are 0 false_LowPoint errors.\n"
     ]
    },
    {
     "data": {
      "text/html": [
       "<div>\n",
       "<style>\n",
       "    .dataframe thead tr:only-child th {\n",
       "        text-align: right;\n",
       "    }\n",
       "\n",
       "    .dataframe thead th {\n",
       "        text-align: left;\n",
       "    }\n",
       "\n",
       "    .dataframe tbody tr th {\n",
       "        vertical-align: top;\n",
       "    }\n",
       "</style>\n",
       "<table border=\"1\" class=\"dataframe\">\n",
       "  <thead>\n",
       "    <tr style=\"text-align: right;\">\n",
       "      <th></th>\n",
       "      <th>RTL_STORE_CD</th>\n",
       "      <th>RTL_FIPS_COUNTY_DSC</th>\n",
       "      <th>RTL_PREMISE_TYPE_CD</th>\n",
       "      <th>RTL_CHANNEL_DSC</th>\n",
       "      <th>RTL_SUBCHANNEL_DSC</th>\n",
       "      <th>RTL_BEER_FLAG</th>\n",
       "      <th>RTL_LIQUOR_FLG</th>\n",
       "      <th>BEERTYPE</th>\n",
       "      <th>COUNTY_ADAIR</th>\n",
       "      <th>COUNTY_ALFALFA</th>\n",
       "      <th>...</th>\n",
       "      <th>SUBCHANNEL_THEME PARK</th>\n",
       "      <th>SUBCHANNEL_UNKNOWN</th>\n",
       "      <th>SUBCHANNEL_WINERIES/VINEYARDS</th>\n",
       "      <th>BEER_LICENSE_N</th>\n",
       "      <th>BEER_LICENSE_U</th>\n",
       "      <th>BEER_LICENSE_Y</th>\n",
       "      <th>LIQUOR_LICENSE_N</th>\n",
       "      <th>LIQUOR_LICENSE_U</th>\n",
       "      <th>LIQUOR_LICENSE_Y</th>\n",
       "      <th>PREDICTION</th>\n",
       "    </tr>\n",
       "  </thead>\n",
       "  <tbody>\n",
       "  </tbody>\n",
       "</table>\n",
       "<p>0 rows × 180 columns</p>\n",
       "</div>"
      ],
      "text/plain": [
       "Empty DataFrame\n",
       "Columns: [RTL_STORE_CD, RTL_FIPS_COUNTY_DSC, RTL_PREMISE_TYPE_CD, RTL_CHANNEL_DSC, RTL_SUBCHANNEL_DSC, RTL_BEER_FLAG, RTL_LIQUOR_FLG, BEERTYPE, COUNTY_ADAIR, COUNTY_ALFALFA, COUNTY_ATOKA, COUNTY_BEAVER, COUNTY_BECKHAM, COUNTY_BLAINE, COUNTY_BRYAN, COUNTY_CADDO, COUNTY_CANADIAN, COUNTY_CARTER, COUNTY_CHEROKEE, COUNTY_CHOCTAW, COUNTY_CLEVELAND, COUNTY_COAL, COUNTY_COMANCHE, COUNTY_COTTON, COUNTY_CRAIG, COUNTY_CREEK, COUNTY_CUSTER, COUNTY_DELAWARE, COUNTY_DEWEY, COUNTY_ELLIS, COUNTY_GARFIELD, COUNTY_GARVIN, COUNTY_GRADY, COUNTY_GRANT, COUNTY_GREER, COUNTY_HARMON, COUNTY_HARPER, COUNTY_HASKELL, COUNTY_HUGHES, COUNTY_JACKSON, COUNTY_JEFFERSON, COUNTY_JOHNSTON, COUNTY_KAY, COUNTY_KINGFISHER, COUNTY_KIOWA, COUNTY_LATIMER, COUNTY_LE FLORE, COUNTY_LINCOLN, COUNTY_LOGAN, COUNTY_LOVE, COUNTY_MAJOR, COUNTY_MARSHALL, COUNTY_MAYES, COUNTY_MCCLAIN, COUNTY_MCCURTAIN, COUNTY_MCINTOSH, COUNTY_MURRAY, COUNTY_MUSKOGEE, COUNTY_NOBLE, COUNTY_NOWATA, COUNTY_OKFUSKEE, COUNTY_OKLAHOMA, COUNTY_OKMULGEE, COUNTY_OSAGE, COUNTY_OTTAWA, COUNTY_PAWNEE, COUNTY_PAYNE, COUNTY_PITTSBURG, COUNTY_PONTOTOC, COUNTY_POTTAWATOMIE, COUNTY_PUSHMATAHA, COUNTY_ROGER MILLS, COUNTY_ROGERS, COUNTY_SEMINOLE, COUNTY_SEQUOYAH, COUNTY_STEPHENS, COUNTY_TILLMAN, COUNTY_TULSA, COUNTY_UNKNOWN, COUNTY_WAGONER, COUNTY_WASHINGTON, COUNTY_WASHITA, COUNTY_WOODS, COUNTY_WOODWARD, PREMISE_NR, PREMISE_OFF, PREMISE_ON, CHANNEL_BAR/NIGHTCLUB, CHANNEL_CATERER, CHANNEL_CIGARETTE OUTLET, CHANNEL_CONVENIENCE STORE, CHANNEL_DINING, CHANNEL_DISTRIBUTOR/SUB-DISTRIBUTOR, CHANNEL_DRUG, CHANNEL_EXTENDED MASTER OFF-PREMISE, CHANNEL_EXTENDED MASTER ON-PREMISE, CHANNEL_GROCERY, CHANNEL_LIQUOR, CHANNEL_LODGING, CHANNEL_MASS MERCHANDISER, ...]\n",
       "Index: []\n",
       "\n",
       "[0 rows x 180 columns]"
      ]
     },
     "execution_count": 23,
     "metadata": {},
     "output_type": "execute_result"
    }
   ],
   "source": [
    "false_LowPoint = error_df.loc[error_df['BEERTYPE'] == 'NonLowPoint']\n",
    "print('there are', len(false_LowPoint), 'false_LowPoint errors.')\n",
    "false_LowPoint.head()"
   ]
  },
  {
   "cell_type": "code",
   "execution_count": null,
   "metadata": {},
   "outputs": [
    {
     "data": {
      "image/png": "[encoded data removed]",
      "text/plain": [
       "<matplotlib.figure.Figure at 0x7f356df9a780>"
      ]
     },
     "metadata": {},
     "output_type": "display_data"
    }
   ],
   "source": [
    "#create false_NonLowPoint by County\n",
    "graph_counts(false_NonLowPoint, 'RTL_FIPS_COUNTY_DSC', False, 'bar', True, 15)"
   ]
  },
  {
   "cell_type": "code",
   "execution_count": null,
   "metadata": {},
   "outputs": [
    {
     "data": {
      "image/png": "[encoded data removed]",
      "text/plain": [
       "<matplotlib.figure.Figure at 0x7f3570129438>"
      ]
     },
     "metadata": {},
     "output_type": "display_data"
    }
   ],
   "source": [
    "#create false_NonLowPoint by premise type\n",
    "graph_counts(false_NonLowPoint, 'RTL_PREMISE_TYPE_CD', False, 'bar', True, 15)"
   ]
  },
  {
   "cell_type": "code",
   "execution_count": null,
   "metadata": {},
   "outputs": [
    {
     "data": {
      "image/png": "[encoded data removed]",
      "text/plain": [
       "<matplotlib.figure.Figure at 0x7f35700e7ba8>"
      ]
     },
     "metadata": {},
     "output_type": "display_data"
    }
   ],
   "source": [
    "#create false_NonLowPoint by Channel\n",
    "graph_counts(false_NonLowPoint, 'RTL_CHANNEL_DSC', False, 'bar', True, 15)"
   ]
  },
  {
   "cell_type": "code",
   "execution_count": null,
   "metadata": {},
   "outputs": [
    {
     "data": {
      "image/png": "[encoded data removed]",
      "text/plain": [
       "<matplotlib.figure.Figure at 0x7f356df77940>"
      ]
     },
     "metadata": {},
     "output_type": "display_data"
    }
   ],
   "source": [
    "#create false_NonLowPoint by sub channel\n",
    "graph_counts(false_NonLowPoint, 'RTL_SUBCHANNEL_DSC', False, 'bar', True, 15)"
   ]
  },
  {
   "cell_type": "code",
   "execution_count": null,
   "metadata": {},
   "outputs": [
    {
     "data": {
      "image/png": "[encoded data removed]",
      "text/plain": [
       "<matplotlib.figure.Figure at 0x7f357012d8d0>"
      ]
     },
     "metadata": {},
     "output_type": "display_data"
    }
   ],
   "source": [
    "#create false_NonLowPoint by Beer License\n",
    "graph_counts(false_NonLowPoint, 'RTL_BEER_FLAG', False, 'pie', True, 15)"
   ]
  },
  {
   "cell_type": "code",
   "execution_count": null,
   "metadata": {},
   "outputs": [
    {
     "data": {
      "image/png": "[encoded data removed]",
      "text/plain": [
       "<matplotlib.figure.Figure at 0x7f35702fe0b8>"
      ]
     },
     "metadata": {},
     "output_type": "display_data"
    }
   ],
   "source": [
    "#create false_NonLowPoint by Liquor License\n",
    "graph_counts(false_NonLowPoint, 'RTL_LIQUOR_FLG', False, 'pie', True, 15)"
   ]
  },
  {
   "cell_type": "code",
   "execution_count": null,
   "metadata": {
    "collapsed": true
   },
   "outputs": [],
   "source": []
  },
  {
   "cell_type": "code",
   "execution_count": null,
   "metadata": {
    "collapsed": true
   },
   "outputs": [],
   "source": []
  },
  {
   "cell_type": "markdown",
   "metadata": {
    "collapsed": true
   },
   "source": [
    "### Decision Tree Approach"
   ]
  },
  {
   "cell_type": "code",
   "execution_count": null,
   "metadata": {
    "collapsed": true
   },
   "outputs": [],
   "source": [
    "# prepare data to fit model\n",
    "X_labels = [c for c in FullData.columns if c not in ['RTL_STORE_CD','BEERTYPE','RTL_FIPS_COUNTY_DSC','RTL_PREMISE_TYPE_CD','RTL_CHANNEL_DSC','RTL_SUBCHANNEL_DSC','RTL_BEER_FLAG',\"RTL_LIQUOR_FLG\",\"PREDICTION\"]]\n",
    "X = FullData.loc[:,X_labels]\n",
    "Y = FullData['BEERTYPE']"
   ]
  },
  {
   "cell_type": "code",
   "execution_count": null,
   "metadata": {},
   "outputs": [
    {
     "data": {
      "text/plain": [
       "{'max_depth': 1,\n",
       " 'min_samples_leaf': 3,\n",
       " 'min_samples_split': 3,\n",
       " 'random_state': 0}"
      ]
     },
     "execution_count": 31,
     "metadata": {},
     "output_type": "execute_result"
    }
   ],
   "source": [
    "parameters = {'max_depth':range(1,21), 'min_samples_leaf':range(3,21,3), 'min_samples_split':range(3,21,3), 'random_state': [0]}\n",
    "clf = tree.DecisionTreeClassifier()\n",
    "clf = GridSearchCV(clf, parameters, n_jobs = -2)\n",
    "clf.fit(X, Y)\n",
    "best_params = clf.best_params_\n",
    "best_params"
   ]
  },
  {
   "cell_type": "markdown",
   "metadata": {},
   "source": [
    "# Decision Tree Result"
   ]
  },
  {
   "cell_type": "code",
   "execution_count": null,
   "metadata": {},
   "outputs": [
    {
     "name": "stdout",
     "output_type": "stream",
     "text": [
      "the best depth is: 1 with minimium leaf = 3 minimium split = 3 with accuracy: 99.958 %\n"
     ]
    }
   ],
   "source": [
    "#the result: with the best tree depth and accuracy\n",
    "best_depth = best_params['max_depth']\n",
    "best_leaf = best_params['min_samples_leaf']\n",
    "best_split = best_params['min_samples_split']\n",
    "accuracy = clf.best_score_ \n",
    "\n",
    "print('the best depth is:', best_depth, 'with minimium leaf =',best_leaf , 'minimium split =',best_split, 'with accuracy:',round(accuracy*100, 3), '%')"
   ]
  },
  {
   "cell_type": "code",
   "execution_count": null,
   "metadata": {},
   "outputs": [
    {
     "data": {
      "text/html": [
       "<div>\n",
       "<style>\n",
       "    .dataframe thead tr:only-child th {\n",
       "        text-align: right;\n",
       "    }\n",
       "\n",
       "    .dataframe thead th {\n",
       "        text-align: left;\n",
       "    }\n",
       "\n",
       "    .dataframe tbody tr th {\n",
       "        vertical-align: top;\n",
       "    }\n",
       "</style>\n",
       "<table border=\"1\" class=\"dataframe\">\n",
       "  <thead>\n",
       "    <tr style=\"text-align: right;\">\n",
       "      <th></th>\n",
       "      <th>RTL_STORE_CD</th>\n",
       "      <th>RTL_FIPS_COUNTY_DSC</th>\n",
       "      <th>RTL_PREMISE_TYPE_CD</th>\n",
       "      <th>RTL_CHANNEL_DSC</th>\n",
       "      <th>RTL_SUBCHANNEL_DSC</th>\n",
       "      <th>RTL_BEER_FLAG</th>\n",
       "      <th>RTL_LIQUOR_FLG</th>\n",
       "      <th>BEERTYPE</th>\n",
       "      <th>PRED_RESULT</th>\n",
       "    </tr>\n",
       "  </thead>\n",
       "  <tbody>\n",
       "    <tr>\n",
       "      <th>0</th>\n",
       "      <td>107452530</td>\n",
       "      <td>PONTOTOC</td>\n",
       "      <td>OFF</td>\n",
       "      <td>MASS MERCHANDISER</td>\n",
       "      <td>DOLLAR STORE</td>\n",
       "      <td>Y</td>\n",
       "      <td>N</td>\n",
       "      <td>LowPoint</td>\n",
       "      <td>LowPoint</td>\n",
       "    </tr>\n",
       "    <tr>\n",
       "      <th>1</th>\n",
       "      <td>200097024</td>\n",
       "      <td>OKLAHOMA</td>\n",
       "      <td>OFF</td>\n",
       "      <td>GROCERY</td>\n",
       "      <td>SUPERMARKET-CONVENTIONAL</td>\n",
       "      <td>Y</td>\n",
       "      <td>N</td>\n",
       "      <td>LowPoint</td>\n",
       "      <td>LowPoint</td>\n",
       "    </tr>\n",
       "    <tr>\n",
       "      <th>2</th>\n",
       "      <td>100135885</td>\n",
       "      <td>MUSKOGEE</td>\n",
       "      <td>OFF</td>\n",
       "      <td>CONVENIENCE STORE</td>\n",
       "      <td>CONVENTIONAL CONVENIENCE</td>\n",
       "      <td>Y</td>\n",
       "      <td>N</td>\n",
       "      <td>LowPoint</td>\n",
       "      <td>LowPoint</td>\n",
       "    </tr>\n",
       "    <tr>\n",
       "      <th>3</th>\n",
       "      <td>100950469</td>\n",
       "      <td>CANADIAN</td>\n",
       "      <td>OFF</td>\n",
       "      <td>CONVENIENCE STORE</td>\n",
       "      <td>CONVENTIONAL CONVENIENCE</td>\n",
       "      <td>Y</td>\n",
       "      <td>N</td>\n",
       "      <td>LowPoint</td>\n",
       "      <td>LowPoint</td>\n",
       "    </tr>\n",
       "    <tr>\n",
       "      <th>4</th>\n",
       "      <td>100560558</td>\n",
       "      <td>TULSA</td>\n",
       "      <td>OFF</td>\n",
       "      <td>MASS MERCHANDISER</td>\n",
       "      <td>DOLLAR STORE</td>\n",
       "      <td>Y</td>\n",
       "      <td>N</td>\n",
       "      <td>LowPoint</td>\n",
       "      <td>LowPoint</td>\n",
       "    </tr>\n",
       "  </tbody>\n",
       "</table>\n",
       "</div>"
      ],
      "text/plain": [
       "  RTL_STORE_CD RTL_FIPS_COUNTY_DSC RTL_PREMISE_TYPE_CD    RTL_CHANNEL_DSC  \\\n",
       "0    107452530            PONTOTOC                 OFF  MASS MERCHANDISER   \n",
       "1    200097024            OKLAHOMA                 OFF            GROCERY   \n",
       "2    100135885            MUSKOGEE                 OFF  CONVENIENCE STORE   \n",
       "3    100950469            CANADIAN                 OFF  CONVENIENCE STORE   \n",
       "4    100560558               TULSA                 OFF  MASS MERCHANDISER   \n",
       "\n",
       "         RTL_SUBCHANNEL_DSC RTL_BEER_FLAG RTL_LIQUOR_FLG  BEERTYPE PRED_RESULT  \n",
       "0              DOLLAR STORE             Y              N  LowPoint    LowPoint  \n",
       "1  SUPERMARKET-CONVENTIONAL             Y              N  LowPoint    LowPoint  \n",
       "2  CONVENTIONAL CONVENIENCE             Y              N  LowPoint    LowPoint  \n",
       "3  CONVENTIONAL CONVENIENCE             Y              N  LowPoint    LowPoint  \n",
       "4              DOLLAR STORE             Y              N  LowPoint    LowPoint  "
      ]
     },
     "execution_count": 33,
     "metadata": {},
     "output_type": "execute_result"
    }
   ],
   "source": [
    "#check the errors:\n",
    "\n",
    "#create a new data frame to store the prediction result. \n",
    "result_df = FullData.loc[:, 'RTL_STORE_CD': 'BEERTYPE']\n",
    "result_df['PRED_RESULT'] = clf.predict(X)\n",
    "result_df.head()"
   ]
  },
  {
   "cell_type": "code",
   "execution_count": null,
   "metadata": {
    "scrolled": true
   },
   "outputs": [
    {
     "name": "stdout",
     "output_type": "stream",
     "text": [
      "there are 2 errors in the prediction\n"
     ]
    },
    {
     "name": "stderr",
     "output_type": "stream",
     "text": [
      "/usr/local/lib/python3.5/dist-packages/ipykernel_launcher.py:4: DeprecationWarning: \n",
      ".ix is deprecated. Please use\n",
      ".loc for label based indexing or\n",
      ".iloc for positional indexing\n",
      "\n",
      "See the documentation here:\n",
      "http://pandas.pydata.org/pandas-docs/stable/indexing.html#deprecate_ix\n",
      "  after removing the cwd from sys.path.\n"
     ]
    }
   ],
   "source": [
    "#check how many stores are predicted wrong; which are they; what characters do they have\n",
    "error_index_list = []\n",
    "for index in range(len(result_df)):\n",
    "    if result_df.ix[index , 'BEERTYPE'] != result_df.ix[index , 'PRED_RESULT']:\n",
    "        error_index_list.append(index)\n",
    "print('there are', len(error_index_list), 'errors in the prediction')"
   ]
  },
  {
   "cell_type": "code",
   "execution_count": null,
   "metadata": {
    "scrolled": true
   },
   "outputs": [
    {
     "name": "stdout",
     "output_type": "stream",
     "text": [
      "there are 1 false_NonLowPoint errors.\n",
      "there are 1 false_LowPoint errors.\n"
     ]
    },
    {
     "data": {
      "text/html": [
       "<div>\n",
       "<style>\n",
       "    .dataframe thead tr:only-child th {\n",
       "        text-align: right;\n",
       "    }\n",
       "\n",
       "    .dataframe thead th {\n",
       "        text-align: left;\n",
       "    }\n",
       "\n",
       "    .dataframe tbody tr th {\n",
       "        vertical-align: top;\n",
       "    }\n",
       "</style>\n",
       "<table border=\"1\" class=\"dataframe\">\n",
       "  <thead>\n",
       "    <tr style=\"text-align: right;\">\n",
       "      <th></th>\n",
       "      <th>RTL_STORE_CD</th>\n",
       "      <th>RTL_FIPS_COUNTY_DSC</th>\n",
       "      <th>RTL_PREMISE_TYPE_CD</th>\n",
       "      <th>RTL_CHANNEL_DSC</th>\n",
       "      <th>RTL_SUBCHANNEL_DSC</th>\n",
       "      <th>RTL_BEER_FLAG</th>\n",
       "      <th>RTL_LIQUOR_FLG</th>\n",
       "      <th>BEERTYPE</th>\n",
       "      <th>PRED_RESULT</th>\n",
       "    </tr>\n",
       "  </thead>\n",
       "  <tbody>\n",
       "    <tr>\n",
       "      <th>2709</th>\n",
       "      <td>101958071</td>\n",
       "      <td>COMANCHE</td>\n",
       "      <td>NR</td>\n",
       "      <td>DISTRIBUTOR/SUB-DISTRIBUTOR</td>\n",
       "      <td>DISTRIBUTOR/SUB-DISTRIBUTOR</td>\n",
       "      <td>N</td>\n",
       "      <td>N</td>\n",
       "      <td>LowPoint</td>\n",
       "      <td>NonLowPoint</td>\n",
       "    </tr>\n",
       "  </tbody>\n",
       "</table>\n",
       "</div>"
      ],
      "text/plain": [
       "     RTL_STORE_CD RTL_FIPS_COUNTY_DSC RTL_PREMISE_TYPE_CD  \\\n",
       "2709    101958071            COMANCHE                  NR   \n",
       "\n",
       "                  RTL_CHANNEL_DSC           RTL_SUBCHANNEL_DSC RTL_BEER_FLAG  \\\n",
       "2709  DISTRIBUTOR/SUB-DISTRIBUTOR  DISTRIBUTOR/SUB-DISTRIBUTOR             N   \n",
       "\n",
       "     RTL_LIQUOR_FLG  BEERTYPE  PRED_RESULT  \n",
       "2709              N  LowPoint  NonLowPoint  "
      ]
     },
     "execution_count": 35,
     "metadata": {},
     "output_type": "execute_result"
    }
   ],
   "source": [
    "#check the error predictions\n",
    "error_df = result_df.ix[error_index_list, ]\n",
    "false_NonLowPoint = error_df.loc[error_df['BEERTYPE'] == 'LowPoint']\n",
    "false_LowPoint = error_df.loc[error_df['BEERTYPE'] == 'NonLowPoint']\n",
    "print('there are', len(false_NonLowPoint), 'false_NonLowPoint errors.')\n",
    "print('there are', len(false_LowPoint), 'false_LowPoint errors.')\n",
    "false_NonLowPoint.head()"
   ]
  },
  {
   "cell_type": "code",
   "execution_count": null,
   "metadata": {},
   "outputs": [
    {
     "data": {
      "image/png": "[encoded data removed]",
      "text/plain": [
       "<matplotlib.figure.Figure at 0x7f356df26d68>"
      ]
     },
     "metadata": {},
     "output_type": "display_data"
    }
   ],
   "source": [
    "#create false_NonLowPoint by County\n",
    "graph_counts(false_NonLowPoint, 'RTL_FIPS_COUNTY_DSC', False, 'bar', True, 15)"
   ]
  },
  {
   "cell_type": "code",
   "execution_count": null,
   "metadata": {},
   "outputs": [
    {
     "data": {
      "image/png": "[encoded data removed]",
      "text/plain": [
       "<matplotlib.figure.Figure at 0x7f3570237160>"
      ]
     },
     "metadata": {},
     "output_type": "display_data"
    }
   ],
   "source": [
    "#create false_LowPoint by County\n",
    "graph_counts(false_LowPoint, 'RTL_FIPS_COUNTY_DSC', False, 'bar', True, 15)"
   ]
  },
  {
   "cell_type": "code",
   "execution_count": null,
   "metadata": {},
   "outputs": [
    {
     "data": {
      "image/png": "[encoded data removed]",
      "text/plain": [
       "<matplotlib.figure.Figure at 0x7f356e05aba8>"
      ]
     },
     "metadata": {},
     "output_type": "display_data"
    }
   ],
   "source": [
    "#create false_NonLowPoint by premise type\n",
    "graph_counts(false_NonLowPoint, 'RTL_PREMISE_TYPE_CD', False, 'bar', True, 15)"
   ]
  },
  {
   "cell_type": "code",
   "execution_count": null,
   "metadata": {},
   "outputs": [
    {
     "data": {
      "image/png": "[encoded data removed]",
      "text/plain": [
       "<matplotlib.figure.Figure at 0x7f356e0354a8>"
      ]
     },
     "metadata": {},
     "output_type": "display_data"
    }
   ],
   "source": [
    "#create false_LowPoint by premise type\n",
    "graph_counts(false_LowPoint, 'RTL_PREMISE_TYPE_CD', False, 'bar', True, 15)"
   ]
  },
  {
   "cell_type": "code",
   "execution_count": null,
   "metadata": {},
   "outputs": [
    {
     "data": {
      "image/png": "[encoded data removed]",
      "text/plain": [
       "<matplotlib.figure.Figure at 0x7f356dfa34e0>"
      ]
     },
     "metadata": {},
     "output_type": "display_data"
    }
   ],
   "source": [
    "#create false_NonLowPoint by Channel\n",
    "graph_counts(false_NonLowPoint, 'RTL_CHANNEL_DSC', False, 'bar', True, 15)"
   ]
  },
  {
   "cell_type": "code",
   "execution_count": null,
   "metadata": {},
   "outputs": [
    {
     "data": {
      "image/png": "[encoded data removed]",
      "text/plain": [
       "<matplotlib.figure.Figure at 0x7f357023c828>"
      ]
     },
     "metadata": {},
     "output_type": "display_data"
    }
   ],
   "source": [
    "#create false_LowPoint by Channel\n",
    "graph_counts(false_LowPoint, 'RTL_CHANNEL_DSC', False, 'bar', True, 15)"
   ]
  },
  {
   "cell_type": "code",
   "execution_count": null,
   "metadata": {},
   "outputs": [
    {
     "data": {
      "image/png": "[encoded data removed]",
      "text/plain": [
       "<matplotlib.figure.Figure at 0x7f356e04c7b8>"
      ]
     },
     "metadata": {},
     "output_type": "display_data"
    }
   ],
   "source": [
    "#create false_NonLowPoint by sub channel\n",
    "graph_counts(false_NonLowPoint, 'RTL_SUBCHANNEL_DSC', False, 'bar', True, 15)"
   ]
  },
  {
   "cell_type": "code",
   "execution_count": null,
   "metadata": {},
   "outputs": [
    {
     "data": {
      "image/png": "[encoded data removed]",
      "text/plain": [
       "<matplotlib.figure.Figure at 0x7f356df56048>"
      ]
     },
     "metadata": {},
     "output_type": "display_data"
    }
   ],
   "source": [
    "#create false_LowPoint by sub channel\n",
    "graph_counts(false_LowPoint, 'RTL_SUBCHANNEL_DSC', False, 'bar', True, 15)"
   ]
  },
  {
   "cell_type": "code",
   "execution_count": null,
   "metadata": {},
   "outputs": [
    {
     "data": {
      "image/png": "[encoded data removed]",
      "text/plain": [
       "<matplotlib.figure.Figure at 0x7f356e021c18>"
      ]
     },
     "metadata": {},
     "output_type": "display_data"
    }
   ],
   "source": [
    "#create false_NonLowPoint by Beer License\n",
    "graph_counts(false_NonLowPoint, 'RTL_BEER_FLAG', False, 'pie', True, 15)"
   ]
  },
  {
   "cell_type": "code",
   "execution_count": null,
   "metadata": {},
   "outputs": [
    {
     "data": {
      "image/png": "[encoded data removed]",
      "text/plain": [
       "<matplotlib.figure.Figure at 0x7f356e0a1860>"
      ]
     },
     "metadata": {},
     "output_type": "display_data"
    }
   ],
   "source": [
    "#create false_LowPoint by Beer License\n",
    "graph_counts(false_LowPoint, 'RTL_BEER_FLAG', False, 'pie', True, 15)"
   ]
  },
  {
   "cell_type": "code",
   "execution_count": null,
   "metadata": {},
   "outputs": [
    {
     "data": {
      "image/png": "[encoded data removed]",
      "text/plain": [
       "<matplotlib.figure.Figure at 0x7f35701a16d8>"
      ]
     },
     "metadata": {},
     "output_type": "display_data"
    }
   ],
   "source": [
    "#create false_NonLowPoint by Liquor License\n",
    "graph_counts(false_NonLowPoint, 'RTL_LIQUOR_FLG', False, 'pie', True, 15)"
   ]
  },
  {
   "cell_type": "code",
   "execution_count": null,
   "metadata": {},
   "outputs": [
    {
     "data": {
      "image/png": "[encoded data removed]",
      "text/plain": [
       "<matplotlib.figure.Figure at 0x7f35700ecc18>"
      ]
     },
     "metadata": {},
     "output_type": "display_data"
    }
   ],
   "source": [
    "#create false_LowPoint by Liquor License\n",
    "graph_counts(false_LowPoint, 'RTL_LIQUOR_FLG', False, 'pie', True, 15)"
   ]
  },
  {
   "cell_type": "code",
   "execution_count": null,
   "metadata": {},
   "outputs": [
    {
     "data": {
      "text/plain": [
       "SUBCHANNEL_DISTRIBUTOR/SUB-DISTRIBUTOR    1.0\n",
       "dtype: float64"
      ]
     },
     "execution_count": 48,
     "metadata": {},
     "output_type": "execute_result"
    }
   ],
   "source": [
    "#feature importance\n",
    "clf = tree.DecisionTreeClassifier(max_depth=best_depth, min_samples_leaf= best_leaf, min_samples_split = best_split, random_state=0)\n",
    "clf = clf.fit(X,Y)\n",
    "\n",
    "#all the features with their importance scores.\n",
    "feature_score = pd.Series(data=clf.feature_importances_, index=X.columns).sort_values(ascending = False)\n",
    "\n",
    "#only show the features that have scores greater than 0\n",
    "feature_score[feature_score > 0]\n"
   ]
  },
  {
   "cell_type": "code",
   "execution_count": null,
   "metadata": {},
   "outputs": [
    {
     "data": {
      "text/plain": [
       "array([[4723,    1],\n",
       "       [   1,    9]])"
      ]
     },
     "execution_count": 49,
     "metadata": {},
     "output_type": "execute_result"
    }
   ],
   "source": [
    "# Confusion Matrix\n",
    "cm = confusion_matrix(result_df['BEERTYPE'], result_df['PRED_RESULT'])\n",
    "cm"
   ]
  },
  {
   "cell_type": "code",
   "execution_count": null,
   "metadata": {},
   "outputs": [
    {
     "data": {
      "text/plain": [
       "0.90000000000000002"
      ]
     },
     "execution_count": 50,
     "metadata": {},
     "output_type": "execute_result"
    }
   ],
   "source": [
    "# True Positive Rate\n",
    "TPR = cm[1,1]/(cm[1,1]+cm[1,0])\n",
    "TPR"
   ]
  },
  {
   "cell_type": "code",
   "execution_count": null,
   "metadata": {},
   "outputs": [
    {
     "data": {
      "text/plain": [
       "0.10000000000000001"
      ]
     },
     "execution_count": 51,
     "metadata": {},
     "output_type": "execute_result"
    }
   ],
   "source": [
    "# False Negative Rate\n",
    "FNR = cm[1,0]/(cm[1,0]+cm[1,1])\n",
    "FNR"
   ]
  },
  {
   "cell_type": "code",
   "execution_count": null,
   "metadata": {},
   "outputs": [
    {
     "data": {
      "text/plain": [
       "0.99978831498729892"
      ]
     },
     "execution_count": 52,
     "metadata": {},
     "output_type": "execute_result"
    }
   ],
   "source": [
    "# True Negative Rate\n",
    "TNR = cm[0,0]/(cm[0,0]+cm[0,1])\n",
    "TNR"
   ]
  },
  {
   "cell_type": "code",
   "execution_count": null,
   "metadata": {},
   "outputs": [
    {
     "data": {
      "text/plain": [
       "0.00021168501270110075"
      ]
     },
     "execution_count": 53,
     "metadata": {},
     "output_type": "execute_result"
    }
   ],
   "source": [
    "# False Positive Rate\n",
    "FPR = cm[0,1]/(cm[0,1]+cm[0,0])\n",
    "FPR"
   ]
  },
  {
   "cell_type": "code",
   "execution_count": null,
   "metadata": {
    "collapsed": true
   },
   "outputs": [],
   "source": []
  },
  {
   "cell_type": "code",
   "execution_count": null,
   "metadata": {
    "collapsed": true
   },
   "outputs": [],
   "source": []
  }
 ],
 "metadata": {
  "kernelspec": {
   "display_name": "Python 3",
   "language": "python",
   "name": "python3"
  },
  "language_info": {
   "codemirror_mode": {
    "name": "ipython",
    "version": 3
   },
   "file_extension": ".py",
   "mimetype": "text/x-python",
   "name": "python",
   "nbconvert_exporter": "python",
   "pygments_lexer": "ipython3",
   "version": "3.6.1"
  }
 },
 "nbformat": 4,
 "nbformat_minor": 2
}
