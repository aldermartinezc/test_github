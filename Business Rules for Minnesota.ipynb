{
 "cells": [
  {
   "cell_type": "markdown",
   "metadata": {
    "collapsed": true
   },
   "source": [
    "## Business Rules for Minnesota"
   ]
  },
  {
   "cell_type": "code",
   "execution_count": 34,
   "metadata": {
    "collapsed": true
   },
   "outputs": [],
   "source": [
    "# packages used\n",
    "import pandas as pd\n",
    "import numpy as np\n",
    "from sklearn import tree\n",
    "#from sklearn.ensemble import BaggingClassifier\n",
    "#from sklearn.ensemble import RandomForestClassifier\n",
    "#from sklearn.ensemble import AdaBoostClassifier\n",
    "from sklearn.model_selection import train_test_split\n",
    "from sklearn.model_selection import cross_val_score\n",
    "from sklearn.metrics import confusion_matrix\n",
    "import matplotlib.pyplot as plt\n",
    "%matplotlib inline\n",
    "from sklearn.model_selection import GridSearchCV"
   ]
  },
  {
   "cell_type": "code",
   "execution_count": 35,
   "metadata": {
    "collapsed": true
   },
   "outputs": [],
   "source": [
    "# Load the data\n",
    "data_dir = 'Data/'\n",
    "Stores = pd.read_csv(data_dir + 'AllStoresMinnesota.csv', dtype = str)\n",
    "StoreType = pd.read_csv(data_dir + 'NonLowPointStoresMinnesota.csv', dtype = str)"
   ]
  },
  {
   "cell_type": "code",
   "execution_count": 36,
   "metadata": {},
   "outputs": [
    {
     "data": {
      "text/html": [
       "<div>\n",
       "<style>\n",
       "    .dataframe thead tr:only-child th {\n",
       "        text-align: right;\n",
       "    }\n",
       "\n",
       "    .dataframe thead th {\n",
       "        text-align: left;\n",
       "    }\n",
       "\n",
       "    .dataframe tbody tr th {\n",
       "        vertical-align: top;\n",
       "    }\n",
       "</style>\n",
       "<table border=\"1\" class=\"dataframe\">\n",
       "  <thead>\n",
       "    <tr style=\"text-align: right;\">\n",
       "      <th></th>\n",
       "      <th>RTL_STORE_CD</th>\n",
       "      <th>RTL_FIPS_COUNTY_DSC</th>\n",
       "      <th>RTL_PREMISE_TYPE_CD</th>\n",
       "      <th>RTL_CHANNEL_DSC</th>\n",
       "      <th>RTL_SUBCHANNEL_DSC</th>\n",
       "      <th>RTL_BEER_FLAG</th>\n",
       "      <th>RTL_LIQUOR_FLG</th>\n",
       "    </tr>\n",
       "  </thead>\n",
       "  <tbody>\n",
       "    <tr>\n",
       "      <th>0</th>\n",
       "      <td>105531125</td>\n",
       "      <td>DAKOTA</td>\n",
       "      <td>ON</td>\n",
       "      <td>DINING</td>\n",
       "      <td>CASUAL DINING</td>\n",
       "      <td>Y</td>\n",
       "      <td>Y</td>\n",
       "    </tr>\n",
       "    <tr>\n",
       "      <th>1</th>\n",
       "      <td>205646301</td>\n",
       "      <td>MORRISON</td>\n",
       "      <td>ON</td>\n",
       "      <td>BAR/NIGHTCLUB</td>\n",
       "      <td>NEIGHBORHOOD BAR</td>\n",
       "      <td>Y</td>\n",
       "      <td>Y</td>\n",
       "    </tr>\n",
       "    <tr>\n",
       "      <th>2</th>\n",
       "      <td>105646889</td>\n",
       "      <td>AITKIN</td>\n",
       "      <td>ON</td>\n",
       "      <td>LODGING</td>\n",
       "      <td>FULL SERVICE LODGING</td>\n",
       "      <td>Y</td>\n",
       "      <td>Y</td>\n",
       "    </tr>\n",
       "    <tr>\n",
       "      <th>3</th>\n",
       "      <td>102004427</td>\n",
       "      <td>FILLMORE</td>\n",
       "      <td>OFF</td>\n",
       "      <td>LIQUOR</td>\n",
       "      <td>CONVENTIONAL LIQUOR</td>\n",
       "      <td>Y</td>\n",
       "      <td>Y</td>\n",
       "    </tr>\n",
       "    <tr>\n",
       "      <th>4</th>\n",
       "      <td>105645122</td>\n",
       "      <td>WINONA</td>\n",
       "      <td>ON</td>\n",
       "      <td>DINING</td>\n",
       "      <td>CASUAL DINING</td>\n",
       "      <td>Y</td>\n",
       "      <td>Y</td>\n",
       "    </tr>\n",
       "  </tbody>\n",
       "</table>\n",
       "</div>"
      ],
      "text/plain": [
       "  RTL_STORE_CD RTL_FIPS_COUNTY_DSC RTL_PREMISE_TYPE_CD RTL_CHANNEL_DSC  \\\n",
       "0    105531125              DAKOTA                  ON          DINING   \n",
       "1    205646301            MORRISON                  ON   BAR/NIGHTCLUB   \n",
       "2    105646889              AITKIN                  ON         LODGING   \n",
       "3    102004427            FILLMORE                 OFF          LIQUOR   \n",
       "4    105645122              WINONA                  ON          DINING   \n",
       "\n",
       "     RTL_SUBCHANNEL_DSC RTL_BEER_FLAG RTL_LIQUOR_FLG  \n",
       "0         CASUAL DINING             Y              Y  \n",
       "1      NEIGHBORHOOD BAR             Y              Y  \n",
       "2  FULL SERVICE LODGING             Y              Y  \n",
       "3   CONVENTIONAL LIQUOR             Y              Y  \n",
       "4         CASUAL DINING             Y              Y  "
      ]
     },
     "execution_count": 36,
     "metadata": {},
     "output_type": "execute_result"
    }
   ],
   "source": [
    "Stores.head()"
   ]
  },
  {
   "cell_type": "code",
   "execution_count": 37,
   "metadata": {},
   "outputs": [
    {
     "data": {
      "text/html": [
       "<div>\n",
       "<style>\n",
       "    .dataframe thead tr:only-child th {\n",
       "        text-align: right;\n",
       "    }\n",
       "\n",
       "    .dataframe thead th {\n",
       "        text-align: left;\n",
       "    }\n",
       "\n",
       "    .dataframe tbody tr th {\n",
       "        vertical-align: top;\n",
       "    }\n",
       "</style>\n",
       "<table border=\"1\" class=\"dataframe\">\n",
       "  <thead>\n",
       "    <tr style=\"text-align: right;\">\n",
       "      <th></th>\n",
       "      <th>RTL_STORE_CD</th>\n",
       "      <th>BEERTYPE</th>\n",
       "    </tr>\n",
       "  </thead>\n",
       "  <tbody>\n",
       "    <tr>\n",
       "      <th>0</th>\n",
       "      <td>101857377</td>\n",
       "      <td>NonLowPoint</td>\n",
       "    </tr>\n",
       "    <tr>\n",
       "      <th>1</th>\n",
       "      <td>107046430</td>\n",
       "      <td>NonLowPoint</td>\n",
       "    </tr>\n",
       "    <tr>\n",
       "      <th>2</th>\n",
       "      <td>101971024</td>\n",
       "      <td>NonLowPoint</td>\n",
       "    </tr>\n",
       "    <tr>\n",
       "      <th>3</th>\n",
       "      <td>102194556</td>\n",
       "      <td>NonLowPoint</td>\n",
       "    </tr>\n",
       "    <tr>\n",
       "      <th>4</th>\n",
       "      <td>205647194</td>\n",
       "      <td>NonLowPoint</td>\n",
       "    </tr>\n",
       "  </tbody>\n",
       "</table>\n",
       "</div>"
      ],
      "text/plain": [
       "  RTL_STORE_CD     BEERTYPE\n",
       "0    101857377  NonLowPoint\n",
       "1    107046430  NonLowPoint\n",
       "2    101971024  NonLowPoint\n",
       "3    102194556  NonLowPoint\n",
       "4    205647194  NonLowPoint"
      ]
     },
     "execution_count": 37,
     "metadata": {},
     "output_type": "execute_result"
    }
   ],
   "source": [
    "StoreType.head()"
   ]
  },
  {
   "cell_type": "code",
   "execution_count": 38,
   "metadata": {
    "collapsed": true
   },
   "outputs": [],
   "source": [
    "FullData = pd.merge(Stores, StoreType, on=\"RTL_STORE_CD\", how=\"left\")"
   ]
  },
  {
   "cell_type": "code",
   "execution_count": 39,
   "metadata": {
    "collapsed": true
   },
   "outputs": [],
   "source": [
    "FullData.loc[FullData['BEERTYPE'].isnull(),\"BEERTYPE\"] = \"LowPoint\""
   ]
  },
  {
   "cell_type": "code",
   "execution_count": 40,
   "metadata": {},
   "outputs": [
    {
     "data": {
      "text/html": [
       "<div>\n",
       "<style>\n",
       "    .dataframe thead tr:only-child th {\n",
       "        text-align: right;\n",
       "    }\n",
       "\n",
       "    .dataframe thead th {\n",
       "        text-align: left;\n",
       "    }\n",
       "\n",
       "    .dataframe tbody tr th {\n",
       "        vertical-align: top;\n",
       "    }\n",
       "</style>\n",
       "<table border=\"1\" class=\"dataframe\">\n",
       "  <thead>\n",
       "    <tr style=\"text-align: right;\">\n",
       "      <th></th>\n",
       "      <th>RTL_STORE_CD</th>\n",
       "      <th>RTL_FIPS_COUNTY_DSC</th>\n",
       "      <th>RTL_PREMISE_TYPE_CD</th>\n",
       "      <th>RTL_CHANNEL_DSC</th>\n",
       "      <th>RTL_SUBCHANNEL_DSC</th>\n",
       "      <th>RTL_BEER_FLAG</th>\n",
       "      <th>RTL_LIQUOR_FLG</th>\n",
       "      <th>BEERTYPE</th>\n",
       "      <th>COUNTY_AITKIN</th>\n",
       "      <th>COUNTY_ANOKA</th>\n",
       "      <th>...</th>\n",
       "      <th>SUBCHANNEL_THEME PARK</th>\n",
       "      <th>SUBCHANNEL_UNKNOWN</th>\n",
       "      <th>SUBCHANNEL_WINE SPECIALTY STORE</th>\n",
       "      <th>SUBCHANNEL_WINERIES/VINEYARDS</th>\n",
       "      <th>BEER_LICENSE_N</th>\n",
       "      <th>BEER_LICENSE_U</th>\n",
       "      <th>BEER_LICENSE_Y</th>\n",
       "      <th>LIQUOR_LICENSE_N</th>\n",
       "      <th>LIQUOR_LICENSE_U</th>\n",
       "      <th>LIQUOR_LICENSE_Y</th>\n",
       "    </tr>\n",
       "  </thead>\n",
       "  <tbody>\n",
       "    <tr>\n",
       "      <th>0</th>\n",
       "      <td>105531125</td>\n",
       "      <td>DAKOTA</td>\n",
       "      <td>ON</td>\n",
       "      <td>DINING</td>\n",
       "      <td>CASUAL DINING</td>\n",
       "      <td>Y</td>\n",
       "      <td>Y</td>\n",
       "      <td>NonLowPoint</td>\n",
       "      <td>0</td>\n",
       "      <td>0</td>\n",
       "      <td>...</td>\n",
       "      <td>0</td>\n",
       "      <td>0</td>\n",
       "      <td>0</td>\n",
       "      <td>0</td>\n",
       "      <td>0</td>\n",
       "      <td>0</td>\n",
       "      <td>1</td>\n",
       "      <td>0</td>\n",
       "      <td>0</td>\n",
       "      <td>1</td>\n",
       "    </tr>\n",
       "    <tr>\n",
       "      <th>1</th>\n",
       "      <td>205646301</td>\n",
       "      <td>MORRISON</td>\n",
       "      <td>ON</td>\n",
       "      <td>BAR/NIGHTCLUB</td>\n",
       "      <td>NEIGHBORHOOD BAR</td>\n",
       "      <td>Y</td>\n",
       "      <td>Y</td>\n",
       "      <td>NonLowPoint</td>\n",
       "      <td>0</td>\n",
       "      <td>0</td>\n",
       "      <td>...</td>\n",
       "      <td>0</td>\n",
       "      <td>0</td>\n",
       "      <td>0</td>\n",
       "      <td>0</td>\n",
       "      <td>0</td>\n",
       "      <td>0</td>\n",
       "      <td>1</td>\n",
       "      <td>0</td>\n",
       "      <td>0</td>\n",
       "      <td>1</td>\n",
       "    </tr>\n",
       "    <tr>\n",
       "      <th>2</th>\n",
       "      <td>105646889</td>\n",
       "      <td>AITKIN</td>\n",
       "      <td>ON</td>\n",
       "      <td>LODGING</td>\n",
       "      <td>FULL SERVICE LODGING</td>\n",
       "      <td>Y</td>\n",
       "      <td>Y</td>\n",
       "      <td>NonLowPoint</td>\n",
       "      <td>1</td>\n",
       "      <td>0</td>\n",
       "      <td>...</td>\n",
       "      <td>0</td>\n",
       "      <td>0</td>\n",
       "      <td>0</td>\n",
       "      <td>0</td>\n",
       "      <td>0</td>\n",
       "      <td>0</td>\n",
       "      <td>1</td>\n",
       "      <td>0</td>\n",
       "      <td>0</td>\n",
       "      <td>1</td>\n",
       "    </tr>\n",
       "    <tr>\n",
       "      <th>3</th>\n",
       "      <td>102004427</td>\n",
       "      <td>FILLMORE</td>\n",
       "      <td>OFF</td>\n",
       "      <td>LIQUOR</td>\n",
       "      <td>CONVENTIONAL LIQUOR</td>\n",
       "      <td>Y</td>\n",
       "      <td>Y</td>\n",
       "      <td>NonLowPoint</td>\n",
       "      <td>0</td>\n",
       "      <td>0</td>\n",
       "      <td>...</td>\n",
       "      <td>0</td>\n",
       "      <td>0</td>\n",
       "      <td>0</td>\n",
       "      <td>0</td>\n",
       "      <td>0</td>\n",
       "      <td>0</td>\n",
       "      <td>1</td>\n",
       "      <td>0</td>\n",
       "      <td>0</td>\n",
       "      <td>1</td>\n",
       "    </tr>\n",
       "    <tr>\n",
       "      <th>4</th>\n",
       "      <td>105645122</td>\n",
       "      <td>WINONA</td>\n",
       "      <td>ON</td>\n",
       "      <td>DINING</td>\n",
       "      <td>CASUAL DINING</td>\n",
       "      <td>Y</td>\n",
       "      <td>Y</td>\n",
       "      <td>NonLowPoint</td>\n",
       "      <td>0</td>\n",
       "      <td>0</td>\n",
       "      <td>...</td>\n",
       "      <td>0</td>\n",
       "      <td>0</td>\n",
       "      <td>0</td>\n",
       "      <td>0</td>\n",
       "      <td>0</td>\n",
       "      <td>0</td>\n",
       "      <td>1</td>\n",
       "      <td>0</td>\n",
       "      <td>0</td>\n",
       "      <td>1</td>\n",
       "    </tr>\n",
       "  </tbody>\n",
       "</table>\n",
       "<p>5 rows × 185 columns</p>\n",
       "</div>"
      ],
      "text/plain": [
       "  RTL_STORE_CD RTL_FIPS_COUNTY_DSC RTL_PREMISE_TYPE_CD RTL_CHANNEL_DSC  \\\n",
       "0    105531125              DAKOTA                  ON          DINING   \n",
       "1    205646301            MORRISON                  ON   BAR/NIGHTCLUB   \n",
       "2    105646889              AITKIN                  ON         LODGING   \n",
       "3    102004427            FILLMORE                 OFF          LIQUOR   \n",
       "4    105645122              WINONA                  ON          DINING   \n",
       "\n",
       "     RTL_SUBCHANNEL_DSC RTL_BEER_FLAG RTL_LIQUOR_FLG     BEERTYPE  \\\n",
       "0         CASUAL DINING             Y              Y  NonLowPoint   \n",
       "1      NEIGHBORHOOD BAR             Y              Y  NonLowPoint   \n",
       "2  FULL SERVICE LODGING             Y              Y  NonLowPoint   \n",
       "3   CONVENTIONAL LIQUOR             Y              Y  NonLowPoint   \n",
       "4         CASUAL DINING             Y              Y  NonLowPoint   \n",
       "\n",
       "   COUNTY_AITKIN  COUNTY_ANOKA        ...         SUBCHANNEL_THEME PARK  \\\n",
       "0              0             0        ...                             0   \n",
       "1              0             0        ...                             0   \n",
       "2              1             0        ...                             0   \n",
       "3              0             0        ...                             0   \n",
       "4              0             0        ...                             0   \n",
       "\n",
       "   SUBCHANNEL_UNKNOWN  SUBCHANNEL_WINE SPECIALTY STORE  \\\n",
       "0                   0                                0   \n",
       "1                   0                                0   \n",
       "2                   0                                0   \n",
       "3                   0                                0   \n",
       "4                   0                                0   \n",
       "\n",
       "   SUBCHANNEL_WINERIES/VINEYARDS  BEER_LICENSE_N  BEER_LICENSE_U  \\\n",
       "0                              0               0               0   \n",
       "1                              0               0               0   \n",
       "2                              0               0               0   \n",
       "3                              0               0               0   \n",
       "4                              0               0               0   \n",
       "\n",
       "   BEER_LICENSE_Y  LIQUOR_LICENSE_N  LIQUOR_LICENSE_U  LIQUOR_LICENSE_Y  \n",
       "0               1                 0                 0                 1  \n",
       "1               1                 0                 0                 1  \n",
       "2               1                 0                 0                 1  \n",
       "3               1                 0                 0                 1  \n",
       "4               1                 0                 0                 1  \n",
       "\n",
       "[5 rows x 185 columns]"
      ]
     },
     "execution_count": 40,
     "metadata": {},
     "output_type": "execute_result"
    }
   ],
   "source": [
    "FullData = pd.concat([FullData, pd.get_dummies(FullData['RTL_FIPS_COUNTY_DSC'],prefix='COUNTY')], axis=1)\n",
    "FullData = pd.concat([FullData, pd.get_dummies(FullData['RTL_PREMISE_TYPE_CD'],prefix='PREMISE')], axis=1)\n",
    "FullData = pd.concat([FullData, pd.get_dummies(FullData['RTL_CHANNEL_DSC'],prefix='CHANNEL')], axis=1)\n",
    "FullData = pd.concat([FullData, pd.get_dummies(FullData['RTL_SUBCHANNEL_DSC'],prefix='SUBCHANNEL')], axis=1)\n",
    "FullData = pd.concat([FullData, pd.get_dummies(FullData['RTL_BEER_FLAG'],prefix='BEER_LICENSE')], axis=1)\n",
    "FullData = pd.concat([FullData, pd.get_dummies(FullData['RTL_LIQUOR_FLG'],prefix='LIQUOR_LICENSE')], axis=1)\n",
    "FullData.head()"
   ]
  },
  {
   "cell_type": "markdown",
   "metadata": {},
   "source": [
    "## Business Rules"
   ]
  },
  {
   "cell_type": "code",
   "execution_count": 41,
   "metadata": {},
   "outputs": [
    {
     "data": {
      "text/html": [
       "<div>\n",
       "<style>\n",
       "    .dataframe thead tr:only-child th {\n",
       "        text-align: right;\n",
       "    }\n",
       "\n",
       "    .dataframe thead th {\n",
       "        text-align: left;\n",
       "    }\n",
       "\n",
       "    .dataframe tbody tr th {\n",
       "        vertical-align: top;\n",
       "    }\n",
       "</style>\n",
       "<table border=\"1\" class=\"dataframe\">\n",
       "  <thead>\n",
       "    <tr style=\"text-align: right;\">\n",
       "      <th></th>\n",
       "      <th>RTL_STORE_CD</th>\n",
       "      <th>RTL_FIPS_COUNTY_DSC</th>\n",
       "      <th>RTL_PREMISE_TYPE_CD</th>\n",
       "      <th>RTL_CHANNEL_DSC</th>\n",
       "      <th>RTL_SUBCHANNEL_DSC</th>\n",
       "      <th>RTL_BEER_FLAG</th>\n",
       "      <th>RTL_LIQUOR_FLG</th>\n",
       "      <th>BEERTYPE</th>\n",
       "      <th>COUNTY_AITKIN</th>\n",
       "      <th>COUNTY_ANOKA</th>\n",
       "      <th>...</th>\n",
       "      <th>SUBCHANNEL_UNKNOWN</th>\n",
       "      <th>SUBCHANNEL_WINE SPECIALTY STORE</th>\n",
       "      <th>SUBCHANNEL_WINERIES/VINEYARDS</th>\n",
       "      <th>BEER_LICENSE_N</th>\n",
       "      <th>BEER_LICENSE_U</th>\n",
       "      <th>BEER_LICENSE_Y</th>\n",
       "      <th>LIQUOR_LICENSE_N</th>\n",
       "      <th>LIQUOR_LICENSE_U</th>\n",
       "      <th>LIQUOR_LICENSE_Y</th>\n",
       "      <th>RULES_PREDICT</th>\n",
       "    </tr>\n",
       "  </thead>\n",
       "  <tbody>\n",
       "    <tr>\n",
       "      <th>0</th>\n",
       "      <td>105531125</td>\n",
       "      <td>DAKOTA</td>\n",
       "      <td>ON</td>\n",
       "      <td>DINING</td>\n",
       "      <td>CASUAL DINING</td>\n",
       "      <td>Y</td>\n",
       "      <td>Y</td>\n",
       "      <td>NonLowPoint</td>\n",
       "      <td>0</td>\n",
       "      <td>0</td>\n",
       "      <td>...</td>\n",
       "      <td>0</td>\n",
       "      <td>0</td>\n",
       "      <td>0</td>\n",
       "      <td>0</td>\n",
       "      <td>0</td>\n",
       "      <td>1</td>\n",
       "      <td>0</td>\n",
       "      <td>0</td>\n",
       "      <td>1</td>\n",
       "      <td></td>\n",
       "    </tr>\n",
       "    <tr>\n",
       "      <th>1</th>\n",
       "      <td>205646301</td>\n",
       "      <td>MORRISON</td>\n",
       "      <td>ON</td>\n",
       "      <td>BAR/NIGHTCLUB</td>\n",
       "      <td>NEIGHBORHOOD BAR</td>\n",
       "      <td>Y</td>\n",
       "      <td>Y</td>\n",
       "      <td>NonLowPoint</td>\n",
       "      <td>0</td>\n",
       "      <td>0</td>\n",
       "      <td>...</td>\n",
       "      <td>0</td>\n",
       "      <td>0</td>\n",
       "      <td>0</td>\n",
       "      <td>0</td>\n",
       "      <td>0</td>\n",
       "      <td>1</td>\n",
       "      <td>0</td>\n",
       "      <td>0</td>\n",
       "      <td>1</td>\n",
       "      <td></td>\n",
       "    </tr>\n",
       "    <tr>\n",
       "      <th>2</th>\n",
       "      <td>105646889</td>\n",
       "      <td>AITKIN</td>\n",
       "      <td>ON</td>\n",
       "      <td>LODGING</td>\n",
       "      <td>FULL SERVICE LODGING</td>\n",
       "      <td>Y</td>\n",
       "      <td>Y</td>\n",
       "      <td>NonLowPoint</td>\n",
       "      <td>1</td>\n",
       "      <td>0</td>\n",
       "      <td>...</td>\n",
       "      <td>0</td>\n",
       "      <td>0</td>\n",
       "      <td>0</td>\n",
       "      <td>0</td>\n",
       "      <td>0</td>\n",
       "      <td>1</td>\n",
       "      <td>0</td>\n",
       "      <td>0</td>\n",
       "      <td>1</td>\n",
       "      <td></td>\n",
       "    </tr>\n",
       "    <tr>\n",
       "      <th>3</th>\n",
       "      <td>102004427</td>\n",
       "      <td>FILLMORE</td>\n",
       "      <td>OFF</td>\n",
       "      <td>LIQUOR</td>\n",
       "      <td>CONVENTIONAL LIQUOR</td>\n",
       "      <td>Y</td>\n",
       "      <td>Y</td>\n",
       "      <td>NonLowPoint</td>\n",
       "      <td>0</td>\n",
       "      <td>0</td>\n",
       "      <td>...</td>\n",
       "      <td>0</td>\n",
       "      <td>0</td>\n",
       "      <td>0</td>\n",
       "      <td>0</td>\n",
       "      <td>0</td>\n",
       "      <td>1</td>\n",
       "      <td>0</td>\n",
       "      <td>0</td>\n",
       "      <td>1</td>\n",
       "      <td></td>\n",
       "    </tr>\n",
       "    <tr>\n",
       "      <th>4</th>\n",
       "      <td>105645122</td>\n",
       "      <td>WINONA</td>\n",
       "      <td>ON</td>\n",
       "      <td>DINING</td>\n",
       "      <td>CASUAL DINING</td>\n",
       "      <td>Y</td>\n",
       "      <td>Y</td>\n",
       "      <td>NonLowPoint</td>\n",
       "      <td>0</td>\n",
       "      <td>0</td>\n",
       "      <td>...</td>\n",
       "      <td>0</td>\n",
       "      <td>0</td>\n",
       "      <td>0</td>\n",
       "      <td>0</td>\n",
       "      <td>0</td>\n",
       "      <td>1</td>\n",
       "      <td>0</td>\n",
       "      <td>0</td>\n",
       "      <td>1</td>\n",
       "      <td></td>\n",
       "    </tr>\n",
       "  </tbody>\n",
       "</table>\n",
       "<p>5 rows × 186 columns</p>\n",
       "</div>"
      ],
      "text/plain": [
       "  RTL_STORE_CD RTL_FIPS_COUNTY_DSC RTL_PREMISE_TYPE_CD RTL_CHANNEL_DSC  \\\n",
       "0    105531125              DAKOTA                  ON          DINING   \n",
       "1    205646301            MORRISON                  ON   BAR/NIGHTCLUB   \n",
       "2    105646889              AITKIN                  ON         LODGING   \n",
       "3    102004427            FILLMORE                 OFF          LIQUOR   \n",
       "4    105645122              WINONA                  ON          DINING   \n",
       "\n",
       "     RTL_SUBCHANNEL_DSC RTL_BEER_FLAG RTL_LIQUOR_FLG     BEERTYPE  \\\n",
       "0         CASUAL DINING             Y              Y  NonLowPoint   \n",
       "1      NEIGHBORHOOD BAR             Y              Y  NonLowPoint   \n",
       "2  FULL SERVICE LODGING             Y              Y  NonLowPoint   \n",
       "3   CONVENTIONAL LIQUOR             Y              Y  NonLowPoint   \n",
       "4         CASUAL DINING             Y              Y  NonLowPoint   \n",
       "\n",
       "   COUNTY_AITKIN  COUNTY_ANOKA      ...        SUBCHANNEL_UNKNOWN  \\\n",
       "0              0             0      ...                         0   \n",
       "1              0             0      ...                         0   \n",
       "2              1             0      ...                         0   \n",
       "3              0             0      ...                         0   \n",
       "4              0             0      ...                         0   \n",
       "\n",
       "   SUBCHANNEL_WINE SPECIALTY STORE  SUBCHANNEL_WINERIES/VINEYARDS  \\\n",
       "0                                0                              0   \n",
       "1                                0                              0   \n",
       "2                                0                              0   \n",
       "3                                0                              0   \n",
       "4                                0                              0   \n",
       "\n",
       "   BEER_LICENSE_N  BEER_LICENSE_U  BEER_LICENSE_Y  LIQUOR_LICENSE_N  \\\n",
       "0               0               0               1                 0   \n",
       "1               0               0               1                 0   \n",
       "2               0               0               1                 0   \n",
       "3               0               0               1                 0   \n",
       "4               0               0               1                 0   \n",
       "\n",
       "   LIQUOR_LICENSE_U  LIQUOR_LICENSE_Y  RULES_PREDICT  \n",
       "0                 0                 1                 \n",
       "1                 0                 1                 \n",
       "2                 0                 1                 \n",
       "3                 0                 1                 \n",
       "4                 0                 1                 \n",
       "\n",
       "[5 rows x 186 columns]"
      ]
     },
     "execution_count": 41,
     "metadata": {},
     "output_type": "execute_result"
    }
   ],
   "source": [
    "FullData['RULES_PREDICT']=\"\"\n",
    "FullData.head()"
   ]
  },
  {
   "cell_type": "code",
   "execution_count": 85,
   "metadata": {},
   "outputs": [],
   "source": [
    "for row in range(0,len(FullData)):\n",
    "    if FullData.loc[row,'RTL_PREMISE_TYPE_CD']=='OFF':\n",
    " \n",
    "            else:\n",
    "                FullData.loc[row,'RULES_PREDICT']='LowPoint'\n",
    "        else:\n",
    "            FullData.loc[row,'RULES_PREDICT']='LowPoint'\n",
    "    if FullData.loc[row,'RTL_LIQUOR_FLG']=='N':\n",
    "        if FullData.loc[row,'RTL_CHANNEL_DSC']=='RECREATION':\n",
    "            FullData.loc[row,'RULES_PREDICT']='LowPoint'\n",
    "        else:\n",
    "            FullData.loc[row,'RULES_PREDICT']='NonLowPoint'\n",
    "            "
   ]
  },
  {
   "cell_type": "code",
   "execution_count": 98,
   "metadata": {
    "collapsed": true
   },
   "outputs": [],
   "source": [
    "for row in range(0,len(FullData)):\n",
    "    if \"MILITARY\" in FullData.loc[row,'RTL_SUBCHANNEL_DSC']:\n",
    "        FullData.loc[row,'RULES_PREDICT']='NonLowPoint'\n",
    "    elif FullData.loc[row,'RTL_PREMISE_TYPE_CD']=='OFF':\n",
    "        if FullData.loc[row,'RTL_LIQUOR_FLG']=='N':\n",
    "            FullData.loc[row,'RULES_PREDICT']='LowPoint'\n",
    "        else:\n",
    "            if FullData.loc[row,'RTL_CHANNEL_DSC']=='LIQUOR':\n",
    "                FullData.loc[row,'RULES_PREDICT']='NonLowPoint'\n",
    "            else:\n",
    "                FullData.loc[row,'RULES_PREDICT']='LowPoint'\n",
    "    else:\n",
    "        if FullData.loc[row,'RTL_LIQUOR_FLG']=='N':\n",
    "            if FullData.loc[row,'RTL_CHANNEL_DSC']=='RECREATION':\n",
    "                FullData.loc[row,'RULES_PREDICT']='LowPoint'\n",
    "            else:\n",
    "                FullData.loc[row,'RULES_PREDICT']='NonLowPoint'\n",
    "        else:\n",
    "            FullData.loc[row,'RULES_PREDICT']='NonLowPoint'"
   ]
  },
  {
   "cell_type": "code",
   "execution_count": 99,
   "metadata": {},
   "outputs": [
    {
     "data": {
      "text/html": [
       "<div>\n",
       "<style>\n",
       "    .dataframe thead tr:only-child th {\n",
       "        text-align: right;\n",
       "    }\n",
       "\n",
       "    .dataframe thead th {\n",
       "        text-align: left;\n",
       "    }\n",
       "\n",
       "    .dataframe tbody tr th {\n",
       "        vertical-align: top;\n",
       "    }\n",
       "</style>\n",
       "<table border=\"1\" class=\"dataframe\">\n",
       "  <thead>\n",
       "    <tr style=\"text-align: right;\">\n",
       "      <th></th>\n",
       "      <th>RTL_STORE_CD</th>\n",
       "      <th>RTL_FIPS_COUNTY_DSC</th>\n",
       "      <th>RTL_PREMISE_TYPE_CD</th>\n",
       "      <th>RTL_CHANNEL_DSC</th>\n",
       "      <th>RTL_SUBCHANNEL_DSC</th>\n",
       "      <th>RTL_BEER_FLAG</th>\n",
       "      <th>RTL_LIQUOR_FLG</th>\n",
       "      <th>BEERTYPE</th>\n",
       "      <th>COUNTY_AITKIN</th>\n",
       "      <th>COUNTY_ANOKA</th>\n",
       "      <th>...</th>\n",
       "      <th>SUBCHANNEL_UNKNOWN</th>\n",
       "      <th>SUBCHANNEL_WINE SPECIALTY STORE</th>\n",
       "      <th>SUBCHANNEL_WINERIES/VINEYARDS</th>\n",
       "      <th>BEER_LICENSE_N</th>\n",
       "      <th>BEER_LICENSE_U</th>\n",
       "      <th>BEER_LICENSE_Y</th>\n",
       "      <th>LIQUOR_LICENSE_N</th>\n",
       "      <th>LIQUOR_LICENSE_U</th>\n",
       "      <th>LIQUOR_LICENSE_Y</th>\n",
       "      <th>RULES_PREDICT</th>\n",
       "    </tr>\n",
       "  </thead>\n",
       "  <tbody>\n",
       "    <tr>\n",
       "      <th>0</th>\n",
       "      <td>105531125</td>\n",
       "      <td>DAKOTA</td>\n",
       "      <td>ON</td>\n",
       "      <td>DINING</td>\n",
       "      <td>CASUAL DINING</td>\n",
       "      <td>Y</td>\n",
       "      <td>Y</td>\n",
       "      <td>NonLowPoint</td>\n",
       "      <td>0</td>\n",
       "      <td>0</td>\n",
       "      <td>...</td>\n",
       "      <td>0</td>\n",
       "      <td>0</td>\n",
       "      <td>0</td>\n",
       "      <td>0</td>\n",
       "      <td>0</td>\n",
       "      <td>1</td>\n",
       "      <td>0</td>\n",
       "      <td>0</td>\n",
       "      <td>1</td>\n",
       "      <td>NonLowPoint</td>\n",
       "    </tr>\n",
       "    <tr>\n",
       "      <th>1</th>\n",
       "      <td>205646301</td>\n",
       "      <td>MORRISON</td>\n",
       "      <td>ON</td>\n",
       "      <td>BAR/NIGHTCLUB</td>\n",
       "      <td>NEIGHBORHOOD BAR</td>\n",
       "      <td>Y</td>\n",
       "      <td>Y</td>\n",
       "      <td>NonLowPoint</td>\n",
       "      <td>0</td>\n",
       "      <td>0</td>\n",
       "      <td>...</td>\n",
       "      <td>0</td>\n",
       "      <td>0</td>\n",
       "      <td>0</td>\n",
       "      <td>0</td>\n",
       "      <td>0</td>\n",
       "      <td>1</td>\n",
       "      <td>0</td>\n",
       "      <td>0</td>\n",
       "      <td>1</td>\n",
       "      <td>NonLowPoint</td>\n",
       "    </tr>\n",
       "    <tr>\n",
       "      <th>2</th>\n",
       "      <td>105646889</td>\n",
       "      <td>AITKIN</td>\n",
       "      <td>ON</td>\n",
       "      <td>LODGING</td>\n",
       "      <td>FULL SERVICE LODGING</td>\n",
       "      <td>Y</td>\n",
       "      <td>Y</td>\n",
       "      <td>NonLowPoint</td>\n",
       "      <td>1</td>\n",
       "      <td>0</td>\n",
       "      <td>...</td>\n",
       "      <td>0</td>\n",
       "      <td>0</td>\n",
       "      <td>0</td>\n",
       "      <td>0</td>\n",
       "      <td>0</td>\n",
       "      <td>1</td>\n",
       "      <td>0</td>\n",
       "      <td>0</td>\n",
       "      <td>1</td>\n",
       "      <td>NonLowPoint</td>\n",
       "    </tr>\n",
       "    <tr>\n",
       "      <th>3</th>\n",
       "      <td>102004427</td>\n",
       "      <td>FILLMORE</td>\n",
       "      <td>OFF</td>\n",
       "      <td>LIQUOR</td>\n",
       "      <td>CONVENTIONAL LIQUOR</td>\n",
       "      <td>Y</td>\n",
       "      <td>Y</td>\n",
       "      <td>NonLowPoint</td>\n",
       "      <td>0</td>\n",
       "      <td>0</td>\n",
       "      <td>...</td>\n",
       "      <td>0</td>\n",
       "      <td>0</td>\n",
       "      <td>0</td>\n",
       "      <td>0</td>\n",
       "      <td>0</td>\n",
       "      <td>1</td>\n",
       "      <td>0</td>\n",
       "      <td>0</td>\n",
       "      <td>1</td>\n",
       "      <td>NonLowPoint</td>\n",
       "    </tr>\n",
       "    <tr>\n",
       "      <th>4</th>\n",
       "      <td>105645122</td>\n",
       "      <td>WINONA</td>\n",
       "      <td>ON</td>\n",
       "      <td>DINING</td>\n",
       "      <td>CASUAL DINING</td>\n",
       "      <td>Y</td>\n",
       "      <td>Y</td>\n",
       "      <td>NonLowPoint</td>\n",
       "      <td>0</td>\n",
       "      <td>0</td>\n",
       "      <td>...</td>\n",
       "      <td>0</td>\n",
       "      <td>0</td>\n",
       "      <td>0</td>\n",
       "      <td>0</td>\n",
       "      <td>0</td>\n",
       "      <td>1</td>\n",
       "      <td>0</td>\n",
       "      <td>0</td>\n",
       "      <td>1</td>\n",
       "      <td>NonLowPoint</td>\n",
       "    </tr>\n",
       "  </tbody>\n",
       "</table>\n",
       "<p>5 rows × 186 columns</p>\n",
       "</div>"
      ],
      "text/plain": [
       "  RTL_STORE_CD RTL_FIPS_COUNTY_DSC RTL_PREMISE_TYPE_CD RTL_CHANNEL_DSC  \\\n",
       "0    105531125              DAKOTA                  ON          DINING   \n",
       "1    205646301            MORRISON                  ON   BAR/NIGHTCLUB   \n",
       "2    105646889              AITKIN                  ON         LODGING   \n",
       "3    102004427            FILLMORE                 OFF          LIQUOR   \n",
       "4    105645122              WINONA                  ON          DINING   \n",
       "\n",
       "     RTL_SUBCHANNEL_DSC RTL_BEER_FLAG RTL_LIQUOR_FLG     BEERTYPE  \\\n",
       "0         CASUAL DINING             Y              Y  NonLowPoint   \n",
       "1      NEIGHBORHOOD BAR             Y              Y  NonLowPoint   \n",
       "2  FULL SERVICE LODGING             Y              Y  NonLowPoint   \n",
       "3   CONVENTIONAL LIQUOR             Y              Y  NonLowPoint   \n",
       "4         CASUAL DINING             Y              Y  NonLowPoint   \n",
       "\n",
       "   COUNTY_AITKIN  COUNTY_ANOKA      ...        SUBCHANNEL_UNKNOWN  \\\n",
       "0              0             0      ...                         0   \n",
       "1              0             0      ...                         0   \n",
       "2              1             0      ...                         0   \n",
       "3              0             0      ...                         0   \n",
       "4              0             0      ...                         0   \n",
       "\n",
       "   SUBCHANNEL_WINE SPECIALTY STORE  SUBCHANNEL_WINERIES/VINEYARDS  \\\n",
       "0                                0                              0   \n",
       "1                                0                              0   \n",
       "2                                0                              0   \n",
       "3                                0                              0   \n",
       "4                                0                              0   \n",
       "\n",
       "   BEER_LICENSE_N  BEER_LICENSE_U  BEER_LICENSE_Y  LIQUOR_LICENSE_N  \\\n",
       "0               0               0               1                 0   \n",
       "1               0               0               1                 0   \n",
       "2               0               0               1                 0   \n",
       "3               0               0               1                 0   \n",
       "4               0               0               1                 0   \n",
       "\n",
       "   LIQUOR_LICENSE_U  LIQUOR_LICENSE_Y  RULES_PREDICT  \n",
       "0                 0                 1    NonLowPoint  \n",
       "1                 0                 1    NonLowPoint  \n",
       "2                 0                 1    NonLowPoint  \n",
       "3                 0                 1    NonLowPoint  \n",
       "4                 0                 1    NonLowPoint  \n",
       "\n",
       "[5 rows x 186 columns]"
      ]
     },
     "execution_count": 99,
     "metadata": {},
     "output_type": "execute_result"
    }
   ],
   "source": [
    "FullData.head()"
   ]
  },
  {
   "cell_type": "code",
   "execution_count": 100,
   "metadata": {},
   "outputs": [
    {
     "data": {
      "text/plain": [
       "array([[ 708,   95],\n",
       "       [ 181, 4754]])"
      ]
     },
     "execution_count": 100,
     "metadata": {},
     "output_type": "execute_result"
    }
   ],
   "source": [
    "# Confusion Matrix Business Rules\n",
    "cm_BRules = confusion_matrix(FullData['BEERTYPE'], FullData['RULES_PREDICT'])\n",
    "cm_BRules"
   ]
  },
  {
   "cell_type": "code",
   "execution_count": 101,
   "metadata": {},
   "outputs": [
    {
     "data": {
      "text/plain": [
       "0.95189961659114675"
      ]
     },
     "execution_count": 101,
     "metadata": {},
     "output_type": "execute_result"
    }
   ],
   "source": [
    "# Accuracy\n",
    "(cm_BRules[0,0]+cm_BRules[1,1])/(cm_BRules[0,0]+cm_BRules[0,1]+cm_BRules[1,0]+cm_BRules[1,1])"
   ]
  },
  {
   "cell_type": "code",
   "execution_count": 89,
   "metadata": {},
   "outputs": [
    {
     "data": {
      "text/plain": [
       "<matplotlib.axes._subplots.AxesSubplot at 0x7ff3abfbde10>"
      ]
     },
     "execution_count": 89,
     "metadata": {},
     "output_type": "execute_result"
    },
    {
     "data": {
      "image/png": "[encoded data removed]",
      "text/plain": [
       "<matplotlib.figure.Figure at 0x7ff3ab15a898>"
      ]
     },
     "metadata": {},
     "output_type": "display_data"
    }
   ],
   "source": [
    "# Total Number of Stores by County\n",
    "County = FullData.loc[:,'RTL_FIPS_COUNTY_DSC']\n",
    "County = County.value_counts().head(20)\n",
    "County.plot.bar(figsize=(10,4))"
   ]
  },
  {
   "cell_type": "code",
   "execution_count": 50,
   "metadata": {},
   "outputs": [
    {
     "name": "stdout",
     "output_type": "stream",
     "text": [
      "Total Stores:  5738\n",
      "Total Low Point Stores:  803\n",
      "Total Non Low Point Stores:  4935\n"
     ]
    },
    {
     "data": {
      "text/plain": [
       "<matplotlib.text.Text at 0x7ff384ff04e0>"
      ]
     },
     "execution_count": 50,
     "metadata": {},
     "output_type": "execute_result"
    },
    {
     "data": {
      "image/png": "[encoded data removed]",
      "text/plain": [
       "<matplotlib.figure.Figure at 0x7ff38510e6a0>"
      ]
     },
     "metadata": {},
     "output_type": "display_data"
    }
   ],
   "source": [
    "# Total Number Counts of Stores by Trade Channel\n",
    "Channel = FullData.loc[:,'RTL_CHANNEL_DSC'].value_counts()\n",
    "Type = FullData.loc[:,'BEERTYPE'].value_counts()\n",
    "\n",
    "print(\"Total Stores: \",len(FullData))\n",
    "print(\"Total Low Point Stores: \",len(FullData.loc[FullData[\"BEERTYPE\"]==\"LowPoint\",:]))\n",
    "print(\"Total Non Low Point Stores: \",len(FullData.loc[FullData[\"BEERTYPE\"]==\"NonLowPoint\",:]))\n",
    "\n",
    "#Plot Channels by Type of Beer\n",
    "fig, axes = plt.subplots(nrows=1, ncols=2, figsize=(10, 4))\n",
    "\n",
    "Channel.plot(ax=axes[0], kind='bar'); axes[0].set_title('Count of Stores by Channel')\n",
    "Type.plot(ax=axes[1], kind='pie',autopct='%1.1f%%'); axes[1].set_title('Percentage of Stores by Type')\n"
   ]
  },
  {
   "cell_type": "code",
   "execution_count": 51,
   "metadata": {
    "collapsed": true
   },
   "outputs": [],
   "source": [
    "# Count number of stores per channel\n",
    "LowPointChannel =FullData.loc[FullData[\"BEERTYPE\"]==\"LowPoint\",'RTL_CHANNEL_DSC'].value_counts()\n",
    "NonLowPointChannel =FullData.loc[FullData[\"BEERTYPE\"]==\"NonLowPoint\",'RTL_CHANNEL_DSC'].value_counts()"
   ]
  },
  {
   "cell_type": "code",
   "execution_count": 52,
   "metadata": {},
   "outputs": [
    {
     "data": {
      "text/plain": [
       "<matplotlib.text.Text at 0x7ff3852d0dd8>"
      ]
     },
     "execution_count": 52,
     "metadata": {},
     "output_type": "execute_result"
    },
    {
     "data": {
      "image/png": "[encoded data removed]",
      "text/plain": [
       "<matplotlib.figure.Figure at 0x7ff3852d0748>"
      ]
     },
     "metadata": {},
     "output_type": "display_data"
    }
   ],
   "source": [
    "#Plot Channels by Type of Beer\n",
    "fig, axes = plt.subplots(nrows=1, ncols=2, figsize=(10, 4))\n",
    "\n",
    "LowPointChannel.plot(ax=axes[0], kind='bar'); axes[0].set_title('Low Point Channels')\n",
    "NonLowPointChannel.plot(ax=axes[1], kind='bar', color = 'orange'); axes[1].set_title('Non Low Point Channels')\n",
    "fig.suptitle('Channels by Type of Beer')\n"
   ]
  },
  {
   "cell_type": "code",
   "execution_count": 53,
   "metadata": {},
   "outputs": [
    {
     "data": {
      "text/plain": [
       "<matplotlib.axes._subplots.AxesSubplot at 0x7ff382e78fd0>"
      ]
     },
     "execution_count": 53,
     "metadata": {},
     "output_type": "execute_result"
    },
    {
     "data": {
      "image/png": "[encoded data removed]",
      "text/plain": [
       "<matplotlib.figure.Figure at 0x7ff3851db748>"
      ]
     },
     "metadata": {},
     "output_type": "display_data"
    }
   ],
   "source": [
    "# Total Number of Stores by SubChannel\n",
    "SubChannel = FullData.loc[:,'RTL_SUBCHANNEL_DSC']\n",
    "SubChannel = SubChannel.value_counts().head(20)\n",
    "SubChannel.plot.bar(figsize=(10,4))"
   ]
  },
  {
   "cell_type": "code",
   "execution_count": 54,
   "metadata": {},
   "outputs": [
    {
     "data": {
      "text/plain": [
       "<matplotlib.text.Text at 0x7ff382cb9b38>"
      ]
     },
     "execution_count": 54,
     "metadata": {},
     "output_type": "execute_result"
    },
    {
     "data": {
      "image/png": "[encoded data removed]",
      "text/plain": [
       "<matplotlib.figure.Figure at 0x7ff382d66c88>"
      ]
     },
     "metadata": {},
     "output_type": "display_data"
    }
   ],
   "source": [
    "# Percentage of Stores which Off Premise vs On Premise\n",
    "fig, axes = plt.subplots(nrows=1, ncols=3, figsize=(20, 6))\n",
    "\n",
    "Premise = FullData.loc[:,'RTL_PREMISE_TYPE_CD'].value_counts()\n",
    "OnPremiseType = FullData.loc[FullData[\"RTL_PREMISE_TYPE_CD\"]==\"ON\",'BEERTYPE'].value_counts()\n",
    "OffPremiseType = FullData.loc[FullData[\"RTL_PREMISE_TYPE_CD\"]==\"OFF\",'BEERTYPE'].value_counts()\n",
    "\n",
    "Premise.plot(ax=axes[0], kind='pie',autopct='%1.1f%%'); axes[0].set_title('Percentage of Stores by Premise')\n",
    "OnPremiseType.plot(ax=axes[1], kind='pie',autopct='%1.1f%%'); axes[1].set_title('Percentage of On Premise Stores by Type')\n",
    "OffPremiseType.plot(ax=axes[2], kind='pie',autopct='%1.1f%%'); axes[2].set_title('Percentage of Off Premise Stores by Type')\n"
   ]
  },
  {
   "cell_type": "markdown",
   "metadata": {
    "collapsed": true
   },
   "source": [
    "### Prepare Data"
   ]
  },
  {
   "cell_type": "code",
   "execution_count": 58,
   "metadata": {
    "collapsed": true
   },
   "outputs": [],
   "source": [
    "# prepare data to fit model\n",
    "X_labels = [c for c in FullData.columns if c not in ['RTL_STORE_CD','BEERTYPE','RTL_FIPS_COUNTY_DSC','RTL_PREMISE_TYPE_CD','RTL_CHANNEL_DSC','RTL_SUBCHANNEL_DSC','RTL_BEER_FLAG',\"RTL_LIQUOR_FLG\",'RULES_PREDICT']]\n",
    "X = FullData.loc[:,X_labels]\n",
    "Y = FullData['BEERTYPE']"
   ]
  },
  {
   "cell_type": "code",
   "execution_count": 59,
   "metadata": {},
   "outputs": [
    {
     "data": {
      "text/plain": [
       "range(0, 10)"
      ]
     },
     "execution_count": 59,
     "metadata": {},
     "output_type": "execute_result"
    }
   ],
   "source": [
    "range(0,10)"
   ]
  },
  {
   "cell_type": "code",
   "execution_count": 60,
   "metadata": {},
   "outputs": [
    {
     "data": {
      "text/plain": [
       "GridSearchCV(cv=None, error_score='raise',\n",
       "       estimator=DecisionTreeClassifier(class_weight=None, criterion='gini', max_depth=None,\n",
       "            max_features=None, max_leaf_nodes=None,\n",
       "            min_impurity_split=1e-07, min_samples_leaf=1,\n",
       "            min_samples_split=2, min_weight_fraction_leaf=0.0,\n",
       "            presort=False, random_state=None, splitter='best'),\n",
       "       fit_params={}, iid=True, n_jobs=-2,\n",
       "       param_grid={'min_samples_leaf': range(1, 21, 4), 'random_state': [0], 'max_depth': range(1, 21), 'min_samples_split': range(2, 21, 4)},\n",
       "       pre_dispatch='2*n_jobs', refit=True, return_train_score=True,\n",
       "       scoring=None, verbose=0)"
      ]
     },
     "execution_count": 60,
     "metadata": {},
     "output_type": "execute_result"
    }
   ],
   "source": [
    "parameters = {'max_depth':range(1,21), 'min_samples_leaf':range(1,21,4), 'min_samples_split':range(2,21,4), 'random_state': [0]}\n",
    "clf = tree.DecisionTreeClassifier()\n",
    "clf = GridSearchCV(clf, parameters, n_jobs = -2)\n",
    "clf.fit(X, Y)"
   ]
  },
  {
   "cell_type": "code",
   "execution_count": 61,
   "metadata": {},
   "outputs": [
    {
     "data": {
      "text/plain": [
       "{'max_depth': 11,\n",
       " 'min_samples_leaf': 1,\n",
       " 'min_samples_split': 18,\n",
       " 'random_state': 0}"
      ]
     },
     "execution_count": 61,
     "metadata": {},
     "output_type": "execute_result"
    }
   ],
   "source": [
    "clf.best_params_"
   ]
  },
  {
   "cell_type": "code",
   "execution_count": 62,
   "metadata": {},
   "outputs": [
    {
     "data": {
      "text/html": [
       "<div>\n",
       "<style>\n",
       "    .dataframe thead tr:only-child th {\n",
       "        text-align: right;\n",
       "    }\n",
       "\n",
       "    .dataframe thead th {\n",
       "        text-align: left;\n",
       "    }\n",
       "\n",
       "    .dataframe tbody tr th {\n",
       "        vertical-align: top;\n",
       "    }\n",
       "</style>\n",
       "<table border=\"1\" class=\"dataframe\">\n",
       "  <thead>\n",
       "    <tr style=\"text-align: right;\">\n",
       "      <th></th>\n",
       "      <th>depth</th>\n",
       "      <th>min_sample_leaf</th>\n",
       "      <th>mean</th>\n",
       "      <th>std</th>\n",
       "      <th>depth_leaf</th>\n",
       "    </tr>\n",
       "  </thead>\n",
       "  <tbody>\n",
       "    <tr>\n",
       "      <th>144</th>\n",
       "      <td>8</td>\n",
       "      <td>5</td>\n",
       "      <td>0.961660</td>\n",
       "      <td>0.003344</td>\n",
       "      <td>8_5</td>\n",
       "    </tr>\n",
       "    <tr>\n",
       "      <th>145</th>\n",
       "      <td>8</td>\n",
       "      <td>6</td>\n",
       "      <td>0.961659</td>\n",
       "      <td>0.004231</td>\n",
       "      <td>8_6</td>\n",
       "    </tr>\n",
       "    <tr>\n",
       "      <th>185</th>\n",
       "      <td>10</td>\n",
       "      <td>6</td>\n",
       "      <td>0.961485</td>\n",
       "      <td>0.004173</td>\n",
       "      <td>10_6</td>\n",
       "    </tr>\n",
       "    <tr>\n",
       "      <th>165</th>\n",
       "      <td>9</td>\n",
       "      <td>6</td>\n",
       "      <td>0.961485</td>\n",
       "      <td>0.004173</td>\n",
       "      <td>9_6</td>\n",
       "    </tr>\n",
       "    <tr>\n",
       "      <th>164</th>\n",
       "      <td>9</td>\n",
       "      <td>5</td>\n",
       "      <td>0.961311</td>\n",
       "      <td>0.003912</td>\n",
       "      <td>9_5</td>\n",
       "    </tr>\n",
       "  </tbody>\n",
       "</table>\n",
       "</div>"
      ],
      "text/plain": [
       "     depth  min_sample_leaf      mean       std depth_leaf\n",
       "144      8                5  0.961660  0.003344        8_5\n",
       "145      8                6  0.961659  0.004231        8_6\n",
       "185     10                6  0.961485  0.004173       10_6\n",
       "165      9                6  0.961485  0.004173        9_6\n",
       "164      9                5  0.961311  0.003912        9_5"
      ]
     },
     "execution_count": 62,
     "metadata": {},
     "output_type": "execute_result"
    }
   ],
   "source": [
    "#try to find the best tree depth with min split.\n",
    "\n",
    "#tree depth\n",
    "\n",
    "#Fit a classification tree to the data with various values of the parameters max_depth and min_samples_leaf, \n",
    "#Report the cross-validation errors associated with different values of these parameters.\n",
    "\n",
    "# change the parameter depth and compute test error\n",
    "TreeDepth = range(1,21)\n",
    "MinLeaf = range(1,21)\n",
    "results = []\n",
    "for d in TreeDepth:\n",
    "    for l in MinLeaf:\n",
    "        clf = tree.DecisionTreeClassifier(max_depth=d, min_samples_leaf=l,random_state=0)\n",
    "        clf = clf.fit(X,Y)    \n",
    "        scores = cross_val_score(clf, X, Y, cv=5)\n",
    "        results.append((d,l,scores.mean(), scores.std()))\n",
    "    \n",
    "df_tree_accuracy = pd.DataFrame(data=results,columns=['depth','min_sample_leaf','mean','std'])\n",
    "df_tree_accuracy['depth_leaf']= df_tree_accuracy['depth'].astype(str)+\"_\"+df_tree_accuracy['min_sample_leaf'].astype(str)\n",
    "\n",
    "#sort the dataframe\n",
    "df_tree_accuracy = df_tree_accuracy.sort_values(['mean'], ascending = False)\n",
    "df_tree_accuracy.head()"
   ]
  },
  {
   "cell_type": "markdown",
   "metadata": {},
   "source": [
    "# Result"
   ]
  },
  {
   "cell_type": "code",
   "execution_count": 63,
   "metadata": {},
   "outputs": [
    {
     "name": "stdout",
     "output_type": "stream",
     "text": [
      "the best depth is: 8 with min split: 5 with accuracy: 96.166 %\n"
     ]
    }
   ],
   "source": [
    "#the result: with the best tree depth and accuracy\n",
    "best_depth = df_tree_accuracy[df_tree_accuracy['mean'] == max(df_tree_accuracy['mean'])]\n",
    "best_depth = int(best_depth['depth'])\n",
    "\n",
    "min_leaf = df_tree_accuracy[df_tree_accuracy['mean'] == max(df_tree_accuracy['mean'])]\n",
    "min_leaf = int(min_leaf['min_sample_leaf'])\n",
    "print('the best depth is:', best_depth, 'with min split:',min_leaf ,'with accuracy:',round(max(df_tree_accuracy['mean'])*100, 3), '%')\n",
    "\n"
   ]
  },
  {
   "cell_type": "code",
   "execution_count": 64,
   "metadata": {},
   "outputs": [
    {
     "data": {
      "text/html": [
       "<div>\n",
       "<style>\n",
       "    .dataframe thead tr:only-child th {\n",
       "        text-align: right;\n",
       "    }\n",
       "\n",
       "    .dataframe thead th {\n",
       "        text-align: left;\n",
       "    }\n",
       "\n",
       "    .dataframe tbody tr th {\n",
       "        vertical-align: top;\n",
       "    }\n",
       "</style>\n",
       "<table border=\"1\" class=\"dataframe\">\n",
       "  <thead>\n",
       "    <tr style=\"text-align: right;\">\n",
       "      <th></th>\n",
       "      <th>RTL_STORE_CD</th>\n",
       "      <th>RTL_FIPS_COUNTY_DSC</th>\n",
       "      <th>RTL_PREMISE_TYPE_CD</th>\n",
       "      <th>RTL_CHANNEL_DSC</th>\n",
       "      <th>RTL_SUBCHANNEL_DSC</th>\n",
       "      <th>RTL_BEER_FLAG</th>\n",
       "      <th>RTL_LIQUOR_FLG</th>\n",
       "      <th>BEERTYPE</th>\n",
       "      <th>PRED_RESULT</th>\n",
       "    </tr>\n",
       "  </thead>\n",
       "  <tbody>\n",
       "    <tr>\n",
       "      <th>0</th>\n",
       "      <td>105531125</td>\n",
       "      <td>DAKOTA</td>\n",
       "      <td>ON</td>\n",
       "      <td>DINING</td>\n",
       "      <td>CASUAL DINING</td>\n",
       "      <td>Y</td>\n",
       "      <td>Y</td>\n",
       "      <td>NonLowPoint</td>\n",
       "      <td>NonLowPoint</td>\n",
       "    </tr>\n",
       "    <tr>\n",
       "      <th>1</th>\n",
       "      <td>205646301</td>\n",
       "      <td>MORRISON</td>\n",
       "      <td>ON</td>\n",
       "      <td>BAR/NIGHTCLUB</td>\n",
       "      <td>NEIGHBORHOOD BAR</td>\n",
       "      <td>Y</td>\n",
       "      <td>Y</td>\n",
       "      <td>NonLowPoint</td>\n",
       "      <td>NonLowPoint</td>\n",
       "    </tr>\n",
       "    <tr>\n",
       "      <th>2</th>\n",
       "      <td>105646889</td>\n",
       "      <td>AITKIN</td>\n",
       "      <td>ON</td>\n",
       "      <td>LODGING</td>\n",
       "      <td>FULL SERVICE LODGING</td>\n",
       "      <td>Y</td>\n",
       "      <td>Y</td>\n",
       "      <td>NonLowPoint</td>\n",
       "      <td>NonLowPoint</td>\n",
       "    </tr>\n",
       "    <tr>\n",
       "      <th>3</th>\n",
       "      <td>102004427</td>\n",
       "      <td>FILLMORE</td>\n",
       "      <td>OFF</td>\n",
       "      <td>LIQUOR</td>\n",
       "      <td>CONVENTIONAL LIQUOR</td>\n",
       "      <td>Y</td>\n",
       "      <td>Y</td>\n",
       "      <td>NonLowPoint</td>\n",
       "      <td>NonLowPoint</td>\n",
       "    </tr>\n",
       "    <tr>\n",
       "      <th>4</th>\n",
       "      <td>105645122</td>\n",
       "      <td>WINONA</td>\n",
       "      <td>ON</td>\n",
       "      <td>DINING</td>\n",
       "      <td>CASUAL DINING</td>\n",
       "      <td>Y</td>\n",
       "      <td>Y</td>\n",
       "      <td>NonLowPoint</td>\n",
       "      <td>NonLowPoint</td>\n",
       "    </tr>\n",
       "  </tbody>\n",
       "</table>\n",
       "</div>"
      ],
      "text/plain": [
       "  RTL_STORE_CD RTL_FIPS_COUNTY_DSC RTL_PREMISE_TYPE_CD RTL_CHANNEL_DSC  \\\n",
       "0    105531125              DAKOTA                  ON          DINING   \n",
       "1    205646301            MORRISON                  ON   BAR/NIGHTCLUB   \n",
       "2    105646889              AITKIN                  ON         LODGING   \n",
       "3    102004427            FILLMORE                 OFF          LIQUOR   \n",
       "4    105645122              WINONA                  ON          DINING   \n",
       "\n",
       "     RTL_SUBCHANNEL_DSC RTL_BEER_FLAG RTL_LIQUOR_FLG     BEERTYPE  PRED_RESULT  \n",
       "0         CASUAL DINING             Y              Y  NonLowPoint  NonLowPoint  \n",
       "1      NEIGHBORHOOD BAR             Y              Y  NonLowPoint  NonLowPoint  \n",
       "2  FULL SERVICE LODGING             Y              Y  NonLowPoint  NonLowPoint  \n",
       "3   CONVENTIONAL LIQUOR             Y              Y  NonLowPoint  NonLowPoint  \n",
       "4         CASUAL DINING             Y              Y  NonLowPoint  NonLowPoint  "
      ]
     },
     "execution_count": 64,
     "metadata": {},
     "output_type": "execute_result"
    }
   ],
   "source": [
    "#check the errors:\n",
    "\n",
    "#create a new data frame to store the prediction result. \n",
    "result_df = FullData.loc[:, 'RTL_STORE_CD': 'BEERTYPE']\n",
    "result_df['PRED_RESULT'] = clf.predict(X)\n",
    "result_df.head()"
   ]
  },
  {
   "cell_type": "code",
   "execution_count": 65,
   "metadata": {
    "scrolled": true
   },
   "outputs": [
    {
     "name": "stdout",
     "output_type": "stream",
     "text": [
      "there are 247 errors in the prediction\n"
     ]
    },
    {
     "name": "stderr",
     "output_type": "stream",
     "text": [
      "/usr/local/lib/python3.5/dist-packages/ipykernel_launcher.py:4: DeprecationWarning: \n",
      ".ix is deprecated. Please use\n",
      ".loc for label based indexing or\n",
      ".iloc for positional indexing\n",
      "\n",
      "See the documentation here:\n",
      "http://pandas.pydata.org/pandas-docs/stable/indexing.html#deprecate_ix\n",
      "  after removing the cwd from sys.path.\n"
     ]
    }
   ],
   "source": [
    "#check how many stores are predicted wrong; which are they; what characters do they have\n",
    "error_index_list = []\n",
    "for index in range(len(result_df)):\n",
    "    if result_df.ix[index , 'BEERTYPE'] != result_df.ix[index , 'PRED_RESULT']:\n",
    "        error_index_list.append(index)\n",
    "print('there are', len(error_index_list), 'errors in the prediction')"
   ]
  },
  {
   "cell_type": "code",
   "execution_count": 66,
   "metadata": {
    "scrolled": true
   },
   "outputs": [
    {
     "name": "stdout",
     "output_type": "stream",
     "text": [
      "there are 113 false_NonLowPoint errors.\n"
     ]
    },
    {
     "data": {
      "text/html": [
       "<div>\n",
       "<style>\n",
       "    .dataframe thead tr:only-child th {\n",
       "        text-align: right;\n",
       "    }\n",
       "\n",
       "    .dataframe thead th {\n",
       "        text-align: left;\n",
       "    }\n",
       "\n",
       "    .dataframe tbody tr th {\n",
       "        vertical-align: top;\n",
       "    }\n",
       "</style>\n",
       "<table border=\"1\" class=\"dataframe\">\n",
       "  <thead>\n",
       "    <tr style=\"text-align: right;\">\n",
       "      <th></th>\n",
       "      <th>RTL_STORE_CD</th>\n",
       "      <th>RTL_FIPS_COUNTY_DSC</th>\n",
       "      <th>RTL_PREMISE_TYPE_CD</th>\n",
       "      <th>RTL_CHANNEL_DSC</th>\n",
       "      <th>RTL_SUBCHANNEL_DSC</th>\n",
       "      <th>RTL_BEER_FLAG</th>\n",
       "      <th>RTL_LIQUOR_FLG</th>\n",
       "      <th>BEERTYPE</th>\n",
       "      <th>PRED_RESULT</th>\n",
       "    </tr>\n",
       "  </thead>\n",
       "  <tbody>\n",
       "    <tr>\n",
       "      <th>18</th>\n",
       "      <td>107300928</td>\n",
       "      <td>RICE</td>\n",
       "      <td>ON</td>\n",
       "      <td>DINING</td>\n",
       "      <td>CASUAL DINING</td>\n",
       "      <td>Y</td>\n",
       "      <td>N</td>\n",
       "      <td>LowPoint</td>\n",
       "      <td>NonLowPoint</td>\n",
       "    </tr>\n",
       "    <tr>\n",
       "      <th>39</th>\n",
       "      <td>105645926</td>\n",
       "      <td>DOUGLAS</td>\n",
       "      <td>ON</td>\n",
       "      <td>RECREATION</td>\n",
       "      <td>GOLF/COUNTRY CLUB</td>\n",
       "      <td>Y</td>\n",
       "      <td>Y</td>\n",
       "      <td>LowPoint</td>\n",
       "      <td>NonLowPoint</td>\n",
       "    </tr>\n",
       "    <tr>\n",
       "      <th>57</th>\n",
       "      <td>105645751</td>\n",
       "      <td>WATONWAN</td>\n",
       "      <td>ON</td>\n",
       "      <td>RECREATION</td>\n",
       "      <td>PRIVATE CLUB</td>\n",
       "      <td>Y</td>\n",
       "      <td>Y</td>\n",
       "      <td>LowPoint</td>\n",
       "      <td>NonLowPoint</td>\n",
       "    </tr>\n",
       "    <tr>\n",
       "      <th>204</th>\n",
       "      <td>107242897</td>\n",
       "      <td>WATONWAN</td>\n",
       "      <td>ON</td>\n",
       "      <td>DINING</td>\n",
       "      <td>CASUAL DINING</td>\n",
       "      <td>Y</td>\n",
       "      <td>N</td>\n",
       "      <td>LowPoint</td>\n",
       "      <td>NonLowPoint</td>\n",
       "    </tr>\n",
       "    <tr>\n",
       "      <th>258</th>\n",
       "      <td>103123628</td>\n",
       "      <td>STEELE</td>\n",
       "      <td>ON</td>\n",
       "      <td>LODGING</td>\n",
       "      <td>FULL SERVICE LODGING</td>\n",
       "      <td>Y</td>\n",
       "      <td>Y</td>\n",
       "      <td>LowPoint</td>\n",
       "      <td>NonLowPoint</td>\n",
       "    </tr>\n",
       "  </tbody>\n",
       "</table>\n",
       "</div>"
      ],
      "text/plain": [
       "    RTL_STORE_CD RTL_FIPS_COUNTY_DSC RTL_PREMISE_TYPE_CD RTL_CHANNEL_DSC  \\\n",
       "18     107300928                RICE                  ON          DINING   \n",
       "39     105645926             DOUGLAS                  ON      RECREATION   \n",
       "57     105645751            WATONWAN                  ON      RECREATION   \n",
       "204    107242897            WATONWAN                  ON          DINING   \n",
       "258    103123628              STEELE                  ON         LODGING   \n",
       "\n",
       "       RTL_SUBCHANNEL_DSC RTL_BEER_FLAG RTL_LIQUOR_FLG  BEERTYPE  PRED_RESULT  \n",
       "18          CASUAL DINING             Y              N  LowPoint  NonLowPoint  \n",
       "39      GOLF/COUNTRY CLUB             Y              Y  LowPoint  NonLowPoint  \n",
       "57           PRIVATE CLUB             Y              Y  LowPoint  NonLowPoint  \n",
       "204         CASUAL DINING             Y              N  LowPoint  NonLowPoint  \n",
       "258  FULL SERVICE LODGING             Y              Y  LowPoint  NonLowPoint  "
      ]
     },
     "execution_count": 66,
     "metadata": {},
     "output_type": "execute_result"
    }
   ],
   "source": [
    "#check the error predictions\n",
    "error_df = result_df.ix[error_index_list, ]\n",
    "false_NonLowPoint = error_df.loc[error_df['BEERTYPE'] == 'LowPoint']\n",
    "print('there are', len(false_NonLowPoint), 'false_NonLowPoint errors.')\n",
    "false_NonLowPoint.head()"
   ]
  },
  {
   "cell_type": "code",
   "execution_count": 67,
   "metadata": {},
   "outputs": [
    {
     "name": "stdout",
     "output_type": "stream",
     "text": [
      "there are 134 false_LowPoint errors.\n"
     ]
    },
    {
     "data": {
      "text/html": [
       "<div>\n",
       "<style>\n",
       "    .dataframe thead tr:only-child th {\n",
       "        text-align: right;\n",
       "    }\n",
       "\n",
       "    .dataframe thead th {\n",
       "        text-align: left;\n",
       "    }\n",
       "\n",
       "    .dataframe tbody tr th {\n",
       "        vertical-align: top;\n",
       "    }\n",
       "</style>\n",
       "<table border=\"1\" class=\"dataframe\">\n",
       "  <thead>\n",
       "    <tr style=\"text-align: right;\">\n",
       "      <th></th>\n",
       "      <th>RTL_STORE_CD</th>\n",
       "      <th>RTL_FIPS_COUNTY_DSC</th>\n",
       "      <th>RTL_PREMISE_TYPE_CD</th>\n",
       "      <th>RTL_CHANNEL_DSC</th>\n",
       "      <th>RTL_SUBCHANNEL_DSC</th>\n",
       "      <th>RTL_BEER_FLAG</th>\n",
       "      <th>RTL_LIQUOR_FLG</th>\n",
       "      <th>BEERTYPE</th>\n",
       "      <th>PRED_RESULT</th>\n",
       "    </tr>\n",
       "  </thead>\n",
       "  <tbody>\n",
       "    <tr>\n",
       "      <th>60</th>\n",
       "      <td>100077640</td>\n",
       "      <td>RAMSEY</td>\n",
       "      <td>OFF</td>\n",
       "      <td>GROCERY</td>\n",
       "      <td>SUPERMARKET-CONVENTIONAL</td>\n",
       "      <td>Y</td>\n",
       "      <td>N</td>\n",
       "      <td>NonLowPoint</td>\n",
       "      <td>LowPoint</td>\n",
       "    </tr>\n",
       "    <tr>\n",
       "      <th>95</th>\n",
       "      <td>107047131</td>\n",
       "      <td>MORRISON</td>\n",
       "      <td>OFF</td>\n",
       "      <td>CONVENIENCE STORE</td>\n",
       "      <td>CONVENTIONAL CONVENIENCE</td>\n",
       "      <td>Y</td>\n",
       "      <td>N</td>\n",
       "      <td>NonLowPoint</td>\n",
       "      <td>LowPoint</td>\n",
       "    </tr>\n",
       "    <tr>\n",
       "      <th>208</th>\n",
       "      <td>200692994</td>\n",
       "      <td>LYON</td>\n",
       "      <td>OFF</td>\n",
       "      <td>CONVENIENCE STORE</td>\n",
       "      <td>CONVENTIONAL CONVENIENCE</td>\n",
       "      <td>Y</td>\n",
       "      <td>N</td>\n",
       "      <td>NonLowPoint</td>\n",
       "      <td>LowPoint</td>\n",
       "    </tr>\n",
       "    <tr>\n",
       "      <th>240</th>\n",
       "      <td>105646999</td>\n",
       "      <td>SAINT LOUIS</td>\n",
       "      <td>OFF</td>\n",
       "      <td>EXTENDED MASTER OFF-PREMISE</td>\n",
       "      <td>RESIDENTIAL ADDRESS</td>\n",
       "      <td>N</td>\n",
       "      <td>N</td>\n",
       "      <td>NonLowPoint</td>\n",
       "      <td>LowPoint</td>\n",
       "    </tr>\n",
       "    <tr>\n",
       "      <th>298</th>\n",
       "      <td>102573874</td>\n",
       "      <td>ITASCA</td>\n",
       "      <td>OFF</td>\n",
       "      <td>GROCERY</td>\n",
       "      <td>SUPERCENTER</td>\n",
       "      <td>Y</td>\n",
       "      <td>N</td>\n",
       "      <td>NonLowPoint</td>\n",
       "      <td>LowPoint</td>\n",
       "    </tr>\n",
       "  </tbody>\n",
       "</table>\n",
       "</div>"
      ],
      "text/plain": [
       "    RTL_STORE_CD RTL_FIPS_COUNTY_DSC RTL_PREMISE_TYPE_CD  \\\n",
       "60     100077640              RAMSEY                 OFF   \n",
       "95     107047131            MORRISON                 OFF   \n",
       "208    200692994                LYON                 OFF   \n",
       "240    105646999         SAINT LOUIS                 OFF   \n",
       "298    102573874              ITASCA                 OFF   \n",
       "\n",
       "                 RTL_CHANNEL_DSC        RTL_SUBCHANNEL_DSC RTL_BEER_FLAG  \\\n",
       "60                       GROCERY  SUPERMARKET-CONVENTIONAL             Y   \n",
       "95             CONVENIENCE STORE  CONVENTIONAL CONVENIENCE             Y   \n",
       "208            CONVENIENCE STORE  CONVENTIONAL CONVENIENCE             Y   \n",
       "240  EXTENDED MASTER OFF-PREMISE       RESIDENTIAL ADDRESS             N   \n",
       "298                      GROCERY               SUPERCENTER             Y   \n",
       "\n",
       "    RTL_LIQUOR_FLG     BEERTYPE PRED_RESULT  \n",
       "60               N  NonLowPoint    LowPoint  \n",
       "95               N  NonLowPoint    LowPoint  \n",
       "208              N  NonLowPoint    LowPoint  \n",
       "240              N  NonLowPoint    LowPoint  \n",
       "298              N  NonLowPoint    LowPoint  "
      ]
     },
     "execution_count": 67,
     "metadata": {},
     "output_type": "execute_result"
    }
   ],
   "source": [
    "false_LowPoint = error_df.loc[error_df['BEERTYPE'] == 'NonLowPoint']\n",
    "print('there are', len(false_LowPoint), 'false_LowPoint errors.')\n",
    "false_LowPoint.head()"
   ]
  },
  {
   "cell_type": "code",
   "execution_count": 68,
   "metadata": {
    "collapsed": true
   },
   "outputs": [],
   "source": [
    "#create statistics for false_NonLowPoint\n",
    "county_false_NonLowPoint = false_NonLowPoint.loc[:,'RTL_FIPS_COUNTY_DSC'].value_counts().head(15)\n",
    "premise_false_NonLowPoint = false_NonLowPoint.loc[:,'RTL_PREMISE_TYPE_CD'].value_counts()\n",
    "channel_false_NonLowPoint = false_NonLowPoint.loc[:,'RTL_CHANNEL_DSC'].value_counts()\n",
    "sub_channel_false_NonLowPoint = false_NonLowPoint.loc[:,'RTL_SUBCHANNEL_DSC'].value_counts()\n",
    "beer_license_false_NonLowPoint = false_NonLowPoint.loc[:,'RTL_BEER_FLAG'].value_counts()\n",
    "liquor_license_false_NonLowPoint = false_NonLowPoint.loc[:,'RTL_LIQUOR_FLG'].value_counts()"
   ]
  },
  {
   "cell_type": "code",
   "execution_count": 69,
   "metadata": {
    "collapsed": true
   },
   "outputs": [],
   "source": [
    "#create statistics for false_LowPoint\n",
    "county_false_LowPoint = false_LowPoint.loc[:,'RTL_FIPS_COUNTY_DSC'].value_counts().head(15)\n",
    "premise_false_LowPoint = false_LowPoint.loc[:,'RTL_PREMISE_TYPE_CD'].value_counts()\n",
    "channel_false_LowPoint = false_LowPoint.loc[:,'RTL_CHANNEL_DSC'].value_counts()\n",
    "sub_channel_false_LowPoint = false_LowPoint.loc[:,'RTL_SUBCHANNEL_DSC'].value_counts()\n",
    "beer_license_false_LowPoint = false_LowPoint.loc[:,'RTL_BEER_FLAG'].value_counts()\n",
    "liquor_license_false_LowPoint = false_LowPoint.loc[:,'RTL_LIQUOR_FLG'].value_counts()"
   ]
  },
  {
   "cell_type": "code",
   "execution_count": 70,
   "metadata": {},
   "outputs": [
    {
     "data": {
      "image/png": "[encoded data removed]",
      "text/plain": [
       "<matplotlib.figure.Figure at 0x7ff38564e1d0>"
      ]
     },
     "metadata": {},
     "output_type": "display_data"
    }
   ],
   "source": [
    "#plot for false_NonLowPoint\n",
    "fig, axes = plt.subplots(nrows=2, ncols=3)\n",
    "\n",
    "bottom_limit = 1\n",
    "upper_limit = 1.2\n",
    "\n",
    "county_false_NonLowPoint.plot(ax=axes[0,0], kind='bar'); axes[0,0].set_title('county')\n",
    "axes[0,0].set_yticks([bottom_limit*min(county_false_NonLowPoint), int(upper_limit*max(county_false_NonLowPoint))])\n",
    "   \n",
    "premise_false_NonLowPoint.plot(ax=axes[0,1], kind='bar'); axes[0,1].set_title('premise type')\n",
    "axes[0,1].set_yticks([bottom_limit*min(premise_false_NonLowPoint), int(upper_limit*max(premise_false_NonLowPoint))])\n",
    "\n",
    "channel_false_NonLowPoint.plot(ax=axes[0,2], kind='bar'); axes[0,2].set_title('channel')\n",
    "axes[0,2].set_yticks([bottom_limit*min(channel_false_NonLowPoint), int(upper_limit*max(channel_false_NonLowPoint))])\n",
    "\n",
    "sub_channel_false_NonLowPoint.plot(ax=axes[1,0], kind='bar'); axes[1,0].set_title('sub channel')\n",
    "axes[1,0].set_yticks([bottom_limit*min(sub_channel_false_NonLowPoint), int(upper_limit*max(sub_channel_false_NonLowPoint))])\n",
    "\n",
    "beer_license_false_NonLowPoint.plot(ax=axes[1,1], kind='bar'); axes[1,1].set_title('beer license')\n",
    "\n",
    "liquor_license_false_NonLowPoint.plot(ax=axes[1,2], kind='bar'); axes[1,2].set_title('liquor license')\n",
    "\n",
    "#adjust the plot\n",
    "plt.subplots_adjust(left=2, bottom=2, right=4, top=3, wspace=0.3, hspace=2)"
   ]
  },
  {
   "cell_type": "code",
   "execution_count": 71,
   "metadata": {},
   "outputs": [
    {
     "data": {
      "image/png": "[encoded data removed]",
      "text/plain": [
       "<matplotlib.figure.Figure at 0x7ff382c94c18>"
      ]
     },
     "metadata": {},
     "output_type": "display_data"
    }
   ],
   "source": [
    "#plot for false_LowPoint\n",
    "fig, axes = plt.subplots(nrows=2, ncols=3)\n",
    "\n",
    "bottom_limit = 1\n",
    "upper_limit = 1.2\n",
    "\n",
    "county_false_LowPoint.plot(ax=axes[0,0], kind='bar'); axes[0,0].set_title('county')\n",
    "axes[0,0].set_yticks([bottom_limit*min(county_false_NonLowPoint), int(upper_limit*max(county_false_LowPoint))])\n",
    "   \n",
    "premise_false_LowPoint.plot(ax=axes[0,1], kind='bar'); axes[0,1].set_title('premise type')\n",
    "axes[0,1].set_yticks([bottom_limit*min(premise_false_LowPoint), int(upper_limit*max(premise_false_LowPoint))])\n",
    "\n",
    "channel_false_LowPoint.plot(ax=axes[0,2], kind='bar'); axes[0,2].set_title('channel')\n",
    "axes[0,2].set_yticks([bottom_limit*min(channel_false_LowPoint), int(upper_limit*max(channel_false_LowPoint))])\n",
    "\n",
    "sub_channel_false_LowPoint.plot(ax=axes[1,0], kind='bar'); axes[1,0].set_title('sub channel')\n",
    "axes[1,0].set_yticks([bottom_limit*min(sub_channel_false_LowPoint), int(upper_limit*max(sub_channel_false_LowPoint))])\n",
    "\n",
    "beer_license_false_LowPoint.plot(ax=axes[1,1], kind='bar'); axes[1,1].set_title('beer license')\n",
    "\n",
    "liquor_license_false_LowPoint.plot(ax=axes[1,2], kind='bar'); axes[1,2].set_title('liquor license')\n",
    "\n",
    "#adjust the plot\n",
    "plt.subplots_adjust(left=2, bottom=2, right=4, top=3, wspace=0.2, hspace=5)\n"
   ]
  },
  {
   "cell_type": "code",
   "execution_count": 72,
   "metadata": {},
   "outputs": [
    {
     "data": {
      "text/plain": [
       "LIQUOR_LICENSE_N                                0.785346\n",
       "PREMISE_OFF                                     0.097730\n",
       "SUBCHANNEL_SUPERMARKET-NATURAL/GOURMET FOODS    0.017845\n",
       "CHANNEL_WHOLESALE CLUB                          0.017113\n",
       "CHANNEL_RECREATION                              0.016901\n",
       "COUNTY_NOBLES                                   0.015751\n",
       "COUNTY_ITASCA                                   0.010223\n",
       "BEER_LICENSE_Y                                  0.009886\n",
       "SUBCHANNEL_ETHNIC MARKETS                       0.005121\n",
       "COUNTY_LYON                                     0.004385\n",
       "SUBCHANNEL_CASUAL DINING                        0.003979\n",
       "CHANNEL_NON RETAIL                              0.003238\n",
       "COUNTY_CROW WING                                0.002294\n",
       "COUNTY_HENNEPIN                                 0.002183\n",
       "CHANNEL_LODGING                                 0.001452\n",
       "COUNTY_SAINT LOUIS                              0.001394\n",
       "SUBCHANNEL_GOLF/COUNTRY CLUB                    0.001237\n",
       "COUNTY_COOK                                     0.000914\n",
       "COUNTY_BECKER                                   0.000604\n",
       "COUNTY_WRIGHT                                   0.000351\n",
       "COUNTY_FILLMORE                                 0.000299\n",
       "COUNTY_CLAY                                     0.000297\n",
       "COUNTY_WATONWAN                                 0.000291\n",
       "SUBCHANNEL_POLISHED CASUAL                      0.000263\n",
       "COUNTY_RAMSEY                                   0.000234\n",
       "SUBCHANNEL_FAST CASUAL                          0.000162\n",
       "COUNTY_STEARNS                                  0.000141\n",
       "SUBCHANNEL_CONVENTIONAL LIQUOR                  0.000095\n",
       "CHANNEL_GROCERY                                 0.000079\n",
       "COUNTY_ANOKA                                    0.000069\n",
       "COUNTY_DAKOTA                                   0.000061\n",
       "COUNTY_WASHINGTON                               0.000061\n",
       "dtype: float64"
      ]
     },
     "execution_count": 72,
     "metadata": {},
     "output_type": "execute_result"
    }
   ],
   "source": [
    "#feature importance\n",
    "clf = tree.DecisionTreeClassifier(max_depth=best_depth, min_samples_leaf=min_leaf,random_state=0)\n",
    "clf = clf.fit(X,Y)\n",
    "\n",
    "#all the features with their importance scores.\n",
    "feature_score = pd.Series(data=clf.feature_importances_, index=X.columns).sort_values(ascending = False)\n",
    "\n",
    "#only show the features that have scores greater than 0\n",
    "feature_score[feature_score > 0]\n"
   ]
  },
  {
   "cell_type": "code",
   "execution_count": 73,
   "metadata": {},
   "outputs": [
    {
     "data": {
      "text/plain": [
       "array([[ 690,  113],\n",
       "       [ 134, 4801]])"
      ]
     },
     "execution_count": 73,
     "metadata": {},
     "output_type": "execute_result"
    }
   ],
   "source": [
    "# Confusion Matrix\n",
    "cm = confusion_matrix(result_df['BEERTYPE'], result_df['PRED_RESULT'])\n",
    "cm"
   ]
  },
  {
   "cell_type": "code",
   "execution_count": 74,
   "metadata": {},
   "outputs": [
    {
     "data": {
      "text/plain": [
       "0.97284701114488348"
      ]
     },
     "execution_count": 74,
     "metadata": {},
     "output_type": "execute_result"
    }
   ],
   "source": [
    "# True Positive Rate\n",
    "TPR = cm[1,1]/(cm[1,1]+cm[1,0])\n",
    "TPR"
   ]
  },
  {
   "cell_type": "code",
   "execution_count": 75,
   "metadata": {},
   "outputs": [
    {
     "data": {
      "text/plain": [
       "0.027152988855116515"
      ]
     },
     "execution_count": 75,
     "metadata": {},
     "output_type": "execute_result"
    }
   ],
   "source": [
    "# False Negative Rate\n",
    "FNR = cm[1,0]/(cm[1,0]+cm[1,1])\n",
    "FNR"
   ]
  },
  {
   "cell_type": "code",
   "execution_count": 76,
   "metadata": {},
   "outputs": [
    {
     "data": {
      "text/plain": [
       "0.85927770859277708"
      ]
     },
     "execution_count": 76,
     "metadata": {},
     "output_type": "execute_result"
    }
   ],
   "source": [
    "# True Negative Rate\n",
    "TNR = cm[0,0]/(cm[0,0]+cm[0,1])\n",
    "TNR"
   ]
  },
  {
   "cell_type": "code",
   "execution_count": 77,
   "metadata": {},
   "outputs": [
    {
     "data": {
      "text/plain": [
       "0.14072229140722292"
      ]
     },
     "execution_count": 77,
     "metadata": {},
     "output_type": "execute_result"
    }
   ],
   "source": [
    "# False Positive Rate\n",
    "FPR = cm[0,1]/(cm[0,1]+cm[0,0])\n",
    "FPR"
   ]
  },
  {
   "cell_type": "code",
   "execution_count": null,
   "metadata": {
    "collapsed": true
   },
   "outputs": [],
   "source": []
  },
  {
   "cell_type": "code",
   "execution_count": null,
   "metadata": {
    "collapsed": true
   },
   "outputs": [],
   "source": []
  }
 ],
 "metadata": {
  "kernelspec": {
   "display_name": "Python 3",
   "language": "python",
   "name": "python3"
  },
  "language_info": {
   "codemirror_mode": {
    "name": "ipython",
    "version": 3
   },
   "file_extension": ".py",
   "mimetype": "text/x-python",
   "name": "python",
   "nbconvert_exporter": "python",
   "pygments_lexer": "ipython3",
   "version": "3.5.2"
  }
 },
 "nbformat": 4,
 "nbformat_minor": 2
}
