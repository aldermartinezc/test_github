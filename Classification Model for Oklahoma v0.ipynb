{
 "cells": [
  {
   "cell_type": "markdown",
   "metadata": {},
   "source": [
    "# Classification Model for Oklahoma"
   ]
  },
  {
   "cell_type": "code",
   "execution_count": 1,
   "metadata": {
    "collapsed": true
   },
   "outputs": [],
   "source": [
    "# packages used\n",
    "import pandas as pd\n",
    "import numpy as np\n",
    "from sklearn import tree\n",
    "#from sklearn.ensemble import BaggingClassifier\n",
    "#from sklearn.ensemble import RandomForestClassifier\n",
    "#from sklearn.ensemble import AdaBoostClassifier\n",
    "from sklearn.model_selection import train_test_split\n",
    "from sklearn.model_selection import cross_val_score\n"
   ]
  },
  {
   "cell_type": "markdown",
   "metadata": {},
   "source": [
    "### Data Loading"
   ]
  },
  {
   "cell_type": "code",
   "execution_count": 2,
   "metadata": {
    "collapsed": true
   },
   "outputs": [],
   "source": [
    "# Load the data\n",
    "data_dir = 'Data/'\n",
    "Stores = pd.read_csv(data_dir + 'AllStoresOklahoma.csv', dtype = str)\n",
    "StoreType = pd.read_csv(data_dir + 'NonLowPointStoresOklahoma.csv', dtype = str)"
   ]
  },
  {
   "cell_type": "code",
   "execution_count": 3,
   "metadata": {},
   "outputs": [
    {
     "data": {
      "text/html": [
       "<div>\n",
       "<style>\n",
       "    .dataframe thead tr:only-child th {\n",
       "        text-align: right;\n",
       "    }\n",
       "\n",
       "    .dataframe thead th {\n",
       "        text-align: left;\n",
       "    }\n",
       "\n",
       "    .dataframe tbody tr th {\n",
       "        vertical-align: top;\n",
       "    }\n",
       "</style>\n",
       "<table border=\"1\" class=\"dataframe\">\n",
       "  <thead>\n",
       "    <tr style=\"text-align: right;\">\n",
       "      <th></th>\n",
       "      <th>RTL_STORE_CD</th>\n",
       "      <th>RTL_FIPS_COUNTY_DSC</th>\n",
       "      <th>RTL_PREMISE_TYPE_CD</th>\n",
       "      <th>RTL_CHANNEL_DSC</th>\n",
       "      <th>RTL_SUBCHANNEL_DSC</th>\n",
       "      <th>RTL_BEER_FLAG</th>\n",
       "      <th>RTL_LIQUOR_FLG</th>\n",
       "    </tr>\n",
       "  </thead>\n",
       "  <tbody>\n",
       "    <tr>\n",
       "      <th>0</th>\n",
       "      <td>107452530</td>\n",
       "      <td>PONTOTOC</td>\n",
       "      <td>OFF</td>\n",
       "      <td>MASS MERCHANDISER</td>\n",
       "      <td>DOLLAR STORE</td>\n",
       "      <td>Y</td>\n",
       "      <td>N</td>\n",
       "    </tr>\n",
       "    <tr>\n",
       "      <th>1</th>\n",
       "      <td>200097024</td>\n",
       "      <td>OKLAHOMA</td>\n",
       "      <td>OFF</td>\n",
       "      <td>GROCERY</td>\n",
       "      <td>SUPERMARKET-CONVENTIONAL</td>\n",
       "      <td>Y</td>\n",
       "      <td>N</td>\n",
       "    </tr>\n",
       "    <tr>\n",
       "      <th>2</th>\n",
       "      <td>100135885</td>\n",
       "      <td>MUSKOGEE</td>\n",
       "      <td>OFF</td>\n",
       "      <td>CONVENIENCE STORE</td>\n",
       "      <td>CONVENTIONAL CONVENIENCE</td>\n",
       "      <td>Y</td>\n",
       "      <td>N</td>\n",
       "    </tr>\n",
       "    <tr>\n",
       "      <th>3</th>\n",
       "      <td>100950469</td>\n",
       "      <td>CANADIAN</td>\n",
       "      <td>OFF</td>\n",
       "      <td>CONVENIENCE STORE</td>\n",
       "      <td>CONVENTIONAL CONVENIENCE</td>\n",
       "      <td>Y</td>\n",
       "      <td>N</td>\n",
       "    </tr>\n",
       "    <tr>\n",
       "      <th>4</th>\n",
       "      <td>100560558</td>\n",
       "      <td>TULSA</td>\n",
       "      <td>OFF</td>\n",
       "      <td>MASS MERCHANDISER</td>\n",
       "      <td>DOLLAR STORE</td>\n",
       "      <td>Y</td>\n",
       "      <td>N</td>\n",
       "    </tr>\n",
       "  </tbody>\n",
       "</table>\n",
       "</div>"
      ],
      "text/plain": [
       "  RTL_STORE_CD RTL_FIPS_COUNTY_DSC RTL_PREMISE_TYPE_CD    RTL_CHANNEL_DSC  \\\n",
       "0    107452530            PONTOTOC                 OFF  MASS MERCHANDISER   \n",
       "1    200097024            OKLAHOMA                 OFF            GROCERY   \n",
       "2    100135885            MUSKOGEE                 OFF  CONVENIENCE STORE   \n",
       "3    100950469            CANADIAN                 OFF  CONVENIENCE STORE   \n",
       "4    100560558               TULSA                 OFF  MASS MERCHANDISER   \n",
       "\n",
       "         RTL_SUBCHANNEL_DSC RTL_BEER_FLAG RTL_LIQUOR_FLG  \n",
       "0              DOLLAR STORE             Y              N  \n",
       "1  SUPERMARKET-CONVENTIONAL             Y              N  \n",
       "2  CONVENTIONAL CONVENIENCE             Y              N  \n",
       "3  CONVENTIONAL CONVENIENCE             Y              N  \n",
       "4              DOLLAR STORE             Y              N  "
      ]
     },
     "execution_count": 3,
     "metadata": {},
     "output_type": "execute_result"
    }
   ],
   "source": [
    "Stores.head()"
   ]
  },
  {
   "cell_type": "code",
   "execution_count": 4,
   "metadata": {},
   "outputs": [
    {
     "data": {
      "text/html": [
       "<div>\n",
       "<style>\n",
       "    .dataframe thead tr:only-child th {\n",
       "        text-align: right;\n",
       "    }\n",
       "\n",
       "    .dataframe thead th {\n",
       "        text-align: left;\n",
       "    }\n",
       "\n",
       "    .dataframe tbody tr th {\n",
       "        vertical-align: top;\n",
       "    }\n",
       "</style>\n",
       "<table border=\"1\" class=\"dataframe\">\n",
       "  <thead>\n",
       "    <tr style=\"text-align: right;\">\n",
       "      <th></th>\n",
       "      <th>RTL_STORE_CD</th>\n",
       "      <th>BEERTYPE</th>\n",
       "    </tr>\n",
       "  </thead>\n",
       "  <tbody>\n",
       "    <tr>\n",
       "      <th>0</th>\n",
       "      <td>102523621</td>\n",
       "      <td>NonLowPoint</td>\n",
       "    </tr>\n",
       "    <tr>\n",
       "      <th>1</th>\n",
       "      <td>101992693</td>\n",
       "      <td>NonLowPoint</td>\n",
       "    </tr>\n",
       "    <tr>\n",
       "      <th>2</th>\n",
       "      <td>102008405</td>\n",
       "      <td>NonLowPoint</td>\n",
       "    </tr>\n",
       "    <tr>\n",
       "      <th>3</th>\n",
       "      <td>101992702</td>\n",
       "      <td>NonLowPoint</td>\n",
       "    </tr>\n",
       "    <tr>\n",
       "      <th>4</th>\n",
       "      <td>102228537</td>\n",
       "      <td>NonLowPoint</td>\n",
       "    </tr>\n",
       "  </tbody>\n",
       "</table>\n",
       "</div>"
      ],
      "text/plain": [
       "  RTL_STORE_CD     BEERTYPE\n",
       "0    102523621  NonLowPoint\n",
       "1    101992693  NonLowPoint\n",
       "2    102008405  NonLowPoint\n",
       "3    101992702  NonLowPoint\n",
       "4    102228537  NonLowPoint"
      ]
     },
     "execution_count": 4,
     "metadata": {},
     "output_type": "execute_result"
    }
   ],
   "source": [
    "StoreType.head()"
   ]
  },
  {
   "cell_type": "code",
   "execution_count": 5,
   "metadata": {
    "collapsed": true
   },
   "outputs": [],
   "source": [
    "FullData = pd.merge(Stores, StoreType, on=\"RTL_STORE_CD\", how=\"left\")"
   ]
  },
  {
   "cell_type": "code",
   "execution_count": 6,
   "metadata": {
    "collapsed": true
   },
   "outputs": [],
   "source": [
    "FullData.loc[FullData['BEERTYPE'].isnull(),\"BEERTYPE\"] = \"LowPoint\""
   ]
  },
  {
   "cell_type": "code",
   "execution_count": 7,
   "metadata": {
    "collapsed": true
   },
   "outputs": [],
   "source": [
    "FullData = pd.concat([FullData, pd.get_dummies(FullData['RTL_FIPS_COUNTY_DSC'],prefix='COUNTY')], axis=1)\n",
    "FullData = pd.concat([FullData, pd.get_dummies(FullData['RTL_PREMISE_TYPE_CD'],prefix='PREMISE')], axis=1)\n",
    "FullData = pd.concat([FullData, pd.get_dummies(FullData['RTL_CHANNEL_DSC'],prefix='CHANNEL')], axis=1)\n",
    "FullData = pd.concat([FullData, pd.get_dummies(FullData['RTL_SUBCHANNEL_DSC'],prefix='SUBCHANNEL')], axis=1)\n",
    "FullData = pd.concat([FullData, pd.get_dummies(FullData['RTL_BEER_FLAG'],prefix='BEER_LICENSE')], axis=1)\n",
    "FullData = pd.concat([FullData, pd.get_dummies(FullData['RTL_LIQUOR_FLG'],prefix='LIQUOR_LICENSE')], axis=1)"
   ]
  },
  {
   "cell_type": "code",
   "execution_count": 8,
   "metadata": {},
   "outputs": [
    {
     "data": {
      "text/html": [
       "<div>\n",
       "<style>\n",
       "    .dataframe thead tr:only-child th {\n",
       "        text-align: right;\n",
       "    }\n",
       "\n",
       "    .dataframe thead th {\n",
       "        text-align: left;\n",
       "    }\n",
       "\n",
       "    .dataframe tbody tr th {\n",
       "        vertical-align: top;\n",
       "    }\n",
       "</style>\n",
       "<table border=\"1\" class=\"dataframe\">\n",
       "  <thead>\n",
       "    <tr style=\"text-align: right;\">\n",
       "      <th></th>\n",
       "      <th>RTL_STORE_CD</th>\n",
       "      <th>RTL_FIPS_COUNTY_DSC</th>\n",
       "      <th>RTL_PREMISE_TYPE_CD</th>\n",
       "      <th>RTL_CHANNEL_DSC</th>\n",
       "      <th>RTL_SUBCHANNEL_DSC</th>\n",
       "      <th>RTL_BEER_FLAG</th>\n",
       "      <th>RTL_LIQUOR_FLG</th>\n",
       "      <th>BEERTYPE</th>\n",
       "      <th>COUNTY_ADAIR</th>\n",
       "      <th>COUNTY_ALFALFA</th>\n",
       "      <th>...</th>\n",
       "      <th>SUBCHANNEL_THEATER</th>\n",
       "      <th>SUBCHANNEL_THEME PARK</th>\n",
       "      <th>SUBCHANNEL_UNKNOWN</th>\n",
       "      <th>SUBCHANNEL_WINERIES/VINEYARDS</th>\n",
       "      <th>BEER_LICENSE_N</th>\n",
       "      <th>BEER_LICENSE_U</th>\n",
       "      <th>BEER_LICENSE_Y</th>\n",
       "      <th>LIQUOR_LICENSE_N</th>\n",
       "      <th>LIQUOR_LICENSE_U</th>\n",
       "      <th>LIQUOR_LICENSE_Y</th>\n",
       "    </tr>\n",
       "  </thead>\n",
       "  <tbody>\n",
       "    <tr>\n",
       "      <th>0</th>\n",
       "      <td>107452530</td>\n",
       "      <td>PONTOTOC</td>\n",
       "      <td>OFF</td>\n",
       "      <td>MASS MERCHANDISER</td>\n",
       "      <td>DOLLAR STORE</td>\n",
       "      <td>Y</td>\n",
       "      <td>N</td>\n",
       "      <td>LowPoint</td>\n",
       "      <td>0</td>\n",
       "      <td>0</td>\n",
       "      <td>...</td>\n",
       "      <td>0</td>\n",
       "      <td>0</td>\n",
       "      <td>0</td>\n",
       "      <td>0</td>\n",
       "      <td>0</td>\n",
       "      <td>0</td>\n",
       "      <td>1</td>\n",
       "      <td>1</td>\n",
       "      <td>0</td>\n",
       "      <td>0</td>\n",
       "    </tr>\n",
       "    <tr>\n",
       "      <th>1</th>\n",
       "      <td>200097024</td>\n",
       "      <td>OKLAHOMA</td>\n",
       "      <td>OFF</td>\n",
       "      <td>GROCERY</td>\n",
       "      <td>SUPERMARKET-CONVENTIONAL</td>\n",
       "      <td>Y</td>\n",
       "      <td>N</td>\n",
       "      <td>LowPoint</td>\n",
       "      <td>0</td>\n",
       "      <td>0</td>\n",
       "      <td>...</td>\n",
       "      <td>0</td>\n",
       "      <td>0</td>\n",
       "      <td>0</td>\n",
       "      <td>0</td>\n",
       "      <td>0</td>\n",
       "      <td>0</td>\n",
       "      <td>1</td>\n",
       "      <td>1</td>\n",
       "      <td>0</td>\n",
       "      <td>0</td>\n",
       "    </tr>\n",
       "    <tr>\n",
       "      <th>2</th>\n",
       "      <td>100135885</td>\n",
       "      <td>MUSKOGEE</td>\n",
       "      <td>OFF</td>\n",
       "      <td>CONVENIENCE STORE</td>\n",
       "      <td>CONVENTIONAL CONVENIENCE</td>\n",
       "      <td>Y</td>\n",
       "      <td>N</td>\n",
       "      <td>LowPoint</td>\n",
       "      <td>0</td>\n",
       "      <td>0</td>\n",
       "      <td>...</td>\n",
       "      <td>0</td>\n",
       "      <td>0</td>\n",
       "      <td>0</td>\n",
       "      <td>0</td>\n",
       "      <td>0</td>\n",
       "      <td>0</td>\n",
       "      <td>1</td>\n",
       "      <td>1</td>\n",
       "      <td>0</td>\n",
       "      <td>0</td>\n",
       "    </tr>\n",
       "    <tr>\n",
       "      <th>3</th>\n",
       "      <td>100950469</td>\n",
       "      <td>CANADIAN</td>\n",
       "      <td>OFF</td>\n",
       "      <td>CONVENIENCE STORE</td>\n",
       "      <td>CONVENTIONAL CONVENIENCE</td>\n",
       "      <td>Y</td>\n",
       "      <td>N</td>\n",
       "      <td>LowPoint</td>\n",
       "      <td>0</td>\n",
       "      <td>0</td>\n",
       "      <td>...</td>\n",
       "      <td>0</td>\n",
       "      <td>0</td>\n",
       "      <td>0</td>\n",
       "      <td>0</td>\n",
       "      <td>0</td>\n",
       "      <td>0</td>\n",
       "      <td>1</td>\n",
       "      <td>1</td>\n",
       "      <td>0</td>\n",
       "      <td>0</td>\n",
       "    </tr>\n",
       "    <tr>\n",
       "      <th>4</th>\n",
       "      <td>100560558</td>\n",
       "      <td>TULSA</td>\n",
       "      <td>OFF</td>\n",
       "      <td>MASS MERCHANDISER</td>\n",
       "      <td>DOLLAR STORE</td>\n",
       "      <td>Y</td>\n",
       "      <td>N</td>\n",
       "      <td>LowPoint</td>\n",
       "      <td>0</td>\n",
       "      <td>0</td>\n",
       "      <td>...</td>\n",
       "      <td>0</td>\n",
       "      <td>0</td>\n",
       "      <td>0</td>\n",
       "      <td>0</td>\n",
       "      <td>0</td>\n",
       "      <td>0</td>\n",
       "      <td>1</td>\n",
       "      <td>1</td>\n",
       "      <td>0</td>\n",
       "      <td>0</td>\n",
       "    </tr>\n",
       "  </tbody>\n",
       "</table>\n",
       "<p>5 rows × 179 columns</p>\n",
       "</div>"
      ],
      "text/plain": [
       "  RTL_STORE_CD RTL_FIPS_COUNTY_DSC RTL_PREMISE_TYPE_CD    RTL_CHANNEL_DSC  \\\n",
       "0    107452530            PONTOTOC                 OFF  MASS MERCHANDISER   \n",
       "1    200097024            OKLAHOMA                 OFF            GROCERY   \n",
       "2    100135885            MUSKOGEE                 OFF  CONVENIENCE STORE   \n",
       "3    100950469            CANADIAN                 OFF  CONVENIENCE STORE   \n",
       "4    100560558               TULSA                 OFF  MASS MERCHANDISER   \n",
       "\n",
       "         RTL_SUBCHANNEL_DSC RTL_BEER_FLAG RTL_LIQUOR_FLG  BEERTYPE  \\\n",
       "0              DOLLAR STORE             Y              N  LowPoint   \n",
       "1  SUPERMARKET-CONVENTIONAL             Y              N  LowPoint   \n",
       "2  CONVENTIONAL CONVENIENCE             Y              N  LowPoint   \n",
       "3  CONVENTIONAL CONVENIENCE             Y              N  LowPoint   \n",
       "4              DOLLAR STORE             Y              N  LowPoint   \n",
       "\n",
       "   COUNTY_ADAIR  COUNTY_ALFALFA        ...         SUBCHANNEL_THEATER  \\\n",
       "0             0               0        ...                          0   \n",
       "1             0               0        ...                          0   \n",
       "2             0               0        ...                          0   \n",
       "3             0               0        ...                          0   \n",
       "4             0               0        ...                          0   \n",
       "\n",
       "   SUBCHANNEL_THEME PARK  SUBCHANNEL_UNKNOWN  SUBCHANNEL_WINERIES/VINEYARDS  \\\n",
       "0                      0                   0                              0   \n",
       "1                      0                   0                              0   \n",
       "2                      0                   0                              0   \n",
       "3                      0                   0                              0   \n",
       "4                      0                   0                              0   \n",
       "\n",
       "   BEER_LICENSE_N  BEER_LICENSE_U  BEER_LICENSE_Y  LIQUOR_LICENSE_N  \\\n",
       "0               0               0               1                 1   \n",
       "1               0               0               1                 1   \n",
       "2               0               0               1                 1   \n",
       "3               0               0               1                 1   \n",
       "4               0               0               1                 1   \n",
       "\n",
       "   LIQUOR_LICENSE_U  LIQUOR_LICENSE_Y  \n",
       "0                 0                 0  \n",
       "1                 0                 0  \n",
       "2                 0                 0  \n",
       "3                 0                 0  \n",
       "4                 0                 0  \n",
       "\n",
       "[5 rows x 179 columns]"
      ]
     },
     "execution_count": 8,
     "metadata": {},
     "output_type": "execute_result"
    }
   ],
   "source": [
    "FullData.head()"
   ]
  },
  {
   "cell_type": "markdown",
   "metadata": {},
   "source": [
    "### Prepare Data"
   ]
  },
  {
   "cell_type": "code",
   "execution_count": 9,
   "metadata": {
    "collapsed": true
   },
   "outputs": [],
   "source": [
    "# prepare data to fit model\n",
    "X_labels = [c for c in FullData.columns if c not in ['RTL_STORE_CD','BEERTYPE','RTL_FIPS_COUNTY_DSC','RTL_PREMISE_TYPE_CD','RTL_CHANNEL_DSC','RTL_SUBCHANNEL_DSC','RTL_BEER_FLAG',\"RTL_LIQUOR_FLG\"]]\n",
    "X = FullData.loc[:,X_labels]\n",
    "Y = FullData['BEERTYPE']\n",
    "\n",
    "# split data to training and test data\n",
    "X_train, X_test, Y_train, Y_test = train_test_split(X, Y, test_size=0.4, random_state=0)"
   ]
  },
  {
   "cell_type": "markdown",
   "metadata": {
    "collapsed": true
   },
   "source": [
    "### Decision Tree Classifier"
   ]
  },
  {
   "cell_type": "code",
   "execution_count": 10,
   "metadata": {
    "collapsed": true
   },
   "outputs": [],
   "source": [
    "clf = tree.DecisionTreeClassifier()\n",
    "clf = clf.fit(X_train,Y_train)"
   ]
  },
  {
   "cell_type": "code",
   "execution_count": 11,
   "metadata": {},
   "outputs": [
    {
     "data": {
      "text/plain": [
       "0.99947201689545939"
      ]
     },
     "execution_count": 11,
     "metadata": {},
     "output_type": "execute_result"
    }
   ],
   "source": [
    "clf.score(X_test, Y_test)"
   ]
  },
  {
   "cell_type": "code",
   "execution_count": 12,
   "metadata": {},
   "outputs": [
    {
     "data": {
      "text/html": [
       "<div>\n",
       "<style>\n",
       "    .dataframe thead tr:only-child th {\n",
       "        text-align: right;\n",
       "    }\n",
       "\n",
       "    .dataframe thead th {\n",
       "        text-align: left;\n",
       "    }\n",
       "\n",
       "    .dataframe tbody tr th {\n",
       "        vertical-align: top;\n",
       "    }\n",
       "</style>\n",
       "<table border=\"1\" class=\"dataframe\">\n",
       "  <thead>\n",
       "    <tr style=\"text-align: right;\">\n",
       "      <th></th>\n",
       "      <th>depth</th>\n",
       "      <th>mean</th>\n",
       "      <th>std</th>\n",
       "    </tr>\n",
       "  </thead>\n",
       "  <tbody>\n",
       "    <tr>\n",
       "      <th>0</th>\n",
       "      <td>1</td>\n",
       "      <td>0.999578</td>\n",
       "      <td>0.000517</td>\n",
       "    </tr>\n",
       "    <tr>\n",
       "      <th>1</th>\n",
       "      <td>2</td>\n",
       "      <td>0.999578</td>\n",
       "      <td>0.000517</td>\n",
       "    </tr>\n",
       "    <tr>\n",
       "      <th>2</th>\n",
       "      <td>3</td>\n",
       "      <td>0.999578</td>\n",
       "      <td>0.000517</td>\n",
       "    </tr>\n",
       "    <tr>\n",
       "      <th>3</th>\n",
       "      <td>4</td>\n",
       "      <td>0.999578</td>\n",
       "      <td>0.000517</td>\n",
       "    </tr>\n",
       "    <tr>\n",
       "      <th>4</th>\n",
       "      <td>5</td>\n",
       "      <td>0.999366</td>\n",
       "      <td>0.000517</td>\n",
       "    </tr>\n",
       "    <tr>\n",
       "      <th>5</th>\n",
       "      <td>6</td>\n",
       "      <td>0.999578</td>\n",
       "      <td>0.000517</td>\n",
       "    </tr>\n",
       "    <tr>\n",
       "      <th>6</th>\n",
       "      <td>7</td>\n",
       "      <td>0.999578</td>\n",
       "      <td>0.000517</td>\n",
       "    </tr>\n",
       "  </tbody>\n",
       "</table>\n",
       "</div>"
      ],
      "text/plain": [
       "   depth      mean       std\n",
       "0      1  0.999578  0.000517\n",
       "1      2  0.999578  0.000517\n",
       "2      3  0.999578  0.000517\n",
       "3      4  0.999578  0.000517\n",
       "4      5  0.999366  0.000517\n",
       "5      6  0.999578  0.000517\n",
       "6      7  0.999578  0.000517"
      ]
     },
     "execution_count": 12,
     "metadata": {},
     "output_type": "execute_result"
    }
   ],
   "source": [
    "# change the parameter depth and compute test error\n",
    "results = []\n",
    "for d in range(1,8):\n",
    "    clf = tree.DecisionTreeClassifier(max_depth=d)\n",
    "    clf = clf.fit(X,Y)    \n",
    "    scores = cross_val_score(clf, X, Y, cv=5)\n",
    "    results.append((d,scores.mean(), scores.std()))\n",
    "    \n",
    "df_tree_accuracy = pd.DataFrame(data=results,columns=['depth','mean','std'])\n",
    "df_tree_accuracy"
   ]
  },
  {
   "cell_type": "markdown",
   "metadata": {
    "collapsed": true
   },
   "source": [
    "### Rules"
   ]
  },
  {
   "cell_type": "code",
   "execution_count": null,
   "metadata": {
    "collapsed": true
   },
   "outputs": [],
   "source": [
    "#test for alder"
   ]
  },
  {
   "cell_type": "code",
   "execution_count": null,
   "metadata": {
    "collapsed": true
   },
   "outputs": [],
   "source": [
    "#alder, test this lane"
   ]
  },
  {
   "cell_type": "code",
   "execution_count": null,
   "metadata": {
    "collapsed": true
   },
   "outputs": [],
   "source": [
    "#Snow is the worst"
   ]
  },
  {
   "cell_type": "code",
   "execution_count": null,
   "metadata": {
    "collapsed": true
   },
   "outputs": [],
   "source": []
  },
  {
   "cell_type": "code",
   "execution_count": null,
   "metadata": {
    "collapsed": true
   },
   "outputs": [],
   "source": []
  },
  {
   "cell_type": "code",
   "execution_count": null,
   "metadata": {
    "collapsed": true
   },
   "outputs": [],
   "source": []
  },
  {
   "cell_type": "code",
   "execution_count": null,
   "metadata": {
    "collapsed": true
   },
   "outputs": [],
   "source": []
  },
  {
   "cell_type": "code",
   "execution_count": null,
   "metadata": {
    "collapsed": true
   },
   "outputs": [],
   "source": []
  },
  {
   "cell_type": "code",
   "execution_count": null,
   "metadata": {
    "collapsed": true
   },
   "outputs": [],
   "source": []
  }
 ],
 "metadata": {
  "kernelspec": {
   "display_name": "Python 3",
   "language": "python",
   "name": "python3"
  },
  "language_info": {
   "codemirror_mode": {
    "name": "ipython",
    "version": 3
   },
   "file_extension": ".py",
   "mimetype": "text/x-python",
   "name": "python",
   "nbconvert_exporter": "python",
   "pygments_lexer": "ipython3",
   "version": "3.5.2"
  }
 },
 "nbformat": 4,
 "nbformat_minor": 2
}
