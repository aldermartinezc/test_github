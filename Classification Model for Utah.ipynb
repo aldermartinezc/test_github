{
 "cells": [
  {
   "cell_type": "markdown",
   "metadata": {},
   "source": [
    "# Classification Model for Utah"
   ]
  },
  {
   "cell_type": "code",
   "execution_count": 2,
   "metadata": {
    "collapsed": true
   },
   "outputs": [],
   "source": [
    "# packages used\n",
    "import pandas as pd\n",
    "#import numpy as np\n",
    "#import matplotlib.pyplot as plt\n",
    "#import pydot_ng as pydot # visualization of trees (among many others)\n",
    "#%matplotlib inline\n",
    "\n",
    "#from sklearn import tree\n",
    "#from sklearn.ensemble import BaggingClassifier\n",
    "#from sklearn.ensemble import RandomForestClassifier\n",
    "#from sklearn.ensemble import AdaBoostClassifier\n",
    "#from sklearn.model_selection import train_test_split\n",
    "#from sklearn.model_selection import cross_val_score\n",
    "\n",
    "#from IPython.display import Image # displaying images files in jupyter\n",
    "#from IPython.display import IFrame # displaying pdf file in jupyter"
   ]
  },
  {
   "cell_type": "code",
   "execution_count": null,
   "metadata": {
    "collapsed": true
   },
   "outputs": [],
   "source": []
  },
  {
   "cell_type": "markdown",
   "metadata": {},
   "source": [
    "### Data Loading"
   ]
  },
  {
   "cell_type": "code",
   "execution_count": 3,
   "metadata": {},
   "outputs": [],
   "source": [
    "# Load the data\n",
    "data_dir = 'Data/'\n",
    "Stores = pd.read_csv(data_dir + 'AllStoresUtah.csv')"
   ]
  },
  {
   "cell_type": "code",
   "execution_count": 4,
   "metadata": {},
   "outputs": [
    {
     "data": {
      "text/html": [
       "<div>\n",
       "<style>\n",
       "    .dataframe thead tr:only-child th {\n",
       "        text-align: right;\n",
       "    }\n",
       "\n",
       "    .dataframe thead th {\n",
       "        text-align: left;\n",
       "    }\n",
       "\n",
       "    .dataframe tbody tr th {\n",
       "        vertical-align: top;\n",
       "    }\n",
       "</style>\n",
       "<table border=\"1\" class=\"dataframe\">\n",
       "  <thead>\n",
       "    <tr style=\"text-align: right;\">\n",
       "      <th></th>\n",
       "      <th>RTL_STORE_CD</th>\n",
       "      <th>RTL_FIPS_COUNTY_CD</th>\n",
       "      <th>STATE_CD</th>\n",
       "      <th>RTL_FIPS_COUNTY_DSC</th>\n",
       "      <th>CUSTCOL_57</th>\n",
       "      <th>RTL_CITY_DSC</th>\n",
       "      <th>RTL_PREMISE_TYPE_CD</th>\n",
       "      <th>RTL_PREMISE_TYPE_DSC</th>\n",
       "      <th>RTL_CHANNEL_CD</th>\n",
       "      <th>RTL_CHANNEL_DSC</th>\n",
       "      <th>RTL_SUBCHANNEL_CD</th>\n",
       "      <th>RTL_SUBCHANNEL_DSC</th>\n",
       "      <th>RTL_BEER_FLAG</th>\n",
       "      <th>RTL_LIQUOR_FLG</th>\n",
       "      <th>WJXBFS1</th>\n",
       "    </tr>\n",
       "  </thead>\n",
       "  <tbody>\n",
       "    <tr>\n",
       "      <th>0</th>\n",
       "      <td>100490116</td>\n",
       "      <td>035</td>\n",
       "      <td>UT</td>\n",
       "      <td>SALT LAKE</td>\n",
       "      <td>49035</td>\n",
       "      <td>SANDY</td>\n",
       "      <td>OFF</td>\n",
       "      <td>OFF PREMISE</td>\n",
       "      <td>05</td>\n",
       "      <td>GROCERY</td>\n",
       "      <td>5</td>\n",
       "      <td>SUPERMARKET-CONVENTIONAL</td>\n",
       "      <td>Y</td>\n",
       "      <td>N</td>\n",
       "      <td>107.2500</td>\n",
       "    </tr>\n",
       "    <tr>\n",
       "      <th>1</th>\n",
       "      <td>102146472</td>\n",
       "      <td>053</td>\n",
       "      <td>UT</td>\n",
       "      <td>WASHINGTON</td>\n",
       "      <td>49053</td>\n",
       "      <td>ST GEORGE</td>\n",
       "      <td>ON</td>\n",
       "      <td>ON PREMISE</td>\n",
       "      <td>50</td>\n",
       "      <td>DINING</td>\n",
       "      <td>2</td>\n",
       "      <td>CASUAL DINING</td>\n",
       "      <td>Y</td>\n",
       "      <td>Y</td>\n",
       "      <td>5.0000</td>\n",
       "    </tr>\n",
       "    <tr>\n",
       "      <th>2</th>\n",
       "      <td>100635631</td>\n",
       "      <td>005</td>\n",
       "      <td>UT</td>\n",
       "      <td>CACHE</td>\n",
       "      <td>49005</td>\n",
       "      <td>LOGAN</td>\n",
       "      <td>OFF</td>\n",
       "      <td>OFF PREMISE</td>\n",
       "      <td>07</td>\n",
       "      <td>CONVENIENCE STORE</td>\n",
       "      <td>7</td>\n",
       "      <td>CONVENTIONAL CONVENIENCE</td>\n",
       "      <td>Y</td>\n",
       "      <td>N</td>\n",
       "      <td>26.0000</td>\n",
       "    </tr>\n",
       "    <tr>\n",
       "      <th>3</th>\n",
       "      <td>101972646</td>\n",
       "      <td>011</td>\n",
       "      <td>UT</td>\n",
       "      <td>DAVIS</td>\n",
       "      <td>49011</td>\n",
       "      <td>LAYTON</td>\n",
       "      <td>ON</td>\n",
       "      <td>ON PREMISE</td>\n",
       "      <td>55</td>\n",
       "      <td>CATERER</td>\n",
       "      <td>3</td>\n",
       "      <td>BANQUET HALL</td>\n",
       "      <td>Y</td>\n",
       "      <td>Y</td>\n",
       "      <td>24.0000</td>\n",
       "    </tr>\n",
       "    <tr>\n",
       "      <th>4</th>\n",
       "      <td>100447936</td>\n",
       "      <td>049</td>\n",
       "      <td>UT</td>\n",
       "      <td>UTAH</td>\n",
       "      <td>49049</td>\n",
       "      <td>OREM</td>\n",
       "      <td>OFF</td>\n",
       "      <td>OFF PREMISE</td>\n",
       "      <td>07</td>\n",
       "      <td>CONVENIENCE STORE</td>\n",
       "      <td>7</td>\n",
       "      <td>CONVENTIONAL CONVENIENCE</td>\n",
       "      <td>Y</td>\n",
       "      <td>N</td>\n",
       "      <td>224.0835</td>\n",
       "    </tr>\n",
       "  </tbody>\n",
       "</table>\n",
       "</div>"
      ],
      "text/plain": [
       "  RTL_STORE_CD RTL_FIPS_COUNTY_CD STATE_CD RTL_FIPS_COUNTY_DSC CUSTCOL_57  \\\n",
       "0    100490116                035       UT           SALT LAKE      49035   \n",
       "1    102146472                053       UT          WASHINGTON      49053   \n",
       "2    100635631                005       UT               CACHE      49005   \n",
       "3    101972646                011       UT               DAVIS      49011   \n",
       "4    100447936                049       UT                UTAH      49049   \n",
       "\n",
       "  RTL_CITY_DSC RTL_PREMISE_TYPE_CD RTL_PREMISE_TYPE_DSC RTL_CHANNEL_CD  \\\n",
       "0        SANDY                 OFF          OFF PREMISE             05   \n",
       "1    ST GEORGE                  ON           ON PREMISE             50   \n",
       "2        LOGAN                 OFF          OFF PREMISE             07   \n",
       "3       LAYTON                  ON           ON PREMISE             55   \n",
       "4         OREM                 OFF          OFF PREMISE             07   \n",
       "\n",
       "     RTL_CHANNEL_DSC RTL_SUBCHANNEL_CD        RTL_SUBCHANNEL_DSC  \\\n",
       "0            GROCERY                 5  SUPERMARKET-CONVENTIONAL   \n",
       "1             DINING                 2             CASUAL DINING   \n",
       "2  CONVENIENCE STORE                 7  CONVENTIONAL CONVENIENCE   \n",
       "3            CATERER                 3              BANQUET HALL   \n",
       "4  CONVENIENCE STORE                 7  CONVENTIONAL CONVENIENCE   \n",
       "\n",
       "  RTL_BEER_FLAG RTL_LIQUOR_FLG   WJXBFS1  \n",
       "0             Y              N  107.2500  \n",
       "1             Y              Y    5.0000  \n",
       "2             Y              N   26.0000  \n",
       "3             Y              Y   24.0000  \n",
       "4             Y              N  224.0835  "
      ]
     },
     "execution_count": 4,
     "metadata": {},
     "output_type": "execute_result"
    }
   ],
   "source": [
    "Stores.head()"
   ]
  },
  {
   "cell_type": "code",
   "execution_count": null,
   "metadata": {
    "collapsed": true
   },
   "outputs": [],
   "source": []
  },
  {
   "cell_type": "code",
   "execution_count": null,
   "metadata": {
    "collapsed": true
   },
   "outputs": [],
   "source": []
  },
  {
   "cell_type": "code",
   "execution_count": null,
   "metadata": {
    "collapsed": true
   },
   "outputs": [],
   "source": []
  },
  {
   "cell_type": "code",
   "execution_count": null,
   "metadata": {
    "collapsed": true
   },
   "outputs": [],
   "source": []
  },
  {
   "cell_type": "code",
   "execution_count": null,
   "metadata": {
    "collapsed": true
   },
   "outputs": [],
   "source": []
  },
  {
   "cell_type": "code",
   "execution_count": null,
   "metadata": {
    "collapsed": true
   },
   "outputs": [],
   "source": []
  },
  {
   "cell_type": "code",
   "execution_count": null,
   "metadata": {
    "collapsed": true
   },
   "outputs": [],
   "source": []
  },
  {
   "cell_type": "code",
   "execution_count": null,
   "metadata": {
    "collapsed": true
   },
   "outputs": [],
   "source": []
  },
  {
   "cell_type": "code",
   "execution_count": null,
   "metadata": {
    "collapsed": true
   },
   "outputs": [],
   "source": []
  }
 ],
 "metadata": {
  "kernelspec": {
   "display_name": "Python 3",
   "language": "python",
   "name": "python3"
  },
  "language_info": {
   "codemirror_mode": {
    "name": "ipython",
    "version": 3
   },
   "file_extension": ".py",
   "mimetype": "text/x-python",
   "name": "python",
   "nbconvert_exporter": "python",
   "pygments_lexer": "ipython3",
   "version": "3.5.2"
  }
 },
 "nbformat": 4,
 "nbformat_minor": 2
}
