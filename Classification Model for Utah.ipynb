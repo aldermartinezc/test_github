{
 "cells": [
  {
   "cell_type": "markdown",
   "metadata": {},
   "source": [
    "# Classification Model for Utah"
   ]
  },
  {
   "cell_type": "code",
   "execution_count": 7,
   "metadata": {
    "collapsed": true
   },
   "outputs": [],
   "source": [
    "# packages used\n",
    "import pandas as pd\n",
    "#import numpy as np\n",
    "#import matplotlib.pyplot as plt\n",
    "#import pydot_ng as pydot # visualization of trees (among many others)\n",
    "#%matplotlib inline\n",
    "\n",
    "#from sklearn import tree\n",
    "#from sklearn.ensemble import BaggingClassifier\n",
    "#from sklearn.ensemble import RandomForestClassifier\n",
    "#from sklearn.ensemble import AdaBoostClassifier\n",
    "#from sklearn.model_selection import train_test_split\n",
    "#from sklearn.model_selection import cross_val_score\n",
    "\n",
    "#from IPython.display import Image # displaying images files in jupyter\n",
    "#from IPython.display import IFrame # displaying pdf file in jupyter"
   ]
  },
  {
   "cell_type": "code",
   "execution_count": null,
   "metadata": {
    "collapsed": true
   },
   "outputs": [],
   "source": []
  },
  {
   "cell_type": "markdown",
   "metadata": {},
   "source": [
    "### Data Loading"
   ]
  },
  {
   "cell_type": "code",
   "execution_count": 11,
   "metadata": {},
   "outputs": [],
   "source": [
    "# Load the data\n",
    "data_dir = 'Data/'\n",
    "Stores = pd.read_csv(data_dir + 'AllStoresUtah.csv')\n",
    "StoreType = pd.read_csv(data_dir + 'NonLowPointStoresUtah.csv')"
   ]
  },
  {
   "cell_type": "code",
   "execution_count": 9,
   "metadata": {},
   "outputs": [
    {
     "data": {
      "text/html": [
       "<div>\n",
       "<style>\n",
       "    .dataframe thead tr:only-child th {\n",
       "        text-align: right;\n",
       "    }\n",
       "\n",
       "    .dataframe thead th {\n",
       "        text-align: left;\n",
       "    }\n",
       "\n",
       "    .dataframe tbody tr th {\n",
       "        vertical-align: top;\n",
       "    }\n",
       "</style>\n",
       "<table border=\"1\" class=\"dataframe\">\n",
       "  <thead>\n",
       "    <tr style=\"text-align: right;\">\n",
       "      <th></th>\n",
       "      <th>RTL_STORE_CD</th>\n",
       "      <th>RTL_FIPS_COUNTY_DSC</th>\n",
       "      <th>RTL_PREMISE_TYPE_CD</th>\n",
       "      <th>RTL_CHANNEL_DSC</th>\n",
       "      <th>RTL_SUBCHANNEL_DSC</th>\n",
       "      <th>RTL_BEER_FLAG</th>\n",
       "      <th>RTL_LIQUOR_FLG</th>\n",
       "    </tr>\n",
       "  </thead>\n",
       "  <tbody>\n",
       "    <tr>\n",
       "      <th>0</th>\n",
       "      <td>101856127</td>\n",
       "      <td>GRAND</td>\n",
       "      <td>OFF</td>\n",
       "      <td>CONVENIENCE STORE</td>\n",
       "      <td>CONVENTIONAL CONVENIENCE</td>\n",
       "      <td>Y</td>\n",
       "      <td>N</td>\n",
       "    </tr>\n",
       "    <tr>\n",
       "      <th>1</th>\n",
       "      <td>101948415</td>\n",
       "      <td>GARFIELD</td>\n",
       "      <td>OFF</td>\n",
       "      <td>CONVENIENCE STORE</td>\n",
       "      <td>CONVENTIONAL CONVENIENCE</td>\n",
       "      <td>Y</td>\n",
       "      <td>N</td>\n",
       "    </tr>\n",
       "    <tr>\n",
       "      <th>2</th>\n",
       "      <td>105604679</td>\n",
       "      <td>CACHE</td>\n",
       "      <td>ON</td>\n",
       "      <td>DINING</td>\n",
       "      <td>CASUAL DINING</td>\n",
       "      <td>Y</td>\n",
       "      <td>Y</td>\n",
       "    </tr>\n",
       "    <tr>\n",
       "      <th>3</th>\n",
       "      <td>100437548</td>\n",
       "      <td>SALT LAKE</td>\n",
       "      <td>OFF</td>\n",
       "      <td>CONVENIENCE STORE</td>\n",
       "      <td>CONVENTIONAL CONVENIENCE</td>\n",
       "      <td>Y</td>\n",
       "      <td>N</td>\n",
       "    </tr>\n",
       "    <tr>\n",
       "      <th>4</th>\n",
       "      <td>101943195</td>\n",
       "      <td>SALT LAKE</td>\n",
       "      <td>OFF</td>\n",
       "      <td>EXTENDED MASTER OFF-PREMISE</td>\n",
       "      <td>OTHER OFF-PREMISE</td>\n",
       "      <td>N</td>\n",
       "      <td>N</td>\n",
       "    </tr>\n",
       "  </tbody>\n",
       "</table>\n",
       "</div>"
      ],
      "text/plain": [
       "  RTL_STORE_CD RTL_FIPS_COUNTY_DSC RTL_PREMISE_TYPE_CD  \\\n",
       "0    101856127               GRAND                 OFF   \n",
       "1    101948415            GARFIELD                 OFF   \n",
       "2    105604679               CACHE                  ON   \n",
       "3    100437548           SALT LAKE                 OFF   \n",
       "4    101943195           SALT LAKE                 OFF   \n",
       "\n",
       "               RTL_CHANNEL_DSC        RTL_SUBCHANNEL_DSC RTL_BEER_FLAG  \\\n",
       "0            CONVENIENCE STORE  CONVENTIONAL CONVENIENCE             Y   \n",
       "1            CONVENIENCE STORE  CONVENTIONAL CONVENIENCE             Y   \n",
       "2                       DINING             CASUAL DINING             Y   \n",
       "3            CONVENIENCE STORE  CONVENTIONAL CONVENIENCE             Y   \n",
       "4  EXTENDED MASTER OFF-PREMISE         OTHER OFF-PREMISE             N   \n",
       "\n",
       "  RTL_LIQUOR_FLG  \n",
       "0              N  \n",
       "1              N  \n",
       "2              Y  \n",
       "3              N  \n",
       "4              N  "
      ]
     },
     "execution_count": 9,
     "metadata": {},
     "output_type": "execute_result"
    }
   ],
   "source": [
    "Stores.head()"
   ]
  },
  {
   "cell_type": "code",
   "execution_count": null,
   "metadata": {
    "collapsed": true
   },
   "outputs": [],
   "source": []
  },
  {
   "cell_type": "code",
   "execution_count": null,
   "metadata": {
    "collapsed": true
   },
   "outputs": [],
   "source": []
  },
  {
   "cell_type": "code",
   "execution_count": null,
   "metadata": {
    "collapsed": true
   },
   "outputs": [],
   "source": []
  },
  {
   "cell_type": "code",
   "execution_count": null,
   "metadata": {
    "collapsed": true
   },
   "outputs": [],
   "source": []
  },
  {
   "cell_type": "code",
   "execution_count": null,
   "metadata": {
    "collapsed": true
   },
   "outputs": [],
   "source": []
  },
  {
   "cell_type": "code",
   "execution_count": null,
   "metadata": {
    "collapsed": true
   },
   "outputs": [],
   "source": []
  },
  {
   "cell_type": "code",
   "execution_count": null,
   "metadata": {
    "collapsed": true
   },
   "outputs": [],
   "source": []
  },
  {
   "cell_type": "code",
   "execution_count": null,
   "metadata": {
    "collapsed": true
   },
   "outputs": [],
   "source": []
  },
  {
   "cell_type": "code",
   "execution_count": null,
   "metadata": {
    "collapsed": true
   },
   "outputs": [],
   "source": []
  }
 ],
 "metadata": {
  "kernelspec": {
   "display_name": "Python 3",
   "language": "python",
   "name": "python3"
  },
  "language_info": {
   "codemirror_mode": {
    "name": "ipython",
    "version": 3
   },
   "file_extension": ".py",
   "mimetype": "text/x-python",
   "name": "python",
   "nbconvert_exporter": "python",
   "pygments_lexer": "ipython3",
   "version": "3.5.2"
  }
 },
 "nbformat": 4,
 "nbformat_minor": 2
}
