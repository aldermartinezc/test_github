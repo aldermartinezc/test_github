{
 "cells": [
  {
   "cell_type": "markdown",
   "metadata": {
    "collapsed": true
   },
   "source": [
    "## Classification Model for Oklahoma"
   ]
  },
  {
   "cell_type": "code",
   "execution_count": 8,
   "metadata": {
    "collapsed": true
   },
   "outputs": [],
   "source": [
    "# packages used\n",
    "import pandas as pd\n",
    "import numpy as np\n",
    "from sklearn import tree\n",
    "#from sklearn.ensemble import BaggingClassifier\n",
    "#from sklearn.ensemble import RandomForestClassifier\n",
    "#from sklearn.ensemble import AdaBoostClassifier\n",
    "from sklearn.model_selection import train_test_split\n",
    "from sklearn.model_selection import cross_val_score\n",
    "from sklearn.metrics import confusion_matrix\n",
    "import matplotlib.pyplot as plt\n",
    "%matplotlib inline"
   ]
  },
  {
   "cell_type": "code",
   "execution_count": 9,
   "metadata": {
    "collapsed": true
   },
   "outputs": [],
   "source": [
    "# Load the data\n",
    "data_dir = 'Data/'\n",
    "Stores = pd.read_csv(data_dir + 'AllStoresOklahoma.csv', dtype = str)\n",
    "StoreType = pd.read_csv(data_dir + 'NonLowPointStoresOklahoma.csv', dtype = str)"
   ]
  },
  {
   "cell_type": "code",
   "execution_count": 10,
   "metadata": {},
   "outputs": [
    {
     "data": {
      "text/html": [
       "<div>\n",
       "<style>\n",
       "    .dataframe thead tr:only-child th {\n",
       "        text-align: right;\n",
       "    }\n",
       "\n",
       "    .dataframe thead th {\n",
       "        text-align: left;\n",
       "    }\n",
       "\n",
       "    .dataframe tbody tr th {\n",
       "        vertical-align: top;\n",
       "    }\n",
       "</style>\n",
       "<table border=\"1\" class=\"dataframe\">\n",
       "  <thead>\n",
       "    <tr style=\"text-align: right;\">\n",
       "      <th></th>\n",
       "      <th>RTL_STORE_CD</th>\n",
       "      <th>RTL_FIPS_COUNTY_DSC</th>\n",
       "      <th>RTL_PREMISE_TYPE_CD</th>\n",
       "      <th>RTL_CHANNEL_DSC</th>\n",
       "      <th>RTL_SUBCHANNEL_DSC</th>\n",
       "      <th>RTL_BEER_FLAG</th>\n",
       "      <th>RTL_LIQUOR_FLG</th>\n",
       "    </tr>\n",
       "  </thead>\n",
       "  <tbody>\n",
       "    <tr>\n",
       "      <th>0</th>\n",
       "      <td>107452530</td>\n",
       "      <td>PONTOTOC</td>\n",
       "      <td>OFF</td>\n",
       "      <td>MASS MERCHANDISER</td>\n",
       "      <td>DOLLAR STORE</td>\n",
       "      <td>Y</td>\n",
       "      <td>N</td>\n",
       "    </tr>\n",
       "    <tr>\n",
       "      <th>1</th>\n",
       "      <td>200097024</td>\n",
       "      <td>OKLAHOMA</td>\n",
       "      <td>OFF</td>\n",
       "      <td>GROCERY</td>\n",
       "      <td>SUPERMARKET-CONVENTIONAL</td>\n",
       "      <td>Y</td>\n",
       "      <td>N</td>\n",
       "    </tr>\n",
       "    <tr>\n",
       "      <th>2</th>\n",
       "      <td>100135885</td>\n",
       "      <td>MUSKOGEE</td>\n",
       "      <td>OFF</td>\n",
       "      <td>CONVENIENCE STORE</td>\n",
       "      <td>CONVENTIONAL CONVENIENCE</td>\n",
       "      <td>Y</td>\n",
       "      <td>N</td>\n",
       "    </tr>\n",
       "    <tr>\n",
       "      <th>3</th>\n",
       "      <td>100950469</td>\n",
       "      <td>CANADIAN</td>\n",
       "      <td>OFF</td>\n",
       "      <td>CONVENIENCE STORE</td>\n",
       "      <td>CONVENTIONAL CONVENIENCE</td>\n",
       "      <td>Y</td>\n",
       "      <td>N</td>\n",
       "    </tr>\n",
       "    <tr>\n",
       "      <th>4</th>\n",
       "      <td>100560558</td>\n",
       "      <td>TULSA</td>\n",
       "      <td>OFF</td>\n",
       "      <td>MASS MERCHANDISER</td>\n",
       "      <td>DOLLAR STORE</td>\n",
       "      <td>Y</td>\n",
       "      <td>N</td>\n",
       "    </tr>\n",
       "  </tbody>\n",
       "</table>\n",
       "</div>"
      ],
      "text/plain": [
       "  RTL_STORE_CD RTL_FIPS_COUNTY_DSC RTL_PREMISE_TYPE_CD    RTL_CHANNEL_DSC  \\\n",
       "0    107452530            PONTOTOC                 OFF  MASS MERCHANDISER   \n",
       "1    200097024            OKLAHOMA                 OFF            GROCERY   \n",
       "2    100135885            MUSKOGEE                 OFF  CONVENIENCE STORE   \n",
       "3    100950469            CANADIAN                 OFF  CONVENIENCE STORE   \n",
       "4    100560558               TULSA                 OFF  MASS MERCHANDISER   \n",
       "\n",
       "         RTL_SUBCHANNEL_DSC RTL_BEER_FLAG RTL_LIQUOR_FLG  \n",
       "0              DOLLAR STORE             Y              N  \n",
       "1  SUPERMARKET-CONVENTIONAL             Y              N  \n",
       "2  CONVENTIONAL CONVENIENCE             Y              N  \n",
       "3  CONVENTIONAL CONVENIENCE             Y              N  \n",
       "4              DOLLAR STORE             Y              N  "
      ]
     },
     "execution_count": 10,
     "metadata": {},
     "output_type": "execute_result"
    }
   ],
   "source": [
    "Stores.head()"
   ]
  },
  {
   "cell_type": "code",
   "execution_count": 11,
   "metadata": {},
   "outputs": [
    {
     "data": {
      "text/html": [
       "<div>\n",
       "<style>\n",
       "    .dataframe thead tr:only-child th {\n",
       "        text-align: right;\n",
       "    }\n",
       "\n",
       "    .dataframe thead th {\n",
       "        text-align: left;\n",
       "    }\n",
       "\n",
       "    .dataframe tbody tr th {\n",
       "        vertical-align: top;\n",
       "    }\n",
       "</style>\n",
       "<table border=\"1\" class=\"dataframe\">\n",
       "  <thead>\n",
       "    <tr style=\"text-align: right;\">\n",
       "      <th></th>\n",
       "      <th>RTL_STORE_CD</th>\n",
       "      <th>BEERTYPE</th>\n",
       "    </tr>\n",
       "  </thead>\n",
       "  <tbody>\n",
       "    <tr>\n",
       "      <th>0</th>\n",
       "      <td>102523621</td>\n",
       "      <td>NonLowPoint</td>\n",
       "    </tr>\n",
       "    <tr>\n",
       "      <th>1</th>\n",
       "      <td>101992693</td>\n",
       "      <td>NonLowPoint</td>\n",
       "    </tr>\n",
       "    <tr>\n",
       "      <th>2</th>\n",
       "      <td>102008405</td>\n",
       "      <td>NonLowPoint</td>\n",
       "    </tr>\n",
       "    <tr>\n",
       "      <th>3</th>\n",
       "      <td>101992702</td>\n",
       "      <td>NonLowPoint</td>\n",
       "    </tr>\n",
       "    <tr>\n",
       "      <th>4</th>\n",
       "      <td>102228537</td>\n",
       "      <td>NonLowPoint</td>\n",
       "    </tr>\n",
       "  </tbody>\n",
       "</table>\n",
       "</div>"
      ],
      "text/plain": [
       "  RTL_STORE_CD     BEERTYPE\n",
       "0    102523621  NonLowPoint\n",
       "1    101992693  NonLowPoint\n",
       "2    102008405  NonLowPoint\n",
       "3    101992702  NonLowPoint\n",
       "4    102228537  NonLowPoint"
      ]
     },
     "execution_count": 11,
     "metadata": {},
     "output_type": "execute_result"
    }
   ],
   "source": [
    "StoreType.head()"
   ]
  },
  {
   "cell_type": "code",
   "execution_count": 12,
   "metadata": {
    "collapsed": true
   },
   "outputs": [],
   "source": [
    "FullData = pd.merge(Stores, StoreType, on=\"RTL_STORE_CD\", how=\"left\")"
   ]
  },
  {
   "cell_type": "code",
   "execution_count": 13,
   "metadata": {
    "collapsed": true
   },
   "outputs": [],
   "source": [
    "FullData.loc[FullData['BEERTYPE'].isnull(),\"BEERTYPE\"] = \"LowPoint\""
   ]
  },
  {
   "cell_type": "code",
   "execution_count": 15,
   "metadata": {},
   "outputs": [
    {
     "data": {
      "text/html": [
       "<div>\n",
       "<style>\n",
       "    .dataframe thead tr:only-child th {\n",
       "        text-align: right;\n",
       "    }\n",
       "\n",
       "    .dataframe thead th {\n",
       "        text-align: left;\n",
       "    }\n",
       "\n",
       "    .dataframe tbody tr th {\n",
       "        vertical-align: top;\n",
       "    }\n",
       "</style>\n",
       "<table border=\"1\" class=\"dataframe\">\n",
       "  <thead>\n",
       "    <tr style=\"text-align: right;\">\n",
       "      <th></th>\n",
       "      <th>RTL_STORE_CD</th>\n",
       "      <th>RTL_FIPS_COUNTY_DSC</th>\n",
       "      <th>RTL_PREMISE_TYPE_CD</th>\n",
       "      <th>RTL_CHANNEL_DSC</th>\n",
       "      <th>RTL_SUBCHANNEL_DSC</th>\n",
       "      <th>RTL_BEER_FLAG</th>\n",
       "      <th>RTL_LIQUOR_FLG</th>\n",
       "      <th>BEERTYPE</th>\n",
       "      <th>COUNTY_ADAIR</th>\n",
       "      <th>COUNTY_ALFALFA</th>\n",
       "      <th>...</th>\n",
       "      <th>SUBCHANNEL_THEATER</th>\n",
       "      <th>SUBCHANNEL_THEME PARK</th>\n",
       "      <th>SUBCHANNEL_UNKNOWN</th>\n",
       "      <th>SUBCHANNEL_WINERIES/VINEYARDS</th>\n",
       "      <th>BEER_LICENSE_N</th>\n",
       "      <th>BEER_LICENSE_U</th>\n",
       "      <th>BEER_LICENSE_Y</th>\n",
       "      <th>LIQUOR_LICENSE_N</th>\n",
       "      <th>LIQUOR_LICENSE_U</th>\n",
       "      <th>LIQUOR_LICENSE_Y</th>\n",
       "    </tr>\n",
       "  </thead>\n",
       "  <tbody>\n",
       "    <tr>\n",
       "      <th>0</th>\n",
       "      <td>107452530</td>\n",
       "      <td>PONTOTOC</td>\n",
       "      <td>OFF</td>\n",
       "      <td>MASS MERCHANDISER</td>\n",
       "      <td>DOLLAR STORE</td>\n",
       "      <td>Y</td>\n",
       "      <td>N</td>\n",
       "      <td>LowPoint</td>\n",
       "      <td>0</td>\n",
       "      <td>0</td>\n",
       "      <td>...</td>\n",
       "      <td>0</td>\n",
       "      <td>0</td>\n",
       "      <td>0</td>\n",
       "      <td>0</td>\n",
       "      <td>0</td>\n",
       "      <td>0</td>\n",
       "      <td>1</td>\n",
       "      <td>1</td>\n",
       "      <td>0</td>\n",
       "      <td>0</td>\n",
       "    </tr>\n",
       "    <tr>\n",
       "      <th>1</th>\n",
       "      <td>200097024</td>\n",
       "      <td>OKLAHOMA</td>\n",
       "      <td>OFF</td>\n",
       "      <td>GROCERY</td>\n",
       "      <td>SUPERMARKET-CONVENTIONAL</td>\n",
       "      <td>Y</td>\n",
       "      <td>N</td>\n",
       "      <td>LowPoint</td>\n",
       "      <td>0</td>\n",
       "      <td>0</td>\n",
       "      <td>...</td>\n",
       "      <td>0</td>\n",
       "      <td>0</td>\n",
       "      <td>0</td>\n",
       "      <td>0</td>\n",
       "      <td>0</td>\n",
       "      <td>0</td>\n",
       "      <td>1</td>\n",
       "      <td>1</td>\n",
       "      <td>0</td>\n",
       "      <td>0</td>\n",
       "    </tr>\n",
       "    <tr>\n",
       "      <th>2</th>\n",
       "      <td>100135885</td>\n",
       "      <td>MUSKOGEE</td>\n",
       "      <td>OFF</td>\n",
       "      <td>CONVENIENCE STORE</td>\n",
       "      <td>CONVENTIONAL CONVENIENCE</td>\n",
       "      <td>Y</td>\n",
       "      <td>N</td>\n",
       "      <td>LowPoint</td>\n",
       "      <td>0</td>\n",
       "      <td>0</td>\n",
       "      <td>...</td>\n",
       "      <td>0</td>\n",
       "      <td>0</td>\n",
       "      <td>0</td>\n",
       "      <td>0</td>\n",
       "      <td>0</td>\n",
       "      <td>0</td>\n",
       "      <td>1</td>\n",
       "      <td>1</td>\n",
       "      <td>0</td>\n",
       "      <td>0</td>\n",
       "    </tr>\n",
       "    <tr>\n",
       "      <th>3</th>\n",
       "      <td>100950469</td>\n",
       "      <td>CANADIAN</td>\n",
       "      <td>OFF</td>\n",
       "      <td>CONVENIENCE STORE</td>\n",
       "      <td>CONVENTIONAL CONVENIENCE</td>\n",
       "      <td>Y</td>\n",
       "      <td>N</td>\n",
       "      <td>LowPoint</td>\n",
       "      <td>0</td>\n",
       "      <td>0</td>\n",
       "      <td>...</td>\n",
       "      <td>0</td>\n",
       "      <td>0</td>\n",
       "      <td>0</td>\n",
       "      <td>0</td>\n",
       "      <td>0</td>\n",
       "      <td>0</td>\n",
       "      <td>1</td>\n",
       "      <td>1</td>\n",
       "      <td>0</td>\n",
       "      <td>0</td>\n",
       "    </tr>\n",
       "    <tr>\n",
       "      <th>4</th>\n",
       "      <td>100560558</td>\n",
       "      <td>TULSA</td>\n",
       "      <td>OFF</td>\n",
       "      <td>MASS MERCHANDISER</td>\n",
       "      <td>DOLLAR STORE</td>\n",
       "      <td>Y</td>\n",
       "      <td>N</td>\n",
       "      <td>LowPoint</td>\n",
       "      <td>0</td>\n",
       "      <td>0</td>\n",
       "      <td>...</td>\n",
       "      <td>0</td>\n",
       "      <td>0</td>\n",
       "      <td>0</td>\n",
       "      <td>0</td>\n",
       "      <td>0</td>\n",
       "      <td>0</td>\n",
       "      <td>1</td>\n",
       "      <td>1</td>\n",
       "      <td>0</td>\n",
       "      <td>0</td>\n",
       "    </tr>\n",
       "  </tbody>\n",
       "</table>\n",
       "<p>5 rows × 179 columns</p>\n",
       "</div>"
      ],
      "text/plain": [
       "  RTL_STORE_CD RTL_FIPS_COUNTY_DSC RTL_PREMISE_TYPE_CD    RTL_CHANNEL_DSC  \\\n",
       "0    107452530            PONTOTOC                 OFF  MASS MERCHANDISER   \n",
       "1    200097024            OKLAHOMA                 OFF            GROCERY   \n",
       "2    100135885            MUSKOGEE                 OFF  CONVENIENCE STORE   \n",
       "3    100950469            CANADIAN                 OFF  CONVENIENCE STORE   \n",
       "4    100560558               TULSA                 OFF  MASS MERCHANDISER   \n",
       "\n",
       "         RTL_SUBCHANNEL_DSC RTL_BEER_FLAG RTL_LIQUOR_FLG  BEERTYPE  \\\n",
       "0              DOLLAR STORE             Y              N  LowPoint   \n",
       "1  SUPERMARKET-CONVENTIONAL             Y              N  LowPoint   \n",
       "2  CONVENTIONAL CONVENIENCE             Y              N  LowPoint   \n",
       "3  CONVENTIONAL CONVENIENCE             Y              N  LowPoint   \n",
       "4              DOLLAR STORE             Y              N  LowPoint   \n",
       "\n",
       "   COUNTY_ADAIR  COUNTY_ALFALFA        ...         SUBCHANNEL_THEATER  \\\n",
       "0             0               0        ...                          0   \n",
       "1             0               0        ...                          0   \n",
       "2             0               0        ...                          0   \n",
       "3             0               0        ...                          0   \n",
       "4             0               0        ...                          0   \n",
       "\n",
       "   SUBCHANNEL_THEME PARK  SUBCHANNEL_UNKNOWN  SUBCHANNEL_WINERIES/VINEYARDS  \\\n",
       "0                      0                   0                              0   \n",
       "1                      0                   0                              0   \n",
       "2                      0                   0                              0   \n",
       "3                      0                   0                              0   \n",
       "4                      0                   0                              0   \n",
       "\n",
       "   BEER_LICENSE_N  BEER_LICENSE_U  BEER_LICENSE_Y  LIQUOR_LICENSE_N  \\\n",
       "0               0               0               1                 1   \n",
       "1               0               0               1                 1   \n",
       "2               0               0               1                 1   \n",
       "3               0               0               1                 1   \n",
       "4               0               0               1                 1   \n",
       "\n",
       "   LIQUOR_LICENSE_U  LIQUOR_LICENSE_Y  \n",
       "0                 0                 0  \n",
       "1                 0                 0  \n",
       "2                 0                 0  \n",
       "3                 0                 0  \n",
       "4                 0                 0  \n",
       "\n",
       "[5 rows x 179 columns]"
      ]
     },
     "execution_count": 15,
     "metadata": {},
     "output_type": "execute_result"
    }
   ],
   "source": [
    "FullData = pd.concat([FullData, pd.get_dummies(FullData['RTL_FIPS_COUNTY_DSC'],prefix='COUNTY')], axis=1)\n",
    "FullData = pd.concat([FullData, pd.get_dummies(FullData['RTL_PREMISE_TYPE_CD'],prefix='PREMISE')], axis=1)\n",
    "FullData = pd.concat([FullData, pd.get_dummies(FullData['RTL_CHANNEL_DSC'],prefix='CHANNEL')], axis=1)\n",
    "FullData = pd.concat([FullData, pd.get_dummies(FullData['RTL_SUBCHANNEL_DSC'],prefix='SUBCHANNEL')], axis=1)\n",
    "FullData = pd.concat([FullData, pd.get_dummies(FullData['RTL_BEER_FLAG'],prefix='BEER_LICENSE')], axis=1)\n",
    "FullData = pd.concat([FullData, pd.get_dummies(FullData['RTL_LIQUOR_FLG'],prefix='LIQUOR_LICENSE')], axis=1)\n",
    "FullData.head()"
   ]
  },
  {
   "cell_type": "code",
   "execution_count": 16,
   "metadata": {},
   "outputs": [
    {
     "data": {
      "text/plain": [
       "<matplotlib.axes._subplots.AxesSubplot at 0x7fda6a2e0e48>"
      ]
     },
     "execution_count": 16,
     "metadata": {},
     "output_type": "execute_result"
    },
    {
     "data": {
      "image/png": "[encoded data removed]",
      "text/plain": [
       "<matplotlib.figure.Figure at 0x7fda7d46c470>"
      ]
     },
     "metadata": {},
     "output_type": "display_data"
    }
   ],
   "source": [
    "# Total Number of Stores by County\n",
    "County = FullData.loc[:,'RTL_FIPS_COUNTY_DSC']\n",
    "County = County.value_counts().head(20)\n",
    "County.plot.bar(figsize=(10,4))"
   ]
  },
  {
   "cell_type": "code",
   "execution_count": 18,
   "metadata": {},
   "outputs": [
    {
     "name": "stdout",
     "output_type": "stream",
     "text": [
      "Total Stores  4734\n",
      "Total Low Point Stores  4724\n",
      "Total Non Low Point Stores  10\n"
     ]
    },
    {
     "data": {
      "text/plain": [
       "<matplotlib.text.Text at 0x7fda7c942390>"
      ]
     },
     "execution_count": 18,
     "metadata": {},
     "output_type": "execute_result"
    },
    {
     "data": {
      "image/png": "[encoded data removed]",
      "text/plain": [
       "<matplotlib.figure.Figure at 0x7fda7d3203c8>"
      ]
     },
     "metadata": {},
     "output_type": "display_data"
    }
   ],
   "source": [
    "# Total Number Counts of Stores by Trade Channel\n",
    "Channel = FullData.loc[:,'RTL_CHANNEL_DSC'].value_counts()\n",
    "Type = FullData.loc[:,'BEERTYPE'].value_counts()\n",
    "\n",
    "print(\"Total Stores \",len(FullData))\n",
    "print(\"Total Low Point Stores \",len(FullData.loc[FullData[\"BEERTYPE\"]==\"LowPoint\",:]))\n",
    "print(\"Total Non Low Point Stores \",len(FullData.loc[FullData[\"BEERTYPE\"]==\"NonLowPoint\",:]))\n",
    "\n",
    "#Plot Channels by Type of Beer\n",
    "fig, axes = plt.subplots(nrows=1, ncols=2, figsize=(10, 4))\n",
    "\n",
    "Channel.plot(ax=axes[0], kind='bar'); axes[0].set_title('Count of Stores by Channel')\n",
    "Type.plot(ax=axes[1], kind='pie',autopct='%1.1f%%'); axes[1].set_title('Percentage of Stores by Type')\n"
   ]
  },
  {
   "cell_type": "code",
   "execution_count": 19,
   "metadata": {
    "collapsed": true
   },
   "outputs": [],
   "source": [
    "# Count number of stores per channel\n",
    "LowPointChannel =FullData.loc[FullData[\"BEERTYPE\"]==\"LowPoint\",'RTL_CHANNEL_DSC'].value_counts()\n",
    "NonLowPointChannel =FullData.loc[FullData[\"BEERTYPE\"]==\"NonLowPoint\",'RTL_CHANNEL_DSC'].value_counts()"
   ]
  },
  {
   "cell_type": "code",
   "execution_count": 20,
   "metadata": {},
   "outputs": [
    {
     "data": {
      "text/plain": [
       "<matplotlib.text.Text at 0x7fda5d52a470>"
      ]
     },
     "execution_count": 20,
     "metadata": {},
     "output_type": "execute_result"
    },
    {
     "data": {
      "image/png": "[encoded data removed]",
      "text/plain": [
       "<matplotlib.figure.Figure at 0x7fda7d3a34e0>"
      ]
     },
     "metadata": {},
     "output_type": "display_data"
    }
   ],
   "source": [
    "#Plot Channels by Type of Beer\n",
    "fig, axes = plt.subplots(nrows=1, ncols=2, figsize=(10, 4))\n",
    "\n",
    "LowPointChannel.plot(ax=axes[0], kind='bar'); axes[0].set_title('Low Point Channels')\n",
    "NonLowPointChannel.plot(ax=axes[1], kind='bar', color = 'orange'); axes[1].set_title('Non Low Point Channels')\n",
    "fig.suptitle('Channels by Type of Beer')\n"
   ]
  },
  {
   "cell_type": "code",
   "execution_count": 21,
   "metadata": {},
   "outputs": [
    {
     "data": {
      "text/plain": [
       "<matplotlib.axes._subplots.AxesSubplot at 0x7fda5d502128>"
      ]
     },
     "execution_count": 21,
     "metadata": {},
     "output_type": "execute_result"
    },
    {
     "data": {
      "image/png": "[encoded data removed]",
      "text/plain": [
       "<matplotlib.figure.Figure at 0x7fda7d333c88>"
      ]
     },
     "metadata": {},
     "output_type": "display_data"
    }
   ],
   "source": [
    "# Total Number of Stores by SubChannel\n",
    "SubChannel = FullData.loc[:,'RTL_SUBCHANNEL_DSC']\n",
    "SubChannel = SubChannel.value_counts().head(20)\n",
    "SubChannel.plot.bar(figsize=(10,4))"
   ]
  },
  {
   "cell_type": "code",
   "execution_count": 22,
   "metadata": {},
   "outputs": [
    {
     "data": {
      "text/plain": [
       "<matplotlib.text.Text at 0x7fda5d38cf28>"
      ]
     },
     "execution_count": 22,
     "metadata": {},
     "output_type": "execute_result"
    },
    {
     "data": {
      "image/png": "[encoded data removed]",
      "text/plain": [
       "<matplotlib.figure.Figure at 0x7fda5d3f1dd8>"
      ]
     },
     "metadata": {},
     "output_type": "display_data"
    }
   ],
   "source": [
    "# Percentage of Stores which Off Premise vs On Premise\n",
    "fig, axes = plt.subplots(nrows=1, ncols=3, figsize=(20, 6))\n",
    "\n",
    "Premise = FullData.loc[:,'RTL_PREMISE_TYPE_CD'].value_counts()\n",
    "OnPremiseType = FullData.loc[FullData[\"RTL_PREMISE_TYPE_CD\"]==\"ON\",'BEERTYPE'].value_counts()\n",
    "OffPremiseType = FullData.loc[FullData[\"RTL_PREMISE_TYPE_CD\"]==\"OFF\",'BEERTYPE'].value_counts()\n",
    "\n",
    "Premise.plot(ax=axes[0], kind='pie',autopct='%1.1f%%'); axes[0].set_title('Percentage of Stores by Premise')\n",
    "OnPremiseType.plot(ax=axes[1], kind='pie',autopct='%1.1f%%'); axes[1].set_title('Percentage of On Premise Stores by Type')\n",
    "OffPremiseType.plot(ax=axes[2], kind='pie',autopct='%1.1f%%'); axes[2].set_title('Percentage of Off Premise Stores by Type')\n"
   ]
  },
  {
   "cell_type": "markdown",
   "metadata": {
    "collapsed": true
   },
   "source": [
    "### Prepare Data"
   ]
  },
  {
   "cell_type": "code",
   "execution_count": 14,
   "metadata": {
    "collapsed": true
   },
   "outputs": [],
   "source": [
    "# prepare data to fit model\n",
    "X_labels = [c for c in FullData.columns if c not in ['RTL_STORE_CD','BEERTYPE','RTL_FIPS_COUNTY_DSC','RTL_PREMISE_TYPE_CD','RTL_CHANNEL_DSC','RTL_SUBCHANNEL_DSC','RTL_BEER_FLAG',\"RTL_LIQUOR_FLG\"]]\n",
    "X = FullData.loc[:,X_labels]\n",
    "Y = FullData['BEERTYPE']"
   ]
  },
  {
   "cell_type": "code",
   "execution_count": 15,
   "metadata": {},
   "outputs": [
    {
     "data": {
      "text/html": [
       "<div>\n",
       "<style>\n",
       "    .dataframe thead tr:only-child th {\n",
       "        text-align: right;\n",
       "    }\n",
       "\n",
       "    .dataframe thead th {\n",
       "        text-align: left;\n",
       "    }\n",
       "\n",
       "    .dataframe tbody tr th {\n",
       "        vertical-align: top;\n",
       "    }\n",
       "</style>\n",
       "<table border=\"1\" class=\"dataframe\">\n",
       "  <thead>\n",
       "    <tr style=\"text-align: right;\">\n",
       "      <th></th>\n",
       "      <th>depth</th>\n",
       "      <th>min_sample_leaf</th>\n",
       "      <th>mean</th>\n",
       "      <th>std</th>\n",
       "      <th>depth_leaf</th>\n",
       "    </tr>\n",
       "  </thead>\n",
       "  <tbody>\n",
       "    <tr>\n",
       "      <th>0</th>\n",
       "      <td>1</td>\n",
       "      <td>1</td>\n",
       "      <td>0.999578</td>\n",
       "      <td>0.000517</td>\n",
       "      <td>1_1</td>\n",
       "    </tr>\n",
       "    <tr>\n",
       "      <th>207</th>\n",
       "      <td>11</td>\n",
       "      <td>8</td>\n",
       "      <td>0.999578</td>\n",
       "      <td>0.000517</td>\n",
       "      <td>11_8</td>\n",
       "    </tr>\n",
       "    <tr>\n",
       "      <th>184</th>\n",
       "      <td>10</td>\n",
       "      <td>5</td>\n",
       "      <td>0.999578</td>\n",
       "      <td>0.000517</td>\n",
       "      <td>10_5</td>\n",
       "    </tr>\n",
       "    <tr>\n",
       "      <th>185</th>\n",
       "      <td>10</td>\n",
       "      <td>6</td>\n",
       "      <td>0.999578</td>\n",
       "      <td>0.000517</td>\n",
       "      <td>10_6</td>\n",
       "    </tr>\n",
       "    <tr>\n",
       "      <th>186</th>\n",
       "      <td>10</td>\n",
       "      <td>7</td>\n",
       "      <td>0.999578</td>\n",
       "      <td>0.000517</td>\n",
       "      <td>10_7</td>\n",
       "    </tr>\n",
       "  </tbody>\n",
       "</table>\n",
       "</div>"
      ],
      "text/plain": [
       "     depth  min_sample_leaf      mean       std depth_leaf\n",
       "0        1                1  0.999578  0.000517        1_1\n",
       "207     11                8  0.999578  0.000517       11_8\n",
       "184     10                5  0.999578  0.000517       10_5\n",
       "185     10                6  0.999578  0.000517       10_6\n",
       "186     10                7  0.999578  0.000517       10_7"
      ]
     },
     "execution_count": 15,
     "metadata": {},
     "output_type": "execute_result"
    }
   ],
   "source": [
    "#try to find the best tree depth with min split.\n",
    "\n",
    "#tree depth\n",
    "\n",
    "#Fit a classification tree to the data with various values of the parameters max_depth and min_samples_leaf, \n",
    "#Report the cross-validation errors associated with different values of these parameters.\n",
    "\n",
    "# change the parameter depth and compute test error\n",
    "TreeDepth = range(1,21)\n",
    "MinLeaf = range(1,21)\n",
    "results = []\n",
    "for d in TreeDepth:\n",
    "    for l in MinLeaf:\n",
    "        clf = tree.DecisionTreeClassifier(max_depth=d, min_samples_leaf=l,random_state=0)\n",
    "        clf = clf.fit(X,Y)    \n",
    "        scores = cross_val_score(clf, X, Y, cv=5)\n",
    "        results.append((d,l,scores.mean(), scores.std()))\n",
    "    \n",
    "df_tree_accuracy = pd.DataFrame(data=results,columns=['depth','min_sample_leaf','mean','std'])\n",
    "df_tree_accuracy['depth_leaf']= df_tree_accuracy['depth'].astype(str)+\"_\"+df_tree_accuracy['min_sample_leaf'].astype(str)\n",
    "\n",
    "#sort the dataframe\n",
    "df_tree_accuracy = df_tree_accuracy.sort_values(['mean'], ascending = False)\n",
    "df_tree_accuracy.head()"
   ]
  },
  {
   "cell_type": "markdown",
   "metadata": {},
   "source": [
    "# Result"
   ]
  },
  {
   "cell_type": "code",
   "execution_count": 16,
   "metadata": {},
   "outputs": [
    {
     "ename": "TypeError",
     "evalue": "cannot convert the series to <class 'int'>",
     "output_type": "error",
     "traceback": [
      "\u001b[0;31m---------------------------------------------------------------------------\u001b[0m",
      "\u001b[0;31mTypeError\u001b[0m                                 Traceback (most recent call last)",
      "\u001b[0;32m<ipython-input-16-e9781dd6fb48>\u001b[0m in \u001b[0;36m<module>\u001b[0;34m()\u001b[0m\n\u001b[1;32m      1\u001b[0m \u001b[0;31m#the result: with the best tree depth and accuracy\u001b[0m\u001b[0;34m\u001b[0m\u001b[0;34m\u001b[0m\u001b[0m\n\u001b[1;32m      2\u001b[0m \u001b[0mbest_depth\u001b[0m \u001b[0;34m=\u001b[0m \u001b[0mdf_tree_accuracy\u001b[0m\u001b[0;34m[\u001b[0m\u001b[0mdf_tree_accuracy\u001b[0m\u001b[0;34m[\u001b[0m\u001b[0;34m'mean'\u001b[0m\u001b[0;34m]\u001b[0m \u001b[0;34m==\u001b[0m \u001b[0mmax\u001b[0m\u001b[0;34m(\u001b[0m\u001b[0mdf_tree_accuracy\u001b[0m\u001b[0;34m[\u001b[0m\u001b[0;34m'mean'\u001b[0m\u001b[0;34m]\u001b[0m\u001b[0;34m)\u001b[0m\u001b[0;34m]\u001b[0m\u001b[0;34m\u001b[0m\u001b[0m\n\u001b[0;32m----> 3\u001b[0;31m \u001b[0mbest_depth\u001b[0m \u001b[0;34m=\u001b[0m \u001b[0mint\u001b[0m\u001b[0;34m(\u001b[0m\u001b[0mbest_depth\u001b[0m\u001b[0;34m[\u001b[0m\u001b[0;34m'depth'\u001b[0m\u001b[0;34m]\u001b[0m\u001b[0;34m)\u001b[0m\u001b[0;34m\u001b[0m\u001b[0m\n\u001b[0m\u001b[1;32m      4\u001b[0m \u001b[0;34m\u001b[0m\u001b[0m\n\u001b[1;32m      5\u001b[0m \u001b[0mmin_leaf\u001b[0m \u001b[0;34m=\u001b[0m \u001b[0mdf_tree_accuracy\u001b[0m\u001b[0;34m[\u001b[0m\u001b[0mdf_tree_accuracy\u001b[0m\u001b[0;34m[\u001b[0m\u001b[0;34m'mean'\u001b[0m\u001b[0;34m]\u001b[0m \u001b[0;34m==\u001b[0m \u001b[0mmax\u001b[0m\u001b[0;34m(\u001b[0m\u001b[0mdf_tree_accuracy\u001b[0m\u001b[0;34m[\u001b[0m\u001b[0;34m'mean'\u001b[0m\u001b[0;34m]\u001b[0m\u001b[0;34m)\u001b[0m\u001b[0;34m]\u001b[0m\u001b[0;34m\u001b[0m\u001b[0m\n",
      "\u001b[0;32m/usr/local/lib/python3.5/dist-packages/pandas/core/series.py\u001b[0m in \u001b[0;36mwrapper\u001b[0;34m(self)\u001b[0m\n\u001b[1;32m     95\u001b[0m             \u001b[0;32mreturn\u001b[0m \u001b[0mconverter\u001b[0m\u001b[0;34m(\u001b[0m\u001b[0mself\u001b[0m\u001b[0;34m.\u001b[0m\u001b[0miloc\u001b[0m\u001b[0;34m[\u001b[0m\u001b[0;36m0\u001b[0m\u001b[0;34m]\u001b[0m\u001b[0;34m)\u001b[0m\u001b[0;34m\u001b[0m\u001b[0m\n\u001b[1;32m     96\u001b[0m         raise TypeError(\"cannot convert the series to \"\n\u001b[0;32m---> 97\u001b[0;31m                         \"{0}\".format(str(converter)))\n\u001b[0m\u001b[1;32m     98\u001b[0m \u001b[0;34m\u001b[0m\u001b[0m\n\u001b[1;32m     99\u001b[0m     \u001b[0;32mreturn\u001b[0m \u001b[0mwrapper\u001b[0m\u001b[0;34m\u001b[0m\u001b[0m\n",
      "\u001b[0;31mTypeError\u001b[0m: cannot convert the series to <class 'int'>"
     ]
    }
   ],
   "source": [
    "#the result: with the best tree depth and accuracy\n",
    "best_depth = df_tree_accuracy[df_tree_accuracy['mean'] == max(df_tree_accuracy['mean'])]\n",
    "best_depth = int(best_depth['depth'])\n",
    "\n",
    "min_leaf = df_tree_accuracy[df_tree_accuracy['mean'] == max(df_tree_accuracy['mean'])]\n",
    "min_leaf = int(min_leaf['min_sample_leaf'])\n",
    "print('the best depth is:', best_depth, 'with min split:',min_leaf ,'with accuracy:',round(max(df_tree_accuracy['mean'])*100, 3), '%')\n",
    "\n"
   ]
  },
  {
   "cell_type": "code",
   "execution_count": null,
   "metadata": {
    "collapsed": true
   },
   "outputs": [],
   "source": [
    "#check the errors:\n",
    "\n",
    "#create a new data frame to store the prediction result. \n",
    "result_df = FullData.loc[:, 'RTL_STORE_CD': 'BEERTYPE']\n",
    "result_df['PRED_RESULT'] = clf.predict(X)\n",
    "result_df.head()"
   ]
  },
  {
   "cell_type": "code",
   "execution_count": null,
   "metadata": {
    "collapsed": true,
    "scrolled": true
   },
   "outputs": [],
   "source": [
    "#check how many stores are predicted wrong; which are they; what characters do they have\n",
    "error_index_list = []\n",
    "for index in range(len(result_df)):\n",
    "    if result_df.ix[index , 'BEERTYPE'] != result_df.ix[index , 'PRED_RESULT']:\n",
    "        error_index_list.append(index)\n",
    "print('there are', len(error_index_list), 'errors in the prediction')"
   ]
  },
  {
   "cell_type": "code",
   "execution_count": null,
   "metadata": {
    "collapsed": true,
    "scrolled": true
   },
   "outputs": [],
   "source": [
    "#check the error predictions\n",
    "error_df = result_df.ix[error_index_list, ]\n",
    "false_NonLowPoint = error_df.loc[error_df['BEERTYPE'] == 'LowPoint']\n",
    "print('there are', len(false_NonLowPoint), 'false_NonLowPoint errors.')\n",
    "false_NonLowPoint.head()"
   ]
  },
  {
   "cell_type": "code",
   "execution_count": null,
   "metadata": {
    "collapsed": true
   },
   "outputs": [],
   "source": [
    "false_LowPoint = error_df.loc[error_df['BEERTYPE'] == 'NonLowPoint']\n",
    "print('there are', len(false_LowPoint), 'false_LowPoint errors.')\n",
    "false_LowPoint.head()"
   ]
  },
  {
   "cell_type": "code",
   "execution_count": null,
   "metadata": {
    "collapsed": true
   },
   "outputs": [],
   "source": [
    "#create statistics for false_NonLowPoint\n",
    "county_false_NonLowPoint = false_NonLowPoint.loc[:,'RTL_FIPS_COUNTY_DSC'].value_counts().head(15)\n",
    "premise_false_NonLowPoint = false_NonLowPoint.loc[:,'RTL_PREMISE_TYPE_CD'].value_counts()\n",
    "channel_false_NonLowPoint = false_NonLowPoint.loc[:,'RTL_CHANNEL_DSC'].value_counts()\n",
    "sub_channel_false_NonLowPoint = false_NonLowPoint.loc[:,'RTL_SUBCHANNEL_DSC'].value_counts()\n",
    "beer_license_false_NonLowPoint = false_NonLowPoint.loc[:,'RTL_BEER_FLAG'].value_counts()\n",
    "liquor_license_false_NonLowPoint = false_NonLowPoint.loc[:,'RTL_LIQUOR_FLG'].value_counts()"
   ]
  },
  {
   "cell_type": "code",
   "execution_count": null,
   "metadata": {
    "collapsed": true
   },
   "outputs": [],
   "source": [
    "#create statistics for false_LowPoint\n",
    "county_false_LowPoint = false_LowPoint.loc[:,'RTL_FIPS_COUNTY_DSC'].value_counts().head(15)\n",
    "premise_false_LowPoint = false_LowPoint.loc[:,'RTL_PREMISE_TYPE_CD'].value_counts()\n",
    "channel_false_LowPoint = false_LowPoint.loc[:,'RTL_CHANNEL_DSC'].value_counts()\n",
    "sub_channel_false_LowPoint = false_LowPoint.loc[:,'RTL_SUBCHANNEL_DSC'].value_counts()\n",
    "beer_license_false_LowPoint = false_LowPoint.loc[:,'RTL_BEER_FLAG'].value_counts()\n",
    "liquor_license_false_LowPoint = false_LowPoint.loc[:,'RTL_LIQUOR_FLG'].value_counts()"
   ]
  },
  {
   "cell_type": "code",
   "execution_count": null,
   "metadata": {
    "collapsed": true
   },
   "outputs": [],
   "source": [
    "#plot for false_NonLowPoint\n",
    "fig, axes = plt.subplots(nrows=2, ncols=3)\n",
    "\n",
    "bottom_limit = 1\n",
    "upper_limit = 1.2\n",
    "\n",
    "county_false_NonLowPoint.plot(ax=axes[0,0], kind='bar'); axes[0,0].set_title('county')\n",
    "axes[0,0].set_yticks([bottom_limit*min(county_false_NonLowPoint), int(upper_limit*max(county_false_NonLowPoint))])\n",
    "   \n",
    "premise_false_NonLowPoint.plot(ax=axes[0,1], kind='bar'); axes[0,1].set_title('premise type')\n",
    "axes[0,1].set_yticks([bottom_limit*min(premise_false_NonLowPoint), int(upper_limit*max(premise_false_NonLowPoint))])\n",
    "\n",
    "channel_false_NonLowPoint.plot(ax=axes[0,2], kind='bar'); axes[0,2].set_title('channel')\n",
    "axes[0,2].set_yticks([bottom_limit*min(channel_false_NonLowPoint), int(upper_limit*max(channel_false_NonLowPoint))])\n",
    "\n",
    "sub_channel_false_NonLowPoint.plot(ax=axes[1,0], kind='bar'); axes[1,0].set_title('sub channel')\n",
    "axes[1,0].set_yticks([bottom_limit*min(sub_channel_false_NonLowPoint), int(upper_limit*max(sub_channel_false_NonLowPoint))])\n",
    "\n",
    "beer_license_false_NonLowPoint.plot(ax=axes[1,1], kind='bar'); axes[1,1].set_title('beer license')\n",
    "\n",
    "liquor_license_false_NonLowPoint.plot(ax=axes[1,2], kind='bar'); axes[1,2].set_title('liquor license')\n",
    "\n",
    "#adjust the plot\n",
    "plt.subplots_adjust(left=2, bottom=2, right=4, top=3, wspace=0.3, hspace=2)"
   ]
  },
  {
   "cell_type": "code",
   "execution_count": null,
   "metadata": {
    "collapsed": true
   },
   "outputs": [],
   "source": [
    "#plot for false_LowPoint\n",
    "fig, axes = plt.subplots(nrows=2, ncols=3)\n",
    "\n",
    "bottom_limit = 1\n",
    "upper_limit = 1.2\n",
    "\n",
    "county_false_LowPoint.plot(ax=axes[0,0], kind='bar'); axes[0,0].set_title('county')\n",
    "axes[0,0].set_yticks([bottom_limit*min(county_false_NonLowPoint), int(upper_limit*max(county_false_LowPoint))])\n",
    "   \n",
    "premise_false_LowPoint.plot(ax=axes[0,1], kind='bar'); axes[0,1].set_title('premise type')\n",
    "axes[0,1].set_yticks([bottom_limit*min(premise_false_LowPoint), int(upper_limit*max(premise_false_LowPoint))])\n",
    "\n",
    "channel_false_LowPoint.plot(ax=axes[0,2], kind='bar'); axes[0,2].set_title('channel')\n",
    "axes[0,2].set_yticks([bottom_limit*min(channel_false_LowPoint), int(upper_limit*max(channel_false_LowPoint))])\n",
    "\n",
    "sub_channel_false_LowPoint.plot(ax=axes[1,0], kind='bar'); axes[1,0].set_title('sub channel')\n",
    "axes[1,0].set_yticks([bottom_limit*min(sub_channel_false_LowPoint), int(upper_limit*max(sub_channel_false_LowPoint))])\n",
    "\n",
    "beer_license_false_LowPoint.plot(ax=axes[1,1], kind='bar'); axes[1,1].set_title('beer license')\n",
    "\n",
    "liquor_license_false_LowPoint.plot(ax=axes[1,2], kind='bar'); axes[1,2].set_title('liquor license')\n",
    "\n",
    "#adjust the plot\n",
    "plt.subplots_adjust(left=2, bottom=2, right=4, top=3, wspace=0.2, hspace=5)\n"
   ]
  },
  {
   "cell_type": "code",
   "execution_count": null,
   "metadata": {
    "collapsed": true
   },
   "outputs": [],
   "source": [
    "#feature importance\n",
    "clf = tree.DecisionTreeClassifier(max_depth=best_depth, min_samples_leaf=min_leaf,random_state=0)\n",
    "clf = clf.fit(X,Y)\n",
    "\n",
    "#all the features with their importance scores.\n",
    "feature_score = pd.Series(data=clf.feature_importances_, index=X.columns).sort_values(ascending = False)\n",
    "\n",
    "#only show the features that have scores greater than 0\n",
    "feature_score[feature_score > 0]\n"
   ]
  },
  {
   "cell_type": "code",
   "execution_count": null,
   "metadata": {
    "collapsed": true
   },
   "outputs": [],
   "source": [
    "# Confusion Matrix\n",
    "cm = confusion_matrix(result_df['BEERTYPE'], result_df['PRED_RESULT'])\n",
    "cm"
   ]
  },
  {
   "cell_type": "code",
   "execution_count": null,
   "metadata": {
    "collapsed": true
   },
   "outputs": [],
   "source": [
    "# True Positive Rate\n",
    "TPR = cm[1,1]/(cm[1,1]+cm[1,0])\n",
    "TPR"
   ]
  },
  {
   "cell_type": "code",
   "execution_count": null,
   "metadata": {
    "collapsed": true
   },
   "outputs": [],
   "source": [
    "# False Negative Rate\n",
    "FNR = cm[1,0]/(cm[1,0]+cm[1,1])\n",
    "FNR"
   ]
  },
  {
   "cell_type": "code",
   "execution_count": null,
   "metadata": {
    "collapsed": true
   },
   "outputs": [],
   "source": [
    "# True Negative Rate\n",
    "TNR = cm[0,0]/(cm[0,0]+cm[0,1])\n",
    "TNR"
   ]
  },
  {
   "cell_type": "code",
   "execution_count": null,
   "metadata": {
    "collapsed": true
   },
   "outputs": [],
   "source": [
    "# False Positive Rate\n",
    "FPR = cm[0,1]/(cm[0,1]+cm[0,0])\n",
    "FPR"
   ]
  },
  {
   "cell_type": "code",
   "execution_count": null,
   "metadata": {
    "collapsed": true
   },
   "outputs": [],
   "source": []
  }
 ],
 "metadata": {
  "kernelspec": {
   "display_name": "Python 3",
   "language": "python",
   "name": "python3"
  },
  "language_info": {
   "codemirror_mode": {
    "name": "ipython",
    "version": 3
   },
   "file_extension": ".py",
   "mimetype": "text/x-python",
   "name": "python",
   "nbconvert_exporter": "python",
   "pygments_lexer": "ipython3",
   "version": "3.5.2"
  }
 },
 "nbformat": 4,
 "nbformat_minor": 2
}
