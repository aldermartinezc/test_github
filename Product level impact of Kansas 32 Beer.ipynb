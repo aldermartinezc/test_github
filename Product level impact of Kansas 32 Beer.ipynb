{
 "cells": [
  {
   "cell_type": "markdown",
   "metadata": {},
   "source": [
    "# Product level Impact of 3.2 Beer in Kansas"
   ]
  },
  {
   "cell_type": "code",
   "execution_count": 36,
   "metadata": {
    "collapsed": false
   },
   "outputs": [],
   "source": [
    "# packages used\n",
    "import pandas as pd\n",
    "import numpy as np\n",
    "from sklearn import cluster\n",
    "from sklearn import metrics\n",
    "from sklearn.cluster import KMeans\n",
    "from scipy.spatial.distance import cdist\n",
    "from sklearn.preprocessing import MinMaxScaler\n",
    "import matplotlib as mpl\n",
    "import matplotlib.pyplot as plt\n",
    "import re\n",
    "import statsmodels.formula.api as smf\n",
    "import scipy.stats as stats\n",
    "import pylab as pl\n",
    "%matplotlib inline\n",
    "import seaborn as sns\n",
    "sns.set(style=\"whitegrid\", color_codes=True)"
   ]
  },
  {
   "cell_type": "markdown",
   "metadata": {},
   "source": [
    "### Load Data"
   ]
  },
  {
   "cell_type": "code",
   "execution_count": 4,
   "metadata": {
    "collapsed": true
   },
   "outputs": [],
   "source": [
    "#Stores Data\n",
    "Stores = pd.read_csv('KansasStoreDataV1.csv')\n",
    "#Stores Classification data\n",
    "StoresClass = pd.read_csv('NonLowPointStoresKansasV1.csv', dtype = str)"
   ]
  },
  {
   "cell_type": "code",
   "execution_count": 5,
   "metadata": {
    "collapsed": false
   },
   "outputs": [
    {
     "data": {
      "text/html": [
       "<div>\n",
       "<table border=\"1\" class=\"dataframe\">\n",
       "  <thead>\n",
       "    <tr style=\"text-align: right;\">\n",
       "      <th></th>\n",
       "      <th>STORE_CD</th>\n",
       "      <th>L12M_TY_QTY</th>\n",
       "      <th>PREMISE_TYPE_DSC</th>\n",
       "      <th>CHANNEL_DSC</th>\n",
       "      <th>SUBCHANNEL_DSC</th>\n",
       "      <th>FOOD_TYPE_GROUP_DSC</th>\n",
       "      <th>INDUSTRY_VOL_DSC</th>\n",
       "      <th>CHAIN_IND_FLG</th>\n",
       "      <th>FRANCHISE_FLG</th>\n",
       "      <th>BEER_FLG</th>\n",
       "      <th>...</th>\n",
       "      <th>MALE_POP_5564_PCT</th>\n",
       "      <th>MALE_POP_6574_PCT</th>\n",
       "      <th>MALE_POP_75_PCT</th>\n",
       "      <th>FEMALE_POP_2124_PCT</th>\n",
       "      <th>FEMALE_POP_2534_PCT</th>\n",
       "      <th>FEMALE_POP_3544_PCT</th>\n",
       "      <th>FEMALE_POP_4554_PCT</th>\n",
       "      <th>FEMALE_POP_5564_PCT</th>\n",
       "      <th>FEMALE_POP_6574_PCT</th>\n",
       "      <th>FEMALE_POP_75_PCT</th>\n",
       "    </tr>\n",
       "  </thead>\n",
       "  <tbody>\n",
       "    <tr>\n",
       "      <th>0</th>\n",
       "      <td>102440246</td>\n",
       "      <td>NaN</td>\n",
       "      <td>ON PREMISE</td>\n",
       "      <td>DINING</td>\n",
       "      <td>FAST CASUAL</td>\n",
       "      <td>MEXICAN</td>\n",
       "      <td>UNKNOWN</td>\n",
       "      <td>Y</td>\n",
       "      <td>N</td>\n",
       "      <td>Y</td>\n",
       "      <td>...</td>\n",
       "      <td>0.0625</td>\n",
       "      <td>0.0386</td>\n",
       "      <td>0.0208</td>\n",
       "      <td>0.0248</td>\n",
       "      <td>0.0614</td>\n",
       "      <td>0.0677</td>\n",
       "      <td>0.0667</td>\n",
       "      <td>0.0683</td>\n",
       "      <td>0.0446</td>\n",
       "      <td>0.0307</td>\n",
       "    </tr>\n",
       "    <tr>\n",
       "      <th>1</th>\n",
       "      <td>102137482</td>\n",
       "      <td>NaN</td>\n",
       "      <td>ON PREMISE</td>\n",
       "      <td>BAR/NIGHTCLUB</td>\n",
       "      <td>NEIGHBORHOOD BAR</td>\n",
       "      <td>OTHER</td>\n",
       "      <td>UNKNOWN</td>\n",
       "      <td>N</td>\n",
       "      <td>N</td>\n",
       "      <td>Y</td>\n",
       "      <td>...</td>\n",
       "      <td>0.0620</td>\n",
       "      <td>0.0401</td>\n",
       "      <td>0.0252</td>\n",
       "      <td>0.0262</td>\n",
       "      <td>0.0769</td>\n",
       "      <td>0.0611</td>\n",
       "      <td>0.0572</td>\n",
       "      <td>0.0651</td>\n",
       "      <td>0.0462</td>\n",
       "      <td>0.0367</td>\n",
       "    </tr>\n",
       "    <tr>\n",
       "      <th>2</th>\n",
       "      <td>101739463</td>\n",
       "      <td>NaN</td>\n",
       "      <td>ON PREMISE</td>\n",
       "      <td>RECREATION</td>\n",
       "      <td>GOLF/COUNTRY CLUB</td>\n",
       "      <td>OTHER</td>\n",
       "      <td>UNKNOWN</td>\n",
       "      <td>N</td>\n",
       "      <td>N</td>\n",
       "      <td>Y</td>\n",
       "      <td>...</td>\n",
       "      <td>NaN</td>\n",
       "      <td>NaN</td>\n",
       "      <td>NaN</td>\n",
       "      <td>NaN</td>\n",
       "      <td>NaN</td>\n",
       "      <td>NaN</td>\n",
       "      <td>NaN</td>\n",
       "      <td>NaN</td>\n",
       "      <td>NaN</td>\n",
       "      <td>NaN</td>\n",
       "    </tr>\n",
       "    <tr>\n",
       "      <th>3</th>\n",
       "      <td>107507929</td>\n",
       "      <td>NaN</td>\n",
       "      <td>ON PREMISE</td>\n",
       "      <td>DINING</td>\n",
       "      <td>CASUAL DINING</td>\n",
       "      <td>ETHNIC</td>\n",
       "      <td>UNKNOWN</td>\n",
       "      <td>N</td>\n",
       "      <td>N</td>\n",
       "      <td>Y</td>\n",
       "      <td>...</td>\n",
       "      <td>0.0324</td>\n",
       "      <td>0.0225</td>\n",
       "      <td>0.0132</td>\n",
       "      <td>0.1070</td>\n",
       "      <td>0.0838</td>\n",
       "      <td>0.0494</td>\n",
       "      <td>0.0310</td>\n",
       "      <td>0.0362</td>\n",
       "      <td>0.0247</td>\n",
       "      <td>0.0199</td>\n",
       "    </tr>\n",
       "    <tr>\n",
       "      <th>4</th>\n",
       "      <td>103714966</td>\n",
       "      <td>NaN</td>\n",
       "      <td>ON PREMISE</td>\n",
       "      <td>DINING</td>\n",
       "      <td>CASUAL DINING</td>\n",
       "      <td>ASIAN</td>\n",
       "      <td>UNKNOWN</td>\n",
       "      <td>N</td>\n",
       "      <td>N</td>\n",
       "      <td>Y</td>\n",
       "      <td>...</td>\n",
       "      <td>0.0516</td>\n",
       "      <td>0.0299</td>\n",
       "      <td>0.0134</td>\n",
       "      <td>0.0235</td>\n",
       "      <td>0.0675</td>\n",
       "      <td>0.0774</td>\n",
       "      <td>0.0666</td>\n",
       "      <td>0.0552</td>\n",
       "      <td>0.0355</td>\n",
       "      <td>0.0212</td>\n",
       "    </tr>\n",
       "  </tbody>\n",
       "</table>\n",
       "<p>5 rows × 43 columns</p>\n",
       "</div>"
      ],
      "text/plain": [
       "    STORE_CD  L12M_TY_QTY PREMISE_TYPE_DSC    CHANNEL_DSC     SUBCHANNEL_DSC  \\\n",
       "0  102440246          NaN       ON PREMISE         DINING        FAST CASUAL   \n",
       "1  102137482          NaN       ON PREMISE  BAR/NIGHTCLUB   NEIGHBORHOOD BAR   \n",
       "2  101739463          NaN       ON PREMISE     RECREATION  GOLF/COUNTRY CLUB   \n",
       "3  107507929          NaN       ON PREMISE         DINING      CASUAL DINING   \n",
       "4  103714966          NaN       ON PREMISE         DINING      CASUAL DINING   \n",
       "\n",
       "  FOOD_TYPE_GROUP_DSC INDUSTRY_VOL_DSC CHAIN_IND_FLG FRANCHISE_FLG BEER_FLG  \\\n",
       "0             MEXICAN          UNKNOWN             Y             N        Y   \n",
       "1               OTHER          UNKNOWN             N             N        Y   \n",
       "2               OTHER          UNKNOWN             N             N        Y   \n",
       "3              ETHNIC          UNKNOWN             N             N        Y   \n",
       "4               ASIAN          UNKNOWN             N             N        Y   \n",
       "\n",
       "         ...         MALE_POP_5564_PCT MALE_POP_6574_PCT MALE_POP_75_PCT  \\\n",
       "0        ...                    0.0625            0.0386          0.0208   \n",
       "1        ...                    0.0620            0.0401          0.0252   \n",
       "2        ...                       NaN               NaN             NaN   \n",
       "3        ...                    0.0324            0.0225          0.0132   \n",
       "4        ...                    0.0516            0.0299          0.0134   \n",
       "\n",
       "   FEMALE_POP_2124_PCT  FEMALE_POP_2534_PCT  FEMALE_POP_3544_PCT  \\\n",
       "0               0.0248               0.0614               0.0677   \n",
       "1               0.0262               0.0769               0.0611   \n",
       "2                  NaN                  NaN                  NaN   \n",
       "3               0.1070               0.0838               0.0494   \n",
       "4               0.0235               0.0675               0.0774   \n",
       "\n",
       "   FEMALE_POP_4554_PCT  FEMALE_POP_5564_PCT  FEMALE_POP_6574_PCT  \\\n",
       "0               0.0667               0.0683               0.0446   \n",
       "1               0.0572               0.0651               0.0462   \n",
       "2                  NaN                  NaN                  NaN   \n",
       "3               0.0310               0.0362               0.0247   \n",
       "4               0.0666               0.0552               0.0355   \n",
       "\n",
       "   FEMALE_POP_75_PCT  \n",
       "0             0.0307  \n",
       "1             0.0367  \n",
       "2                NaN  \n",
       "3             0.0199  \n",
       "4             0.0212  \n",
       "\n",
       "[5 rows x 43 columns]"
      ]
     },
     "execution_count": 5,
     "metadata": {},
     "output_type": "execute_result"
    }
   ],
   "source": [
    "Stores.head()"
   ]
  },
  {
   "cell_type": "markdown",
   "metadata": {},
   "source": [
    "#### Clean Data"
   ]
  },
  {
   "cell_type": "code",
   "execution_count": 6,
   "metadata": {
    "collapsed": false
   },
   "outputs": [
    {
     "name": "stdout",
     "output_type": "stream",
     "text": [
      "Stores after removing stores with no depletion data  3098\n",
      "Stores after removing stores with negative  2789\n",
      "Stores after removing stores with no demographic data  2584\n"
     ]
    }
   ],
   "source": [
    "#Remove Stores without Depletion data for the last year (NAs)\n",
    "Stores = Stores.loc[Stores['L12M_TY_QTY'].notnull(),:]\n",
    "print('Stores after removing stores with no depletion data ',len(Stores))\n",
    "\n",
    "#Remove Stores with Negative Depletion data for the last year\n",
    "Stores = Stores.loc[Stores['L12M_TY_QTY'] > 0,:] \n",
    "print('Stores after removing stores with negative ',len(Stores))\n",
    "\n",
    "#Remove Stores without Demographic data (NAs)\n",
    "Stores = Stores.loc[Stores['MALE_POP_5564_PCT'].notnull(),:]\n",
    "print('Stores after removing stores with no demographic data ',len(Stores))\n",
    "\n",
    "Stores = Stores.reset_index(drop=True)\n",
    "\n",
    "#Change Y and N to 1 and 0\n",
    "Stores['CHAIN_IND_FLG'] = Stores['CHAIN_IND_FLG']=='Y'\n",
    "Stores['FRANCHISE_FLG'] = Stores['FRANCHISE_FLG']=='Y'\n",
    "Stores['BEER_FLG'] = Stores['BEER_FLG']=='Y'\n",
    "Stores['WINE_FLG'] = Stores['WINE_FLG']=='Y'\n",
    "Stores['LIQUOR_FLG'] = Stores['LIQUOR_FLG']=='Y'\n",
    "Stores['FINE_WINE_FLG'] = Stores['FINE_WINE_FLG']=='Y'\n",
    "\n",
    "Stores['STORE_CD'] = Stores['STORE_CD'].astype(str)"
   ]
  },
  {
   "cell_type": "code",
   "execution_count": 7,
   "metadata": {
    "collapsed": true
   },
   "outputs": [],
   "source": [
    "#Divide stores data into ON PREMISE and OFF PREMISE\n",
    "\n",
    "StoresON = Stores[Stores.PREMISE_TYPE_DSC == 'ON PREMISE'].reset_index(drop=True)\n",
    "StoresOFF = Stores[Stores.PREMISE_TYPE_DSC == 'OFF PREMISE'].reset_index(drop=True)"
   ]
  },
  {
   "cell_type": "markdown",
   "metadata": {},
   "source": [
    "## ON PREMISE ANALYSIS"
   ]
  },
  {
   "cell_type": "markdown",
   "metadata": {},
   "source": [
    "### Data Preprocessing"
   ]
  },
  {
   "cell_type": "markdown",
   "metadata": {},
   "source": [
    "##### Exploratory Analysis of the columns"
   ]
  },
  {
   "cell_type": "code",
   "execution_count": 8,
   "metadata": {
    "collapsed": false
   },
   "outputs": [
    {
     "data": {
      "text/plain": [
       "Index(['STORE_CD', 'L12M_TY_QTY', 'PREMISE_TYPE_DSC', 'CHANNEL_DSC',\n",
       "       'SUBCHANNEL_DSC', 'FOOD_TYPE_GROUP_DSC', 'INDUSTRY_VOL_DSC',\n",
       "       'CHAIN_IND_FLG', 'FRANCHISE_FLG', 'BEER_FLG', 'WINE_FLG', 'LIQUOR_FLG',\n",
       "       'FINE_WINE_FLG', 'WHITE_POP_PCT', 'BLACK_POP_PCT', 'ASIAN_POP_PCT',\n",
       "       'HISP_POP_PCT', 'LEAST_ACC_HISP_POP_PCT', 'BI_CULTURAL_HISP_POP_PCT',\n",
       "       'MOST_ACC_HISP_POP_PCT', 'OTHER_POP_PCT', 'INCOME_POP_L10_PCT',\n",
       "       'INCOME_POP_1020_PCT', 'INCOME_POP_2030_PCT', 'INCOME_POP_3040_PCT',\n",
       "       'INCOME_POP_4050_PCT', 'INCOME_POP_5075_PCT', 'INCOME_POP_75100_PCT',\n",
       "       'INCOME_POP_G100_PCT', 'MALE_POP_2124_PCT', 'MALE_POP_2534_PCT',\n",
       "       'MALE_POP_3544_PCT', 'MALE_POP_4554_PCT', 'MALE_POP_5564_PCT',\n",
       "       'MALE_POP_6574_PCT', 'MALE_POP_75_PCT', 'FEMALE_POP_2124_PCT',\n",
       "       'FEMALE_POP_2534_PCT', 'FEMALE_POP_3544_PCT', 'FEMALE_POP_4554_PCT',\n",
       "       'FEMALE_POP_5564_PCT', 'FEMALE_POP_6574_PCT', 'FEMALE_POP_75_PCT'],\n",
       "      dtype='object')"
      ]
     },
     "execution_count": 8,
     "metadata": {},
     "output_type": "execute_result"
    }
   ],
   "source": [
    "StoresON.columns"
   ]
  },
  {
   "cell_type": "code",
   "execution_count": 9,
   "metadata": {
    "collapsed": false
   },
   "outputs": [
    {
     "data": {
      "text/plain": [
       "43"
      ]
     },
     "execution_count": 9,
     "metadata": {},
     "output_type": "execute_result"
    }
   ],
   "source": [
    "len(StoresON.columns)"
   ]
  },
  {
   "cell_type": "code",
   "execution_count": 10,
   "metadata": {
    "collapsed": false
   },
   "outputs": [
    {
     "name": "stdout",
     "output_type": "stream",
     "text": [
      "count           627\n",
      "unique          627\n",
      "top       101609933\n",
      "freq              1\n",
      "Name: STORE_CD, dtype: object\n",
      "count     627.000000\n",
      "mean       83.964763\n",
      "std       168.762676\n",
      "min         0.750000\n",
      "25%         7.500000\n",
      "50%        26.000000\n",
      "75%        99.541050\n",
      "max      2891.249700\n",
      "Name: L12M_TY_QTY, dtype: float64\n",
      "count            627\n",
      "unique             1\n",
      "top       ON PREMISE\n",
      "freq             627\n",
      "Name: PREMISE_TYPE_DSC, dtype: object\n",
      "count        627\n",
      "unique         5\n",
      "top       DINING\n",
      "freq         411\n",
      "Name: CHANNEL_DSC, dtype: object\n",
      "count               627\n",
      "unique               17\n",
      "top       CASUAL DINING\n",
      "freq                317\n",
      "Name: SUBCHANNEL_DSC, dtype: object\n",
      "count       627\n",
      "unique       11\n",
      "top       OTHER\n",
      "freq        170\n",
      "Name: FOOD_TYPE_GROUP_DSC, dtype: object\n",
      "count                         627\n",
      "unique                          3\n",
      "top       TOP 50% ON/ TOP 20% OFF\n",
      "freq                          327\n",
      "Name: INDUSTRY_VOL_DSC, dtype: object\n",
      "count       627\n",
      "unique        2\n",
      "top       False\n",
      "freq        503\n",
      "Name: CHAIN_IND_FLG, dtype: object\n",
      "count       627\n",
      "unique        2\n",
      "top       False\n",
      "freq        585\n",
      "Name: FRANCHISE_FLG, dtype: object\n",
      "count      627\n",
      "unique       2\n",
      "top       True\n",
      "freq       626\n",
      "Name: BEER_FLG, dtype: object\n",
      "count      627\n",
      "unique       2\n",
      "top       True\n",
      "freq       497\n",
      "Name: WINE_FLG, dtype: object\n",
      "count      627\n",
      "unique       2\n",
      "top       True\n",
      "freq       422\n",
      "Name: LIQUOR_FLG, dtype: object\n",
      "count       627\n",
      "unique        1\n",
      "top       False\n",
      "freq        627\n",
      "Name: FINE_WINE_FLG, dtype: object\n",
      "count    627.000000\n",
      "mean       0.770779\n",
      "std        0.142607\n",
      "min        0.307300\n",
      "25%        0.694400\n",
      "50%        0.801600\n",
      "75%        0.866700\n",
      "max        0.975400\n",
      "Name: WHITE_POP_PCT, dtype: float64\n",
      "count    627.000000\n",
      "mean       0.060687\n",
      "std        0.058196\n",
      "min        0.000000\n",
      "25%        0.013150\n",
      "50%        0.045300\n",
      "75%        0.082100\n",
      "max        0.348400\n",
      "Name: BLACK_POP_PCT, dtype: float64\n",
      "count    627.000000\n",
      "mean       0.033672\n",
      "std        0.025845\n",
      "min        0.000000\n",
      "25%        0.009100\n",
      "50%        0.030600\n",
      "75%        0.050000\n",
      "max        0.126000\n",
      "Name: ASIAN_POP_PCT, dtype: float64\n",
      "count    627.000000\n",
      "mean       0.109527\n",
      "std        0.109806\n",
      "min        0.004200\n",
      "25%        0.045800\n",
      "50%        0.072900\n",
      "75%        0.123900\n",
      "max        0.601300\n",
      "Name: HISP_POP_PCT, dtype: float64\n",
      "count    627.000000\n",
      "mean       0.022135\n",
      "std        0.022268\n",
      "min        0.000600\n",
      "25%        0.008350\n",
      "50%        0.013500\n",
      "75%        0.026000\n",
      "max        0.113700\n",
      "Name: LEAST_ACC_HISP_POP_PCT, dtype: float64\n",
      "count    627.000000\n",
      "mean       0.036609\n",
      "std        0.042144\n",
      "min        0.001800\n",
      "25%        0.013650\n",
      "50%        0.022000\n",
      "75%        0.039300\n",
      "max        0.235000\n",
      "Name: BI_CULTURAL_HISP_POP_PCT, dtype: float64\n",
      "count    627.000000\n",
      "mean       0.050784\n",
      "std        0.046302\n",
      "min        0.001900\n",
      "25%        0.023300\n",
      "50%        0.036200\n",
      "75%        0.060800\n",
      "max        0.252600\n",
      "Name: MOST_ACC_HISP_POP_PCT, dtype: float64\n",
      "count    627.000000\n",
      "mean       0.017056\n",
      "std        0.006618\n",
      "min        0.000000\n",
      "25%        0.013250\n",
      "50%        0.016700\n",
      "75%        0.021100\n",
      "max        0.046200\n",
      "Name: OTHER_POP_PCT, dtype: float64\n",
      "count    627.000000\n",
      "mean       0.053663\n",
      "std        0.028698\n",
      "min        0.009900\n",
      "25%        0.030100\n",
      "50%        0.048000\n",
      "75%        0.072550\n",
      "max        0.144800\n",
      "Name: INCOME_POP_L10_PCT, dtype: float64\n",
      "count    627.000000\n",
      "mean       0.086168\n",
      "std        0.033504\n",
      "min        0.016100\n",
      "25%        0.058100\n",
      "50%        0.086000\n",
      "75%        0.114250\n",
      "max        0.166400\n",
      "Name: INCOME_POP_1020_PCT, dtype: float64\n",
      "count    627.000000\n",
      "mean       0.098221\n",
      "std        0.027489\n",
      "min        0.028400\n",
      "25%        0.076100\n",
      "50%        0.100800\n",
      "75%        0.119050\n",
      "max        0.156100\n",
      "Name: INCOME_POP_2030_PCT, dtype: float64\n",
      "count    627.000000\n",
      "mean       0.100842\n",
      "std        0.023032\n",
      "min        0.033200\n",
      "25%        0.085300\n",
      "50%        0.103900\n",
      "75%        0.116100\n",
      "max        0.174100\n",
      "Name: INCOME_POP_3040_PCT, dtype: float64\n",
      "count    627.000000\n",
      "mean       0.093051\n",
      "std        0.019744\n",
      "min        0.037400\n",
      "25%        0.081050\n",
      "50%        0.093000\n",
      "75%        0.106500\n",
      "max        0.179000\n",
      "Name: INCOME_POP_4050_PCT, dtype: float64\n",
      "count    627.000000\n",
      "mean       0.194589\n",
      "std        0.026372\n",
      "min        0.116600\n",
      "25%        0.178600\n",
      "50%        0.193400\n",
      "75%        0.206950\n",
      "max        0.302500\n",
      "Name: INCOME_POP_5075_PCT, dtype: float64\n",
      "count    627.000000\n",
      "mean       0.132807\n",
      "std        0.025121\n",
      "min        0.074200\n",
      "25%        0.114500\n",
      "50%        0.133800\n",
      "75%        0.148000\n",
      "max        0.231300\n",
      "Name: INCOME_POP_75100_PCT, dtype: float64\n",
      "count    627.000000\n",
      "mean       0.240658\n",
      "std        0.112713\n",
      "min        0.062900\n",
      "25%        0.160200\n",
      "50%        0.208500\n",
      "75%        0.299500\n",
      "max        0.624000\n",
      "Name: INCOME_POP_G100_PCT, dtype: float64\n",
      "count    627.000000\n",
      "mean       0.031726\n",
      "std        0.020946\n",
      "min        0.014800\n",
      "25%        0.023700\n",
      "50%        0.024900\n",
      "75%        0.028050\n",
      "max        0.152700\n",
      "Name: MALE_POP_2124_PCT, dtype: float64\n",
      "count    627.000000\n",
      "mean       0.069769\n",
      "std        0.015517\n",
      "min        0.031800\n",
      "25%        0.058300\n",
      "50%        0.067700\n",
      "75%        0.078150\n",
      "max        0.116700\n",
      "Name: MALE_POP_2534_PCT, dtype: float64\n",
      "count    627.000000\n",
      "mean       0.061739\n",
      "std        0.007130\n",
      "min        0.039500\n",
      "25%        0.057700\n",
      "50%        0.061700\n",
      "75%        0.066500\n",
      "max        0.084700\n",
      "Name: MALE_POP_3544_PCT, dtype: float64\n",
      "count    627.000000\n",
      "mean       0.057944\n",
      "std        0.007442\n",
      "min        0.028400\n",
      "25%        0.055000\n",
      "50%        0.058100\n",
      "75%        0.062000\n",
      "max        0.080000\n",
      "Name: MALE_POP_4554_PCT, dtype: float64\n",
      "count    627.000000\n",
      "mean       0.061108\n",
      "std        0.011399\n",
      "min        0.027300\n",
      "25%        0.056500\n",
      "50%        0.060300\n",
      "75%        0.065850\n",
      "max        0.117300\n",
      "Name: MALE_POP_5564_PCT, dtype: float64\n",
      "count    627.000000\n",
      "mean       0.040791\n",
      "std        0.010021\n",
      "min        0.017800\n",
      "25%        0.034500\n",
      "50%        0.039800\n",
      "75%        0.045450\n",
      "max        0.090500\n",
      "Name: MALE_POP_6574_PCT, dtype: float64\n",
      "count    627.000000\n",
      "mean       0.026394\n",
      "std        0.010249\n",
      "min        0.009400\n",
      "25%        0.019500\n",
      "50%        0.023600\n",
      "75%        0.031950\n",
      "max        0.063600\n",
      "Name: MALE_POP_75_PCT, dtype: float64\n",
      "count    627.000000\n",
      "mean       0.029899\n",
      "std        0.017499\n",
      "min        0.015300\n",
      "25%        0.023000\n",
      "50%        0.024200\n",
      "75%        0.026600\n",
      "max        0.121200\n",
      "Name: FEMALE_POP_2124_PCT, dtype: float64\n",
      "count    627.000000\n",
      "mean       0.067289\n",
      "std        0.012525\n",
      "min        0.027500\n",
      "25%        0.058500\n",
      "50%        0.068800\n",
      "75%        0.076900\n",
      "max        0.099100\n",
      "Name: FEMALE_POP_2534_PCT, dtype: float64\n",
      "count    627.000000\n",
      "mean       0.060945\n",
      "std        0.007369\n",
      "min        0.029800\n",
      "25%        0.057550\n",
      "50%        0.061900\n",
      "75%        0.063950\n",
      "max        0.088600\n",
      "Name: FEMALE_POP_3544_PCT, dtype: float64\n",
      "count    627.000000\n",
      "mean       0.059171\n",
      "std        0.008310\n",
      "min        0.027400\n",
      "25%        0.054900\n",
      "50%        0.058700\n",
      "75%        0.063200\n",
      "max        0.085000\n",
      "Name: FEMALE_POP_4554_PCT, dtype: float64\n",
      "count    627.000000\n",
      "mean       0.064619\n",
      "std        0.010518\n",
      "min        0.029800\n",
      "25%        0.058100\n",
      "50%        0.065800\n",
      "75%        0.071150\n",
      "max        0.107600\n",
      "Name: FEMALE_POP_5564_PCT, dtype: float64\n",
      "count    627.000000\n",
      "mean       0.045344\n",
      "std        0.010376\n",
      "min        0.020900\n",
      "25%        0.038500\n",
      "50%        0.044700\n",
      "75%        0.052200\n",
      "max        0.103800\n",
      "Name: FEMALE_POP_6574_PCT, dtype: float64\n",
      "count    627.000000\n",
      "mean       0.038015\n",
      "std        0.013436\n",
      "min        0.012100\n",
      "25%        0.028750\n",
      "50%        0.034900\n",
      "75%        0.046350\n",
      "max        0.104400\n",
      "Name: FEMALE_POP_75_PCT, dtype: float64\n"
     ]
    }
   ],
   "source": [
    "for col in StoresON.columns:\n",
    "    print(StoresON[col].describe())"
   ]
  },
  {
   "cell_type": "code",
   "execution_count": 11,
   "metadata": {
    "collapsed": true
   },
   "outputs": [],
   "source": [
    "#Remove Not Necessary Columns\n",
    "del StoresON['PREMISE_TYPE_DSC'] #Unique\n",
    "del StoresON['BEER_FLG'] # No Variance\n",
    "del StoresON['FINE_WINE_FLG'] # No Variance\n"
   ]
  },
  {
   "cell_type": "code",
   "execution_count": 12,
   "metadata": {
    "collapsed": false,
    "scrolled": false
   },
   "outputs": [
    {
     "name": "stderr",
     "output_type": "stream",
     "text": [
      "C:\\Users\\qifan\\Anaconda3\\lib\\site-packages\\statsmodels\\nonparametric\\kdetools.py:20: VisibleDeprecationWarning: using a non-integer number instead of an integer will result in an error in the future\n",
      "  y = X[:m/2+1] + np.r_[0,X[m/2+1:],0]*1j\n"
     ]
    },
    {
     "data": {
      "text/plain": [
       "<matplotlib.text.Text at 0x1a3894ed2b0>"
      ]
     },
     "execution_count": 12,
     "metadata": {},
     "output_type": "execute_result"
    },
    {
     "data": {
      "image/png": "[encoded data removed]",
      "text/plain": [
       "<matplotlib.figure.Figure at 0x1a389013f98>"
      ]
     },
     "metadata": {},
     "output_type": "display_data"
    }
   ],
   "source": [
    "#Distribution of Depletions\n",
    "f, axes = plt.subplots(1,2, figsize=(15, 3))\n",
    "plt.subplot(1,2,2)\n",
    "plt.title('Histogram of Log(Depletions)')\n",
    "sns.distplot(np.log10(StoresON['L12M_TY_QTY'].values))\n",
    "plt.xlabel('L12M_TQ_QTY')\n",
    "plt.ylabel('Frequency')\n",
    "\n",
    "plt.subplot(1,2,1)\n",
    "plt.title('Distribution of Depletions')\n",
    "sns.distplot(StoresON['L12M_TY_QTY'])\n",
    "plt.xlabel('L12M_TQ_QTY')\n",
    "plt.ylabel('Frequency')"
   ]
  },
  {
   "cell_type": "code",
   "execution_count": 13,
   "metadata": {
    "collapsed": true
   },
   "outputs": [],
   "source": [
    "#Binarize function\n",
    "def binarize(dataframe , column):\n",
    "    dataframe = pd.concat([dataframe ,pd.get_dummies(dataframe[column] , prefix = ['B_'+c for c in column])] , axis = 1)\n",
    "    return(dataframe)"
   ]
  },
  {
   "cell_type": "code",
   "execution_count": 14,
   "metadata": {
    "collapsed": false
   },
   "outputs": [
    {
     "data": {
      "text/plain": [
       "Index(['STORE_CD', 'L12M_TY_QTY', 'CHANNEL_DSC', 'SUBCHANNEL_DSC',\n",
       "       'FOOD_TYPE_GROUP_DSC', 'INDUSTRY_VOL_DSC', 'CHAIN_IND_FLG',\n",
       "       'FRANCHISE_FLG', 'WINE_FLG', 'LIQUOR_FLG', 'WHITE_POP_PCT',\n",
       "       'BLACK_POP_PCT', 'ASIAN_POP_PCT', 'HISP_POP_PCT',\n",
       "       'LEAST_ACC_HISP_POP_PCT', 'BI_CULTURAL_HISP_POP_PCT',\n",
       "       'MOST_ACC_HISP_POP_PCT', 'OTHER_POP_PCT', 'INCOME_POP_L10_PCT',\n",
       "       'INCOME_POP_1020_PCT', 'INCOME_POP_2030_PCT', 'INCOME_POP_3040_PCT',\n",
       "       'INCOME_POP_4050_PCT', 'INCOME_POP_5075_PCT', 'INCOME_POP_75100_PCT',\n",
       "       'INCOME_POP_G100_PCT', 'MALE_POP_2124_PCT', 'MALE_POP_2534_PCT',\n",
       "       'MALE_POP_3544_PCT', 'MALE_POP_4554_PCT', 'MALE_POP_5564_PCT',\n",
       "       'MALE_POP_6574_PCT', 'MALE_POP_75_PCT', 'FEMALE_POP_2124_PCT',\n",
       "       'FEMALE_POP_2534_PCT', 'FEMALE_POP_3544_PCT', 'FEMALE_POP_4554_PCT',\n",
       "       'FEMALE_POP_5564_PCT', 'FEMALE_POP_6574_PCT', 'FEMALE_POP_75_PCT'],\n",
       "      dtype='object')"
      ]
     },
     "execution_count": 14,
     "metadata": {},
     "output_type": "execute_result"
    }
   ],
   "source": [
    "StoresON.columns"
   ]
  },
  {
   "cell_type": "code",
   "execution_count": 15,
   "metadata": {
    "collapsed": true
   },
   "outputs": [],
   "source": [
    "#Get Dummies\n",
    "DummiesColumnsON = ['CHANNEL_DSC','SUBCHANNEL_DSC','FOOD_TYPE_GROUP_DSC','INDUSTRY_VOL_DSC']\n",
    "StoresC_ON = binarize(StoresON, DummiesColumnsON)\n",
    "\n",
    "#Normalize Depletions using Min-Max method\n",
    "scaler = MinMaxScaler() \n",
    "StoresC_ON['NORM_L12M_TY_QTY'] = scaler.fit_transform(StoresON['L12M_TY_QTY'].values.reshape(-1,1)) \n"
   ]
  },
  {
   "cell_type": "code",
   "execution_count": 16,
   "metadata": {
    "collapsed": true
   },
   "outputs": [],
   "source": [
    "# prepare data to fit model\n",
    "X_labels_ON = [c for c in StoresC_ON.columns if c not in ['CHANNEL_DSC','SUBCHANNEL_DSC','FOOD_TYPE_GROUP_DSC','INDUSTRY_VOL_DSC',\n",
    "                                                     'STORE_CD','L12M_TY_QTY']]\n",
    "X_ON = StoresC_ON.loc[:,X_labels_ON]"
   ]
  },
  {
   "cell_type": "code",
   "execution_count": 17,
   "metadata": {
    "collapsed": false
   },
   "outputs": [
    {
     "data": {
      "text/html": [
       "<div>\n",
       "<table border=\"1\" class=\"dataframe\">\n",
       "  <thead>\n",
       "    <tr style=\"text-align: right;\">\n",
       "      <th></th>\n",
       "      <th>CHAIN_IND_FLG</th>\n",
       "      <th>FRANCHISE_FLG</th>\n",
       "      <th>WINE_FLG</th>\n",
       "      <th>LIQUOR_FLG</th>\n",
       "      <th>WHITE_POP_PCT</th>\n",
       "      <th>BLACK_POP_PCT</th>\n",
       "      <th>ASIAN_POP_PCT</th>\n",
       "      <th>HISP_POP_PCT</th>\n",
       "      <th>LEAST_ACC_HISP_POP_PCT</th>\n",
       "      <th>BI_CULTURAL_HISP_POP_PCT</th>\n",
       "      <th>...</th>\n",
       "      <th>B_FOOD_TYPE_GROUP_DSC_OTHER</th>\n",
       "      <th>B_FOOD_TYPE_GROUP_DSC_PIZZA</th>\n",
       "      <th>B_FOOD_TYPE_GROUP_DSC_SEAFOOD</th>\n",
       "      <th>B_FOOD_TYPE_GROUP_DSC_SMALL FOOD</th>\n",
       "      <th>B_FOOD_TYPE_GROUP_DSC_STEAK</th>\n",
       "      <th>B_FOOD_TYPE_GROUP_DSC_VARIED MENU</th>\n",
       "      <th>B_INDUSTRY_VOL_DSC_LOWEST 20% ON/ LOWEST 20% OFF</th>\n",
       "      <th>B_INDUSTRY_VOL_DSC_MID 30% ON/ MID 60% OFF</th>\n",
       "      <th>B_INDUSTRY_VOL_DSC_TOP 50% ON/ TOP 20% OFF</th>\n",
       "      <th>NORM_L12M_TY_QTY</th>\n",
       "    </tr>\n",
       "  </thead>\n",
       "  <tbody>\n",
       "    <tr>\n",
       "      <th>0</th>\n",
       "      <td>False</td>\n",
       "      <td>False</td>\n",
       "      <td>False</td>\n",
       "      <td>False</td>\n",
       "      <td>0.9009</td>\n",
       "      <td>0.0147</td>\n",
       "      <td>0.0065</td>\n",
       "      <td>0.0529</td>\n",
       "      <td>0.0100</td>\n",
       "      <td>0.0125</td>\n",
       "      <td>...</td>\n",
       "      <td>1</td>\n",
       "      <td>0</td>\n",
       "      <td>0</td>\n",
       "      <td>0</td>\n",
       "      <td>0</td>\n",
       "      <td>0</td>\n",
       "      <td>1</td>\n",
       "      <td>0</td>\n",
       "      <td>0</td>\n",
       "      <td>0.001124</td>\n",
       "    </tr>\n",
       "    <tr>\n",
       "      <th>1</th>\n",
       "      <td>False</td>\n",
       "      <td>False</td>\n",
       "      <td>True</td>\n",
       "      <td>True</td>\n",
       "      <td>0.7495</td>\n",
       "      <td>0.0968</td>\n",
       "      <td>0.0631</td>\n",
       "      <td>0.0668</td>\n",
       "      <td>0.0133</td>\n",
       "      <td>0.0179</td>\n",
       "      <td>...</td>\n",
       "      <td>0</td>\n",
       "      <td>0</td>\n",
       "      <td>0</td>\n",
       "      <td>0</td>\n",
       "      <td>0</td>\n",
       "      <td>1</td>\n",
       "      <td>0</td>\n",
       "      <td>0</td>\n",
       "      <td>1</td>\n",
       "      <td>0.012368</td>\n",
       "    </tr>\n",
       "    <tr>\n",
       "      <th>2</th>\n",
       "      <td>False</td>\n",
       "      <td>False</td>\n",
       "      <td>False</td>\n",
       "      <td>False</td>\n",
       "      <td>0.8433</td>\n",
       "      <td>0.0436</td>\n",
       "      <td>0.0080</td>\n",
       "      <td>0.0510</td>\n",
       "      <td>0.0101</td>\n",
       "      <td>0.0161</td>\n",
       "      <td>...</td>\n",
       "      <td>1</td>\n",
       "      <td>0</td>\n",
       "      <td>0</td>\n",
       "      <td>0</td>\n",
       "      <td>0</td>\n",
       "      <td>0</td>\n",
       "      <td>0</td>\n",
       "      <td>0</td>\n",
       "      <td>1</td>\n",
       "      <td>0.001470</td>\n",
       "    </tr>\n",
       "    <tr>\n",
       "      <th>3</th>\n",
       "      <td>False</td>\n",
       "      <td>False</td>\n",
       "      <td>True</td>\n",
       "      <td>True</td>\n",
       "      <td>0.9453</td>\n",
       "      <td>0.0098</td>\n",
       "      <td>0.0035</td>\n",
       "      <td>0.0202</td>\n",
       "      <td>0.0043</td>\n",
       "      <td>0.0064</td>\n",
       "      <td>...</td>\n",
       "      <td>1</td>\n",
       "      <td>0</td>\n",
       "      <td>0</td>\n",
       "      <td>0</td>\n",
       "      <td>0</td>\n",
       "      <td>0</td>\n",
       "      <td>0</td>\n",
       "      <td>1</td>\n",
       "      <td>0</td>\n",
       "      <td>0.000432</td>\n",
       "    </tr>\n",
       "    <tr>\n",
       "      <th>4</th>\n",
       "      <td>True</td>\n",
       "      <td>False</td>\n",
       "      <td>True</td>\n",
       "      <td>True</td>\n",
       "      <td>0.7901</td>\n",
       "      <td>0.0996</td>\n",
       "      <td>0.0231</td>\n",
       "      <td>0.0655</td>\n",
       "      <td>0.0116</td>\n",
       "      <td>0.0200</td>\n",
       "      <td>...</td>\n",
       "      <td>0</td>\n",
       "      <td>0</td>\n",
       "      <td>0</td>\n",
       "      <td>0</td>\n",
       "      <td>0</td>\n",
       "      <td>0</td>\n",
       "      <td>0</td>\n",
       "      <td>0</td>\n",
       "      <td>1</td>\n",
       "      <td>0.040554</td>\n",
       "    </tr>\n",
       "  </tbody>\n",
       "</table>\n",
       "<p>5 rows × 71 columns</p>\n",
       "</div>"
      ],
      "text/plain": [
       "  CHAIN_IND_FLG FRANCHISE_FLG WINE_FLG LIQUOR_FLG  WHITE_POP_PCT  \\\n",
       "0         False         False    False      False         0.9009   \n",
       "1         False         False     True       True         0.7495   \n",
       "2         False         False    False      False         0.8433   \n",
       "3         False         False     True       True         0.9453   \n",
       "4          True         False     True       True         0.7901   \n",
       "\n",
       "   BLACK_POP_PCT  ASIAN_POP_PCT  HISP_POP_PCT  LEAST_ACC_HISP_POP_PCT  \\\n",
       "0         0.0147         0.0065        0.0529                  0.0100   \n",
       "1         0.0968         0.0631        0.0668                  0.0133   \n",
       "2         0.0436         0.0080        0.0510                  0.0101   \n",
       "3         0.0098         0.0035        0.0202                  0.0043   \n",
       "4         0.0996         0.0231        0.0655                  0.0116   \n",
       "\n",
       "   BI_CULTURAL_HISP_POP_PCT        ...         B_FOOD_TYPE_GROUP_DSC_OTHER  \\\n",
       "0                    0.0125        ...                                   1   \n",
       "1                    0.0179        ...                                   0   \n",
       "2                    0.0161        ...                                   1   \n",
       "3                    0.0064        ...                                   1   \n",
       "4                    0.0200        ...                                   0   \n",
       "\n",
       "   B_FOOD_TYPE_GROUP_DSC_PIZZA  B_FOOD_TYPE_GROUP_DSC_SEAFOOD  \\\n",
       "0                            0                              0   \n",
       "1                            0                              0   \n",
       "2                            0                              0   \n",
       "3                            0                              0   \n",
       "4                            0                              0   \n",
       "\n",
       "   B_FOOD_TYPE_GROUP_DSC_SMALL FOOD  B_FOOD_TYPE_GROUP_DSC_STEAK  \\\n",
       "0                                 0                            0   \n",
       "1                                 0                            0   \n",
       "2                                 0                            0   \n",
       "3                                 0                            0   \n",
       "4                                 0                            0   \n",
       "\n",
       "   B_FOOD_TYPE_GROUP_DSC_VARIED MENU  \\\n",
       "0                                  0   \n",
       "1                                  1   \n",
       "2                                  0   \n",
       "3                                  0   \n",
       "4                                  0   \n",
       "\n",
       "   B_INDUSTRY_VOL_DSC_LOWEST 20% ON/ LOWEST 20% OFF  \\\n",
       "0                                                 1   \n",
       "1                                                 0   \n",
       "2                                                 0   \n",
       "3                                                 0   \n",
       "4                                                 0   \n",
       "\n",
       "   B_INDUSTRY_VOL_DSC_MID 30% ON/ MID 60% OFF  \\\n",
       "0                                           0   \n",
       "1                                           0   \n",
       "2                                           0   \n",
       "3                                           1   \n",
       "4                                           0   \n",
       "\n",
       "   B_INDUSTRY_VOL_DSC_TOP 50% ON/ TOP 20% OFF  NORM_L12M_TY_QTY  \n",
       "0                                           0          0.001124  \n",
       "1                                           1          0.012368  \n",
       "2                                           1          0.001470  \n",
       "3                                           0          0.000432  \n",
       "4                                           1          0.040554  \n",
       "\n",
       "[5 rows x 71 columns]"
      ]
     },
     "execution_count": 17,
     "metadata": {},
     "output_type": "execute_result"
    }
   ],
   "source": [
    "X_ON.head()"
   ]
  },
  {
   "cell_type": "markdown",
   "metadata": {},
   "source": [
    "### Clustering"
   ]
  },
  {
   "cell_type": "markdown",
   "metadata": {},
   "source": [
    "#### Choose number of Clusters"
   ]
  },
  {
   "cell_type": "code",
   "execution_count": 18,
   "metadata": {
    "collapsed": true
   },
   "outputs": [],
   "source": [
    "#Tunned Elbow Method ON\n",
    "K = range(1, 20)\n",
    "meandistortions = []\n",
    "for k in K:\n",
    "    kmeans = KMeans(n_clusters=k, n_jobs= -2)\n",
    "    kmeans.fit(X_ON)\n",
    "    meandistortions.append(sum(np.min(cdist(X_ON, kmeans.cluster_centers_, 'euclidean'), axis=1)) / X_ON.shape[0])"
   ]
  },
  {
   "cell_type": "code",
   "execution_count": 19,
   "metadata": {
    "collapsed": false,
    "scrolled": true
   },
   "outputs": [
    {
     "data": {
      "image/png": "[encoded data removed]",
      "text/plain": [
       "<matplotlib.figure.Figure at 0x1a38a5d5400>"
      ]
     },
     "metadata": {},
     "output_type": "display_data"
    }
   ],
   "source": [
    "plt.plot(K, meandistortions, 'bx-')\n",
    "plt.xlabel('k')\n",
    "plt.ylabel('Average distortion')\n",
    "plt.title('Selecting k with the Elbow Method')\n",
    "plt.show()"
   ]
  },
  {
   "cell_type": "code",
   "execution_count": 20,
   "metadata": {
    "collapsed": false
   },
   "outputs": [
    {
     "data": {
      "text/html": [
       "<div>\n",
       "<table border=\"1\" class=\"dataframe\">\n",
       "  <thead>\n",
       "    <tr style=\"text-align: right;\">\n",
       "      <th></th>\n",
       "      <th>NumberOfClusters</th>\n",
       "      <th>silhouette_score</th>\n",
       "    </tr>\n",
       "  </thead>\n",
       "  <tbody>\n",
       "    <tr>\n",
       "      <th>0</th>\n",
       "      <td>2</td>\n",
       "      <td>0.306309</td>\n",
       "    </tr>\n",
       "    <tr>\n",
       "      <th>1</th>\n",
       "      <td>3</td>\n",
       "      <td>0.279501</td>\n",
       "    </tr>\n",
       "    <tr>\n",
       "      <th>2</th>\n",
       "      <td>4</td>\n",
       "      <td>0.282943</td>\n",
       "    </tr>\n",
       "    <tr>\n",
       "      <th>3</th>\n",
       "      <td>5</td>\n",
       "      <td>0.255370</td>\n",
       "    </tr>\n",
       "    <tr>\n",
       "      <th>4</th>\n",
       "      <td>6</td>\n",
       "      <td>0.257262</td>\n",
       "    </tr>\n",
       "    <tr>\n",
       "      <th>5</th>\n",
       "      <td>7</td>\n",
       "      <td>0.264969</td>\n",
       "    </tr>\n",
       "    <tr>\n",
       "      <th>6</th>\n",
       "      <td>8</td>\n",
       "      <td>0.256073</td>\n",
       "    </tr>\n",
       "    <tr>\n",
       "      <th>7</th>\n",
       "      <td>9</td>\n",
       "      <td>0.289801</td>\n",
       "    </tr>\n",
       "    <tr>\n",
       "      <th>8</th>\n",
       "      <td>10</td>\n",
       "      <td>0.303195</td>\n",
       "    </tr>\n",
       "    <tr>\n",
       "      <th>9</th>\n",
       "      <td>11</td>\n",
       "      <td>0.289574</td>\n",
       "    </tr>\n",
       "  </tbody>\n",
       "</table>\n",
       "</div>"
      ],
      "text/plain": [
       "   NumberOfClusters  silhouette_score\n",
       "0                 2          0.306309\n",
       "1                 3          0.279501\n",
       "2                 4          0.282943\n",
       "3                 5          0.255370\n",
       "4                 6          0.257262\n",
       "5                 7          0.264969\n",
       "6                 8          0.256073\n",
       "7                 9          0.289801\n",
       "8                10          0.303195\n",
       "9                11          0.289574"
      ]
     },
     "execution_count": 20,
     "metadata": {},
     "output_type": "execute_result"
    }
   ],
   "source": [
    "#Silhouette_score\n",
    "results = []\n",
    "NumberClusters = range(2,12,1)\n",
    "for k in NumberClusters:\n",
    "    kmeans_model = cluster.KMeans(n_clusters=k, random_state=1, n_jobs = -2).fit(X_ON)\n",
    "    labels = kmeans_model.labels_\n",
    "    score = metrics.silhouette_score(X_ON, labels, metric='euclidean')\n",
    "    results.append((k,score))\n",
    "\n",
    "Clustering_Score = pd.DataFrame(data=results,columns=['NumberOfClusters','silhouette_score'])\n",
    "Clustering_Score"
   ]
  },
  {
   "cell_type": "code",
   "execution_count": 21,
   "metadata": {
    "collapsed": true
   },
   "outputs": [],
   "source": [
    "#Cluster the Data ON\n",
    "kmeans_model = cluster.KMeans(n_clusters=4, random_state=1, n_jobs = -2).fit(X_ON)\n",
    "labels = kmeans_model.labels_"
   ]
  },
  {
   "cell_type": "code",
   "execution_count": 22,
   "metadata": {
    "collapsed": true
   },
   "outputs": [],
   "source": [
    "#Assign Cluster to Data\n",
    "StoresON['CLUSTER'] = labels"
   ]
  },
  {
   "cell_type": "code",
   "execution_count": 23,
   "metadata": {
    "collapsed": false
   },
   "outputs": [
    {
     "data": {
      "text/html": [
       "<div>\n",
       "<table border=\"1\" class=\"dataframe\">\n",
       "  <thead>\n",
       "    <tr style=\"text-align: right;\">\n",
       "      <th></th>\n",
       "      <th>STORE_CD</th>\n",
       "      <th>L12M_TY_QTY</th>\n",
       "      <th>CHANNEL_DSC</th>\n",
       "      <th>SUBCHANNEL_DSC</th>\n",
       "      <th>FOOD_TYPE_GROUP_DSC</th>\n",
       "      <th>INDUSTRY_VOL_DSC</th>\n",
       "      <th>CHAIN_IND_FLG</th>\n",
       "      <th>FRANCHISE_FLG</th>\n",
       "      <th>WINE_FLG</th>\n",
       "      <th>LIQUOR_FLG</th>\n",
       "      <th>...</th>\n",
       "      <th>MALE_POP_6574_PCT</th>\n",
       "      <th>MALE_POP_75_PCT</th>\n",
       "      <th>FEMALE_POP_2124_PCT</th>\n",
       "      <th>FEMALE_POP_2534_PCT</th>\n",
       "      <th>FEMALE_POP_3544_PCT</th>\n",
       "      <th>FEMALE_POP_4554_PCT</th>\n",
       "      <th>FEMALE_POP_5564_PCT</th>\n",
       "      <th>FEMALE_POP_6574_PCT</th>\n",
       "      <th>FEMALE_POP_75_PCT</th>\n",
       "      <th>CLUSTER</th>\n",
       "    </tr>\n",
       "  </thead>\n",
       "  <tbody>\n",
       "    <tr>\n",
       "      <th>0</th>\n",
       "      <td>101914477</td>\n",
       "      <td>4.000</td>\n",
       "      <td>BAR/NIGHTCLUB</td>\n",
       "      <td>NEIGHBORHOOD BAR</td>\n",
       "      <td>OTHER</td>\n",
       "      <td>LOWEST 20% ON/ LOWEST 20% OFF</td>\n",
       "      <td>False</td>\n",
       "      <td>False</td>\n",
       "      <td>False</td>\n",
       "      <td>False</td>\n",
       "      <td>...</td>\n",
       "      <td>0.0415</td>\n",
       "      <td>0.0285</td>\n",
       "      <td>0.0251</td>\n",
       "      <td>0.0676</td>\n",
       "      <td>0.0624</td>\n",
       "      <td>0.0578</td>\n",
       "      <td>0.0648</td>\n",
       "      <td>0.0460</td>\n",
       "      <td>0.0433</td>\n",
       "      <td>1</td>\n",
       "    </tr>\n",
       "    <tr>\n",
       "      <th>1</th>\n",
       "      <td>103707016</td>\n",
       "      <td>36.500</td>\n",
       "      <td>BAR/NIGHTCLUB</td>\n",
       "      <td>NEIGHBORHOOD BAR</td>\n",
       "      <td>VARIED MENU</td>\n",
       "      <td>TOP 50% ON/ TOP 20% OFF</td>\n",
       "      <td>False</td>\n",
       "      <td>False</td>\n",
       "      <td>True</td>\n",
       "      <td>True</td>\n",
       "      <td>...</td>\n",
       "      <td>0.0405</td>\n",
       "      <td>0.0228</td>\n",
       "      <td>0.0268</td>\n",
       "      <td>0.0641</td>\n",
       "      <td>0.0622</td>\n",
       "      <td>0.0644</td>\n",
       "      <td>0.0676</td>\n",
       "      <td>0.0435</td>\n",
       "      <td>0.0318</td>\n",
       "      <td>1</td>\n",
       "    </tr>\n",
       "    <tr>\n",
       "      <th>2</th>\n",
       "      <td>101930302</td>\n",
       "      <td>5.000</td>\n",
       "      <td>BAR/NIGHTCLUB</td>\n",
       "      <td>NEIGHBORHOOD BAR</td>\n",
       "      <td>OTHER</td>\n",
       "      <td>TOP 50% ON/ TOP 20% OFF</td>\n",
       "      <td>False</td>\n",
       "      <td>False</td>\n",
       "      <td>False</td>\n",
       "      <td>False</td>\n",
       "      <td>...</td>\n",
       "      <td>0.0519</td>\n",
       "      <td>0.0328</td>\n",
       "      <td>0.0224</td>\n",
       "      <td>0.0561</td>\n",
       "      <td>0.0551</td>\n",
       "      <td>0.0613</td>\n",
       "      <td>0.0715</td>\n",
       "      <td>0.0577</td>\n",
       "      <td>0.0472</td>\n",
       "      <td>1</td>\n",
       "    </tr>\n",
       "    <tr>\n",
       "      <th>3</th>\n",
       "      <td>101943225</td>\n",
       "      <td>2.000</td>\n",
       "      <td>BAR/NIGHTCLUB</td>\n",
       "      <td>NEIGHBORHOOD BAR</td>\n",
       "      <td>OTHER</td>\n",
       "      <td>MID 30% ON/ MID 60% OFF</td>\n",
       "      <td>False</td>\n",
       "      <td>False</td>\n",
       "      <td>True</td>\n",
       "      <td>True</td>\n",
       "      <td>...</td>\n",
       "      <td>0.0435</td>\n",
       "      <td>0.0283</td>\n",
       "      <td>0.0223</td>\n",
       "      <td>0.0527</td>\n",
       "      <td>0.0614</td>\n",
       "      <td>0.0694</td>\n",
       "      <td>0.0696</td>\n",
       "      <td>0.0473</td>\n",
       "      <td>0.0435</td>\n",
       "      <td>1</td>\n",
       "    </tr>\n",
       "    <tr>\n",
       "      <th>4</th>\n",
       "      <td>107487797</td>\n",
       "      <td>117.972</td>\n",
       "      <td>BAR/NIGHTCLUB</td>\n",
       "      <td>SPORTS BAR</td>\n",
       "      <td>AMERICAN</td>\n",
       "      <td>TOP 50% ON/ TOP 20% OFF</td>\n",
       "      <td>True</td>\n",
       "      <td>False</td>\n",
       "      <td>True</td>\n",
       "      <td>True</td>\n",
       "      <td>...</td>\n",
       "      <td>0.0414</td>\n",
       "      <td>0.0207</td>\n",
       "      <td>0.0230</td>\n",
       "      <td>0.0575</td>\n",
       "      <td>0.0688</td>\n",
       "      <td>0.0657</td>\n",
       "      <td>0.0663</td>\n",
       "      <td>0.0462</td>\n",
       "      <td>0.0314</td>\n",
       "      <td>1</td>\n",
       "    </tr>\n",
       "  </tbody>\n",
       "</table>\n",
       "<p>5 rows × 41 columns</p>\n",
       "</div>"
      ],
      "text/plain": [
       "    STORE_CD  L12M_TY_QTY    CHANNEL_DSC    SUBCHANNEL_DSC  \\\n",
       "0  101914477        4.000  BAR/NIGHTCLUB  NEIGHBORHOOD BAR   \n",
       "1  103707016       36.500  BAR/NIGHTCLUB  NEIGHBORHOOD BAR   \n",
       "2  101930302        5.000  BAR/NIGHTCLUB  NEIGHBORHOOD BAR   \n",
       "3  101943225        2.000  BAR/NIGHTCLUB  NEIGHBORHOOD BAR   \n",
       "4  107487797      117.972  BAR/NIGHTCLUB        SPORTS BAR   \n",
       "\n",
       "  FOOD_TYPE_GROUP_DSC               INDUSTRY_VOL_DSC CHAIN_IND_FLG  \\\n",
       "0               OTHER  LOWEST 20% ON/ LOWEST 20% OFF         False   \n",
       "1         VARIED MENU        TOP 50% ON/ TOP 20% OFF         False   \n",
       "2               OTHER        TOP 50% ON/ TOP 20% OFF         False   \n",
       "3               OTHER        MID 30% ON/ MID 60% OFF         False   \n",
       "4            AMERICAN        TOP 50% ON/ TOP 20% OFF          True   \n",
       "\n",
       "  FRANCHISE_FLG WINE_FLG LIQUOR_FLG   ...     MALE_POP_6574_PCT  \\\n",
       "0         False    False      False   ...                0.0415   \n",
       "1         False     True       True   ...                0.0405   \n",
       "2         False    False      False   ...                0.0519   \n",
       "3         False     True       True   ...                0.0435   \n",
       "4         False     True       True   ...                0.0414   \n",
       "\n",
       "   MALE_POP_75_PCT  FEMALE_POP_2124_PCT  FEMALE_POP_2534_PCT  \\\n",
       "0           0.0285               0.0251               0.0676   \n",
       "1           0.0228               0.0268               0.0641   \n",
       "2           0.0328               0.0224               0.0561   \n",
       "3           0.0283               0.0223               0.0527   \n",
       "4           0.0207               0.0230               0.0575   \n",
       "\n",
       "   FEMALE_POP_3544_PCT  FEMALE_POP_4554_PCT  FEMALE_POP_5564_PCT  \\\n",
       "0               0.0624               0.0578               0.0648   \n",
       "1               0.0622               0.0644               0.0676   \n",
       "2               0.0551               0.0613               0.0715   \n",
       "3               0.0614               0.0694               0.0696   \n",
       "4               0.0688               0.0657               0.0663   \n",
       "\n",
       "   FEMALE_POP_6574_PCT  FEMALE_POP_75_PCT  CLUSTER  \n",
       "0               0.0460             0.0433        1  \n",
       "1               0.0435             0.0318        1  \n",
       "2               0.0577             0.0472        1  \n",
       "3               0.0473             0.0435        1  \n",
       "4               0.0462             0.0314        1  \n",
       "\n",
       "[5 rows x 41 columns]"
      ]
     },
     "execution_count": 23,
     "metadata": {},
     "output_type": "execute_result"
    }
   ],
   "source": [
    "StoresON.head()"
   ]
  },
  {
   "cell_type": "code",
   "execution_count": null,
   "metadata": {
    "collapsed": true
   },
   "outputs": [],
   "source": []
  },
  {
   "cell_type": "markdown",
   "metadata": {},
   "source": [
    "# import product data for On premise"
   ]
  },
  {
   "cell_type": "code",
   "execution_count": 24,
   "metadata": {
    "collapsed": false
   },
   "outputs": [
    {
     "data": {
      "text/plain": [
       "0       CORONA EX 3.2 6PK BT\n",
       "1      CORONA EX 3.2 12PK BT\n",
       "2          CORONA LT 18PK BT\n",
       "3      MODELO ESP 3.2 6PK BT\n",
       "4     MODELO ESP 3.2 12PK BT\n",
       "5    CORONA LIGHT 1/2 BL KEG\n",
       "6    MODELO ESP 3.2 12PK CAN\n",
       "Name: ITEM_MASTER_SKU_DSC, dtype: object"
      ]
     },
     "execution_count": 24,
     "metadata": {},
     "output_type": "execute_result"
    }
   ],
   "source": [
    "LowPointOn = pd.read_csv('KansasLowPointOnProducts.csv')\n",
    "Top5LowPointOn = LowPointOn.head(7)['ITEM_MASTER_SKU_DSC']\n",
    "Top5LowPointOn"
   ]
  },
  {
   "cell_type": "code",
   "execution_count": 25,
   "metadata": {
    "collapsed": false
   },
   "outputs": [
    {
     "data": {
      "text/html": [
       "<div>\n",
       "<table border=\"1\" class=\"dataframe\">\n",
       "  <thead>\n",
       "    <tr style=\"text-align: right;\">\n",
       "      <th></th>\n",
       "      <th>ITEM_MASTER_SKU_DSC</th>\n",
       "      <th>PAIRS</th>\n",
       "    </tr>\n",
       "  </thead>\n",
       "  <tbody>\n",
       "    <tr>\n",
       "      <th>0</th>\n",
       "      <td>CORONA EX 3.2 6PK BT</td>\n",
       "      <td>CORONA EX 6PK BT</td>\n",
       "    </tr>\n",
       "    <tr>\n",
       "      <th>1</th>\n",
       "      <td>CORONA EX 3.2 12PK BT</td>\n",
       "      <td>CORONA EX 12PK BT</td>\n",
       "    </tr>\n",
       "    <tr>\n",
       "      <th>2</th>\n",
       "      <td>MODELO ESP 3.2 6PK BT</td>\n",
       "      <td>MODELO ESP 6PK BT</td>\n",
       "    </tr>\n",
       "    <tr>\n",
       "      <th>3</th>\n",
       "      <td>MODELO ESP 3.2 12PK BT</td>\n",
       "      <td>MODELO ESP 12PK BT</td>\n",
       "    </tr>\n",
       "    <tr>\n",
       "      <th>4</th>\n",
       "      <td>MODELO ESP 3.2 12PK CAN</td>\n",
       "      <td>MODELO ESP 12PK CAN</td>\n",
       "    </tr>\n",
       "  </tbody>\n",
       "</table>\n",
       "</div>"
      ],
      "text/plain": [
       "       ITEM_MASTER_SKU_DSC                PAIRS\n",
       "0     CORONA EX 3.2 6PK BT     CORONA EX 6PK BT\n",
       "1    CORONA EX 3.2 12PK BT    CORONA EX 12PK BT\n",
       "2    MODELO ESP 3.2 6PK BT    MODELO ESP 6PK BT\n",
       "3   MODELO ESP 3.2 12PK BT   MODELO ESP 12PK BT\n",
       "4  MODELO ESP 3.2 12PK CAN  MODELO ESP 12PK CAN"
      ]
     },
     "execution_count": 25,
     "metadata": {},
     "output_type": "execute_result"
    }
   ],
   "source": [
    "#select top 5 products that are comparable:\n",
    "Top5LowPointOn = Top5LowPointOn[[0,1,3,4,6]]\n",
    "#put the products and their pairs into datafame\n",
    "Top5_LowPoint_On_Pairs_DF = pd.DataFrame(Top5LowPointOn).reset_index(drop=True)\n",
    "Top5_LowPoint_On_Pairs_DF['PAIRS'] = ['CORONA EX 6PK BT', 'CORONA EX 12PK BT', 'MODELO ESP 6PK BT', 'MODELO ESP 12PK BT', 'MODELO ESP 12PK CAN']\n",
    "Top5_LowPoint_On_Pairs_DF"
   ]
  },
  {
   "cell_type": "code",
   "execution_count": 26,
   "metadata": {
    "collapsed": true
   },
   "outputs": [],
   "source": [
    "#NOTE: Pairs\n",
    "# CORONA EX 3.2 6PK BT             CORONA EX 6PK BT \n",
    "# CORONA EX 3.2 12PK BT            CORONA EX 12PK BT\n",
    "# MODELO ESP 3.2 6PK BT            MODELO ESP 6PK BT\n",
    "# MODELO ESP 3.2 12PK BT           MODELO ESP 12PK BT\n",
    "# MODELO ESP 3.2 12PK CAN          MODELO ESP 12PK CAN"
   ]
  },
  {
   "cell_type": "code",
   "execution_count": 27,
   "metadata": {
    "collapsed": false
   },
   "outputs": [
    {
     "data": {
      "text/html": [
       "<div>\n",
       "<table border=\"1\" class=\"dataframe\">\n",
       "  <thead>\n",
       "    <tr style=\"text-align: right;\">\n",
       "      <th></th>\n",
       "      <th>RTL_STORE_CD</th>\n",
       "      <th>ITEM_MASTER_SKU_DSC</th>\n",
       "      <th>RTL_PREMISE_TYPE_CD</th>\n",
       "      <th>PROD_DEPLETION</th>\n",
       "    </tr>\n",
       "  </thead>\n",
       "  <tbody>\n",
       "    <tr>\n",
       "      <th>0</th>\n",
       "      <td>103946193</td>\n",
       "      <td>CORONA EX 18PK BT</td>\n",
       "      <td>OFF</td>\n",
       "      <td>84.750</td>\n",
       "    </tr>\n",
       "    <tr>\n",
       "      <th>1</th>\n",
       "      <td>101537249</td>\n",
       "      <td>CORONA EX 3.2 24OZ BT</td>\n",
       "      <td>OFF</td>\n",
       "      <td>32.000</td>\n",
       "    </tr>\n",
       "    <tr>\n",
       "      <th>2</th>\n",
       "      <td>107443744</td>\n",
       "      <td>PACIFICO 6PK BT</td>\n",
       "      <td>OFF</td>\n",
       "      <td>10.000</td>\n",
       "    </tr>\n",
       "    <tr>\n",
       "      <th>3</th>\n",
       "      <td>200572989</td>\n",
       "      <td>CORONA EX 3.2 6PK BT</td>\n",
       "      <td>OFF</td>\n",
       "      <td>22.000</td>\n",
       "    </tr>\n",
       "    <tr>\n",
       "      <th>4</th>\n",
       "      <td>101476216</td>\n",
       "      <td>CORONITA 7OZ 6PK BT</td>\n",
       "      <td>OFF</td>\n",
       "      <td>153.418</td>\n",
       "    </tr>\n",
       "  </tbody>\n",
       "</table>\n",
       "</div>"
      ],
      "text/plain": [
       "  RTL_STORE_CD    ITEM_MASTER_SKU_DSC RTL_PREMISE_TYPE_CD  PROD_DEPLETION\n",
       "0    103946193      CORONA EX 18PK BT                 OFF          84.750\n",
       "1    101537249  CORONA EX 3.2 24OZ BT                 OFF          32.000\n",
       "2    107443744        PACIFICO 6PK BT                 OFF          10.000\n",
       "3    200572989   CORONA EX 3.2 6PK BT                 OFF          22.000\n",
       "4    101476216    CORONITA 7OZ 6PK BT                 OFF         153.418"
      ]
     },
     "execution_count": 27,
     "metadata": {},
     "output_type": "execute_result"
    }
   ],
   "source": [
    "#load the All stores in Kansas\n",
    "All_Stores_Kansas = pd.read_csv('AllStoresKansas.csv')\n",
    "All_Stores_Kansas = All_Stores_Kansas.rename(columns = {'WJXBFS1':'PROD_DEPLETION'})\n",
    "All_Stores_Kansas.head()"
   ]
  },
  {
   "cell_type": "code",
   "execution_count": 28,
   "metadata": {
    "collapsed": false
   },
   "outputs": [
    {
     "data": {
      "text/plain": [
       "(33000, 4)"
      ]
     },
     "execution_count": 28,
     "metadata": {},
     "output_type": "execute_result"
    }
   ],
   "source": [
    "#clean data:\n",
    "\n",
    "#remove NA Depletion \n",
    "All_Stores_Kansas = All_Stores_Kansas.loc[All_Stores_Kansas['PROD_DEPLETION'].notnull(),:]\n",
    "\n",
    "#remove Negative Depletion\n",
    "All_Stores_Kansas = All_Stores_Kansas.loc[All_Stores_Kansas['PROD_DEPLETION'] > 0.0,:] \n",
    "All_Stores_Kansas.shape"
   ]
  },
  {
   "cell_type": "code",
   "execution_count": 29,
   "metadata": {
    "collapsed": false
   },
   "outputs": [
    {
     "data": {
      "text/plain": [
       "['CORONA EX 3.2 6PK BT',\n",
       " 'CORONA EX 3.2 12PK BT',\n",
       " 'MODELO ESP 3.2 6PK BT',\n",
       " 'MODELO ESP 3.2 12PK BT',\n",
       " 'MODELO ESP 3.2 12PK CAN',\n",
       " 'CORONA EX 6PK BT',\n",
       " 'CORONA EX 12PK BT',\n",
       " 'MODELO ESP 6PK BT',\n",
       " 'MODELO ESP 12PK BT',\n",
       " 'MODELO ESP 12PK CAN']"
      ]
     },
     "execution_count": 29,
     "metadata": {},
     "output_type": "execute_result"
    }
   ],
   "source": [
    "BeerList = list(Top5_LowPoint_On_Pairs_DF['ITEM_MASTER_SKU_DSC']) + list(Top5_LowPoint_On_Pairs_DF['PAIRS'])\n",
    "BeerList"
   ]
  },
  {
   "cell_type": "code",
   "execution_count": 31,
   "metadata": {
    "collapsed": true
   },
   "outputs": [],
   "source": [
    "# explanary analysis"
   ]
  },
  {
   "cell_type": "code",
   "execution_count": 32,
   "metadata": {
    "collapsed": false
   },
   "outputs": [
    {
     "data": {
      "image/png": "[encoded data removed]",
      "text/plain": [
       "<matplotlib.figure.Figure at 0x1a38a6ba710>"
      ]
     },
     "metadata": {},
     "output_type": "display_data"
    }
   ],
   "source": [
    "# Kansas Stores by Premise type\n",
    "premise_type = All_Stores_Kansas.loc[:,'RTL_PREMISE_TYPE_CD']\n",
    "premise_type = premise_type.value_counts()/len(premise_type)\n",
    "ax = premise_type.plot.bar(figsize=(10,4), title = 'Kansas Stores by Premise type')\n",
    "ax.set_ylabel(\"Percentage\");"
   ]
  },
  {
   "cell_type": "code",
   "execution_count": 33,
   "metadata": {
    "collapsed": false
   },
   "outputs": [
    {
     "data": {
      "text/html": [
       "<div>\n",
       "<table border=\"1\" class=\"dataframe\">\n",
       "  <thead>\n",
       "    <tr style=\"text-align: right;\">\n",
       "      <th></th>\n",
       "      <th>RTL_STORE_CD</th>\n",
       "      <th>ITEM_MASTER_SKU_DSC</th>\n",
       "      <th>RTL_PREMISE_TYPE_CD</th>\n",
       "      <th>PROD_DEPLETION</th>\n",
       "    </tr>\n",
       "  </thead>\n",
       "  <tbody>\n",
       "    <tr>\n",
       "      <th>0</th>\n",
       "      <td>101733532</td>\n",
       "      <td>MODELO ESP 12PK BT</td>\n",
       "      <td>ON</td>\n",
       "      <td>14.0</td>\n",
       "    </tr>\n",
       "    <tr>\n",
       "      <th>1</th>\n",
       "      <td>301616936</td>\n",
       "      <td>MODELO ESP 6PK BT</td>\n",
       "      <td>ON</td>\n",
       "      <td>16.0</td>\n",
       "    </tr>\n",
       "    <tr>\n",
       "      <th>2</th>\n",
       "      <td>101733587</td>\n",
       "      <td>CORONA EX 12PK BT</td>\n",
       "      <td>ON</td>\n",
       "      <td>7.0</td>\n",
       "    </tr>\n",
       "    <tr>\n",
       "      <th>3</th>\n",
       "      <td>103639684</td>\n",
       "      <td>CORONA EX 12PK BT</td>\n",
       "      <td>ON</td>\n",
       "      <td>3.0</td>\n",
       "    </tr>\n",
       "    <tr>\n",
       "      <th>4</th>\n",
       "      <td>201725170</td>\n",
       "      <td>MODELO ESP 6PK BT</td>\n",
       "      <td>ON</td>\n",
       "      <td>17.0</td>\n",
       "    </tr>\n",
       "  </tbody>\n",
       "</table>\n",
       "</div>"
      ],
      "text/plain": [
       "  RTL_STORE_CD ITEM_MASTER_SKU_DSC RTL_PREMISE_TYPE_CD  PROD_DEPLETION\n",
       "0    101733532  MODELO ESP 12PK BT                  ON            14.0\n",
       "1    301616936   MODELO ESP 6PK BT                  ON            16.0\n",
       "2    101733587   CORONA EX 12PK BT                  ON             7.0\n",
       "3    103639684   CORONA EX 12PK BT                  ON             3.0\n",
       "4    201725170   MODELO ESP 6PK BT                  ON            17.0"
      ]
     },
     "execution_count": 33,
     "metadata": {},
     "output_type": "execute_result"
    }
   ],
   "source": [
    "#Subset On-premise stores \n",
    "Top5_On_pairs_stores = All_Stores_Kansas.loc[All_Stores_Kansas['RTL_PREMISE_TYPE_CD'] == 'ON', :]\n",
    "\n",
    "#Subset On-premise stoers that sell top 5 pairs of beer (10 products)\n",
    "Top5_On_pairs_stores= Top5_On_pairs_stores.loc[Top5_On_pairs_stores['ITEM_MASTER_SKU_DSC'].isin(BeerList)].reset_index(drop=True)\n",
    "\n",
    "Top5_On_pairs_stores.head()"
   ]
  },
  {
   "cell_type": "code",
   "execution_count": 34,
   "metadata": {
    "collapsed": false
   },
   "outputs": [
    {
     "data": {
      "text/plain": [
       "(2466, 4)"
      ]
     },
     "execution_count": 34,
     "metadata": {},
     "output_type": "execute_result"
    }
   ],
   "source": [
    "Top5_On_pairs_stores.shape"
   ]
  },
  {
   "cell_type": "markdown",
   "metadata": {},
   "source": [
    "# Explanatory analysis"
   ]
  },
  {
   "cell_type": "code",
   "execution_count": 35,
   "metadata": {
    "collapsed": false
   },
   "outputs": [
    {
     "data": {
      "text/plain": [
       "array(['MODELO ESP 12PK BT', 'MODELO ESP 6PK BT', 'CORONA EX 12PK BT',\n",
       "       'MODELO ESP 3.2 12PK BT', 'CORONA EX 3.2 12PK BT',\n",
       "       'MODELO ESP 3.2 6PK BT', 'CORONA EX 3.2 6PK BT', 'CORONA EX 6PK BT',\n",
       "       'MODELO ESP 3.2 12PK CAN', 'MODELO ESP 12PK CAN'], dtype=object)"
      ]
     },
     "execution_count": 35,
     "metadata": {},
     "output_type": "execute_result"
    }
   ],
   "source": [
    "Top5_On_pairs_stores['ITEM_MASTER_SKU_DSC'].unique()"
   ]
  },
  {
   "cell_type": "code",
   "execution_count": 41,
   "metadata": {
    "collapsed": false
   },
   "outputs": [
    {
     "data": {
      "text/html": [
       "<div>\n",
       "<table border=\"1\" class=\"dataframe\">\n",
       "  <thead>\n",
       "    <tr style=\"text-align: right;\">\n",
       "      <th></th>\n",
       "      <th>RTL_STORE_CD</th>\n",
       "      <th>ITEM_MASTER_SKU_DSC</th>\n",
       "      <th>RTL_PREMISE_TYPE_CD</th>\n",
       "      <th>PROD_DEPLETION</th>\n",
       "      <th>Product</th>\n",
       "      <th>is32</th>\n",
       "    </tr>\n",
       "  </thead>\n",
       "  <tbody>\n",
       "    <tr>\n",
       "      <th>0</th>\n",
       "      <td>101733532</td>\n",
       "      <td>MODELO ESP 12PK BT</td>\n",
       "      <td>ON</td>\n",
       "      <td>14.0</td>\n",
       "      <td>MODELO ESP 12PK BT</td>\n",
       "      <td>True</td>\n",
       "    </tr>\n",
       "    <tr>\n",
       "      <th>1</th>\n",
       "      <td>301616936</td>\n",
       "      <td>MODELO ESP 6PK BT</td>\n",
       "      <td>ON</td>\n",
       "      <td>16.0</td>\n",
       "      <td>MODELO ESP 6PK BT</td>\n",
       "      <td>True</td>\n",
       "    </tr>\n",
       "    <tr>\n",
       "      <th>2</th>\n",
       "      <td>101733587</td>\n",
       "      <td>CORONA EX 12PK BT</td>\n",
       "      <td>ON</td>\n",
       "      <td>7.0</td>\n",
       "      <td>CORONA EX 12PK BT</td>\n",
       "      <td>True</td>\n",
       "    </tr>\n",
       "    <tr>\n",
       "      <th>3</th>\n",
       "      <td>103639684</td>\n",
       "      <td>CORONA EX 12PK BT</td>\n",
       "      <td>ON</td>\n",
       "      <td>3.0</td>\n",
       "      <td>CORONA EX 12PK BT</td>\n",
       "      <td>True</td>\n",
       "    </tr>\n",
       "    <tr>\n",
       "      <th>4</th>\n",
       "      <td>201725170</td>\n",
       "      <td>MODELO ESP 6PK BT</td>\n",
       "      <td>ON</td>\n",
       "      <td>17.0</td>\n",
       "      <td>MODELO ESP 6PK BT</td>\n",
       "      <td>True</td>\n",
       "    </tr>\n",
       "    <tr>\n",
       "      <th>5</th>\n",
       "      <td>201736313</td>\n",
       "      <td>MODELO ESP 3.2 12PK BT</td>\n",
       "      <td>ON</td>\n",
       "      <td>14.0</td>\n",
       "      <td>MODELO ESP 12PK BT</td>\n",
       "      <td>False</td>\n",
       "    </tr>\n",
       "    <tr>\n",
       "      <th>6</th>\n",
       "      <td>101939113</td>\n",
       "      <td>CORONA EX 3.2 12PK BT</td>\n",
       "      <td>ON</td>\n",
       "      <td>98.0</td>\n",
       "      <td>CORONA EX 12PK BT</td>\n",
       "      <td>False</td>\n",
       "    </tr>\n",
       "  </tbody>\n",
       "</table>\n",
       "</div>"
      ],
      "text/plain": [
       "  RTL_STORE_CD     ITEM_MASTER_SKU_DSC RTL_PREMISE_TYPE_CD  PROD_DEPLETION  \\\n",
       "0    101733532      MODELO ESP 12PK BT                  ON            14.0   \n",
       "1    301616936       MODELO ESP 6PK BT                  ON            16.0   \n",
       "2    101733587       CORONA EX 12PK BT                  ON             7.0   \n",
       "3    103639684       CORONA EX 12PK BT                  ON             3.0   \n",
       "4    201725170       MODELO ESP 6PK BT                  ON            17.0   \n",
       "5    201736313  MODELO ESP 3.2 12PK BT                  ON            14.0   \n",
       "6    101939113   CORONA EX 3.2 12PK BT                  ON            98.0   \n",
       "\n",
       "              Product   is32  \n",
       "0  MODELO ESP 12PK BT   True  \n",
       "1   MODELO ESP 6PK BT   True  \n",
       "2   CORONA EX 12PK BT   True  \n",
       "3   CORONA EX 12PK BT   True  \n",
       "4   MODELO ESP 6PK BT   True  \n",
       "5  MODELO ESP 12PK BT  False  \n",
       "6   CORONA EX 12PK BT  False  "
      ]
     },
     "execution_count": 41,
     "metadata": {},
     "output_type": "execute_result"
    }
   ],
   "source": [
    "#create a graph_DF for explanatory analysis.\n",
    "graph_DF = Top5_On_pairs_stores\n",
    "graph_DF['Product'] = graph_DF['ITEM_MASTER_SKU_DSC']\n",
    "for index in range(len(graph_DF['Product'])):\n",
    "    if '3.2 ' in graph_DF.loc[index, 'Product']:\n",
    "        graph_DF.loc[index, 'Product'] = graph_DF.loc[index, 'Product'].replace('3.2 ','')\n",
    "graph_DF['is32'] = graph_DF['ITEM_MASTER_SKU_DSC'] == graph_DF['Product']        \n",
    "graph_DF.head(7)"
   ]
  },
  {
   "cell_type": "code",
   "execution_count": 42,
   "metadata": {
    "collapsed": false
   },
   "outputs": [
    {
     "data": {
      "image/png": "[encoded data removed]",
      "text/plain": [
       "<matplotlib.figure.Figure at 0x1a38a6f0828>"
      ]
     },
     "metadata": {},
     "output_type": "display_data"
    }
   ],
   "source": [
    "#plot Average depletion of each product for On-premise\n",
    "plt.title(\"Average depletion of each product - On Premise\")\n",
    "sns.barplot(x='PROD_DEPLETION', y=\"Product\", hue=\"is32\", data=graph_DF);"
   ]
  },
  {
   "cell_type": "code",
   "execution_count": 64,
   "metadata": {
    "collapsed": false
   },
   "outputs": [
    {
     "data": {
      "image/png": "[encoded data removed]",
      "text/plain": [
       "<matplotlib.figure.Figure at 0x1a38a795fd0>"
      ]
     },
     "metadata": {},
     "output_type": "display_data"
    }
   ],
   "source": [
    "#plot number of stores sell each product for On-premise\n",
    "plt.title(\"number of stores sell each product - On Premise\")\n",
    "#sns.barplot(x=graph_DF['Product'].value_counts(),y= graph_DF['Product'], hue=graph_DF[\"is32\"]);\n",
    "graph = sns.countplot(y='Product', hue=\"is32\", data=graph_DF)\n",
    "graph.set_yticklabels(graph_DF['Product'].unique(), rotation=0);"
   ]
  },
  {
   "cell_type": "code",
   "execution_count": 65,
   "metadata": {
    "collapsed": false
   },
   "outputs": [
    {
     "name": "stderr",
     "output_type": "stream",
     "text": [
      "C:\\Users\\qifan\\Anaconda3\\lib\\site-packages\\statsmodels\\nonparametric\\kdetools.py:20: VisibleDeprecationWarning: using a non-integer number instead of an integer will result in an error in the future\n",
      "  y = X[:m/2+1] + np.r_[0,X[m/2+1:],0]*1j\n"
     ]
    },
    {
     "data": {
      "image/png": "[encoded data removed]",
      "text/plain": [
       "<matplotlib.figure.Figure at 0x1a38b49c198>"
      ]
     },
     "metadata": {},
     "output_type": "display_data"
    }
   ],
   "source": [
    "#Distribution of Depletions\n",
    "f, axes = plt.subplots(1,2, figsize=(15, 3))\n",
    "plt.subplot(1,2,2)\n",
    "plt.title('Histogram of Log(Prod_Depletions)')\n",
    "sns.distplot(np.log10(Top5_On_pairs_stores['PROD_DEPLETION'].values))\n",
    "plt.xlabel('PROD_DEPLETION')\n",
    "plt.ylabel('Frequency')\n",
    "\n",
    "plt.subplot(1,2,1)\n",
    "plt.title('Distribution of Prod_Depletions')\n",
    "sns.distplot(Top5_On_pairs_stores['PROD_DEPLETION'])\n",
    "plt.xlabel('PROD_DEPLETION')\n",
    "plt.ylabel('Frequency');"
   ]
  },
  {
   "cell_type": "markdown",
   "metadata": {
    "collapsed": true
   },
   "source": [
    "### Approach 1: Pure Regression Analysis on Five products for On-premise"
   ]
  },
  {
   "cell_type": "code",
   "execution_count": 67,
   "metadata": {
    "collapsed": false
   },
   "outputs": [
    {
     "name": "stdout",
     "output_type": "stream",
     "text": [
      "                              OLS Regression Results                              \n",
      "==================================================================================\n",
      "Dep. Variable:     np.log(PROD_DEPLETION)   R-squared:                       0.048\n",
      "Model:                                OLS   Adj. R-squared:                  0.046\n",
      "Method:                     Least Squares   F-statistic:                     35.53\n",
      "Date:                    Wed, 05 Jul 2017   Prob (F-statistic):           3.95e-09\n",
      "Time:                            19:30:00   Log-Likelihood:                -1294.7\n",
      "No. Observations:                     712   AIC:                             2593.\n",
      "Df Residuals:                         710   BIC:                             2602.\n",
      "Df Model:                               1                                         \n",
      "Covariance Type:                nonrobust                                         \n",
      "==============================================================================================================\n",
      "                                                 coef    std err          t      P>|t|      [95.0% Conf. Int.]\n",
      "--------------------------------------------------------------------------------------------------------------\n",
      "Intercept                                      2.3627      0.063     37.515      0.000         2.239     2.486\n",
      "C(ITEM_MASTER_SKU_DSC)[T.CORONA EX 6PK BT]    -0.8180      0.137     -5.961      0.000        -1.087    -0.549\n",
      "==============================================================================\n",
      "Omnibus:                       42.064   Durbin-Watson:                   1.937\n",
      "Prob(Omnibus):                  0.000   Jarque-Bera (JB):               48.605\n",
      "Skew:                           0.590   Prob(JB):                     2.79e-11\n",
      "Kurtosis:                       3.497   Cond. No.                         2.58\n",
      "==============================================================================\n",
      "\n",
      "Warnings:\n",
      "[1] Standard Errors assume that the covariance matrix of the errors is correctly specified.\n"
     ]
    }
   ],
   "source": [
    "#pair1: CORONA EX 3.2 6PK BT vs CORONA EX 6PK BT\n",
    "subset1 = Top5_On_pairs_stores.loc[Top5_On_pairs_stores['ITEM_MASTER_SKU_DSC'].isin(list(Top5_LowPoint_On_Pairs_DF.loc[0, :]))].reset_index(drop=True)\n",
    "Regression_ON_pair1 = smf.ols(formula='np.log(PROD_DEPLETION) ~ C(ITEM_MASTER_SKU_DSC)', data= subset1)\n",
    "print(Regression_ON_pair1.fit().summary())"
   ]
  },
  {
   "cell_type": "code",
   "execution_count": 80,
   "metadata": {
    "collapsed": false
   },
   "outputs": [
    {
     "data": {
      "text/html": [
       "<div>\n",
       "<style>\n",
       "    .dataframe thead tr:only-child th {\n",
       "        text-align: right;\n",
       "    }\n",
       "\n",
       "    .dataframe thead th {\n",
       "        text-align: left;\n",
       "    }\n",
       "\n",
       "    .dataframe tbody tr th {\n",
       "        vertical-align: top;\n",
       "    }\n",
       "</style>\n",
       "<table border=\"1\" class=\"dataframe\">\n",
       "  <thead>\n",
       "    <tr style=\"text-align: right;\">\n",
       "      <th></th>\n",
       "      <th>RTL_STORE_CD</th>\n",
       "      <th>ITEM_MASTER_SKU_DSC</th>\n",
       "      <th>RTL_PREMISE_TYPE_CD</th>\n",
       "      <th>PROD_DEPLETION</th>\n",
       "    </tr>\n",
       "  </thead>\n",
       "  <tbody>\n",
       "    <tr>\n",
       "      <th>0</th>\n",
       "      <td>101765856</td>\n",
       "      <td>CORONA EX 3.2 6PK BT</td>\n",
       "      <td>ON</td>\n",
       "      <td>64.0</td>\n",
       "    </tr>\n",
       "    <tr>\n",
       "      <th>1</th>\n",
       "      <td>103785280</td>\n",
       "      <td>CORONA EX 6PK BT</td>\n",
       "      <td>ON</td>\n",
       "      <td>2.0</td>\n",
       "    </tr>\n",
       "    <tr>\n",
       "      <th>2</th>\n",
       "      <td>101944905</td>\n",
       "      <td>CORONA EX 3.2 6PK BT</td>\n",
       "      <td>ON</td>\n",
       "      <td>8.0</td>\n",
       "    </tr>\n",
       "    <tr>\n",
       "      <th>3</th>\n",
       "      <td>101713290</td>\n",
       "      <td>CORONA EX 3.2 6PK BT</td>\n",
       "      <td>ON</td>\n",
       "      <td>5.0</td>\n",
       "    </tr>\n",
       "    <tr>\n",
       "      <th>4</th>\n",
       "      <td>107111649</td>\n",
       "      <td>CORONA EX 3.2 6PK BT</td>\n",
       "      <td>ON</td>\n",
       "      <td>2.0</td>\n",
       "    </tr>\n",
       "  </tbody>\n",
       "</table>\n",
       "</div>"
      ],
      "text/plain": [
       "  RTL_STORE_CD   ITEM_MASTER_SKU_DSC RTL_PREMISE_TYPE_CD  PROD_DEPLETION\n",
       "0    101765856  CORONA EX 3.2 6PK BT                  ON            64.0\n",
       "1    103785280      CORONA EX 6PK BT                  ON             2.0\n",
       "2    101944905  CORONA EX 3.2 6PK BT                  ON             8.0\n",
       "3    101713290  CORONA EX 3.2 6PK BT                  ON             5.0\n",
       "4    107111649  CORONA EX 3.2 6PK BT                  ON             2.0"
      ]
     },
     "execution_count": 80,
     "metadata": {},
     "output_type": "execute_result"
    }
   ],
   "source": [
    "subset1.head()"
   ]
  },
  {
   "cell_type": "code",
   "execution_count": 78,
   "metadata": {
    "collapsed": false
   },
   "outputs": [
    {
     "data": {
      "image/png": "[encoded data removed]",
      "text/plain": [
       "<matplotlib.figure.Figure at 0x1a38c784a90>"
      ]
     },
     "metadata": {},
     "output_type": "display_data"
    }
   ],
   "source": [
    "plt.title(\"Avergage Depletions for Corona Extra 6pk BT -On Premise\")\n",
    "sns.barplot(x = 'ITEM_MASTER_SKU_DSC', y=\"PROD_DEPLETION\", data=subset1);"
   ]
  },
  {
   "cell_type": "code",
   "execution_count": 79,
   "metadata": {
    "collapsed": false
   },
   "outputs": [
    {
     "name": "stdout",
     "output_type": "stream",
     "text": [
      "                              OLS Regression Results                              \n",
      "==================================================================================\n",
      "Dep. Variable:     np.log(PROD_DEPLETION)   R-squared:                       0.007\n",
      "Model:                                OLS   Adj. R-squared:                  0.005\n",
      "Method:                     Least Squares   F-statistic:                     4.510\n",
      "Date:                    Wed, 05 Jul 2017   Prob (F-statistic):             0.0341\n",
      "Time:                            19:32:24   Log-Likelihood:                -1261.4\n",
      "No. Observations:                     684   AIC:                             2527.\n",
      "Df Residuals:                         682   BIC:                             2536.\n",
      "Df Model:                               1                                         \n",
      "Covariance Type:                nonrobust                                         \n",
      "===================================================================================================================\n",
      "                                                      coef    std err          t      P>|t|      [95.0% Conf. Int.]\n",
      "-------------------------------------------------------------------------------------------------------------------\n",
      "Intercept                                           2.0015      0.094     21.346      0.000         1.817     2.186\n",
      "C(ITEM_MASTER_SKU_DSC)[T.CORONA EX 3.2 12PK BT]     0.2550      0.120      2.124      0.034         0.019     0.491\n",
      "==============================================================================\n",
      "Omnibus:                       24.676   Durbin-Watson:                   2.102\n",
      "Prob(Omnibus):                  0.000   Jarque-Bera (JB):               23.326\n",
      "Skew:                           0.403   Prob(JB):                     8.61e-06\n",
      "Kurtosis:                       2.590   Cond. No.                         2.96\n",
      "==============================================================================\n",
      "\n",
      "Warnings:\n",
      "[1] Standard Errors assume that the covariance matrix of the errors is correctly specified.\n"
     ]
    }
   ],
   "source": [
    "#pair 2: CORONA EX 12PK BT vs CORONA EX 3.2 12PK BT\n",
    "subset2 = Top5_On_pairs_stores.loc[Top5_On_pairs_stores['ITEM_MASTER_SKU_DSC'].isin(list(Top5_LowPoint_On_Pairs_DF.loc[1, :]))].reset_index(drop=True)\n",
    "Regression_ON_pair2 = smf.ols(formula='np.log(PROD_DEPLETION) ~ C(ITEM_MASTER_SKU_DSC)', data= subset2)\n",
    "print(Regression_ON_pair2.fit().summary())"
   ]
  },
  {
   "cell_type": "code",
   "execution_count": 80,
   "metadata": {
    "collapsed": false
   },
   "outputs": [
    {
     "data": {
      "image/png": "[encoded data removed]",
      "text/plain": [
       "<matplotlib.figure.Figure at 0x1a389203cf8>"
      ]
     },
     "metadata": {},
     "output_type": "display_data"
    }
   ],
   "source": [
    "plt.title(\"Avergage Depletions for CORONA EX 12PK BT -On Premise\")\n",
    "sns.barplot(x = 'ITEM_MASTER_SKU_DSC', y=\"PROD_DEPLETION\", data=subset2);"
   ]
  },
  {
   "cell_type": "code",
   "execution_count": 81,
   "metadata": {
    "collapsed": false
   },
   "outputs": [
    {
     "name": "stdout",
     "output_type": "stream",
     "text": [
      "                              OLS Regression Results                              \n",
      "==================================================================================\n",
      "Dep. Variable:     np.log(PROD_DEPLETION)   R-squared:                       0.006\n",
      "Model:                                OLS   Adj. R-squared:                  0.004\n",
      "Method:                     Least Squares   F-statistic:                     2.966\n",
      "Date:                    Wed, 05 Jul 2017   Prob (F-statistic):             0.0857\n",
      "Time:                            19:32:51   Log-Likelihood:                -865.59\n",
      "No. Observations:                     465   AIC:                             1735.\n",
      "Df Residuals:                         463   BIC:                             1743.\n",
      "Df Model:                               1                                         \n",
      "Covariance Type:                nonrobust                                         \n",
      "===============================================================================================================\n",
      "                                                  coef    std err          t      P>|t|      [95.0% Conf. Int.]\n",
      "---------------------------------------------------------------------------------------------------------------\n",
      "Intercept                                       2.4889      0.099     25.023      0.000         2.293     2.684\n",
      "C(ITEM_MASTER_SKU_DSC)[T.MODELO ESP 6PK BT]    -0.2496      0.145     -1.722      0.086        -0.534     0.035\n",
      "==============================================================================\n",
      "Omnibus:                        8.196   Durbin-Watson:                   2.030\n",
      "Prob(Omnibus):                  0.017   Jarque-Bera (JB):                7.500\n",
      "Skew:                           0.255   Prob(JB):                       0.0235\n",
      "Kurtosis:                       2.644   Cond. No.                         2.56\n",
      "==============================================================================\n",
      "\n",
      "Warnings:\n",
      "[1] Standard Errors assume that the covariance matrix of the errors is correctly specified.\n"
     ]
    }
   ],
   "source": [
    "#pair 3: MODELO ESP 3.2 6PK BT vs MODELO ESP 6PK BT\n",
    "subset3 = Top5_On_pairs_stores.loc[Top5_On_pairs_stores['ITEM_MASTER_SKU_DSC'].isin(list(Top5_LowPoint_On_Pairs_DF.loc[2, :]))].reset_index(drop=True)\n",
    "Regression_ON_pair3 = smf.ols(formula='np.log(PROD_DEPLETION) ~ C(ITEM_MASTER_SKU_DSC)', data= subset3)\n",
    "print(Regression_ON_pair3.fit().summary())"
   ]
  },
  {
   "cell_type": "code",
   "execution_count": 82,
   "metadata": {
    "collapsed": false
   },
   "outputs": [
    {
     "data": {
      "image/png": "[encoded data removed]",
      "text/plain": [
       "<matplotlib.figure.Figure at 0x1a38c861588>"
      ]
     },
     "metadata": {},
     "output_type": "display_data"
    }
   ],
   "source": [
    "plt.title(\"Avergage Depletions for MODELO ESP 6PK BT - On Premise\")\n",
    "sns.barplot(x = 'ITEM_MASTER_SKU_DSC', y=\"PROD_DEPLETION\", data=subset3);"
   ]
  },
  {
   "cell_type": "code",
   "execution_count": 83,
   "metadata": {
    "collapsed": false
   },
   "outputs": [
    {
     "name": "stdout",
     "output_type": "stream",
     "text": [
      "                              OLS Regression Results                              \n",
      "==================================================================================\n",
      "Dep. Variable:     np.log(PROD_DEPLETION)   R-squared:                       0.000\n",
      "Model:                                OLS   Adj. R-squared:                 -0.002\n",
      "Method:                     Least Squares   F-statistic:                   0.02438\n",
      "Date:                    Wed, 05 Jul 2017   Prob (F-statistic):              0.876\n",
      "Time:                            19:33:25   Log-Likelihood:                -900.93\n",
      "No. Observations:                     476   AIC:                             1806.\n",
      "Df Residuals:                         474   BIC:                             1814.\n",
      "Df Model:                               1                                         \n",
      "Covariance Type:                nonrobust                                         \n",
      "====================================================================================================================\n",
      "                                                       coef    std err          t      P>|t|      [95.0% Conf. Int.]\n",
      "--------------------------------------------------------------------------------------------------------------------\n",
      "Intercept                                            2.0424      0.098     20.774      0.000         1.849     2.236\n",
      "C(ITEM_MASTER_SKU_DSC)[T.MODELO ESP 3.2 12PK BT]    -0.0232      0.149     -0.156      0.876        -0.315     0.269\n",
      "==============================================================================\n",
      "Omnibus:                       33.950   Durbin-Watson:                   1.930\n",
      "Prob(Omnibus):                  0.000   Jarque-Bera (JB):               22.124\n",
      "Skew:                           0.401   Prob(JB):                     1.57e-05\n",
      "Kurtosis:                       2.312   Cond. No.                         2.50\n",
      "==============================================================================\n",
      "\n",
      "Warnings:\n",
      "[1] Standard Errors assume that the covariance matrix of the errors is correctly specified.\n"
     ]
    }
   ],
   "source": [
    "#pair 4  MODELO ESP 12PK BT vs  MODELO ESP 3.2 12PK BT\n",
    "subset4 = Top5_On_pairs_stores.loc[Top5_On_pairs_stores['ITEM_MASTER_SKU_DSC'].isin(list(Top5_LowPoint_On_Pairs_DF.loc[3, :]))].reset_index(drop=True)\n",
    "Regression_ON_pair4 = smf.ols(formula='np.log(PROD_DEPLETION) ~ C(ITEM_MASTER_SKU_DSC)', data= subset4)\n",
    "print(Regression_ON_pair4.fit().summary())"
   ]
  },
  {
   "cell_type": "code",
   "execution_count": 84,
   "metadata": {
    "collapsed": false
   },
   "outputs": [
    {
     "data": {
      "image/png": "[encoded data removed]",
      "text/plain": [
       "<matplotlib.figure.Figure at 0x1a38c7da828>"
      ]
     },
     "metadata": {},
     "output_type": "display_data"
    }
   ],
   "source": [
    "plt.title(\"Avergage Depletions for MODELO ESP 12PK BT - On Premise\")\n",
    "sns.barplot(x = 'ITEM_MASTER_SKU_DSC', y=\"PROD_DEPLETION\", data=subset4);"
   ]
  },
  {
   "cell_type": "code",
   "execution_count": 85,
   "metadata": {
    "collapsed": false
   },
   "outputs": [
    {
     "name": "stdout",
     "output_type": "stream",
     "text": [
      "                              OLS Regression Results                              \n",
      "==================================================================================\n",
      "Dep. Variable:     np.log(PROD_DEPLETION)   R-squared:                       0.019\n",
      "Model:                                OLS   Adj. R-squared:                  0.011\n",
      "Method:                     Least Squares   F-statistic:                     2.401\n",
      "Date:                    Wed, 05 Jul 2017   Prob (F-statistic):              0.124\n",
      "Time:                            19:33:54   Log-Likelihood:                -252.04\n",
      "No. Observations:                     129   AIC:                             508.1\n",
      "Df Residuals:                         127   BIC:                             513.8\n",
      "Df Model:                               1                                         \n",
      "Covariance Type:                nonrobust                                         \n",
      "=====================================================================================================================\n",
      "                                                        coef    std err          t      P>|t|      [95.0% Conf. Int.]\n",
      "---------------------------------------------------------------------------------------------------------------------\n",
      "Intercept                                             1.6936      0.251      6.748      0.000         1.197     2.190\n",
      "C(ITEM_MASTER_SKU_DSC)[T.MODELO ESP 3.2 12PK CAN]     0.4878      0.315      1.550      0.124        -0.135     1.111\n",
      "==============================================================================\n",
      "Omnibus:                        9.700   Durbin-Watson:                   1.991\n",
      "Prob(Omnibus):                  0.008   Jarque-Bera (JB):               10.436\n",
      "Skew:                           0.695   Prob(JB):                      0.00542\n",
      "Kurtosis:                       2.913   Cond. No.                         3.07\n",
      "==============================================================================\n",
      "\n",
      "Warnings:\n",
      "[1] Standard Errors assume that the covariance matrix of the errors is correctly specified.\n"
     ]
    }
   ],
   "source": [
    "#pair 5  MODELO ESP 12PK CAN vs MODELO ESP 3.2 12PK CAN\n",
    "subset5 = Top5_On_pairs_stores.loc[Top5_On_pairs_stores['ITEM_MASTER_SKU_DSC'].isin(list(Top5_LowPoint_On_Pairs_DF.loc[4, :]))].reset_index(drop=True)\n",
    "Regression_ON_pair5 = smf.ols(formula='np.log(PROD_DEPLETION) ~ C(ITEM_MASTER_SKU_DSC)', data= subset5)\n",
    "print(Regression_ON_pair5.fit().summary())"
   ]
  },
  {
   "cell_type": "code",
   "execution_count": 86,
   "metadata": {
    "collapsed": false
   },
   "outputs": [
    {
     "data": {
      "image/png": "[encoded data removed]",
      "text/plain": [
       "<matplotlib.figure.Figure at 0x1a38c92c278>"
      ]
     },
     "metadata": {},
     "output_type": "display_data"
    }
   ],
   "source": [
    "plt.title(\"Avergage Depletions for MODELO ESP 12PK CAN - On Premise\")\n",
    "sns.barplot(x ='ITEM_MASTER_SKU_DSC', y=\"PROD_DEPLETION\", data=subset5);"
   ]
  },
  {
   "cell_type": "markdown",
   "metadata": {},
   "source": [
    "# Approach 2: Regression analysis on each product with clusters On-premise"
   ]
  },
  {
   "cell_type": "code",
   "execution_count": 90,
   "metadata": {
    "collapsed": false
   },
   "outputs": [
    {
     "data": {
      "text/html": [
       "<div>\n",
       "<style>\n",
       "    .dataframe thead tr:only-child th {\n",
       "        text-align: right;\n",
       "    }\n",
       "\n",
       "    .dataframe thead th {\n",
       "        text-align: left;\n",
       "    }\n",
       "\n",
       "    .dataframe tbody tr th {\n",
       "        vertical-align: top;\n",
       "    }\n",
       "</style>\n",
       "<table border=\"1\" class=\"dataframe\">\n",
       "  <thead>\n",
       "    <tr style=\"text-align: right;\">\n",
       "      <th></th>\n",
       "      <th>STORE_CD</th>\n",
       "      <th>L12M_TY_QTY</th>\n",
       "      <th>CHANNEL_DSC</th>\n",
       "      <th>SUBCHANNEL_DSC</th>\n",
       "      <th>FOOD_TYPE_GROUP_DSC</th>\n",
       "      <th>INDUSTRY_VOL_DSC</th>\n",
       "      <th>CHAIN_IND_FLG</th>\n",
       "      <th>FRANCHISE_FLG</th>\n",
       "      <th>WINE_FLG</th>\n",
       "      <th>LIQUOR_FLG</th>\n",
       "      <th>...</th>\n",
       "      <th>FEMALE_POP_3544_PCT</th>\n",
       "      <th>FEMALE_POP_4554_PCT</th>\n",
       "      <th>FEMALE_POP_5564_PCT</th>\n",
       "      <th>FEMALE_POP_6574_PCT</th>\n",
       "      <th>FEMALE_POP_75_PCT</th>\n",
       "      <th>CLUSTER</th>\n",
       "      <th>RTL_STORE_CD</th>\n",
       "      <th>ITEM_MASTER_SKU_DSC</th>\n",
       "      <th>RTL_PREMISE_TYPE_CD</th>\n",
       "      <th>PROD_DEPLETION</th>\n",
       "    </tr>\n",
       "  </thead>\n",
       "  <tbody>\n",
       "    <tr>\n",
       "      <th>0</th>\n",
       "      <td>101914477</td>\n",
       "      <td>4.0</td>\n",
       "      <td>BAR/NIGHTCLUB</td>\n",
       "      <td>NEIGHBORHOOD BAR</td>\n",
       "      <td>OTHER</td>\n",
       "      <td>LOWEST 20% ON/ LOWEST 20% OFF</td>\n",
       "      <td>False</td>\n",
       "      <td>False</td>\n",
       "      <td>False</td>\n",
       "      <td>False</td>\n",
       "      <td>...</td>\n",
       "      <td>0.0624</td>\n",
       "      <td>0.0578</td>\n",
       "      <td>0.0648</td>\n",
       "      <td>0.0460</td>\n",
       "      <td>0.0433</td>\n",
       "      <td>1</td>\n",
       "      <td>101914477</td>\n",
       "      <td>CORONA EX 3.2 6PK BT</td>\n",
       "      <td>ON</td>\n",
       "      <td>17.0</td>\n",
       "    </tr>\n",
       "    <tr>\n",
       "      <th>1</th>\n",
       "      <td>103707016</td>\n",
       "      <td>36.5</td>\n",
       "      <td>BAR/NIGHTCLUB</td>\n",
       "      <td>NEIGHBORHOOD BAR</td>\n",
       "      <td>VARIED MENU</td>\n",
       "      <td>TOP 50% ON/ TOP 20% OFF</td>\n",
       "      <td>False</td>\n",
       "      <td>False</td>\n",
       "      <td>True</td>\n",
       "      <td>True</td>\n",
       "      <td>...</td>\n",
       "      <td>0.0622</td>\n",
       "      <td>0.0644</td>\n",
       "      <td>0.0676</td>\n",
       "      <td>0.0435</td>\n",
       "      <td>0.0318</td>\n",
       "      <td>1</td>\n",
       "      <td>103707016</td>\n",
       "      <td>CORONA EX 6PK BT</td>\n",
       "      <td>ON</td>\n",
       "      <td>3.0</td>\n",
       "    </tr>\n",
       "    <tr>\n",
       "      <th>2</th>\n",
       "      <td>101930302</td>\n",
       "      <td>5.0</td>\n",
       "      <td>BAR/NIGHTCLUB</td>\n",
       "      <td>NEIGHBORHOOD BAR</td>\n",
       "      <td>OTHER</td>\n",
       "      <td>TOP 50% ON/ TOP 20% OFF</td>\n",
       "      <td>False</td>\n",
       "      <td>False</td>\n",
       "      <td>False</td>\n",
       "      <td>False</td>\n",
       "      <td>...</td>\n",
       "      <td>0.0551</td>\n",
       "      <td>0.0613</td>\n",
       "      <td>0.0715</td>\n",
       "      <td>0.0577</td>\n",
       "      <td>0.0472</td>\n",
       "      <td>1</td>\n",
       "      <td>101930302</td>\n",
       "      <td>CORONA EX 3.2 12PK BT</td>\n",
       "      <td>ON</td>\n",
       "      <td>16.0</td>\n",
       "    </tr>\n",
       "    <tr>\n",
       "      <th>3</th>\n",
       "      <td>101930302</td>\n",
       "      <td>5.0</td>\n",
       "      <td>BAR/NIGHTCLUB</td>\n",
       "      <td>NEIGHBORHOOD BAR</td>\n",
       "      <td>OTHER</td>\n",
       "      <td>TOP 50% ON/ TOP 20% OFF</td>\n",
       "      <td>False</td>\n",
       "      <td>False</td>\n",
       "      <td>False</td>\n",
       "      <td>False</td>\n",
       "      <td>...</td>\n",
       "      <td>0.0551</td>\n",
       "      <td>0.0613</td>\n",
       "      <td>0.0715</td>\n",
       "      <td>0.0577</td>\n",
       "      <td>0.0472</td>\n",
       "      <td>1</td>\n",
       "      <td>101930302</td>\n",
       "      <td>CORONA EX 3.2 6PK BT</td>\n",
       "      <td>ON</td>\n",
       "      <td>13.0</td>\n",
       "    </tr>\n",
       "    <tr>\n",
       "      <th>4</th>\n",
       "      <td>101943225</td>\n",
       "      <td>2.0</td>\n",
       "      <td>BAR/NIGHTCLUB</td>\n",
       "      <td>NEIGHBORHOOD BAR</td>\n",
       "      <td>OTHER</td>\n",
       "      <td>MID 30% ON/ MID 60% OFF</td>\n",
       "      <td>False</td>\n",
       "      <td>False</td>\n",
       "      <td>True</td>\n",
       "      <td>True</td>\n",
       "      <td>...</td>\n",
       "      <td>0.0614</td>\n",
       "      <td>0.0694</td>\n",
       "      <td>0.0696</td>\n",
       "      <td>0.0473</td>\n",
       "      <td>0.0435</td>\n",
       "      <td>1</td>\n",
       "      <td>101943225</td>\n",
       "      <td>MODELO ESP 3.2 12PK BT</td>\n",
       "      <td>ON</td>\n",
       "      <td>1.0</td>\n",
       "    </tr>\n",
       "  </tbody>\n",
       "</table>\n",
       "<p>5 rows × 45 columns</p>\n",
       "</div>"
      ],
      "text/plain": [
       "    STORE_CD  L12M_TY_QTY    CHANNEL_DSC    SUBCHANNEL_DSC  \\\n",
       "0  101914477          4.0  BAR/NIGHTCLUB  NEIGHBORHOOD BAR   \n",
       "1  103707016         36.5  BAR/NIGHTCLUB  NEIGHBORHOOD BAR   \n",
       "2  101930302          5.0  BAR/NIGHTCLUB  NEIGHBORHOOD BAR   \n",
       "3  101930302          5.0  BAR/NIGHTCLUB  NEIGHBORHOOD BAR   \n",
       "4  101943225          2.0  BAR/NIGHTCLUB  NEIGHBORHOOD BAR   \n",
       "\n",
       "  FOOD_TYPE_GROUP_DSC               INDUSTRY_VOL_DSC  CHAIN_IND_FLG  \\\n",
       "0               OTHER  LOWEST 20% ON/ LOWEST 20% OFF          False   \n",
       "1         VARIED MENU        TOP 50% ON/ TOP 20% OFF          False   \n",
       "2               OTHER        TOP 50% ON/ TOP 20% OFF          False   \n",
       "3               OTHER        TOP 50% ON/ TOP 20% OFF          False   \n",
       "4               OTHER        MID 30% ON/ MID 60% OFF          False   \n",
       "\n",
       "   FRANCHISE_FLG  WINE_FLG  LIQUOR_FLG       ...        FEMALE_POP_3544_PCT  \\\n",
       "0          False     False       False       ...                     0.0624   \n",
       "1          False      True        True       ...                     0.0622   \n",
       "2          False     False       False       ...                     0.0551   \n",
       "3          False     False       False       ...                     0.0551   \n",
       "4          False      True        True       ...                     0.0614   \n",
       "\n",
       "   FEMALE_POP_4554_PCT  FEMALE_POP_5564_PCT  FEMALE_POP_6574_PCT  \\\n",
       "0               0.0578               0.0648               0.0460   \n",
       "1               0.0644               0.0676               0.0435   \n",
       "2               0.0613               0.0715               0.0577   \n",
       "3               0.0613               0.0715               0.0577   \n",
       "4               0.0694               0.0696               0.0473   \n",
       "\n",
       "   FEMALE_POP_75_PCT  CLUSTER  RTL_STORE_CD     ITEM_MASTER_SKU_DSC  \\\n",
       "0             0.0433        1     101914477    CORONA EX 3.2 6PK BT   \n",
       "1             0.0318        1     103707016        CORONA EX 6PK BT   \n",
       "2             0.0472        1     101930302   CORONA EX 3.2 12PK BT   \n",
       "3             0.0472        1     101930302    CORONA EX 3.2 6PK BT   \n",
       "4             0.0435        1     101943225  MODELO ESP 3.2 12PK BT   \n",
       "\n",
       "   RTL_PREMISE_TYPE_CD  PROD_DEPLETION  \n",
       "0                   ON            17.0  \n",
       "1                   ON             3.0  \n",
       "2                   ON            16.0  \n",
       "3                   ON            13.0  \n",
       "4                   ON             1.0  \n",
       "\n",
       "[5 rows x 45 columns]"
      ]
     },
     "execution_count": 90,
     "metadata": {},
     "output_type": "execute_result"
    }
   ],
   "source": [
    "#Inner join StoreON Data with Top5_On_pairs_stores for regression\n",
    "RegressionDataON = pd.merge(StoresON, Top5_On_pairs_stores, left_on='STORE_CD', right_on=\"RTL_STORE_CD\", how=\"inner\")\n",
    "RegressionDataON.head()"
   ]
  },
  {
   "cell_type": "code",
   "execution_count": 91,
   "metadata": {
    "collapsed": false
   },
   "outputs": [
    {
     "data": {
      "text/plain": [
       "1418"
      ]
     },
     "execution_count": 91,
     "metadata": {},
     "output_type": "execute_result"
    }
   ],
   "source": [
    "len(RegressionDataON)"
   ]
  },
  {
   "cell_type": "code",
   "execution_count": 92,
   "metadata": {
    "collapsed": false
   },
   "outputs": [
    {
     "name": "stdout",
     "output_type": "stream",
     "text": [
      "                              OLS Regression Results                              \n",
      "==================================================================================\n",
      "Dep. Variable:     np.log(PROD_DEPLETION)   R-squared:                       0.195\n",
      "Model:                                OLS   Adj. R-squared:                  0.185\n",
      "Method:                     Least Squares   F-statistic:                     20.81\n",
      "Date:                    Wed, 05 Jul 2017   Prob (F-statistic):           2.23e-15\n",
      "Time:                            17:19:51   Log-Likelihood:                -620.33\n",
      "No. Observations:                     349   AIC:                             1251.\n",
      "Df Residuals:                         344   BIC:                             1270.\n",
      "Df Model:                               4                                         \n",
      "Covariance Type:                nonrobust                                         \n",
      "==============================================================================================================\n",
      "                                                 coef    std err          t      P>|t|      [0.025      0.975]\n",
      "--------------------------------------------------------------------------------------------------------------\n",
      "Intercept                                      3.1206      0.140     22.359      0.000       2.846       3.395\n",
      "C(ITEM_MASTER_SKU_DSC)[T.CORONA EX 6PK BT]    -1.4534      0.202     -7.205      0.000      -1.850      -1.057\n",
      "C(CLUSTER)[T.1]                               -0.4835      0.203     -2.379      0.018      -0.883      -0.084\n",
      "C(CLUSTER)[T.2]                               -0.1478      0.245     -0.602      0.547      -0.631       0.335\n",
      "C(CLUSTER)[T.3]                               -0.4800      0.242     -1.981      0.048      -0.956      -0.004\n",
      "==============================================================================\n",
      "Omnibus:                        7.261   Durbin-Watson:                   2.069\n",
      "Prob(Omnibus):                  0.027   Jarque-Bera (JB):                7.160\n",
      "Skew:                           0.346   Prob(JB):                       0.0279\n",
      "Kurtosis:                       3.116   Cond. No.                         4.91\n",
      "==============================================================================\n",
      "\n",
      "Warnings:\n",
      "[1] Standard Errors assume that the covariance matrix of the errors is correctly specified.\n"
     ]
    }
   ],
   "source": [
    "#pair1: CORONA EX 3.2 6PK BT vs CORONA EX 6PK BT\n",
    "subset1 = RegressionDataON.loc[RegressionDataON['ITEM_MASTER_SKU_DSC'].isin(list(Top5_LowPoint_On_Pairs_DF.loc[0, :]))].reset_index(drop=True)\n",
    "Regression_ON_pair1_cluster = smf.ols(formula='np.log(PROD_DEPLETION) ~ C(ITEM_MASTER_SKU_DSC) + C(CLUSTER)', data= subset1)\n",
    "print(Regression_ON_pair1_cluster.fit().summary())"
   ]
  },
  {
   "cell_type": "code",
   "execution_count": 93,
   "metadata": {
    "collapsed": false
   },
   "outputs": [
    {
     "data": {
      "image/png": "[encoded data removed]",
      "text/plain": [
       "<matplotlib.figure.Figure at 0xd28ac50>"
      ]
     },
     "metadata": {},
     "output_type": "display_data"
    }
   ],
   "source": [
    "f, axes = plt.subplots(1,2, figsize=(15, 3))\n",
    "plt.subplot(1,2,1)\n",
    "plt.title(\"Count of Stores per Cluster\")\n",
    "sns.countplot(y=\"CLUSTER\", hue= \"ITEM_MASTER_SKU_DSC\", data=subset1);\n",
    "\n",
    "plt.subplot(1,2,2)\n",
    "plt.title(\"Avergage Depletions per Cluster\")\n",
    "sns.barplot(x=\"CLUSTER\", y=\"PROD_DEPLETION\", hue=\"ITEM_MASTER_SKU_DSC\", data=subset1);"
   ]
  },
  {
   "cell_type": "code",
   "execution_count": 94,
   "metadata": {
    "collapsed": false
   },
   "outputs": [
    {
     "data": {
      "image/png": "[encoded data removed]",
      "text/plain": [
       "<matplotlib.figure.Figure at 0xcc2bdd8>"
      ]
     },
     "metadata": {},
     "output_type": "display_data"
    }
   ],
   "source": [
    "sns.factorplot(x='PROD_DEPLETION' ,y=\"CHANNEL_DSC\", hue=\"ITEM_MASTER_SKU_DSC\",\n",
    "               col=\"CLUSTER\", data=subset1, kind=\"bar\");"
   ]
  },
  {
   "cell_type": "code",
   "execution_count": 95,
   "metadata": {
    "collapsed": false
   },
   "outputs": [
    {
     "name": "stdout",
     "output_type": "stream",
     "text": [
      "                              OLS Regression Results                              \n",
      "==================================================================================\n",
      "Dep. Variable:     np.log(PROD_DEPLETION)   R-squared:                       0.021\n",
      "Model:                                OLS   Adj. R-squared:                  0.011\n",
      "Method:                     Least Squares   F-statistic:                     2.180\n",
      "Date:                    Wed, 05 Jul 2017   Prob (F-statistic):             0.0705\n",
      "Time:                            17:19:53   Log-Likelihood:                -740.79\n",
      "No. Observations:                     410   AIC:                             1492.\n",
      "Df Residuals:                         405   BIC:                             1512.\n",
      "Df Model:                               4                                         \n",
      "Covariance Type:                nonrobust                                         \n",
      "===================================================================================================================\n",
      "                                                      coef    std err          t      P>|t|      [0.025      0.975]\n",
      "-------------------------------------------------------------------------------------------------------------------\n",
      "Intercept                                           2.0456      0.208      9.828      0.000       1.636       2.455\n",
      "C(ITEM_MASTER_SKU_DSC)[T.CORONA EX 3.2 12PK BT]     0.3764      0.180      2.087      0.037       0.022       0.731\n",
      "C(CLUSTER)[T.1]                                    -0.0008      0.209     -0.004      0.997      -0.412       0.411\n",
      "C(CLUSTER)[T.2]                                     0.1138      0.229      0.497      0.619      -0.336       0.563\n",
      "C(CLUSTER)[T.3]                                     0.2809      0.262      1.073      0.284      -0.234       0.795\n",
      "==============================================================================\n",
      "Omnibus:                        6.521   Durbin-Watson:                   2.046\n",
      "Prob(Omnibus):                  0.038   Jarque-Bera (JB):                6.465\n",
      "Skew:                           0.276   Prob(JB):                       0.0395\n",
      "Kurtosis:                       2.729   Cond. No.                         6.25\n",
      "==============================================================================\n",
      "\n",
      "Warnings:\n",
      "[1] Standard Errors assume that the covariance matrix of the errors is correctly specified.\n"
     ]
    }
   ],
   "source": [
    "#pair 2: CORONA EX 12PK BT vs CORONA EX 3.2 12PK BT\n",
    "subset2 = RegressionDataON.loc[RegressionDataON['ITEM_MASTER_SKU_DSC'].isin(list(Top5_LowPoint_On_Pairs_DF.loc[1, :]))].reset_index(drop=True)\n",
    "Regression_ON_pair2_cluster = smf.ols(formula='np.log(PROD_DEPLETION) ~ C(ITEM_MASTER_SKU_DSC)+ C(CLUSTER)', data= subset2)\n",
    "print(Regression_ON_pair2_cluster.fit().summary())"
   ]
  },
  {
   "cell_type": "code",
   "execution_count": 96,
   "metadata": {
    "collapsed": false
   },
   "outputs": [
    {
     "data": {
      "image/png": "[encoded data removed]",
      "text/plain": [
       "<matplotlib.figure.Figure at 0xf69a668>"
      ]
     },
     "metadata": {},
     "output_type": "display_data"
    }
   ],
   "source": [
    "f, axes = plt.subplots(1,2, figsize=(15, 3))\n",
    "plt.subplot(1,2,1)\n",
    "plt.title(\"Count of Stores per Cluster\")\n",
    "sns.countplot(y=\"CLUSTER\", hue= \"ITEM_MASTER_SKU_DSC\", data=subset2);\n",
    "\n",
    "plt.subplot(1,2,2)\n",
    "plt.title(\"Avergage Depletions per Cluster\")\n",
    "sns.barplot(x=\"CLUSTER\", y=\"PROD_DEPLETION\", hue=\"ITEM_MASTER_SKU_DSC\", data=subset2);"
   ]
  },
  {
   "cell_type": "code",
   "execution_count": 97,
   "metadata": {
    "collapsed": false
   },
   "outputs": [
    {
     "data": {
      "image/png": "[encoded data removed]",
      "text/plain": [
       "<matplotlib.figure.Figure at 0xf6a19b0>"
      ]
     },
     "metadata": {},
     "output_type": "display_data"
    }
   ],
   "source": [
    "sns.factorplot(x='PROD_DEPLETION' ,y=\"CHANNEL_DSC\", hue=\"ITEM_MASTER_SKU_DSC\",\n",
    "               col=\"CLUSTER\", data=subset2, kind=\"bar\");"
   ]
  },
  {
   "cell_type": "code",
   "execution_count": 98,
   "metadata": {
    "collapsed": false
   },
   "outputs": [
    {
     "name": "stdout",
     "output_type": "stream",
     "text": [
      "                              OLS Regression Results                              \n",
      "==================================================================================\n",
      "Dep. Variable:     np.log(PROD_DEPLETION)   R-squared:                       0.038\n",
      "Model:                                OLS   Adj. R-squared:                  0.023\n",
      "Method:                     Least Squares   F-statistic:                     2.626\n",
      "Date:                    Wed, 05 Jul 2017   Prob (F-statistic):             0.0351\n",
      "Time:                            17:19:55   Log-Likelihood:                -495.20\n",
      "No. Observations:                     272   AIC:                             1000.\n",
      "Df Residuals:                         267   BIC:                             1018.\n",
      "Df Model:                               4                                         \n",
      "Covariance Type:                nonrobust                                         \n",
      "===============================================================================================================\n",
      "                                                  coef    std err          t      P>|t|      [0.025      0.975]\n",
      "---------------------------------------------------------------------------------------------------------------\n",
      "Intercept                                       3.0939      0.172     17.997      0.000       2.755       3.432\n",
      "C(ITEM_MASTER_SKU_DSC)[T.MODELO ESP 6PK BT]    -0.2391      0.236     -1.011      0.313      -0.704       0.226\n",
      "C(CLUSTER)[T.1]                                -0.4138      0.267     -1.547      0.123      -0.940       0.113\n",
      "C(CLUSTER)[T.2]                                -0.5320      0.277     -1.924      0.055      -1.076       0.012\n",
      "C(CLUSTER)[T.3]                                -0.4546      0.351     -1.294      0.197      -1.146       0.237\n",
      "==============================================================================\n",
      "Omnibus:                        5.590   Durbin-Watson:                   2.197\n",
      "Prob(Omnibus):                  0.061   Jarque-Bera (JB):                3.389\n",
      "Skew:                           0.035   Prob(JB):                        0.184\n",
      "Kurtosis:                       2.458   Cond. No.                         5.68\n",
      "==============================================================================\n",
      "\n",
      "Warnings:\n",
      "[1] Standard Errors assume that the covariance matrix of the errors is correctly specified.\n"
     ]
    }
   ],
   "source": [
    "#pair 3: MODELO ESP 3.2 6PK BT vs MODELO ESP 6PK BT\n",
    "subset3 = RegressionDataON.loc[RegressionDataON['ITEM_MASTER_SKU_DSC'].isin(list(Top5_LowPoint_On_Pairs_DF.loc[2, :]))].reset_index(drop=True)\n",
    "Regression_ON_pair3_cluster = smf.ols(formula='np.log(PROD_DEPLETION) ~ C(ITEM_MASTER_SKU_DSC)+ C(CLUSTER)', data= subset3)\n",
    "print(Regression_ON_pair3_cluster.fit().summary())"
   ]
  },
  {
   "cell_type": "code",
   "execution_count": 99,
   "metadata": {
    "collapsed": false
   },
   "outputs": [
    {
     "data": {
      "image/png": "[encoded data removed]",
      "text/plain": [
       "<matplotlib.figure.Figure at 0xfa2a2e8>"
      ]
     },
     "metadata": {},
     "output_type": "display_data"
    }
   ],
   "source": [
    "f, axes = plt.subplots(1,2, figsize=(15, 3))\n",
    "plt.subplot(1,2,1)\n",
    "plt.title(\"Count of Stores per Cluster\")\n",
    "sns.countplot(y=\"CLUSTER\", hue= \"ITEM_MASTER_SKU_DSC\", data=subset3);\n",
    "\n",
    "plt.subplot(1,2,2)\n",
    "plt.title(\"Avergage Depletions per Cluster\")\n",
    "sns.barplot(x=\"CLUSTER\", y=\"PROD_DEPLETION\", hue=\"ITEM_MASTER_SKU_DSC\", data=subset3);"
   ]
  },
  {
   "cell_type": "code",
   "execution_count": 100,
   "metadata": {
    "collapsed": false
   },
   "outputs": [
    {
     "data": {
      "image/png": "[encoded data removed]",
      "text/plain": [
       "<matplotlib.figure.Figure at 0xf85e7b8>"
      ]
     },
     "metadata": {},
     "output_type": "display_data"
    }
   ],
   "source": [
    "sns.factorplot(x='PROD_DEPLETION' ,y=\"CHANNEL_DSC\", hue=\"ITEM_MASTER_SKU_DSC\",\n",
    "               col=\"CLUSTER\", data=subset3, kind=\"bar\");"
   ]
  },
  {
   "cell_type": "code",
   "execution_count": 101,
   "metadata": {
    "collapsed": false
   },
   "outputs": [
    {
     "name": "stdout",
     "output_type": "stream",
     "text": [
      "                              OLS Regression Results                              \n",
      "==================================================================================\n",
      "Dep. Variable:     np.log(PROD_DEPLETION)   R-squared:                       0.010\n",
      "Model:                                OLS   Adj. R-squared:                 -0.003\n",
      "Method:                     Least Squares   F-statistic:                    0.7700\n",
      "Date:                    Wed, 05 Jul 2017   Prob (F-statistic):              0.545\n",
      "Time:                            17:19:58   Log-Likelihood:                -595.51\n",
      "No. Observations:                     317   AIC:                             1201.\n",
      "Df Residuals:                         312   BIC:                             1220.\n",
      "Df Model:                               4                                         \n",
      "Covariance Type:                nonrobust                                         \n",
      "====================================================================================================================\n",
      "                                                       coef    std err          t      P>|t|      [0.025      0.975]\n",
      "--------------------------------------------------------------------------------------------------------------------\n",
      "Intercept                                            2.2374      0.253      8.844      0.000       1.740       2.735\n",
      "C(ITEM_MASTER_SKU_DSC)[T.MODELO ESP 3.2 12PK BT]    -0.2607      0.246     -1.058      0.291      -0.746       0.224\n",
      "C(CLUSTER)[T.1]                                      0.0559      0.280      0.200      0.842      -0.495       0.607\n",
      "C(CLUSTER)[T.2]                                     -0.1794      0.279     -0.644      0.520      -0.728       0.369\n",
      "C(CLUSTER)[T.3]                                     -0.1953      0.352     -0.556      0.579      -0.887       0.496\n",
      "==============================================================================\n",
      "Omnibus:                       34.103   Durbin-Watson:                   2.099\n",
      "Prob(Omnibus):                  0.000   Jarque-Bera (JB):               13.948\n",
      "Skew:                           0.288   Prob(JB):                     0.000936\n",
      "Kurtosis:                       2.148   Cond. No.                         6.23\n",
      "==============================================================================\n",
      "\n",
      "Warnings:\n",
      "[1] Standard Errors assume that the covariance matrix of the errors is correctly specified.\n"
     ]
    }
   ],
   "source": [
    "#pair 4  MODELO ESP 12PK BT vs  MODELO ESP 3.2 12PK BT\n",
    "subset4 = RegressionDataON.loc[RegressionDataON['ITEM_MASTER_SKU_DSC'].isin(list(Top5_LowPoint_On_Pairs_DF.loc[3, :]))].reset_index(drop=True)\n",
    "Regression_ON_pair4_cluster = smf.ols(formula='np.log(PROD_DEPLETION) ~ C(ITEM_MASTER_SKU_DSC)+ C(CLUSTER)', data= subset4)\n",
    "print(Regression_ON_pair4_cluster.fit().summary())\n"
   ]
  },
  {
   "cell_type": "code",
   "execution_count": 102,
   "metadata": {
    "collapsed": false
   },
   "outputs": [
    {
     "data": {
      "image/png": "[encoded data removed]",
      "text/plain": [
       "<matplotlib.figure.Figure at 0xd4f2710>"
      ]
     },
     "metadata": {},
     "output_type": "display_data"
    }
   ],
   "source": [
    "f, axes = plt.subplots(1,2, figsize=(15, 3))\n",
    "plt.subplot(1,2,1)\n",
    "plt.title(\"Count of Stores per Cluster\")\n",
    "sns.countplot(y=\"CLUSTER\", hue= \"ITEM_MASTER_SKU_DSC\", data=subset4);\n",
    "\n",
    "plt.subplot(1,2,2)\n",
    "plt.title(\"Avergage Depletions per Cluster\")\n",
    "sns.barplot(x=\"CLUSTER\", y=\"PROD_DEPLETION\", hue=\"ITEM_MASTER_SKU_DSC\", data=subset4);"
   ]
  },
  {
   "cell_type": "code",
   "execution_count": 103,
   "metadata": {
    "collapsed": false
   },
   "outputs": [
    {
     "data": {
      "image/png": "[encoded data removed]",
      "text/plain": [
       "<matplotlib.figure.Figure at 0xd3db278>"
      ]
     },
     "metadata": {},
     "output_type": "display_data"
    }
   ],
   "source": [
    "sns.factorplot(x='PROD_DEPLETION' ,y=\"CHANNEL_DSC\", hue=\"ITEM_MASTER_SKU_DSC\",\n",
    "               col=\"CLUSTER\", data=subset4, kind=\"bar\");"
   ]
  },
  {
   "cell_type": "code",
   "execution_count": 104,
   "metadata": {
    "collapsed": false
   },
   "outputs": [
    {
     "name": "stdout",
     "output_type": "stream",
     "text": [
      "                              OLS Regression Results                              \n",
      "==================================================================================\n",
      "Dep. Variable:     np.log(PROD_DEPLETION)   R-squared:                       0.012\n",
      "Model:                                OLS   Adj. R-squared:                 -0.049\n",
      "Method:                     Least Squares   F-statistic:                    0.1928\n",
      "Date:                    Wed, 05 Jul 2017   Prob (F-statistic):              0.941\n",
      "Time:                            17:20:01   Log-Likelihood:                -134.20\n",
      "No. Observations:                      70   AIC:                             278.4\n",
      "Df Residuals:                          65   BIC:                             289.6\n",
      "Df Model:                               4                                         \n",
      "Covariance Type:                nonrobust                                         \n",
      "=====================================================================================================================\n",
      "                                                        coef    std err          t      P>|t|      [0.025      0.975]\n",
      "---------------------------------------------------------------------------------------------------------------------\n",
      "Intercept                                             1.8841      0.643      2.931      0.005       0.600       3.168\n",
      "C(ITEM_MASTER_SKU_DSC)[T.MODELO ESP 3.2 12PK CAN]     0.1988      0.522      0.381      0.705      -0.844       1.242\n",
      "C(CLUSTER)[T.1]                                      -0.0909      0.650     -0.140      0.889      -1.389       1.207\n",
      "C(CLUSTER)[T.2]                                      -0.2613      0.666     -0.392      0.696      -1.591       1.068\n",
      "C(CLUSTER)[T.3]                                      -0.3951      0.824     -0.480      0.633      -2.040       1.250\n",
      "==============================================================================\n",
      "Omnibus:                       12.023   Durbin-Watson:                   1.633\n",
      "Prob(Omnibus):                  0.002   Jarque-Bera (JB):               12.424\n",
      "Skew:                           0.963   Prob(JB):                      0.00201\n",
      "Kurtosis:                       3.741   Cond. No.                         7.12\n",
      "==============================================================================\n",
      "\n",
      "Warnings:\n",
      "[1] Standard Errors assume that the covariance matrix of the errors is correctly specified.\n"
     ]
    }
   ],
   "source": [
    "#pair 5  MODELO ESP 12PK CAN vs MODELO ESP 3.2 12PK CAN\n",
    "subset5 = RegressionDataON.loc[RegressionDataON['ITEM_MASTER_SKU_DSC'].isin(list(Top5_LowPoint_On_Pairs_DF.loc[4, :]))].reset_index(drop=True)\n",
    "Regression_ON_pair5_cluster = smf.ols(formula='np.log(PROD_DEPLETION) ~ C(ITEM_MASTER_SKU_DSC)+ C(CLUSTER)', data= subset5)\n",
    "print(Regression_ON_pair5_cluster.fit().summary())"
   ]
  },
  {
   "cell_type": "code",
   "execution_count": 105,
   "metadata": {
    "collapsed": false
   },
   "outputs": [
    {
     "data": {
      "image/png": "[encoded data removed]",
      "text/plain": [
       "<matplotlib.figure.Figure at 0xf6900f0>"
      ]
     },
     "metadata": {},
     "output_type": "display_data"
    }
   ],
   "source": [
    "f, axes = plt.subplots(1,2, figsize=(15, 3))\n",
    "plt.subplot(1,2,1)\n",
    "plt.title(\"Count of Stores per Cluster\")\n",
    "sns.countplot(y=\"CLUSTER\", hue= \"ITEM_MASTER_SKU_DSC\", data=subset5);\n",
    "\n",
    "plt.subplot(1,2,2)\n",
    "plt.title(\"Avergage Depletions per Cluster\")\n",
    "sns.barplot(x=\"CLUSTER\", y=\"PROD_DEPLETION\", hue=\"ITEM_MASTER_SKU_DSC\", data=subset5);"
   ]
  },
  {
   "cell_type": "code",
   "execution_count": 106,
   "metadata": {
    "collapsed": false
   },
   "outputs": [
    {
     "data": {
      "image/png": "[encoded data removed]",
      "text/plain": [
       "<matplotlib.figure.Figure at 0xd3a4ac8>"
      ]
     },
     "metadata": {},
     "output_type": "display_data"
    }
   ],
   "source": [
    "sns.factorplot(x='PROD_DEPLETION' ,y=\"CHANNEL_DSC\", hue=\"ITEM_MASTER_SKU_DSC\",\n",
    "               col=\"CLUSTER\", data=subset5, kind=\"bar\");"
   ]
  },
  {
   "cell_type": "code",
   "execution_count": null,
   "metadata": {
    "collapsed": true
   },
   "outputs": [],
   "source": []
  },
  {
   "cell_type": "code",
   "execution_count": null,
   "metadata": {
    "collapsed": true
   },
   "outputs": [],
   "source": []
  },
  {
   "cell_type": "code",
   "execution_count": null,
   "metadata": {
    "collapsed": true
   },
   "outputs": [],
   "source": []
  },
  {
   "cell_type": "markdown",
   "metadata": {},
   "source": [
    "## OFF PREMISE ANALYSIS"
   ]
  },
  {
   "cell_type": "markdown",
   "metadata": {},
   "source": [
    "### Data Preprocessing"
   ]
  },
  {
   "cell_type": "markdown",
   "metadata": {},
   "source": [
    "##### Exploratory Analysis of the columns"
   ]
  },
  {
   "cell_type": "code",
   "execution_count": 107,
   "metadata": {
    "collapsed": false
   },
   "outputs": [
    {
     "data": {
      "text/plain": [
       "Index(['STORE_CD', 'L12M_TY_QTY', 'PREMISE_TYPE_DSC', 'CHANNEL_DSC',\n",
       "       'SUBCHANNEL_DSC', 'FOOD_TYPE_GROUP_DSC', 'INDUSTRY_VOL_DSC',\n",
       "       'CHAIN_IND_FLG', 'FRANCHISE_FLG', 'BEER_FLG', 'WINE_FLG', 'LIQUOR_FLG',\n",
       "       'FINE_WINE_FLG', 'WHITE_POP_PCT', 'BLACK_POP_PCT', 'ASIAN_POP_PCT',\n",
       "       'HISP_POP_PCT', 'LEAST_ACC_HISP_POP_PCT', 'BI_CULTURAL_HISP_POP_PCT',\n",
       "       'MOST_ACC_HISP_POP_PCT', 'OTHER_POP_PCT', 'INCOME_POP_L10_PCT',\n",
       "       'INCOME_POP_1020_PCT', 'INCOME_POP_2030_PCT', 'INCOME_POP_3040_PCT',\n",
       "       'INCOME_POP_4050_PCT', 'INCOME_POP_5075_PCT', 'INCOME_POP_75100_PCT',\n",
       "       'INCOME_POP_G100_PCT', 'MALE_POP_2124_PCT', 'MALE_POP_2534_PCT',\n",
       "       'MALE_POP_3544_PCT', 'MALE_POP_4554_PCT', 'MALE_POP_5564_PCT',\n",
       "       'MALE_POP_6574_PCT', 'MALE_POP_75_PCT', 'FEMALE_POP_2124_PCT',\n",
       "       'FEMALE_POP_2534_PCT', 'FEMALE_POP_3544_PCT', 'FEMALE_POP_4554_PCT',\n",
       "       'FEMALE_POP_5564_PCT', 'FEMALE_POP_6574_PCT', 'FEMALE_POP_75_PCT'],\n",
       "      dtype='object')"
      ]
     },
     "execution_count": 107,
     "metadata": {},
     "output_type": "execute_result"
    }
   ],
   "source": [
    "StoresOFF.columns"
   ]
  },
  {
   "cell_type": "code",
   "execution_count": 108,
   "metadata": {
    "collapsed": false
   },
   "outputs": [
    {
     "data": {
      "text/plain": [
       "43"
      ]
     },
     "execution_count": 108,
     "metadata": {},
     "output_type": "execute_result"
    }
   ],
   "source": [
    "len(StoresOFF.columns)"
   ]
  },
  {
   "cell_type": "code",
   "execution_count": 109,
   "metadata": {
    "collapsed": false
   },
   "outputs": [
    {
     "name": "stdout",
     "output_type": "stream",
     "text": [
      "count          1957\n",
      "unique         1957\n",
      "top       100957218\n",
      "freq              1\n",
      "Name: STORE_CD, dtype: object\n",
      "count     1957.000000\n",
      "mean       588.284411\n",
      "std       1503.672089\n",
      "min          1.000000\n",
      "25%         23.000000\n",
      "50%        124.000000\n",
      "75%        515.250000\n",
      "max      29712.999500\n",
      "Name: L12M_TY_QTY, dtype: float64\n",
      "count            1957\n",
      "unique              1\n",
      "top       OFF PREMISE\n",
      "freq             1957\n",
      "Name: PREMISE_TYPE_DSC, dtype: object\n",
      "count                  1957\n",
      "unique                    8\n",
      "top       CONVENIENCE STORE\n",
      "freq                    832\n",
      "Name: CHANNEL_DSC, dtype: object\n",
      "count                         1957\n",
      "unique                          18\n",
      "top       CONVENTIONAL CONVENIENCE\n",
      "freq                           829\n",
      "Name: SUBCHANNEL_DSC, dtype: object\n",
      "count      1957\n",
      "unique        1\n",
      "top       OTHER\n",
      "freq       1957\n",
      "Name: FOOD_TYPE_GROUP_DSC, dtype: object\n",
      "count                              1957\n",
      "unique                                3\n",
      "top       LOWEST 20% ON/ LOWEST 20% OFF\n",
      "freq                                827\n",
      "Name: INDUSTRY_VOL_DSC, dtype: object\n",
      "count      1957\n",
      "unique        2\n",
      "top       False\n",
      "freq       1075\n",
      "Name: CHAIN_IND_FLG, dtype: object\n",
      "count      1957\n",
      "unique        2\n",
      "top       False\n",
      "freq       1848\n",
      "Name: FRANCHISE_FLG, dtype: object\n",
      "count     1957\n",
      "unique       2\n",
      "top       True\n",
      "freq      1955\n",
      "Name: BEER_FLG, dtype: object\n",
      "count      1957\n",
      "unique        2\n",
      "top       False\n",
      "freq       1216\n",
      "Name: WINE_FLG, dtype: object\n",
      "count      1957\n",
      "unique        2\n",
      "top       False\n",
      "freq       1210\n",
      "Name: LIQUOR_FLG, dtype: object\n",
      "count      1957\n",
      "unique        2\n",
      "top       False\n",
      "freq       1953\n",
      "Name: FINE_WINE_FLG, dtype: object\n",
      "count    1957.000000\n",
      "mean        0.811928\n",
      "std         0.150650\n",
      "min         0.180000\n",
      "25%         0.761600\n",
      "50%         0.853600\n",
      "75%         0.924200\n",
      "max         0.989000\n",
      "Name: WHITE_POP_PCT, dtype: float64\n",
      "count    1957.000000\n",
      "mean        0.042919\n",
      "std         0.061631\n",
      "min         0.000000\n",
      "25%         0.007300\n",
      "50%         0.023500\n",
      "75%         0.053800\n",
      "max         0.585200\n",
      "Name: BLACK_POP_PCT, dtype: float64\n",
      "count    1957.000000\n",
      "mean        0.024161\n",
      "std         0.024146\n",
      "min         0.000000\n",
      "25%         0.006200\n",
      "50%         0.016100\n",
      "75%         0.034400\n",
      "max         0.177100\n",
      "Name: ASIAN_POP_PCT, dtype: float64\n",
      "count    1957.000000\n",
      "mean        0.097373\n",
      "std         0.111583\n",
      "min         0.004900\n",
      "25%         0.032000\n",
      "50%         0.055400\n",
      "75%         0.115100\n",
      "max         0.661700\n",
      "Name: HISP_POP_PCT, dtype: float64\n",
      "count    1957.000000\n",
      "mean        0.019029\n",
      "std         0.023260\n",
      "min         0.000800\n",
      "25%         0.005600\n",
      "50%         0.009900\n",
      "75%         0.021900\n",
      "max         0.150300\n",
      "Name: LEAST_ACC_HISP_POP_PCT, dtype: float64\n",
      "count    1957.000000\n",
      "mean        0.032650\n",
      "std         0.041787\n",
      "min         0.001800\n",
      "25%         0.009800\n",
      "50%         0.016900\n",
      "75%         0.037600\n",
      "max         0.257900\n",
      "Name: BI_CULTURAL_HISP_POP_PCT, dtype: float64\n",
      "count    1957.000000\n",
      "mean        0.045694\n",
      "std         0.047715\n",
      "min         0.002200\n",
      "25%         0.016400\n",
      "50%         0.028700\n",
      "75%         0.056100\n",
      "max         0.278500\n",
      "Name: MOST_ACC_HISP_POP_PCT, dtype: float64\n",
      "count    1957.000000\n",
      "mean        0.015230\n",
      "std         0.006738\n",
      "min         0.000000\n",
      "25%         0.010800\n",
      "50%         0.014700\n",
      "75%         0.018600\n",
      "max         0.068600\n",
      "Name: OTHER_POP_PCT, dtype: float64\n",
      "count    1957.000000\n",
      "mean        0.046370\n",
      "std         0.027475\n",
      "min         0.002500\n",
      "25%         0.026900\n",
      "50%         0.041300\n",
      "75%         0.058900\n",
      "max         0.208800\n",
      "Name: INCOME_POP_L10_PCT, dtype: float64\n",
      "count    1957.000000\n",
      "mean        0.082416\n",
      "std         0.033737\n",
      "min         0.008300\n",
      "25%         0.057700\n",
      "50%         0.081500\n",
      "75%         0.106100\n",
      "max         0.217300\n",
      "Name: INCOME_POP_1020_PCT, dtype: float64\n",
      "count    1957.000000\n",
      "mean        0.096839\n",
      "std         0.029949\n",
      "min         0.016900\n",
      "25%         0.076600\n",
      "50%         0.099300\n",
      "75%         0.119000\n",
      "max         0.175100\n",
      "Name: INCOME_POP_2030_PCT, dtype: float64\n",
      "count    1957.000000\n",
      "mean        0.101254\n",
      "std         0.025308\n",
      "min         0.027100\n",
      "25%         0.085500\n",
      "50%         0.104800\n",
      "75%         0.117800\n",
      "max         0.196400\n",
      "Name: INCOME_POP_3040_PCT, dtype: float64\n",
      "count    1957.000000\n",
      "mean        0.094810\n",
      "std         0.022292\n",
      "min         0.027200\n",
      "25%         0.081600\n",
      "50%         0.095200\n",
      "75%         0.110200\n",
      "max         0.189100\n",
      "Name: INCOME_POP_4050_PCT, dtype: float64\n",
      "count    1957.000000\n",
      "mean        0.200479\n",
      "std         0.029605\n",
      "min         0.097100\n",
      "25%         0.182800\n",
      "50%         0.201000\n",
      "75%         0.218500\n",
      "max         0.323000\n",
      "Name: INCOME_POP_5075_PCT, dtype: float64\n",
      "count    1957.000000\n",
      "mean        0.140052\n",
      "std         0.027551\n",
      "min         0.059500\n",
      "25%         0.121400\n",
      "50%         0.139500\n",
      "75%         0.158300\n",
      "max         0.245900\n",
      "Name: INCOME_POP_75100_PCT, dtype: float64\n",
      "count    1957.000000\n",
      "mean        0.237779\n",
      "std         0.114486\n",
      "min         0.043500\n",
      "25%         0.156100\n",
      "50%         0.206500\n",
      "75%         0.289800\n",
      "max         0.678100\n",
      "Name: INCOME_POP_G100_PCT, dtype: float64\n",
      "count    1957.00000\n",
      "mean        0.02909\n",
      "std         0.01453\n",
      "min         0.01570\n",
      "25%         0.02380\n",
      "50%         0.02560\n",
      "75%         0.02840\n",
      "max         0.19480\n",
      "Name: MALE_POP_2124_PCT, dtype: float64\n",
      "count    1957.000000\n",
      "mean        0.064312\n",
      "std         0.014498\n",
      "min         0.030300\n",
      "25%         0.053900\n",
      "50%         0.060900\n",
      "75%         0.073100\n",
      "max         0.129500\n",
      "Name: MALE_POP_2534_PCT, dtype: float64\n",
      "count    1957.000000\n",
      "mean        0.059934\n",
      "std         0.008117\n",
      "min         0.034800\n",
      "25%         0.054400\n",
      "50%         0.058700\n",
      "75%         0.064400\n",
      "max         0.089800\n",
      "Name: MALE_POP_3544_PCT, dtype: float64\n",
      "count    1957.000000\n",
      "mean        0.059505\n",
      "std         0.007454\n",
      "min         0.022700\n",
      "25%         0.055800\n",
      "50%         0.059200\n",
      "75%         0.063600\n",
      "max         0.082600\n",
      "Name: MALE_POP_4554_PCT, dtype: float64\n",
      "count    1957.000000\n",
      "mean        0.064365\n",
      "std         0.011919\n",
      "min         0.016100\n",
      "25%         0.057000\n",
      "50%         0.064000\n",
      "75%         0.071400\n",
      "max         0.111300\n",
      "Name: MALE_POP_5564_PCT, dtype: float64\n",
      "count    1957.000000\n",
      "mean        0.043195\n",
      "std         0.010819\n",
      "min         0.009200\n",
      "25%         0.035600\n",
      "50%         0.042500\n",
      "75%         0.050200\n",
      "max         0.099800\n",
      "Name: MALE_POP_6574_PCT, dtype: float64\n",
      "count    1957.000000\n",
      "mean        0.027930\n",
      "std         0.010783\n",
      "min         0.004700\n",
      "25%         0.019800\n",
      "50%         0.026400\n",
      "75%         0.034600\n",
      "max         0.062000\n",
      "Name: MALE_POP_75_PCT, dtype: float64\n",
      "count    1957.000000\n",
      "mean        0.027198\n",
      "std         0.012143\n",
      "min         0.014000\n",
      "25%         0.022500\n",
      "50%         0.024300\n",
      "75%         0.026900\n",
      "max         0.155000\n",
      "Name: FEMALE_POP_2124_PCT, dtype: float64\n",
      "count    1957.000000\n",
      "mean        0.062349\n",
      "std         0.012701\n",
      "min         0.032700\n",
      "25%         0.052200\n",
      "50%         0.060800\n",
      "75%         0.071400\n",
      "max         0.116900\n",
      "Name: FEMALE_POP_2534_PCT, dtype: float64\n",
      "count    1957.000000\n",
      "mean        0.059431\n",
      "std         0.008270\n",
      "min         0.037500\n",
      "25%         0.054000\n",
      "50%         0.059200\n",
      "75%         0.063800\n",
      "max         0.094700\n",
      "Name: FEMALE_POP_3544_PCT, dtype: float64\n",
      "count    1957.000000\n",
      "mean        0.060523\n",
      "std         0.007924\n",
      "min         0.020100\n",
      "25%         0.056300\n",
      "50%         0.060200\n",
      "75%         0.064600\n",
      "max         0.090500\n",
      "Name: FEMALE_POP_4554_PCT, dtype: float64\n",
      "count    1957.000000\n",
      "mean        0.066453\n",
      "std         0.010720\n",
      "min         0.016800\n",
      "25%         0.060000\n",
      "50%         0.068100\n",
      "75%         0.073200\n",
      "max         0.096700\n",
      "Name: FEMALE_POP_5564_PCT, dtype: float64\n",
      "count    1957.000000\n",
      "mean        0.046810\n",
      "std         0.010753\n",
      "min         0.010500\n",
      "25%         0.039000\n",
      "50%         0.047200\n",
      "75%         0.054500\n",
      "max         0.083000\n",
      "Name: FEMALE_POP_6574_PCT, dtype: float64\n",
      "count    1957.000000\n",
      "mean        0.038863\n",
      "std         0.014503\n",
      "min         0.005700\n",
      "25%         0.028200\n",
      "50%         0.036600\n",
      "75%         0.048200\n",
      "max         0.092200\n",
      "Name: FEMALE_POP_75_PCT, dtype: float64\n"
     ]
    }
   ],
   "source": [
    "for col in StoresOFF.columns:\n",
    "    print(StoresOFF[col].describe())"
   ]
  },
  {
   "cell_type": "code",
   "execution_count": 110,
   "metadata": {
    "collapsed": true,
    "scrolled": true
   },
   "outputs": [],
   "source": [
    "#Remove Not Necessary Columns\n",
    "del StoresOFF['PREMISE_TYPE_DSC'] #Unique\n",
    "del StoresOFF['FOOD_TYPE_GROUP_DSC'] #Unique\n",
    "del StoresOFF['BEER_FLG'] # No Variance\n",
    "del StoresOFF['FINE_WINE_FLG'] # No Variance\n"
   ]
  },
  {
   "cell_type": "code",
   "execution_count": 111,
   "metadata": {
    "collapsed": false,
    "scrolled": true
   },
   "outputs": [
    {
     "data": {
      "text/plain": [
       "<matplotlib.text.Text at 0xf5b6320>"
      ]
     },
     "execution_count": 111,
     "metadata": {},
     "output_type": "execute_result"
    },
    {
     "data": {
      "image/png": "[encoded data removed]",
      "text/plain": [
       "<matplotlib.figure.Figure at 0xfa32dd8>"
      ]
     },
     "metadata": {},
     "output_type": "display_data"
    }
   ],
   "source": [
    "#Distribution of Depletions\n",
    "f, axes = plt.subplots(1,2, figsize=(15, 3))\n",
    "plt.subplot(1,2,2)\n",
    "plt.title('Histogram of Log(Depletions)')\n",
    "sns.distplot(np.log10(StoresOFF['L12M_TY_QTY'].values))\n",
    "plt.xlabel('L12M_TQ_QTY')\n",
    "plt.ylabel('Frequency')\n",
    "\n",
    "plt.subplot(1,2,1)\n",
    "plt.title('Distribution of Depletions')\n",
    "sns.distplot(StoresOFF['L12M_TY_QTY'])\n",
    "plt.xlabel('L12M_TQ_QTY')\n",
    "plt.ylabel('Frequency')"
   ]
  },
  {
   "cell_type": "code",
   "execution_count": 112,
   "metadata": {
    "collapsed": false
   },
   "outputs": [
    {
     "data": {
      "text/plain": [
       "Index(['STORE_CD', 'L12M_TY_QTY', 'CHANNEL_DSC', 'SUBCHANNEL_DSC',\n",
       "       'INDUSTRY_VOL_DSC', 'CHAIN_IND_FLG', 'FRANCHISE_FLG', 'WINE_FLG',\n",
       "       'LIQUOR_FLG', 'WHITE_POP_PCT', 'BLACK_POP_PCT', 'ASIAN_POP_PCT',\n",
       "       'HISP_POP_PCT', 'LEAST_ACC_HISP_POP_PCT', 'BI_CULTURAL_HISP_POP_PCT',\n",
       "       'MOST_ACC_HISP_POP_PCT', 'OTHER_POP_PCT', 'INCOME_POP_L10_PCT',\n",
       "       'INCOME_POP_1020_PCT', 'INCOME_POP_2030_PCT', 'INCOME_POP_3040_PCT',\n",
       "       'INCOME_POP_4050_PCT', 'INCOME_POP_5075_PCT', 'INCOME_POP_75100_PCT',\n",
       "       'INCOME_POP_G100_PCT', 'MALE_POP_2124_PCT', 'MALE_POP_2534_PCT',\n",
       "       'MALE_POP_3544_PCT', 'MALE_POP_4554_PCT', 'MALE_POP_5564_PCT',\n",
       "       'MALE_POP_6574_PCT', 'MALE_POP_75_PCT', 'FEMALE_POP_2124_PCT',\n",
       "       'FEMALE_POP_2534_PCT', 'FEMALE_POP_3544_PCT', 'FEMALE_POP_4554_PCT',\n",
       "       'FEMALE_POP_5564_PCT', 'FEMALE_POP_6574_PCT', 'FEMALE_POP_75_PCT'],\n",
       "      dtype='object')"
      ]
     },
     "execution_count": 112,
     "metadata": {},
     "output_type": "execute_result"
    }
   ],
   "source": [
    "StoresOFF.columns"
   ]
  },
  {
   "cell_type": "code",
   "execution_count": 113,
   "metadata": {
    "collapsed": true
   },
   "outputs": [],
   "source": [
    "#Get Dummies\n",
    "DummiesColumnsOFF = ['CHANNEL_DSC','SUBCHANNEL_DSC','INDUSTRY_VOL_DSC']\n",
    "StoresC_OFF = binarize(StoresOFF, DummiesColumnsOFF)\n",
    "\n",
    "#Normalize Depletions using Min-Max method\n",
    "scaler = MinMaxScaler() \n",
    "StoresC_OFF['NORM_L12M_TY_QTY'] = scaler.fit_transform(StoresOFF['L12M_TY_QTY'].values.reshape(-1,1)) \n"
   ]
  },
  {
   "cell_type": "code",
   "execution_count": 114,
   "metadata": {
    "collapsed": true
   },
   "outputs": [],
   "source": [
    "# prepare data to fit model\n",
    "X_labels_OFF = [c for c in StoresC_OFF.columns if c not in ['CHANNEL_DSC','SUBCHANNEL_DSC','INDUSTRY_VOL_DSC',\n",
    "                                                     'STORE_CD','L12M_TY_QTY']]\n",
    "X_OFF = StoresC_OFF.loc[:,X_labels_OFF]"
   ]
  },
  {
   "cell_type": "code",
   "execution_count": 115,
   "metadata": {
    "collapsed": false,
    "scrolled": true
   },
   "outputs": [
    {
     "data": {
      "text/html": [
       "<div>\n",
       "<style>\n",
       "    .dataframe thead tr:only-child th {\n",
       "        text-align: right;\n",
       "    }\n",
       "\n",
       "    .dataframe thead th {\n",
       "        text-align: left;\n",
       "    }\n",
       "\n",
       "    .dataframe tbody tr th {\n",
       "        vertical-align: top;\n",
       "    }\n",
       "</style>\n",
       "<table border=\"1\" class=\"dataframe\">\n",
       "  <thead>\n",
       "    <tr style=\"text-align: right;\">\n",
       "      <th></th>\n",
       "      <th>CHAIN_IND_FLG</th>\n",
       "      <th>FRANCHISE_FLG</th>\n",
       "      <th>WINE_FLG</th>\n",
       "      <th>LIQUOR_FLG</th>\n",
       "      <th>WHITE_POP_PCT</th>\n",
       "      <th>BLACK_POP_PCT</th>\n",
       "      <th>ASIAN_POP_PCT</th>\n",
       "      <th>HISP_POP_PCT</th>\n",
       "      <th>LEAST_ACC_HISP_POP_PCT</th>\n",
       "      <th>BI_CULTURAL_HISP_POP_PCT</th>\n",
       "      <th>...</th>\n",
       "      <th>B_SUBCHANNEL_DSC_SUPERCENTER</th>\n",
       "      <th>B_SUBCHANNEL_DSC_SUPERETTE</th>\n",
       "      <th>B_SUBCHANNEL_DSC_SUPERMARKET-CONVENTIONAL</th>\n",
       "      <th>B_SUBCHANNEL_DSC_SUPERMARKET-LIMITED ASSORTMENT</th>\n",
       "      <th>B_SUBCHANNEL_DSC_SUPERMARKET-NATURAL/GOURMET FOODS</th>\n",
       "      <th>B_SUBCHANNEL_DSC_WINE SPECIALTY STORE</th>\n",
       "      <th>B_INDUSTRY_VOL_DSC_LOWEST 20% ON/ LOWEST 20% OFF</th>\n",
       "      <th>B_INDUSTRY_VOL_DSC_MID 30% ON/ MID 60% OFF</th>\n",
       "      <th>B_INDUSTRY_VOL_DSC_TOP 50% ON/ TOP 20% OFF</th>\n",
       "      <th>NORM_L12M_TY_QTY</th>\n",
       "    </tr>\n",
       "  </thead>\n",
       "  <tbody>\n",
       "    <tr>\n",
       "      <th>0</th>\n",
       "      <td>False</td>\n",
       "      <td>False</td>\n",
       "      <td>True</td>\n",
       "      <td>True</td>\n",
       "      <td>0.9437</td>\n",
       "      <td>0.0103</td>\n",
       "      <td>0.0081</td>\n",
       "      <td>0.0195</td>\n",
       "      <td>0.0041</td>\n",
       "      <td>0.0061</td>\n",
       "      <td>...</td>\n",
       "      <td>0</td>\n",
       "      <td>0</td>\n",
       "      <td>0</td>\n",
       "      <td>0</td>\n",
       "      <td>0</td>\n",
       "      <td>0</td>\n",
       "      <td>0</td>\n",
       "      <td>0</td>\n",
       "      <td>1</td>\n",
       "      <td>0.002474</td>\n",
       "    </tr>\n",
       "    <tr>\n",
       "      <th>1</th>\n",
       "      <td>False</td>\n",
       "      <td>False</td>\n",
       "      <td>True</td>\n",
       "      <td>True</td>\n",
       "      <td>0.8233</td>\n",
       "      <td>0.0051</td>\n",
       "      <td>0.0065</td>\n",
       "      <td>0.1577</td>\n",
       "      <td>0.0274</td>\n",
       "      <td>0.0505</td>\n",
       "      <td>...</td>\n",
       "      <td>0</td>\n",
       "      <td>0</td>\n",
       "      <td>0</td>\n",
       "      <td>0</td>\n",
       "      <td>0</td>\n",
       "      <td>0</td>\n",
       "      <td>0</td>\n",
       "      <td>0</td>\n",
       "      <td>1</td>\n",
       "      <td>0.010442</td>\n",
       "    </tr>\n",
       "    <tr>\n",
       "      <th>2</th>\n",
       "      <td>False</td>\n",
       "      <td>False</td>\n",
       "      <td>True</td>\n",
       "      <td>True</td>\n",
       "      <td>0.7785</td>\n",
       "      <td>0.0523</td>\n",
       "      <td>0.0719</td>\n",
       "      <td>0.0742</td>\n",
       "      <td>0.0117</td>\n",
       "      <td>0.0222</td>\n",
       "      <td>...</td>\n",
       "      <td>0</td>\n",
       "      <td>0</td>\n",
       "      <td>0</td>\n",
       "      <td>0</td>\n",
       "      <td>0</td>\n",
       "      <td>0</td>\n",
       "      <td>0</td>\n",
       "      <td>0</td>\n",
       "      <td>1</td>\n",
       "      <td>0.020657</td>\n",
       "    </tr>\n",
       "    <tr>\n",
       "      <th>3</th>\n",
       "      <td>True</td>\n",
       "      <td>False</td>\n",
       "      <td>False</td>\n",
       "      <td>False</td>\n",
       "      <td>0.6504</td>\n",
       "      <td>0.1406</td>\n",
       "      <td>0.0332</td>\n",
       "      <td>0.1328</td>\n",
       "      <td>0.0238</td>\n",
       "      <td>0.0385</td>\n",
       "      <td>...</td>\n",
       "      <td>0</td>\n",
       "      <td>0</td>\n",
       "      <td>0</td>\n",
       "      <td>0</td>\n",
       "      <td>0</td>\n",
       "      <td>0</td>\n",
       "      <td>1</td>\n",
       "      <td>0</td>\n",
       "      <td>0</td>\n",
       "      <td>0.001346</td>\n",
       "    </tr>\n",
       "    <tr>\n",
       "      <th>4</th>\n",
       "      <td>False</td>\n",
       "      <td>False</td>\n",
       "      <td>True</td>\n",
       "      <td>True</td>\n",
       "      <td>0.9537</td>\n",
       "      <td>0.0015</td>\n",
       "      <td>0.0010</td>\n",
       "      <td>0.0150</td>\n",
       "      <td>0.0029</td>\n",
       "      <td>0.0039</td>\n",
       "      <td>...</td>\n",
       "      <td>0</td>\n",
       "      <td>0</td>\n",
       "      <td>0</td>\n",
       "      <td>0</td>\n",
       "      <td>0</td>\n",
       "      <td>0</td>\n",
       "      <td>0</td>\n",
       "      <td>0</td>\n",
       "      <td>1</td>\n",
       "      <td>0.004182</td>\n",
       "    </tr>\n",
       "  </tbody>\n",
       "</table>\n",
       "<p>5 rows × 64 columns</p>\n",
       "</div>"
      ],
      "text/plain": [
       "   CHAIN_IND_FLG  FRANCHISE_FLG  WINE_FLG  LIQUOR_FLG  WHITE_POP_PCT  \\\n",
       "0          False          False      True        True         0.9437   \n",
       "1          False          False      True        True         0.8233   \n",
       "2          False          False      True        True         0.7785   \n",
       "3           True          False     False       False         0.6504   \n",
       "4          False          False      True        True         0.9537   \n",
       "\n",
       "   BLACK_POP_PCT  ASIAN_POP_PCT  HISP_POP_PCT  LEAST_ACC_HISP_POP_PCT  \\\n",
       "0         0.0103         0.0081        0.0195                  0.0041   \n",
       "1         0.0051         0.0065        0.1577                  0.0274   \n",
       "2         0.0523         0.0719        0.0742                  0.0117   \n",
       "3         0.1406         0.0332        0.1328                  0.0238   \n",
       "4         0.0015         0.0010        0.0150                  0.0029   \n",
       "\n",
       "   BI_CULTURAL_HISP_POP_PCT        ...         B_SUBCHANNEL_DSC_SUPERCENTER  \\\n",
       "0                    0.0061        ...                                    0   \n",
       "1                    0.0505        ...                                    0   \n",
       "2                    0.0222        ...                                    0   \n",
       "3                    0.0385        ...                                    0   \n",
       "4                    0.0039        ...                                    0   \n",
       "\n",
       "   B_SUBCHANNEL_DSC_SUPERETTE  B_SUBCHANNEL_DSC_SUPERMARKET-CONVENTIONAL  \\\n",
       "0                           0                                          0   \n",
       "1                           0                                          0   \n",
       "2                           0                                          0   \n",
       "3                           0                                          0   \n",
       "4                           0                                          0   \n",
       "\n",
       "   B_SUBCHANNEL_DSC_SUPERMARKET-LIMITED ASSORTMENT  \\\n",
       "0                                                0   \n",
       "1                                                0   \n",
       "2                                                0   \n",
       "3                                                0   \n",
       "4                                                0   \n",
       "\n",
       "   B_SUBCHANNEL_DSC_SUPERMARKET-NATURAL/GOURMET FOODS  \\\n",
       "0                                                  0    \n",
       "1                                                  0    \n",
       "2                                                  0    \n",
       "3                                                  0    \n",
       "4                                                  0    \n",
       "\n",
       "   B_SUBCHANNEL_DSC_WINE SPECIALTY STORE  \\\n",
       "0                                      0   \n",
       "1                                      0   \n",
       "2                                      0   \n",
       "3                                      0   \n",
       "4                                      0   \n",
       "\n",
       "   B_INDUSTRY_VOL_DSC_LOWEST 20% ON/ LOWEST 20% OFF  \\\n",
       "0                                                 0   \n",
       "1                                                 0   \n",
       "2                                                 0   \n",
       "3                                                 1   \n",
       "4                                                 0   \n",
       "\n",
       "   B_INDUSTRY_VOL_DSC_MID 30% ON/ MID 60% OFF  \\\n",
       "0                                           0   \n",
       "1                                           0   \n",
       "2                                           0   \n",
       "3                                           0   \n",
       "4                                           0   \n",
       "\n",
       "   B_INDUSTRY_VOL_DSC_TOP 50% ON/ TOP 20% OFF  NORM_L12M_TY_QTY  \n",
       "0                                           1          0.002474  \n",
       "1                                           1          0.010442  \n",
       "2                                           1          0.020657  \n",
       "3                                           0          0.001346  \n",
       "4                                           1          0.004182  \n",
       "\n",
       "[5 rows x 64 columns]"
      ]
     },
     "execution_count": 115,
     "metadata": {},
     "output_type": "execute_result"
    }
   ],
   "source": [
    "X_OFF.head()"
   ]
  },
  {
   "cell_type": "markdown",
   "metadata": {},
   "source": [
    "### Clustering"
   ]
  },
  {
   "cell_type": "markdown",
   "metadata": {},
   "source": [
    "#### Choose number of Clusters"
   ]
  },
  {
   "cell_type": "code",
   "execution_count": 116,
   "metadata": {
    "collapsed": true
   },
   "outputs": [],
   "source": [
    "#Tunned Elbow Method OFF\n",
    "K = range(1, 20)\n",
    "meandistortions = []\n",
    "for k in K:\n",
    "    kmeans = KMeans(n_clusters=k, n_jobs= -2)\n",
    "    kmeans.fit(X_OFF)\n",
    "    meandistortions.append(sum(np.min(cdist(X_OFF, kmeans.cluster_centers_, 'euclidean'), axis=1)) / X_OFF.shape[0])"
   ]
  },
  {
   "cell_type": "code",
   "execution_count": 117,
   "metadata": {
    "collapsed": false,
    "scrolled": true
   },
   "outputs": [
    {
     "data": {
      "image/png": "[encoded data removed]",
      "text/plain": [
       "<matplotlib.figure.Figure at 0xc643828>"
      ]
     },
     "metadata": {},
     "output_type": "display_data"
    }
   ],
   "source": [
    "plt.plot(K, meandistortions, 'bx-')\n",
    "plt.xlabel('k')\n",
    "plt.ylabel('Average distortion')\n",
    "plt.title('Selecting k with the Elbow Method')\n",
    "plt.show()"
   ]
  },
  {
   "cell_type": "code",
   "execution_count": 118,
   "metadata": {
    "collapsed": false
   },
   "outputs": [
    {
     "data": {
      "text/html": [
       "<div>\n",
       "<style>\n",
       "    .dataframe thead tr:only-child th {\n",
       "        text-align: right;\n",
       "    }\n",
       "\n",
       "    .dataframe thead th {\n",
       "        text-align: left;\n",
       "    }\n",
       "\n",
       "    .dataframe tbody tr th {\n",
       "        vertical-align: top;\n",
       "    }\n",
       "</style>\n",
       "<table border=\"1\" class=\"dataframe\">\n",
       "  <thead>\n",
       "    <tr style=\"text-align: right;\">\n",
       "      <th></th>\n",
       "      <th>NumberOfClusters</th>\n",
       "      <th>silhouette_score</th>\n",
       "    </tr>\n",
       "  </thead>\n",
       "  <tbody>\n",
       "    <tr>\n",
       "      <th>0</th>\n",
       "      <td>2</td>\n",
       "      <td>0.519901</td>\n",
       "    </tr>\n",
       "    <tr>\n",
       "      <th>1</th>\n",
       "      <td>3</td>\n",
       "      <td>0.533786</td>\n",
       "    </tr>\n",
       "    <tr>\n",
       "      <th>2</th>\n",
       "      <td>4</td>\n",
       "      <td>0.520731</td>\n",
       "    </tr>\n",
       "    <tr>\n",
       "      <th>3</th>\n",
       "      <td>5</td>\n",
       "      <td>0.552142</td>\n",
       "    </tr>\n",
       "    <tr>\n",
       "      <th>4</th>\n",
       "      <td>6</td>\n",
       "      <td>0.531447</td>\n",
       "    </tr>\n",
       "    <tr>\n",
       "      <th>5</th>\n",
       "      <td>7</td>\n",
       "      <td>0.542286</td>\n",
       "    </tr>\n",
       "    <tr>\n",
       "      <th>6</th>\n",
       "      <td>8</td>\n",
       "      <td>0.546306</td>\n",
       "    </tr>\n",
       "    <tr>\n",
       "      <th>7</th>\n",
       "      <td>9</td>\n",
       "      <td>0.566513</td>\n",
       "    </tr>\n",
       "    <tr>\n",
       "      <th>8</th>\n",
       "      <td>10</td>\n",
       "      <td>0.592733</td>\n",
       "    </tr>\n",
       "    <tr>\n",
       "      <th>9</th>\n",
       "      <td>11</td>\n",
       "      <td>0.610873</td>\n",
       "    </tr>\n",
       "  </tbody>\n",
       "</table>\n",
       "</div>"
      ],
      "text/plain": [
       "   NumberOfClusters  silhouette_score\n",
       "0                 2          0.519901\n",
       "1                 3          0.533786\n",
       "2                 4          0.520731\n",
       "3                 5          0.552142\n",
       "4                 6          0.531447\n",
       "5                 7          0.542286\n",
       "6                 8          0.546306\n",
       "7                 9          0.566513\n",
       "8                10          0.592733\n",
       "9                11          0.610873"
      ]
     },
     "execution_count": 118,
     "metadata": {},
     "output_type": "execute_result"
    }
   ],
   "source": [
    "#Silhouette_score\n",
    "results = []\n",
    "NumberClusters = range(2,12,1)\n",
    "for k in NumberClusters:\n",
    "    kmeans_model = cluster.KMeans(n_clusters=k, random_state=1, n_jobs = -2).fit(X_OFF)\n",
    "    labels = kmeans_model.labels_\n",
    "    score = metrics.silhouette_score(X_OFF, labels, metric='euclidean')\n",
    "    results.append((k,score))\n",
    "\n",
    "Clustering_Score = pd.DataFrame(data=results,columns=['NumberOfClusters','silhouette_score'])\n",
    "Clustering_Score"
   ]
  },
  {
   "cell_type": "code",
   "execution_count": 119,
   "metadata": {
    "collapsed": true
   },
   "outputs": [],
   "source": [
    "#Cluster the Data OFF\n",
    "kmeans_model = cluster.KMeans(n_clusters=5, random_state=1, n_jobs = -2).fit(X_OFF)\n",
    "labels = kmeans_model.labels_"
   ]
  },
  {
   "cell_type": "code",
   "execution_count": 120,
   "metadata": {
    "collapsed": true
   },
   "outputs": [],
   "source": [
    "#Assign Cluster to Data\n",
    "StoresOFF['CLUSTER'] = labels"
   ]
  },
  {
   "cell_type": "code",
   "execution_count": 121,
   "metadata": {
    "collapsed": false
   },
   "outputs": [
    {
     "data": {
      "text/html": [
       "<div>\n",
       "<style>\n",
       "    .dataframe thead tr:only-child th {\n",
       "        text-align: right;\n",
       "    }\n",
       "\n",
       "    .dataframe thead th {\n",
       "        text-align: left;\n",
       "    }\n",
       "\n",
       "    .dataframe tbody tr th {\n",
       "        vertical-align: top;\n",
       "    }\n",
       "</style>\n",
       "<table border=\"1\" class=\"dataframe\">\n",
       "  <thead>\n",
       "    <tr style=\"text-align: right;\">\n",
       "      <th></th>\n",
       "      <th>STORE_CD</th>\n",
       "      <th>L12M_TY_QTY</th>\n",
       "      <th>CHANNEL_DSC</th>\n",
       "      <th>SUBCHANNEL_DSC</th>\n",
       "      <th>INDUSTRY_VOL_DSC</th>\n",
       "      <th>CHAIN_IND_FLG</th>\n",
       "      <th>FRANCHISE_FLG</th>\n",
       "      <th>WINE_FLG</th>\n",
       "      <th>LIQUOR_FLG</th>\n",
       "      <th>WHITE_POP_PCT</th>\n",
       "      <th>...</th>\n",
       "      <th>MALE_POP_6574_PCT</th>\n",
       "      <th>MALE_POP_75_PCT</th>\n",
       "      <th>FEMALE_POP_2124_PCT</th>\n",
       "      <th>FEMALE_POP_2534_PCT</th>\n",
       "      <th>FEMALE_POP_3544_PCT</th>\n",
       "      <th>FEMALE_POP_4554_PCT</th>\n",
       "      <th>FEMALE_POP_5564_PCT</th>\n",
       "      <th>FEMALE_POP_6574_PCT</th>\n",
       "      <th>FEMALE_POP_75_PCT</th>\n",
       "      <th>CLUSTER</th>\n",
       "    </tr>\n",
       "  </thead>\n",
       "  <tbody>\n",
       "    <tr>\n",
       "      <th>0</th>\n",
       "      <td>107027552</td>\n",
       "      <td>74.5000</td>\n",
       "      <td>LIQUOR</td>\n",
       "      <td>CONVENTIONAL LIQUOR</td>\n",
       "      <td>TOP 50% ON/ TOP 20% OFF</td>\n",
       "      <td>False</td>\n",
       "      <td>False</td>\n",
       "      <td>True</td>\n",
       "      <td>True</td>\n",
       "      <td>0.9437</td>\n",
       "      <td>...</td>\n",
       "      <td>0.0527</td>\n",
       "      <td>0.0431</td>\n",
       "      <td>0.0231</td>\n",
       "      <td>0.0486</td>\n",
       "      <td>0.0518</td>\n",
       "      <td>0.0589</td>\n",
       "      <td>0.0753</td>\n",
       "      <td>0.0581</td>\n",
       "      <td>0.0576</td>\n",
       "      <td>1</td>\n",
       "    </tr>\n",
       "    <tr>\n",
       "      <th>1</th>\n",
       "      <td>201650423</td>\n",
       "      <td>311.2502</td>\n",
       "      <td>LIQUOR</td>\n",
       "      <td>CONVENTIONAL LIQUOR</td>\n",
       "      <td>TOP 50% ON/ TOP 20% OFF</td>\n",
       "      <td>False</td>\n",
       "      <td>False</td>\n",
       "      <td>True</td>\n",
       "      <td>True</td>\n",
       "      <td>0.8233</td>\n",
       "      <td>...</td>\n",
       "      <td>0.0475</td>\n",
       "      <td>0.0307</td>\n",
       "      <td>0.0202</td>\n",
       "      <td>0.0463</td>\n",
       "      <td>0.0540</td>\n",
       "      <td>0.0624</td>\n",
       "      <td>0.0649</td>\n",
       "      <td>0.0459</td>\n",
       "      <td>0.0381</td>\n",
       "      <td>1</td>\n",
       "    </tr>\n",
       "    <tr>\n",
       "      <th>2</th>\n",
       "      <td>100766228</td>\n",
       "      <td>614.7500</td>\n",
       "      <td>LIQUOR</td>\n",
       "      <td>CONVENTIONAL LIQUOR</td>\n",
       "      <td>TOP 50% ON/ TOP 20% OFF</td>\n",
       "      <td>False</td>\n",
       "      <td>False</td>\n",
       "      <td>True</td>\n",
       "      <td>True</td>\n",
       "      <td>0.7785</td>\n",
       "      <td>...</td>\n",
       "      <td>0.0339</td>\n",
       "      <td>0.0198</td>\n",
       "      <td>0.0638</td>\n",
       "      <td>0.0854</td>\n",
       "      <td>0.0565</td>\n",
       "      <td>0.0429</td>\n",
       "      <td>0.0522</td>\n",
       "      <td>0.0372</td>\n",
       "      <td>0.0258</td>\n",
       "      <td>1</td>\n",
       "    </tr>\n",
       "    <tr>\n",
       "      <th>3</th>\n",
       "      <td>100558459</td>\n",
       "      <td>41.0000</td>\n",
       "      <td>CONVENIENCE STORE</td>\n",
       "      <td>CONVENTIONAL CONVENIENCE</td>\n",
       "      <td>LOWEST 20% ON/ LOWEST 20% OFF</td>\n",
       "      <td>True</td>\n",
       "      <td>False</td>\n",
       "      <td>False</td>\n",
       "      <td>False</td>\n",
       "      <td>0.6504</td>\n",
       "      <td>...</td>\n",
       "      <td>0.0252</td>\n",
       "      <td>0.0169</td>\n",
       "      <td>0.0491</td>\n",
       "      <td>0.0823</td>\n",
       "      <td>0.0514</td>\n",
       "      <td>0.0386</td>\n",
       "      <td>0.0413</td>\n",
       "      <td>0.0278</td>\n",
       "      <td>0.0231</td>\n",
       "      <td>3</td>\n",
       "    </tr>\n",
       "    <tr>\n",
       "      <th>4</th>\n",
       "      <td>101633764</td>\n",
       "      <td>125.2500</td>\n",
       "      <td>LIQUOR</td>\n",
       "      <td>CONVENTIONAL LIQUOR</td>\n",
       "      <td>TOP 50% ON/ TOP 20% OFF</td>\n",
       "      <td>False</td>\n",
       "      <td>False</td>\n",
       "      <td>True</td>\n",
       "      <td>True</td>\n",
       "      <td>0.9537</td>\n",
       "      <td>...</td>\n",
       "      <td>0.0633</td>\n",
       "      <td>0.0424</td>\n",
       "      <td>0.0199</td>\n",
       "      <td>0.0536</td>\n",
       "      <td>0.0463</td>\n",
       "      <td>0.0577</td>\n",
       "      <td>0.0840</td>\n",
       "      <td>0.0638</td>\n",
       "      <td>0.0577</td>\n",
       "      <td>1</td>\n",
       "    </tr>\n",
       "  </tbody>\n",
       "</table>\n",
       "<p>5 rows × 40 columns</p>\n",
       "</div>"
      ],
      "text/plain": [
       "    STORE_CD  L12M_TY_QTY        CHANNEL_DSC            SUBCHANNEL_DSC  \\\n",
       "0  107027552      74.5000             LIQUOR       CONVENTIONAL LIQUOR   \n",
       "1  201650423     311.2502             LIQUOR       CONVENTIONAL LIQUOR   \n",
       "2  100766228     614.7500             LIQUOR       CONVENTIONAL LIQUOR   \n",
       "3  100558459      41.0000  CONVENIENCE STORE  CONVENTIONAL CONVENIENCE   \n",
       "4  101633764     125.2500             LIQUOR       CONVENTIONAL LIQUOR   \n",
       "\n",
       "                INDUSTRY_VOL_DSC  CHAIN_IND_FLG  FRANCHISE_FLG  WINE_FLG  \\\n",
       "0        TOP 50% ON/ TOP 20% OFF          False          False      True   \n",
       "1        TOP 50% ON/ TOP 20% OFF          False          False      True   \n",
       "2        TOP 50% ON/ TOP 20% OFF          False          False      True   \n",
       "3  LOWEST 20% ON/ LOWEST 20% OFF           True          False     False   \n",
       "4        TOP 50% ON/ TOP 20% OFF          False          False      True   \n",
       "\n",
       "   LIQUOR_FLG  WHITE_POP_PCT   ...     MALE_POP_6574_PCT  MALE_POP_75_PCT  \\\n",
       "0        True         0.9437   ...                0.0527           0.0431   \n",
       "1        True         0.8233   ...                0.0475           0.0307   \n",
       "2        True         0.7785   ...                0.0339           0.0198   \n",
       "3       False         0.6504   ...                0.0252           0.0169   \n",
       "4        True         0.9537   ...                0.0633           0.0424   \n",
       "\n",
       "   FEMALE_POP_2124_PCT  FEMALE_POP_2534_PCT  FEMALE_POP_3544_PCT  \\\n",
       "0               0.0231               0.0486               0.0518   \n",
       "1               0.0202               0.0463               0.0540   \n",
       "2               0.0638               0.0854               0.0565   \n",
       "3               0.0491               0.0823               0.0514   \n",
       "4               0.0199               0.0536               0.0463   \n",
       "\n",
       "   FEMALE_POP_4554_PCT  FEMALE_POP_5564_PCT  FEMALE_POP_6574_PCT  \\\n",
       "0               0.0589               0.0753               0.0581   \n",
       "1               0.0624               0.0649               0.0459   \n",
       "2               0.0429               0.0522               0.0372   \n",
       "3               0.0386               0.0413               0.0278   \n",
       "4               0.0577               0.0840               0.0638   \n",
       "\n",
       "   FEMALE_POP_75_PCT  CLUSTER  \n",
       "0             0.0576        1  \n",
       "1             0.0381        1  \n",
       "2             0.0258        1  \n",
       "3             0.0231        3  \n",
       "4             0.0577        1  \n",
       "\n",
       "[5 rows x 40 columns]"
      ]
     },
     "execution_count": 121,
     "metadata": {},
     "output_type": "execute_result"
    }
   ],
   "source": [
    "StoresOFF.head()"
   ]
  },
  {
   "cell_type": "code",
   "execution_count": null,
   "metadata": {
    "collapsed": true
   },
   "outputs": [],
   "source": []
  },
  {
   "cell_type": "markdown",
   "metadata": {},
   "source": [
    "# Off-premise stores"
   ]
  },
  {
   "cell_type": "code",
   "execution_count": 122,
   "metadata": {
    "collapsed": false
   },
   "outputs": [
    {
     "data": {
      "text/plain": [
       "0      CORONA EX 3.2 12PK BT\n",
       "1          CORONA LT 12PK BT\n",
       "2       CORONA EX 3.2 6PK BT\n",
       "3    MODELO ESP 3.2 12PK CAN\n",
       "4           CORONA LT 6PK BT\n",
       "5           VICTORIA 12PK BT\n",
       "6          CORONA LT 18PK BT\n",
       "7      CORONA EX 3.2 18PK BT\n",
       "8      MODELO ESP 3.2 6PK BT\n",
       "9    MODELO CHELADA 24OZ CAN\n",
       "Name: ITEM_MASTER_SKU_DSC, dtype: object"
      ]
     },
     "execution_count": 122,
     "metadata": {},
     "output_type": "execute_result"
    }
   ],
   "source": [
    "#get top 5 beers for off- premise\n",
    "LowPointOff = pd.read_csv('KansasLowPointOffProducts.csv')\n",
    "Top5LowPointOff = LowPointOff.head(10)['ITEM_MASTER_SKU_DSC']\n",
    "Top5LowPointOff"
   ]
  },
  {
   "cell_type": "code",
   "execution_count": 123,
   "metadata": {
    "collapsed": false
   },
   "outputs": [
    {
     "data": {
      "text/html": [
       "<div>\n",
       "<style>\n",
       "    .dataframe thead tr:only-child th {\n",
       "        text-align: right;\n",
       "    }\n",
       "\n",
       "    .dataframe thead th {\n",
       "        text-align: left;\n",
       "    }\n",
       "\n",
       "    .dataframe tbody tr th {\n",
       "        vertical-align: top;\n",
       "    }\n",
       "</style>\n",
       "<table border=\"1\" class=\"dataframe\">\n",
       "  <thead>\n",
       "    <tr style=\"text-align: right;\">\n",
       "      <th></th>\n",
       "      <th>ITEM_MASTER_SKU_DSC</th>\n",
       "      <th>PAIRS</th>\n",
       "    </tr>\n",
       "  </thead>\n",
       "  <tbody>\n",
       "    <tr>\n",
       "      <th>0</th>\n",
       "      <td>CORONA EX 3.2 12PK BT</td>\n",
       "      <td>CORONA EX 12PK BT</td>\n",
       "    </tr>\n",
       "    <tr>\n",
       "      <th>1</th>\n",
       "      <td>CORONA EX 3.2 6PK BT</td>\n",
       "      <td>CORONA EX 6PK BT</td>\n",
       "    </tr>\n",
       "    <tr>\n",
       "      <th>2</th>\n",
       "      <td>MODELO ESP 3.2 12PK CAN</td>\n",
       "      <td>MODELO ESP 12PK CAN</td>\n",
       "    </tr>\n",
       "    <tr>\n",
       "      <th>3</th>\n",
       "      <td>CORONA EX 3.2 18PK BT</td>\n",
       "      <td>CORONA EX 18PK BT</td>\n",
       "    </tr>\n",
       "    <tr>\n",
       "      <th>4</th>\n",
       "      <td>MODELO ESP 3.2 6PK BT</td>\n",
       "      <td>MODELO ESP 6PK BT</td>\n",
       "    </tr>\n",
       "  </tbody>\n",
       "</table>\n",
       "</div>"
      ],
      "text/plain": [
       "       ITEM_MASTER_SKU_DSC                PAIRS\n",
       "0    CORONA EX 3.2 12PK BT    CORONA EX 12PK BT\n",
       "1     CORONA EX 3.2 6PK BT     CORONA EX 6PK BT\n",
       "2  MODELO ESP 3.2 12PK CAN  MODELO ESP 12PK CAN\n",
       "3    CORONA EX 3.2 18PK BT    CORONA EX 18PK BT\n",
       "4    MODELO ESP 3.2 6PK BT    MODELO ESP 6PK BT"
      ]
     },
     "execution_count": 123,
     "metadata": {},
     "output_type": "execute_result"
    }
   ],
   "source": [
    "#select top 5 products that are comparable:\n",
    "Top5LowPointOff = Top5LowPointOff[[0,2,3,7,8]]\n",
    "#put the products and their pairs into datafame\n",
    "Top5_LowPoint_Off_Pairs_DF = pd.DataFrame(Top5LowPointOff).reset_index(drop=True)\n",
    "Top5_LowPoint_Off_Pairs_DF['PAIRS'] = ['CORONA EX 12PK BT', 'CORONA EX 6PK BT', 'MODELO ESP 12PK CAN', 'CORONA EX 18PK BT', 'MODELO ESP 6PK BT']\n",
    "Top5_LowPoint_Off_Pairs_DF"
   ]
  },
  {
   "cell_type": "code",
   "execution_count": 124,
   "metadata": {
    "collapsed": false
   },
   "outputs": [
    {
     "data": {
      "text/plain": [
       "['CORONA EX 3.2 12PK BT',\n",
       " 'CORONA EX 3.2 6PK BT',\n",
       " 'MODELO ESP 3.2 12PK CAN',\n",
       " 'CORONA EX 3.2 18PK BT',\n",
       " 'MODELO ESP 3.2 6PK BT',\n",
       " 'CORONA EX 12PK BT',\n",
       " 'CORONA EX 6PK BT',\n",
       " 'MODELO ESP 12PK CAN',\n",
       " 'CORONA EX 18PK BT',\n",
       " 'MODELO ESP 6PK BT']"
      ]
     },
     "execution_count": 124,
     "metadata": {},
     "output_type": "execute_result"
    }
   ],
   "source": [
    "BeerList_Off = list(Top5_LowPoint_Off_Pairs_DF['ITEM_MASTER_SKU_DSC']) + list(Top5_LowPoint_Off_Pairs_DF['PAIRS'])\n",
    "BeerList_Off"
   ]
  },
  {
   "cell_type": "code",
   "execution_count": 125,
   "metadata": {
    "collapsed": false
   },
   "outputs": [
    {
     "data": {
      "text/html": [
       "<div>\n",
       "<style>\n",
       "    .dataframe thead tr:only-child th {\n",
       "        text-align: right;\n",
       "    }\n",
       "\n",
       "    .dataframe thead th {\n",
       "        text-align: left;\n",
       "    }\n",
       "\n",
       "    .dataframe tbody tr th {\n",
       "        vertical-align: top;\n",
       "    }\n",
       "</style>\n",
       "<table border=\"1\" class=\"dataframe\">\n",
       "  <thead>\n",
       "    <tr style=\"text-align: right;\">\n",
       "      <th></th>\n",
       "      <th>RTL_STORE_CD</th>\n",
       "      <th>ITEM_MASTER_SKU_DSC</th>\n",
       "      <th>RTL_PREMISE_TYPE_CD</th>\n",
       "      <th>PROD_DEPLETION</th>\n",
       "    </tr>\n",
       "  </thead>\n",
       "  <tbody>\n",
       "    <tr>\n",
       "      <th>0</th>\n",
       "      <td>103946193</td>\n",
       "      <td>CORONA EX 18PK BT</td>\n",
       "      <td>OFF</td>\n",
       "      <td>84.75</td>\n",
       "    </tr>\n",
       "    <tr>\n",
       "      <th>1</th>\n",
       "      <td>200572989</td>\n",
       "      <td>CORONA EX 3.2 6PK BT</td>\n",
       "      <td>OFF</td>\n",
       "      <td>22.00</td>\n",
       "    </tr>\n",
       "    <tr>\n",
       "      <th>2</th>\n",
       "      <td>107354744</td>\n",
       "      <td>CORONA EX 18PK BT</td>\n",
       "      <td>OFF</td>\n",
       "      <td>353.25</td>\n",
       "    </tr>\n",
       "    <tr>\n",
       "      <th>3</th>\n",
       "      <td>101967580</td>\n",
       "      <td>CORONA EX 3.2 6PK BT</td>\n",
       "      <td>OFF</td>\n",
       "      <td>197.00</td>\n",
       "    </tr>\n",
       "    <tr>\n",
       "      <th>4</th>\n",
       "      <td>100091971</td>\n",
       "      <td>MODELO ESP 3.2 6PK BT</td>\n",
       "      <td>OFF</td>\n",
       "      <td>63.00</td>\n",
       "    </tr>\n",
       "  </tbody>\n",
       "</table>\n",
       "</div>"
      ],
      "text/plain": [
       "  RTL_STORE_CD    ITEM_MASTER_SKU_DSC RTL_PREMISE_TYPE_CD  PROD_DEPLETION\n",
       "0    103946193      CORONA EX 18PK BT                 OFF           84.75\n",
       "1    200572989   CORONA EX 3.2 6PK BT                 OFF           22.00\n",
       "2    107354744      CORONA EX 18PK BT                 OFF          353.25\n",
       "3    101967580   CORONA EX 3.2 6PK BT                 OFF          197.00\n",
       "4    100091971  MODELO ESP 3.2 6PK BT                 OFF           63.00"
      ]
     },
     "execution_count": 125,
     "metadata": {},
     "output_type": "execute_result"
    }
   ],
   "source": [
    "#Subset Off-premise stores \n",
    "Top5_Off_pairs_stores = All_Stores_Kansas.loc[All_Stores_Kansas['RTL_PREMISE_TYPE_CD'] == 'OFF', :]\n",
    "\n",
    "#Subset Off-premise stoers that sell top 5 pairs of beer (10 products)\n",
    "Top5_Off_pairs_stores= Top5_Off_pairs_stores.loc[Top5_Off_pairs_stores['ITEM_MASTER_SKU_DSC'].isin(BeerList_Off)].reset_index(drop=True)\n",
    "\n",
    "Top5_Off_pairs_stores.head()"
   ]
  },
  {
   "cell_type": "code",
   "execution_count": 126,
   "metadata": {
    "collapsed": false
   },
   "outputs": [
    {
     "data": {
      "text/plain": [
       "(8285, 4)"
      ]
     },
     "execution_count": 126,
     "metadata": {},
     "output_type": "execute_result"
    }
   ],
   "source": [
    "Top5_Off_pairs_stores.shape"
   ]
  },
  {
   "cell_type": "code",
   "execution_count": 127,
   "metadata": {
    "collapsed": true
   },
   "outputs": [],
   "source": [
    "#Explanary analysis"
   ]
  },
  {
   "cell_type": "code",
   "execution_count": 131,
   "metadata": {
    "collapsed": false
   },
   "outputs": [
    {
     "data": {
      "image/png": "[encoded data removed]",
      "text/plain": [
       "<matplotlib.figure.Figure at 0xc5317b8>"
      ]
     },
     "metadata": {},
     "output_type": "display_data"
    }
   ],
   "source": [
    "products= pd.DataFrame(Top5_Off_pairs_stores['ITEM_MASTER_SKU_DSC'].value_counts())/len(Top5_Off_pairs_stores['ITEM_MASTER_SKU_DSC'])\n",
    "products1 = products.reindex(['CORONA EX 3.2 12PK BT', 'CORONA EX 12PK BT', 'CORONA EX 3.2 6PK BT', 'CORONA EX 6PK BT', 'MODELO ESP 3.2 12PK CAN', 'MODELO ESP 12PK CAN', 'CORONA EX 3.2 18PK BT', 'CORONA EX 18PK BT','MODELO ESP 3.2 6PK BT', 'MODELO ESP 6PK BT'])\n",
    "ax = (products1).plot(kind=\"bar\", rot=0)\n",
    "plt.title(\"Percentage Count of Products\")\n",
    "ax.set(ylabel=\"Percent\")\n",
    "ax.set_xticklabels(products1.index,rotation=90);"
   ]
  },
  {
   "cell_type": "code",
   "execution_count": null,
   "metadata": {
    "collapsed": true
   },
   "outputs": [],
   "source": []
  },
  {
   "cell_type": "code",
   "execution_count": null,
   "metadata": {
    "collapsed": true
   },
   "outputs": [],
   "source": []
  },
  {
   "cell_type": "code",
   "execution_count": null,
   "metadata": {
    "collapsed": true
   },
   "outputs": [],
   "source": []
  },
  {
   "cell_type": "code",
   "execution_count": null,
   "metadata": {
    "collapsed": true
   },
   "outputs": [],
   "source": []
  },
  {
   "cell_type": "markdown",
   "metadata": {
    "collapsed": true
   },
   "source": [
    "### Regression Analysis"
   ]
  },
  {
   "cell_type": "code",
   "execution_count": 173,
   "metadata": {
    "collapsed": false
   },
   "outputs": [
    {
     "name": "stdout",
     "output_type": "stream",
     "text": [
      "                              OLS Regression Results                              \n",
      "==================================================================================\n",
      "Dep. Variable:     np.log(PROD_DEPLETION)   R-squared:                       0.225\n",
      "Model:                                OLS   Adj. R-squared:                  0.224\n",
      "Method:                     Least Squares   F-statistic:                     557.6\n",
      "Date:                    Wed, 05 Jul 2017   Prob (F-statistic):          1.90e-108\n",
      "Time:                            16:34:35   Log-Likelihood:                -3720.8\n",
      "No. Observations:                    1924   AIC:                             7446.\n",
      "Df Residuals:                        1922   BIC:                             7457.\n",
      "Df Model:                               1                                         \n",
      "Covariance Type:                nonrobust                                         \n",
      "===================================================================================================================\n",
      "                                                      coef    std err          t      P>|t|      [0.025      0.975]\n",
      "-------------------------------------------------------------------------------------------------------------------\n",
      "Intercept                                           5.7354      0.056    102.357      0.000       5.626       5.845\n",
      "C(ITEM_MASTER_SKU_DSC)[T.CORONA EX 3.2 12PK BT]    -1.8074      0.077    -23.613      0.000      -1.958      -1.657\n",
      "==============================================================================\n",
      "Omnibus:                      115.817   Durbin-Watson:                   1.779\n",
      "Prob(Omnibus):                  0.000   Jarque-Bera (JB):              135.901\n",
      "Skew:                          -0.630   Prob(JB):                     3.09e-30\n",
      "Kurtosis:                       3.326   Cond. No.                         2.71\n",
      "==============================================================================\n",
      "\n",
      "Warnings:\n",
      "[1] Standard Errors assume that the covariance matrix of the errors is correctly specified.\n"
     ]
    }
   ],
   "source": [
    "#pair1: 'CORONA EX 3.2 12PK BT', 'CORONA EX 12PK BT'\n",
    "subset1 = Top5_Off_pairs_stores.loc[Top5_Off_pairs_stores['ITEM_MASTER_SKU_DSC'].isin(list(Top5_LowPoint_Off_Pairs_DF.loc[0, :]))].reset_index(drop=True)\n",
    "Regression_Off_pair1 = smf.ols(formula='np.log(PROD_DEPLETION) ~ C(ITEM_MASTER_SKU_DSC)', data= subset1)\n",
    "print(Regression_Off_pair1.fit().summary())"
   ]
  },
  {
   "cell_type": "code",
   "execution_count": 174,
   "metadata": {
    "collapsed": false
   },
   "outputs": [
    {
     "name": "stdout",
     "output_type": "stream",
     "text": [
      "                              OLS Regression Results                              \n",
      "==================================================================================\n",
      "Dep. Variable:     np.log(PROD_DEPLETION)   R-squared:                       0.149\n",
      "Model:                                OLS   Adj. R-squared:                  0.149\n",
      "Method:                     Least Squares   F-statistic:                     428.8\n",
      "Date:                    Wed, 05 Jul 2017   Prob (F-statistic):           6.55e-88\n",
      "Time:                            16:34:35   Log-Likelihood:                -4357.5\n",
      "No. Observations:                    2448   AIC:                             8719.\n",
      "Df Residuals:                        2446   BIC:                             8731.\n",
      "Df Model:                               1                                         \n",
      "Covariance Type:                nonrobust                                         \n",
      "==============================================================================================================\n",
      "                                                 coef    std err          t      P>|t|      [0.025      0.975]\n",
      "--------------------------------------------------------------------------------------------------------------\n",
      "Intercept                                      3.4763      0.036     96.107      0.000       3.405       3.547\n",
      "C(ITEM_MASTER_SKU_DSC)[T.CORONA EX 6PK BT]     1.2543      0.061     20.709      0.000       1.136       1.373\n",
      "==============================================================================\n",
      "Omnibus:                      245.066   Durbin-Watson:                   1.615\n",
      "Prob(Omnibus):                  0.000   Jarque-Bera (JB):              322.377\n",
      "Skew:                          -0.842   Prob(JB):                     9.92e-71\n",
      "Kurtosis:                       3.569   Cond. No.                         2.42\n",
      "==============================================================================\n",
      "\n",
      "Warnings:\n",
      "[1] Standard Errors assume that the covariance matrix of the errors is correctly specified.\n"
     ]
    }
   ],
   "source": [
    "#pair2: 'CORONA EX 3.2 6PK BT', 'CORONA EX 6PK BT'\n",
    "subset2 = Top5_Off_pairs_stores.loc[Top5_Off_pairs_stores['ITEM_MASTER_SKU_DSC'].isin(list(Top5_LowPoint_Off_Pairs_DF.loc[1, :]))].reset_index(drop=True)\n",
    "Regression_Off_pair2 = smf.ols(formula='np.log(PROD_DEPLETION) ~ C(ITEM_MASTER_SKU_DSC)', data= subset2)\n",
    "print(Regression_Off_pair2.fit().summary())"
   ]
  },
  {
   "cell_type": "code",
   "execution_count": 175,
   "metadata": {
    "collapsed": false
   },
   "outputs": [
    {
     "name": "stdout",
     "output_type": "stream",
     "text": [
      "                              OLS Regression Results                              \n",
      "==================================================================================\n",
      "Dep. Variable:     np.log(PROD_DEPLETION)   R-squared:                       0.040\n",
      "Model:                                OLS   Adj. R-squared:                  0.039\n",
      "Method:                     Least Squares   F-statistic:                     53.48\n",
      "Date:                    Wed, 05 Jul 2017   Prob (F-statistic):           4.55e-13\n",
      "Time:                            16:34:35   Log-Likelihood:                -2711.9\n",
      "No. Observations:                    1301   AIC:                             5428.\n",
      "Df Residuals:                        1299   BIC:                             5438.\n",
      "Df Model:                               1                                         \n",
      "Covariance Type:                nonrobust                                         \n",
      "=====================================================================================================================\n",
      "                                                        coef    std err          t      P>|t|      [0.025      0.975]\n",
      "---------------------------------------------------------------------------------------------------------------------\n",
      "Intercept                                             4.2467      0.076     55.523      0.000       4.097       4.397\n",
      "C(ITEM_MASTER_SKU_DSC)[T.MODELO ESP 3.2 12PK CAN]    -0.7895      0.108     -7.313      0.000      -1.001      -0.578\n",
      "==============================================================================\n",
      "Omnibus:                       59.045   Durbin-Watson:                   1.773\n",
      "Prob(Omnibus):                  0.000   Jarque-Bera (JB):               34.338\n",
      "Skew:                          -0.247   Prob(JB):                     3.50e-08\n",
      "Kurtosis:                       2.375   Cond. No.                         2.62\n",
      "==============================================================================\n",
      "\n",
      "Warnings:\n",
      "[1] Standard Errors assume that the covariance matrix of the errors is correctly specified.\n"
     ]
    }
   ],
   "source": [
    "#pair3: 'MODELO ESP 3.2 12PK CAN', 'MODELO ESP 12PK CAN'\n",
    "subset3 = Top5_Off_pairs_stores.loc[Top5_Off_pairs_stores['ITEM_MASTER_SKU_DSC'].isin(list(Top5_LowPoint_Off_Pairs_DF.loc[2, :]))].reset_index(drop=True)\n",
    "Regression_Off_pair3 = smf.ols(formula='np.log(PROD_DEPLETION) ~ C(ITEM_MASTER_SKU_DSC)', data= subset3)\n",
    "print(Regression_Off_pair3.fit().summary())"
   ]
  },
  {
   "cell_type": "code",
   "execution_count": 176,
   "metadata": {
    "collapsed": false
   },
   "outputs": [
    {
     "name": "stdout",
     "output_type": "stream",
     "text": [
      "                              OLS Regression Results                              \n",
      "==================================================================================\n",
      "Dep. Variable:     np.log(PROD_DEPLETION)   R-squared:                       0.023\n",
      "Model:                                OLS   Adj. R-squared:                  0.022\n",
      "Method:                     Least Squares   F-statistic:                     22.39\n",
      "Date:                    Wed, 05 Jul 2017   Prob (F-statistic):           2.56e-06\n",
      "Time:                            16:34:35   Log-Likelihood:                -2011.8\n",
      "No. Observations:                     945   AIC:                             4028.\n",
      "Df Residuals:                         943   BIC:                             4037.\n",
      "Df Model:                               1                                         \n",
      "Covariance Type:                nonrobust                                         \n",
      "===================================================================================================================\n",
      "                                                      coef    std err          t      P>|t|      [0.025      0.975]\n",
      "-------------------------------------------------------------------------------------------------------------------\n",
      "Intercept                                           4.9687      0.075     66.473      0.000       4.822       5.115\n",
      "C(ITEM_MASTER_SKU_DSC)[T.CORONA EX 3.2 18PK BT]    -0.7632      0.161     -4.732      0.000      -1.080      -0.447\n",
      "==============================================================================\n",
      "Omnibus:                       67.629   Durbin-Watson:                   1.963\n",
      "Prob(Omnibus):                  0.000   Jarque-Bera (JB):               81.555\n",
      "Skew:                          -0.719   Prob(JB):                     1.95e-18\n",
      "Kurtosis:                       2.940   Cond. No.                         2.57\n",
      "==============================================================================\n",
      "\n",
      "Warnings:\n",
      "[1] Standard Errors assume that the covariance matrix of the errors is correctly specified.\n"
     ]
    }
   ],
   "source": [
    "#pair4: 'CORONA EX 3.2 18PK BT', 'CORONA EX 18PK BT'\n",
    "subset4 = Top5_Off_pairs_stores.loc[Top5_Off_pairs_stores['ITEM_MASTER_SKU_DSC'].isin(list(Top5_LowPoint_Off_Pairs_DF.loc[3, :]))].reset_index(drop=True)\n",
    "Regression_Off_pair4 = smf.ols(formula='np.log(PROD_DEPLETION) ~ C(ITEM_MASTER_SKU_DSC)', data= subset4)\n",
    "print(Regression_Off_pair4.fit().summary())"
   ]
  },
  {
   "cell_type": "code",
   "execution_count": 177,
   "metadata": {
    "collapsed": false
   },
   "outputs": [
    {
     "name": "stdout",
     "output_type": "stream",
     "text": [
      "                              OLS Regression Results                              \n",
      "==================================================================================\n",
      "Dep. Variable:     np.log(PROD_DEPLETION)   R-squared:                       0.116\n",
      "Model:                                OLS   Adj. R-squared:                  0.116\n",
      "Method:                     Least Squares   F-statistic:                     219.1\n",
      "Date:                    Wed, 05 Jul 2017   Prob (F-statistic):           1.17e-46\n",
      "Time:                            16:34:36   Log-Likelihood:                -3146.3\n",
      "No. Observations:                    1667   AIC:                             6297.\n",
      "Df Residuals:                        1665   BIC:                             6307.\n",
      "Df Model:                               1                                         \n",
      "Covariance Type:                nonrobust                                         \n",
      "===============================================================================================================\n",
      "                                                  coef    std err          t      P>|t|      [0.025      0.975]\n",
      "---------------------------------------------------------------------------------------------------------------\n",
      "Intercept                                       2.9413      0.057     51.849      0.000       2.830       3.053\n",
      "C(ITEM_MASTER_SKU_DSC)[T.MODELO ESP 6PK BT]     1.1602      0.078     14.801      0.000       1.006       1.314\n",
      "==============================================================================\n",
      "Omnibus:                       83.614   Durbin-Watson:                   1.833\n",
      "Prob(Omnibus):                  0.000   Jarque-Bera (JB):               95.675\n",
      "Skew:                          -0.585   Prob(JB):                     1.68e-21\n",
      "Kurtosis:                       2.899   Cond. No.                         2.68\n",
      "==============================================================================\n",
      "\n",
      "Warnings:\n",
      "[1] Standard Errors assume that the covariance matrix of the errors is correctly specified.\n"
     ]
    }
   ],
   "source": [
    "#pair5: 'MODELO ESP 3.2 6PK BT', ' MODELO ESP 6PK BT'\n",
    "subset5 = Top5_Off_pairs_stores.loc[Top5_Off_pairs_stores['ITEM_MASTER_SKU_DSC'].isin(list(Top5_LowPoint_Off_Pairs_DF.loc[4, :]))].reset_index(drop=True)\n",
    "Regression_Off_pair5 = smf.ols(formula='np.log(PROD_DEPLETION) ~ C(ITEM_MASTER_SKU_DSC)', data= subset5)\n",
    "print(Regression_Off_pair5.fit().summary())"
   ]
  },
  {
   "cell_type": "code",
   "execution_count": null,
   "metadata": {
    "collapsed": true
   },
   "outputs": [],
   "source": []
  },
  {
   "cell_type": "code",
   "execution_count": null,
   "metadata": {
    "collapsed": true
   },
   "outputs": [],
   "source": []
  },
  {
   "cell_type": "code",
   "execution_count": null,
   "metadata": {
    "collapsed": true
   },
   "outputs": [],
   "source": []
  },
  {
   "cell_type": "code",
   "execution_count": null,
   "metadata": {
    "collapsed": true
   },
   "outputs": [],
   "source": []
  },
  {
   "cell_type": "code",
   "execution_count": 46,
   "metadata": {
    "collapsed": true
   },
   "outputs": [],
   "source": [
    "#Merge Class with StoreON Data for regression\n",
    "RegressionDataOFF = pd.merge(StoresOFF, StoresClass, left_on='STORE_CD', right_on=\"RTL_STORE_CD\", how=\"left\")\n",
    "RegressionDataOFF.loc[RegressionDataOFF['BEERTYPE'].isnull(),\"BEERTYPE\"] = \"LowPoint\""
   ]
  },
  {
   "cell_type": "code",
   "execution_count": 47,
   "metadata": {
    "collapsed": false
   },
   "outputs": [
    {
     "data": {
      "text/html": [
       "<div>\n",
       "<style>\n",
       "    .dataframe thead tr:only-child th {\n",
       "        text-align: right;\n",
       "    }\n",
       "\n",
       "    .dataframe thead th {\n",
       "        text-align: left;\n",
       "    }\n",
       "\n",
       "    .dataframe tbody tr th {\n",
       "        vertical-align: top;\n",
       "    }\n",
       "</style>\n",
       "<table border=\"1\" class=\"dataframe\">\n",
       "  <thead>\n",
       "    <tr style=\"text-align: right;\">\n",
       "      <th></th>\n",
       "      <th>STORE_CD</th>\n",
       "      <th>L12M_TY_QTY</th>\n",
       "      <th>CHANNEL_DSC</th>\n",
       "      <th>SUBCHANNEL_DSC</th>\n",
       "      <th>INDUSTRY_VOL_DSC</th>\n",
       "      <th>CHAIN_IND_FLG</th>\n",
       "      <th>FRANCHISE_FLG</th>\n",
       "      <th>WINE_FLG</th>\n",
       "      <th>LIQUOR_FLG</th>\n",
       "      <th>WHITE_POP_PCT</th>\n",
       "      <th>...</th>\n",
       "      <th>FEMALE_POP_2124_PCT</th>\n",
       "      <th>FEMALE_POP_2534_PCT</th>\n",
       "      <th>FEMALE_POP_3544_PCT</th>\n",
       "      <th>FEMALE_POP_4554_PCT</th>\n",
       "      <th>FEMALE_POP_5564_PCT</th>\n",
       "      <th>FEMALE_POP_6574_PCT</th>\n",
       "      <th>FEMALE_POP_75_PCT</th>\n",
       "      <th>CLUSTER</th>\n",
       "      <th>RTL_STORE_CD</th>\n",
       "      <th>BEERTYPE</th>\n",
       "    </tr>\n",
       "  </thead>\n",
       "  <tbody>\n",
       "    <tr>\n",
       "      <th>1952</th>\n",
       "      <td>101403851</td>\n",
       "      <td>71.5000</td>\n",
       "      <td>LIQUOR</td>\n",
       "      <td>CONVENTIONAL LIQUOR</td>\n",
       "      <td>TOP 50% ON/ TOP 20% OFF</td>\n",
       "      <td>False</td>\n",
       "      <td>False</td>\n",
       "      <td>True</td>\n",
       "      <td>True</td>\n",
       "      <td>0.9656</td>\n",
       "      <td>...</td>\n",
       "      <td>0.0202</td>\n",
       "      <td>0.0513</td>\n",
       "      <td>0.0495</td>\n",
       "      <td>0.0513</td>\n",
       "      <td>0.0818</td>\n",
       "      <td>0.0551</td>\n",
       "      <td>0.0584</td>\n",
       "      <td>1</td>\n",
       "      <td>101403851</td>\n",
       "      <td>NonLowPoint</td>\n",
       "    </tr>\n",
       "    <tr>\n",
       "      <th>1953</th>\n",
       "      <td>101529400</td>\n",
       "      <td>3.0000</td>\n",
       "      <td>CONVENIENCE STORE</td>\n",
       "      <td>CONVENTIONAL CONVENIENCE</td>\n",
       "      <td>LOWEST 20% ON/ LOWEST 20% OFF</td>\n",
       "      <td>False</td>\n",
       "      <td>False</td>\n",
       "      <td>False</td>\n",
       "      <td>False</td>\n",
       "      <td>0.6946</td>\n",
       "      <td>...</td>\n",
       "      <td>0.0347</td>\n",
       "      <td>0.0738</td>\n",
       "      <td>0.0577</td>\n",
       "      <td>0.0576</td>\n",
       "      <td>0.0618</td>\n",
       "      <td>0.0421</td>\n",
       "      <td>0.0407</td>\n",
       "      <td>3</td>\n",
       "      <td>NaN</td>\n",
       "      <td>LowPoint</td>\n",
       "    </tr>\n",
       "    <tr>\n",
       "      <th>1954</th>\n",
       "      <td>107368998</td>\n",
       "      <td>1916.3331</td>\n",
       "      <td>LIQUOR</td>\n",
       "      <td>CONVENTIONAL LIQUOR</td>\n",
       "      <td>TOP 50% ON/ TOP 20% OFF</td>\n",
       "      <td>False</td>\n",
       "      <td>False</td>\n",
       "      <td>True</td>\n",
       "      <td>True</td>\n",
       "      <td>0.5447</td>\n",
       "      <td>...</td>\n",
       "      <td>0.0252</td>\n",
       "      <td>0.0679</td>\n",
       "      <td>0.0597</td>\n",
       "      <td>0.0560</td>\n",
       "      <td>0.0585</td>\n",
       "      <td>0.0347</td>\n",
       "      <td>0.0318</td>\n",
       "      <td>1</td>\n",
       "      <td>107368998</td>\n",
       "      <td>NonLowPoint</td>\n",
       "    </tr>\n",
       "    <tr>\n",
       "      <th>1955</th>\n",
       "      <td>100743019</td>\n",
       "      <td>53.0000</td>\n",
       "      <td>CONVENIENCE STORE</td>\n",
       "      <td>CONVENTIONAL CONVENIENCE</td>\n",
       "      <td>LOWEST 20% ON/ LOWEST 20% OFF</td>\n",
       "      <td>False</td>\n",
       "      <td>False</td>\n",
       "      <td>False</td>\n",
       "      <td>False</td>\n",
       "      <td>0.6936</td>\n",
       "      <td>...</td>\n",
       "      <td>0.0625</td>\n",
       "      <td>0.0734</td>\n",
       "      <td>0.0562</td>\n",
       "      <td>0.0512</td>\n",
       "      <td>0.0522</td>\n",
       "      <td>0.0319</td>\n",
       "      <td>0.0245</td>\n",
       "      <td>3</td>\n",
       "      <td>NaN</td>\n",
       "      <td>LowPoint</td>\n",
       "    </tr>\n",
       "    <tr>\n",
       "      <th>1956</th>\n",
       "      <td>201974199</td>\n",
       "      <td>115.9161</td>\n",
       "      <td>LIQUOR</td>\n",
       "      <td>CONVENTIONAL LIQUOR</td>\n",
       "      <td>TOP 50% ON/ TOP 20% OFF</td>\n",
       "      <td>False</td>\n",
       "      <td>False</td>\n",
       "      <td>True</td>\n",
       "      <td>True</td>\n",
       "      <td>0.9679</td>\n",
       "      <td>...</td>\n",
       "      <td>0.0204</td>\n",
       "      <td>0.0459</td>\n",
       "      <td>0.0421</td>\n",
       "      <td>0.0572</td>\n",
       "      <td>0.0790</td>\n",
       "      <td>0.0684</td>\n",
       "      <td>0.0729</td>\n",
       "      <td>1</td>\n",
       "      <td>201974199</td>\n",
       "      <td>NonLowPoint</td>\n",
       "    </tr>\n",
       "  </tbody>\n",
       "</table>\n",
       "<p>5 rows × 42 columns</p>\n",
       "</div>"
      ],
      "text/plain": [
       "       STORE_CD  L12M_TY_QTY        CHANNEL_DSC            SUBCHANNEL_DSC  \\\n",
       "1952  101403851      71.5000             LIQUOR       CONVENTIONAL LIQUOR   \n",
       "1953  101529400       3.0000  CONVENIENCE STORE  CONVENTIONAL CONVENIENCE   \n",
       "1954  107368998    1916.3331             LIQUOR       CONVENTIONAL LIQUOR   \n",
       "1955  100743019      53.0000  CONVENIENCE STORE  CONVENTIONAL CONVENIENCE   \n",
       "1956  201974199     115.9161             LIQUOR       CONVENTIONAL LIQUOR   \n",
       "\n",
       "                   INDUSTRY_VOL_DSC  CHAIN_IND_FLG  FRANCHISE_FLG  WINE_FLG  \\\n",
       "1952        TOP 50% ON/ TOP 20% OFF          False          False      True   \n",
       "1953  LOWEST 20% ON/ LOWEST 20% OFF          False          False     False   \n",
       "1954        TOP 50% ON/ TOP 20% OFF          False          False      True   \n",
       "1955  LOWEST 20% ON/ LOWEST 20% OFF          False          False     False   \n",
       "1956        TOP 50% ON/ TOP 20% OFF          False          False      True   \n",
       "\n",
       "      LIQUOR_FLG  WHITE_POP_PCT     ...       FEMALE_POP_2124_PCT  \\\n",
       "1952        True         0.9656     ...                    0.0202   \n",
       "1953       False         0.6946     ...                    0.0347   \n",
       "1954        True         0.5447     ...                    0.0252   \n",
       "1955       False         0.6936     ...                    0.0625   \n",
       "1956        True         0.9679     ...                    0.0204   \n",
       "\n",
       "      FEMALE_POP_2534_PCT  FEMALE_POP_3544_PCT  FEMALE_POP_4554_PCT  \\\n",
       "1952               0.0513               0.0495               0.0513   \n",
       "1953               0.0738               0.0577               0.0576   \n",
       "1954               0.0679               0.0597               0.0560   \n",
       "1955               0.0734               0.0562               0.0512   \n",
       "1956               0.0459               0.0421               0.0572   \n",
       "\n",
       "      FEMALE_POP_5564_PCT  FEMALE_POP_6574_PCT  FEMALE_POP_75_PCT  CLUSTER  \\\n",
       "1952               0.0818               0.0551             0.0584        1   \n",
       "1953               0.0618               0.0421             0.0407        3   \n",
       "1954               0.0585               0.0347             0.0318        1   \n",
       "1955               0.0522               0.0319             0.0245        3   \n",
       "1956               0.0790               0.0684             0.0729        1   \n",
       "\n",
       "      RTL_STORE_CD     BEERTYPE  \n",
       "1952     101403851  NonLowPoint  \n",
       "1953           NaN     LowPoint  \n",
       "1954     107368998  NonLowPoint  \n",
       "1955           NaN     LowPoint  \n",
       "1956     201974199  NonLowPoint  \n",
       "\n",
       "[5 rows x 42 columns]"
      ]
     },
     "execution_count": 47,
     "metadata": {},
     "output_type": "execute_result"
    }
   ],
   "source": [
    "RegressionDataOFF.tail()"
   ]
  },
  {
   "cell_type": "code",
   "execution_count": 48,
   "metadata": {
    "collapsed": false
   },
   "outputs": [
    {
     "data": {
      "text/plain": [
       "1957"
      ]
     },
     "execution_count": 48,
     "metadata": {},
     "output_type": "execute_result"
    }
   ],
   "source": [
    "len(RegressionDataOFF)"
   ]
  },
  {
   "cell_type": "markdown",
   "metadata": {},
   "source": [
    "### Regression controlling for Cluster"
   ]
  },
  {
   "cell_type": "code",
   "execution_count": 49,
   "metadata": {
    "collapsed": false
   },
   "outputs": [
    {
     "name": "stdout",
     "output_type": "stream",
     "text": [
      "                             OLS Regression Results                            \n",
      "===============================================================================\n",
      "Dep. Variable:     np.log(L12M_TY_QTY)   R-squared:                       0.478\n",
      "Model:                             OLS   Adj. R-squared:                  0.477\n",
      "Method:                  Least Squares   F-statistic:                     357.6\n",
      "Date:                 Thu, 29 Jun 2017   Prob (F-statistic):          2.07e-272\n",
      "Time:                         15:11:19   Log-Likelihood:                -3491.6\n",
      "No. Observations:                 1957   AIC:                             6995.\n",
      "Df Residuals:                     1951   BIC:                             7029.\n",
      "Df Model:                            5                                         \n",
      "Covariance Type:             nonrobust                                         \n",
      "==============================================================================================\n",
      "                                 coef    std err          t      P>|t|      [0.025      0.975]\n",
      "----------------------------------------------------------------------------------------------\n",
      "Intercept                      3.6126      0.084     43.064      0.000       3.448       3.777\n",
      "C(BEERTYPE)[T.NonLowPoint]     1.6770      0.255      6.570      0.000       1.176       2.178\n",
      "C(CLUSTER)[T.1]                1.1195      0.264      4.237      0.000       0.601       1.638\n",
      "C(CLUSTER)[T.2]                0.5511      0.117      4.691      0.000       0.321       0.782\n",
      "C(CLUSTER)[T.3]               -0.0001      0.104     -0.001      0.999      -0.205       0.205\n",
      "C(CLUSTER)[T.4]               -1.4406      0.184     -7.844      0.000      -1.801      -1.080\n",
      "==============================================================================\n",
      "Omnibus:                        9.199   Durbin-Watson:                   1.928\n",
      "Prob(Omnibus):                  0.010   Jarque-Bera (JB):               11.488\n",
      "Skew:                          -0.057   Prob(JB):                      0.00320\n",
      "Kurtosis:                       3.358   Cond. No.                         13.5\n",
      "==============================================================================\n",
      "\n",
      "Warnings:\n",
      "[1] Standard Errors assume that the covariance matrix of the errors is correctly specified.\n"
     ]
    }
   ],
   "source": [
    "#Regression ON Premise\n",
    "modOFF = smf.ols(formula='np.log(L12M_TY_QTY) ~ C(BEERTYPE) + C(CLUSTER)', data=RegressionDataOFF)\n",
    "print(modOFF.fit().summary())"
   ]
  },
  {
   "cell_type": "markdown",
   "metadata": {},
   "source": [
    "### Analysis of the Clusters"
   ]
  },
  {
   "cell_type": "code",
   "execution_count": 50,
   "metadata": {
    "collapsed": false
   },
   "outputs": [
    {
     "data": {
      "image/png": "[encoded data removed]",
      "text/plain": [
       "<matplotlib.figure.Figure at 0xd4f47f0>"
      ]
     },
     "metadata": {},
     "output_type": "display_data"
    }
   ],
   "source": [
    "f, axes = plt.subplots(1,2, figsize=(15, 3))\n",
    "plt.subplot(1,2,1)\n",
    "plt.title(\"Count of Stores per Cluster\")\n",
    "sns.countplot(y=\"CLUSTER\", hue= \"BEERTYPE\", data=RegressionDataOFF, palette=\"Greens\");\n",
    "\n",
    "plt.subplot(1,2,2)\n",
    "plt.title(\"Avergage Depletions per Cluster\")\n",
    "sns.barplot(x=\"CLUSTER\", y=\"L12M_TY_QTY\", hue=\"BEERTYPE\", data=RegressionDataOFF, palette=\"Greens\");"
   ]
  },
  {
   "cell_type": "code",
   "execution_count": 51,
   "metadata": {
    "collapsed": false
   },
   "outputs": [
    {
     "data": {
      "image/png": "[encoded data removed]",
      "text/plain": [
       "<matplotlib.figure.Figure at 0xe8ddcf8>"
      ]
     },
     "metadata": {},
     "output_type": "display_data"
    }
   ],
   "source": [
    "sns.factorplot(y=\"CHANNEL_DSC\", hue=\"BEERTYPE\",\n",
    "               col=\"CLUSTER\", data=RegressionDataOFF, kind=\"count\", palette=\"Greens\");"
   ]
  },
  {
   "cell_type": "code",
   "execution_count": 52,
   "metadata": {
    "collapsed": false
   },
   "outputs": [
    {
     "data": {
      "image/png": "[encoded data removed]",
      "text/plain": [
       "<matplotlib.figure.Figure at 0xcf70da0>"
      ]
     },
     "metadata": {},
     "output_type": "display_data"
    }
   ],
   "source": [
    "sns.factorplot(x='L12M_TY_QTY' ,y=\"CHANNEL_DSC\", hue=\"BEERTYPE\",\n",
    "               col=\"CLUSTER\", data=RegressionDataOFF, kind=\"bar\", palette=\"Greens\");"
   ]
  },
  {
   "cell_type": "markdown",
   "metadata": {},
   "source": [
    "### Regression Based on Selected Cluster"
   ]
  },
  {
   "cell_type": "markdown",
   "metadata": {},
   "source": [
    "#### Cluster 1"
   ]
  },
  {
   "cell_type": "code",
   "execution_count": 53,
   "metadata": {
    "collapsed": false,
    "scrolled": false
   },
   "outputs": [
    {
     "name": "stdout",
     "output_type": "stream",
     "text": [
      "                             OLS Regression Results                            \n",
      "===============================================================================\n",
      "Dep. Variable:     np.log(L12M_TY_QTY)   R-squared:                       0.048\n",
      "Model:                             OLS   Adj. R-squared:                  0.045\n",
      "Method:                  Least Squares   F-statistic:                     14.99\n",
      "Date:                 Thu, 29 Jun 2017   Prob (F-statistic):           0.000133\n",
      "Time:                         15:11:23   Log-Likelihood:                -561.53\n",
      "No. Observations:                  299   AIC:                             1127.\n",
      "Df Residuals:                      297   BIC:                             1134.\n",
      "Df Model:                            1                                         \n",
      "Covariance Type:             nonrobust                                         \n",
      "==============================================================================================\n",
      "                                 coef    std err          t      P>|t|      [0.025      0.975]\n",
      "----------------------------------------------------------------------------------------------\n",
      "Intercept                      3.6026      0.093     38.567      0.000       3.419       3.786\n",
      "C(BEERTYPE)[T.NonLowPoint]     1.9776      0.511      3.872      0.000       0.972       2.983\n",
      "==============================================================================\n",
      "Omnibus:                        9.067   Durbin-Watson:                   2.055\n",
      "Prob(Omnibus):                  0.011   Jarque-Bera (JB):                9.061\n",
      "Skew:                           0.417   Prob(JB):                       0.0108\n",
      "Kurtosis:                       3.174   Cond. No.                         5.57\n",
      "==============================================================================\n",
      "\n",
      "Warnings:\n",
      "[1] Standard Errors assume that the covariance matrix of the errors is correctly specified.\n"
     ]
    }
   ],
   "source": [
    "mod2OFF = smf.ols(formula='np.log(L12M_TY_QTY) ~ C(BEERTYPE)', data=RegressionDataOFF.loc[RegressionDataOFF[\"CLUSTER\"]==0,:])\n",
    "print(mod2OFF.fit().summary())"
   ]
  },
  {
   "cell_type": "code",
   "execution_count": 54,
   "metadata": {
    "collapsed": false,
    "scrolled": false
   },
   "outputs": [
    {
     "name": "stdout",
     "output_type": "stream",
     "text": [
      "                             OLS Regression Results                            \n",
      "===============================================================================\n",
      "Dep. Variable:     np.log(L12M_TY_QTY)   R-squared:                       0.037\n",
      "Model:                             OLS   Adj. R-squared:                  0.034\n",
      "Method:                  Least Squares   F-statistic:                     11.79\n",
      "Date:                 Thu, 29 Jun 2017   Prob (F-statistic):           0.000679\n",
      "Time:                         15:11:23   Log-Likelihood:                -570.79\n",
      "No. Observations:                  305   AIC:                             1146.\n",
      "Df Residuals:                      303   BIC:                             1153.\n",
      "Df Model:                            1                                         \n",
      "Covariance Type:             nonrobust                                         \n",
      "==============================================================================================\n",
      "                                 coef    std err          t      P>|t|      [0.025      0.975]\n",
      "----------------------------------------------------------------------------------------------\n",
      "Intercept                      4.1727      0.092     45.125      0.000       3.991       4.355\n",
      "C(BEERTYPE)[T.NonLowPoint]     1.4820      0.432      3.434      0.001       0.633       2.331\n",
      "==============================================================================\n",
      "Omnibus:                        4.218   Durbin-Watson:                   1.743\n",
      "Prob(Omnibus):                  0.121   Jarque-Bera (JB):                4.306\n",
      "Skew:                          -0.274   Prob(JB):                        0.116\n",
      "Kurtosis:                       2.805   Cond. No.                         4.79\n",
      "==============================================================================\n",
      "\n",
      "Warnings:\n",
      "[1] Standard Errors assume that the covariance matrix of the errors is correctly specified.\n"
     ]
    }
   ],
   "source": [
    "mod2OFF = smf.ols(formula='np.log(L12M_TY_QTY) ~ C(BEERTYPE)', data=RegressionDataOFF.loc[RegressionDataOFF[\"CLUSTER\"]==2,:])\n",
    "print(mod2OFF.fit().summary())"
   ]
  }
 ],
 "metadata": {
  "kernelspec": {
   "display_name": "Python [default]",
   "language": "python",
   "name": "python3"
  },
  "language_info": {
   "codemirror_mode": {
    "name": "ipython",
    "version": 3
   },
   "file_extension": ".py",
   "mimetype": "text/x-python",
   "name": "python",
   "nbconvert_exporter": "python",
   "pygments_lexer": "ipython3",
   "version": "3.5.2"
  }
 },
 "nbformat": 4,
 "nbformat_minor": 2
}
