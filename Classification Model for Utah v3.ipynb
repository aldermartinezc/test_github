{
 "cells": [
  {
   "cell_type": "markdown",
   "metadata": {
    "collapsed": true
   },
   "source": [
    "## Classification Model for Utah"
   ]
  },
  {
   "cell_type": "code",
   "execution_count": 20,
   "metadata": {
    "collapsed": true
   },
   "outputs": [],
   "source": [
    "# packages used\n",
    "import pandas as pd\n",
    "import numpy as np\n",
    "from sklearn import tree\n",
    "#from sklearn.ensemble import BaggingClassifier\n",
    "#from sklearn.ensemble import RandomForestClassifier\n",
    "#from sklearn.ensemble import AdaBoostClassifier\n",
    "from sklearn.model_selection import train_test_split\n",
    "from sklearn.model_selection import cross_val_score\n",
    "from sklearn.metrics import confusion_matrix\n",
    "from sklearn.model_selection import GridSearchCV\n",
    "import matplotlib.pyplot as plt\n",
    "%matplotlib inline\n",
    "import pickle"
   ]
  },
  {
   "cell_type": "code",
   "execution_count": 2,
   "metadata": {
    "collapsed": true
   },
   "outputs": [],
   "source": [
    "%run ./graph_counts.py"
   ]
  },
  {
   "cell_type": "code",
   "execution_count": 3,
   "metadata": {},
   "outputs": [
    {
     "data": {
      "text/html": [
       "<div>\n",
       "<style>\n",
       "    .dataframe thead tr:only-child th {\n",
       "        text-align: right;\n",
       "    }\n",
       "\n",
       "    .dataframe thead th {\n",
       "        text-align: left;\n",
       "    }\n",
       "\n",
       "    .dataframe tbody tr th {\n",
       "        vertical-align: top;\n",
       "    }\n",
       "</style>\n",
       "<table border=\"1\" class=\"dataframe\">\n",
       "  <thead>\n",
       "    <tr style=\"text-align: right;\">\n",
       "      <th></th>\n",
       "      <th>RTL_STORE_CD</th>\n",
       "      <th>RTL_FIPS_COUNTY_DSC</th>\n",
       "      <th>RTL_PREMISE_TYPE_CD</th>\n",
       "      <th>RTL_CHANNEL_DSC</th>\n",
       "      <th>RTL_SUBCHANNEL_DSC</th>\n",
       "      <th>RTL_BEER_FLAG</th>\n",
       "      <th>RTL_LIQUOR_FLG</th>\n",
       "    </tr>\n",
       "  </thead>\n",
       "  <tbody>\n",
       "    <tr>\n",
       "      <th>0</th>\n",
       "      <td>101856127</td>\n",
       "      <td>GRAND</td>\n",
       "      <td>OFF</td>\n",
       "      <td>CONVENIENCE STORE</td>\n",
       "      <td>CONVENTIONAL CONVENIENCE</td>\n",
       "      <td>Y</td>\n",
       "      <td>N</td>\n",
       "    </tr>\n",
       "    <tr>\n",
       "      <th>1</th>\n",
       "      <td>101948415</td>\n",
       "      <td>GARFIELD</td>\n",
       "      <td>OFF</td>\n",
       "      <td>CONVENIENCE STORE</td>\n",
       "      <td>CONVENTIONAL CONVENIENCE</td>\n",
       "      <td>Y</td>\n",
       "      <td>N</td>\n",
       "    </tr>\n",
       "    <tr>\n",
       "      <th>2</th>\n",
       "      <td>105604679</td>\n",
       "      <td>CACHE</td>\n",
       "      <td>ON</td>\n",
       "      <td>DINING</td>\n",
       "      <td>CASUAL DINING</td>\n",
       "      <td>Y</td>\n",
       "      <td>Y</td>\n",
       "    </tr>\n",
       "    <tr>\n",
       "      <th>3</th>\n",
       "      <td>100437548</td>\n",
       "      <td>SALT LAKE</td>\n",
       "      <td>OFF</td>\n",
       "      <td>CONVENIENCE STORE</td>\n",
       "      <td>CONVENTIONAL CONVENIENCE</td>\n",
       "      <td>Y</td>\n",
       "      <td>N</td>\n",
       "    </tr>\n",
       "    <tr>\n",
       "      <th>4</th>\n",
       "      <td>101943195</td>\n",
       "      <td>SALT LAKE</td>\n",
       "      <td>OFF</td>\n",
       "      <td>EXTENDED MASTER OFF-PREMISE</td>\n",
       "      <td>OTHER OFF-PREMISE</td>\n",
       "      <td>N</td>\n",
       "      <td>N</td>\n",
       "    </tr>\n",
       "  </tbody>\n",
       "</table>\n",
       "</div>"
      ],
      "text/plain": [
       "  RTL_STORE_CD RTL_FIPS_COUNTY_DSC RTL_PREMISE_TYPE_CD  \\\n",
       "0    101856127               GRAND                 OFF   \n",
       "1    101948415            GARFIELD                 OFF   \n",
       "2    105604679               CACHE                  ON   \n",
       "3    100437548           SALT LAKE                 OFF   \n",
       "4    101943195           SALT LAKE                 OFF   \n",
       "\n",
       "               RTL_CHANNEL_DSC        RTL_SUBCHANNEL_DSC RTL_BEER_FLAG  \\\n",
       "0            CONVENIENCE STORE  CONVENTIONAL CONVENIENCE             Y   \n",
       "1            CONVENIENCE STORE  CONVENTIONAL CONVENIENCE             Y   \n",
       "2                       DINING             CASUAL DINING             Y   \n",
       "3            CONVENIENCE STORE  CONVENTIONAL CONVENIENCE             Y   \n",
       "4  EXTENDED MASTER OFF-PREMISE         OTHER OFF-PREMISE             N   \n",
       "\n",
       "  RTL_LIQUOR_FLG  \n",
       "0              N  \n",
       "1              N  \n",
       "2              Y  \n",
       "3              N  \n",
       "4              N  "
      ]
     },
     "execution_count": 3,
     "metadata": {},
     "output_type": "execute_result"
    }
   ],
   "source": [
    "# Load the data\n",
    "data_dir = 'Data/'\n",
    "Stores = pd.read_csv(data_dir + 'AllStoresUtah.csv', dtype = str)\n",
    "StoreType = pd.read_csv(data_dir + 'NonLowPointStoresUtah.csv', dtype = str)\n",
    "Stores.head()"
   ]
  },
  {
   "cell_type": "code",
   "execution_count": 4,
   "metadata": {},
   "outputs": [
    {
     "data": {
      "text/html": [
       "<div>\n",
       "<style>\n",
       "    .dataframe thead tr:only-child th {\n",
       "        text-align: right;\n",
       "    }\n",
       "\n",
       "    .dataframe thead th {\n",
       "        text-align: left;\n",
       "    }\n",
       "\n",
       "    .dataframe tbody tr th {\n",
       "        vertical-align: top;\n",
       "    }\n",
       "</style>\n",
       "<table border=\"1\" class=\"dataframe\">\n",
       "  <thead>\n",
       "    <tr style=\"text-align: right;\">\n",
       "      <th></th>\n",
       "      <th>RTL_STORE_CD</th>\n",
       "      <th>BEERTYPE</th>\n",
       "    </tr>\n",
       "  </thead>\n",
       "  <tbody>\n",
       "    <tr>\n",
       "      <th>0</th>\n",
       "      <td>101415037</td>\n",
       "      <td>NonLowPoint</td>\n",
       "    </tr>\n",
       "    <tr>\n",
       "      <th>1</th>\n",
       "      <td>201880474</td>\n",
       "      <td>NonLowPoint</td>\n",
       "    </tr>\n",
       "    <tr>\n",
       "      <th>2</th>\n",
       "      <td>101415040</td>\n",
       "      <td>NonLowPoint</td>\n",
       "    </tr>\n",
       "    <tr>\n",
       "      <th>3</th>\n",
       "      <td>101415045</td>\n",
       "      <td>NonLowPoint</td>\n",
       "    </tr>\n",
       "    <tr>\n",
       "      <th>4</th>\n",
       "      <td>103755213</td>\n",
       "      <td>NonLowPoint</td>\n",
       "    </tr>\n",
       "  </tbody>\n",
       "</table>\n",
       "</div>"
      ],
      "text/plain": [
       "  RTL_STORE_CD     BEERTYPE\n",
       "0    101415037  NonLowPoint\n",
       "1    201880474  NonLowPoint\n",
       "2    101415040  NonLowPoint\n",
       "3    101415045  NonLowPoint\n",
       "4    103755213  NonLowPoint"
      ]
     },
     "execution_count": 4,
     "metadata": {},
     "output_type": "execute_result"
    }
   ],
   "source": [
    "StoreType.head()"
   ]
  },
  {
   "cell_type": "code",
   "execution_count": 5,
   "metadata": {
    "collapsed": true
   },
   "outputs": [],
   "source": [
    "FullData = pd.merge(Stores, StoreType, on=\"RTL_STORE_CD\", how=\"left\")"
   ]
  },
  {
   "cell_type": "code",
   "execution_count": 6,
   "metadata": {
    "collapsed": true
   },
   "outputs": [],
   "source": [
    "FullData.loc[FullData['BEERTYPE'].isnull(),\"BEERTYPE\"] = \"LowPoint\""
   ]
  },
  {
   "cell_type": "code",
   "execution_count": 7,
   "metadata": {
    "scrolled": false
   },
   "outputs": [
    {
     "data": {
      "text/html": [
       "<div>\n",
       "<style>\n",
       "    .dataframe thead tr:only-child th {\n",
       "        text-align: right;\n",
       "    }\n",
       "\n",
       "    .dataframe thead th {\n",
       "        text-align: left;\n",
       "    }\n",
       "\n",
       "    .dataframe tbody tr th {\n",
       "        vertical-align: top;\n",
       "    }\n",
       "</style>\n",
       "<table border=\"1\" class=\"dataframe\">\n",
       "  <thead>\n",
       "    <tr style=\"text-align: right;\">\n",
       "      <th></th>\n",
       "      <th>RTL_STORE_CD</th>\n",
       "      <th>RTL_FIPS_COUNTY_DSC</th>\n",
       "      <th>RTL_PREMISE_TYPE_CD</th>\n",
       "      <th>RTL_CHANNEL_DSC</th>\n",
       "      <th>RTL_SUBCHANNEL_DSC</th>\n",
       "      <th>RTL_BEER_FLAG</th>\n",
       "      <th>RTL_LIQUOR_FLG</th>\n",
       "      <th>BEERTYPE</th>\n",
       "      <th>COUNTY_BEAVER</th>\n",
       "      <th>COUNTY_BOX ELDER</th>\n",
       "      <th>...</th>\n",
       "      <th>SUBCHANNEL_THEATER</th>\n",
       "      <th>SUBCHANNEL_TRADING POST</th>\n",
       "      <th>SUBCHANNEL_UNKNOWN</th>\n",
       "      <th>SUBCHANNEL_WINE SPECIALTY STORE</th>\n",
       "      <th>BEER_LICENSE_N</th>\n",
       "      <th>BEER_LICENSE_U</th>\n",
       "      <th>BEER_LICENSE_Y</th>\n",
       "      <th>LIQUOR_LICENSE_N</th>\n",
       "      <th>LIQUOR_LICENSE_U</th>\n",
       "      <th>LIQUOR_LICENSE_Y</th>\n",
       "    </tr>\n",
       "  </thead>\n",
       "  <tbody>\n",
       "    <tr>\n",
       "      <th>0</th>\n",
       "      <td>101856127</td>\n",
       "      <td>GRAND</td>\n",
       "      <td>OFF</td>\n",
       "      <td>CONVENIENCE STORE</td>\n",
       "      <td>CONVENTIONAL CONVENIENCE</td>\n",
       "      <td>Y</td>\n",
       "      <td>N</td>\n",
       "      <td>LowPoint</td>\n",
       "      <td>0</td>\n",
       "      <td>0</td>\n",
       "      <td>...</td>\n",
       "      <td>0</td>\n",
       "      <td>0</td>\n",
       "      <td>0</td>\n",
       "      <td>0</td>\n",
       "      <td>0</td>\n",
       "      <td>0</td>\n",
       "      <td>1</td>\n",
       "      <td>1</td>\n",
       "      <td>0</td>\n",
       "      <td>0</td>\n",
       "    </tr>\n",
       "    <tr>\n",
       "      <th>1</th>\n",
       "      <td>101948415</td>\n",
       "      <td>GARFIELD</td>\n",
       "      <td>OFF</td>\n",
       "      <td>CONVENIENCE STORE</td>\n",
       "      <td>CONVENTIONAL CONVENIENCE</td>\n",
       "      <td>Y</td>\n",
       "      <td>N</td>\n",
       "      <td>LowPoint</td>\n",
       "      <td>0</td>\n",
       "      <td>0</td>\n",
       "      <td>...</td>\n",
       "      <td>0</td>\n",
       "      <td>0</td>\n",
       "      <td>0</td>\n",
       "      <td>0</td>\n",
       "      <td>0</td>\n",
       "      <td>0</td>\n",
       "      <td>1</td>\n",
       "      <td>1</td>\n",
       "      <td>0</td>\n",
       "      <td>0</td>\n",
       "    </tr>\n",
       "    <tr>\n",
       "      <th>2</th>\n",
       "      <td>105604679</td>\n",
       "      <td>CACHE</td>\n",
       "      <td>ON</td>\n",
       "      <td>DINING</td>\n",
       "      <td>CASUAL DINING</td>\n",
       "      <td>Y</td>\n",
       "      <td>Y</td>\n",
       "      <td>LowPoint</td>\n",
       "      <td>0</td>\n",
       "      <td>0</td>\n",
       "      <td>...</td>\n",
       "      <td>0</td>\n",
       "      <td>0</td>\n",
       "      <td>0</td>\n",
       "      <td>0</td>\n",
       "      <td>0</td>\n",
       "      <td>0</td>\n",
       "      <td>1</td>\n",
       "      <td>0</td>\n",
       "      <td>0</td>\n",
       "      <td>1</td>\n",
       "    </tr>\n",
       "    <tr>\n",
       "      <th>3</th>\n",
       "      <td>100437548</td>\n",
       "      <td>SALT LAKE</td>\n",
       "      <td>OFF</td>\n",
       "      <td>CONVENIENCE STORE</td>\n",
       "      <td>CONVENTIONAL CONVENIENCE</td>\n",
       "      <td>Y</td>\n",
       "      <td>N</td>\n",
       "      <td>LowPoint</td>\n",
       "      <td>0</td>\n",
       "      <td>0</td>\n",
       "      <td>...</td>\n",
       "      <td>0</td>\n",
       "      <td>0</td>\n",
       "      <td>0</td>\n",
       "      <td>0</td>\n",
       "      <td>0</td>\n",
       "      <td>0</td>\n",
       "      <td>1</td>\n",
       "      <td>1</td>\n",
       "      <td>0</td>\n",
       "      <td>0</td>\n",
       "    </tr>\n",
       "    <tr>\n",
       "      <th>4</th>\n",
       "      <td>101943195</td>\n",
       "      <td>SALT LAKE</td>\n",
       "      <td>OFF</td>\n",
       "      <td>EXTENDED MASTER OFF-PREMISE</td>\n",
       "      <td>OTHER OFF-PREMISE</td>\n",
       "      <td>N</td>\n",
       "      <td>N</td>\n",
       "      <td>LowPoint</td>\n",
       "      <td>0</td>\n",
       "      <td>0</td>\n",
       "      <td>...</td>\n",
       "      <td>0</td>\n",
       "      <td>0</td>\n",
       "      <td>0</td>\n",
       "      <td>0</td>\n",
       "      <td>1</td>\n",
       "      <td>0</td>\n",
       "      <td>0</td>\n",
       "      <td>1</td>\n",
       "      <td>0</td>\n",
       "      <td>0</td>\n",
       "    </tr>\n",
       "  </tbody>\n",
       "</table>\n",
       "<p>5 rows × 133 columns</p>\n",
       "</div>"
      ],
      "text/plain": [
       "  RTL_STORE_CD RTL_FIPS_COUNTY_DSC RTL_PREMISE_TYPE_CD  \\\n",
       "0    101856127               GRAND                 OFF   \n",
       "1    101948415            GARFIELD                 OFF   \n",
       "2    105604679               CACHE                  ON   \n",
       "3    100437548           SALT LAKE                 OFF   \n",
       "4    101943195           SALT LAKE                 OFF   \n",
       "\n",
       "               RTL_CHANNEL_DSC        RTL_SUBCHANNEL_DSC RTL_BEER_FLAG  \\\n",
       "0            CONVENIENCE STORE  CONVENTIONAL CONVENIENCE             Y   \n",
       "1            CONVENIENCE STORE  CONVENTIONAL CONVENIENCE             Y   \n",
       "2                       DINING             CASUAL DINING             Y   \n",
       "3            CONVENIENCE STORE  CONVENTIONAL CONVENIENCE             Y   \n",
       "4  EXTENDED MASTER OFF-PREMISE         OTHER OFF-PREMISE             N   \n",
       "\n",
       "  RTL_LIQUOR_FLG  BEERTYPE  COUNTY_BEAVER  COUNTY_BOX ELDER        ...         \\\n",
       "0              N  LowPoint              0                 0        ...          \n",
       "1              N  LowPoint              0                 0        ...          \n",
       "2              Y  LowPoint              0                 0        ...          \n",
       "3              N  LowPoint              0                 0        ...          \n",
       "4              N  LowPoint              0                 0        ...          \n",
       "\n",
       "   SUBCHANNEL_THEATER  SUBCHANNEL_TRADING POST  SUBCHANNEL_UNKNOWN  \\\n",
       "0                   0                        0                   0   \n",
       "1                   0                        0                   0   \n",
       "2                   0                        0                   0   \n",
       "3                   0                        0                   0   \n",
       "4                   0                        0                   0   \n",
       "\n",
       "   SUBCHANNEL_WINE SPECIALTY STORE  BEER_LICENSE_N  BEER_LICENSE_U  \\\n",
       "0                                0               0               0   \n",
       "1                                0               0               0   \n",
       "2                                0               0               0   \n",
       "3                                0               0               0   \n",
       "4                                0               1               0   \n",
       "\n",
       "   BEER_LICENSE_Y  LIQUOR_LICENSE_N  LIQUOR_LICENSE_U  LIQUOR_LICENSE_Y  \n",
       "0               1                 1                 0                 0  \n",
       "1               1                 1                 0                 0  \n",
       "2               1                 0                 0                 1  \n",
       "3               1                 1                 0                 0  \n",
       "4               0                 1                 0                 0  \n",
       "\n",
       "[5 rows x 133 columns]"
      ]
     },
     "execution_count": 7,
     "metadata": {},
     "output_type": "execute_result"
    }
   ],
   "source": [
    "FullData = pd.concat([FullData, pd.get_dummies(FullData['RTL_FIPS_COUNTY_DSC'],prefix='COUNTY')], axis=1)\n",
    "FullData = pd.concat([FullData, pd.get_dummies(FullData['RTL_PREMISE_TYPE_CD'],prefix='PREMISE')], axis=1)\n",
    "FullData = pd.concat([FullData, pd.get_dummies(FullData['RTL_CHANNEL_DSC'],prefix='CHANNEL')], axis=1)\n",
    "FullData = pd.concat([FullData, pd.get_dummies(FullData['RTL_SUBCHANNEL_DSC'],prefix='SUBCHANNEL')], axis=1)\n",
    "FullData = pd.concat([FullData, pd.get_dummies(FullData['RTL_BEER_FLAG'],prefix='BEER_LICENSE')], axis=1)\n",
    "FullData = pd.concat([FullData, pd.get_dummies(FullData['RTL_LIQUOR_FLG'],prefix='LIQUOR_LICENSE')], axis=1)\n",
    "FullData.head()"
   ]
  },
  {
   "cell_type": "markdown",
   "metadata": {
    "collapsed": true
   },
   "source": [
    "# Business Rules "
   ]
  },
  {
   "cell_type": "code",
   "execution_count": 10,
   "metadata": {},
   "outputs": [
    {
     "data": {
      "text/html": [
       "<div>\n",
       "<style>\n",
       "    .dataframe thead tr:only-child th {\n",
       "        text-align: right;\n",
       "    }\n",
       "\n",
       "    .dataframe thead th {\n",
       "        text-align: left;\n",
       "    }\n",
       "\n",
       "    .dataframe tbody tr th {\n",
       "        vertical-align: top;\n",
       "    }\n",
       "</style>\n",
       "<table border=\"1\" class=\"dataframe\">\n",
       "  <thead>\n",
       "    <tr style=\"text-align: right;\">\n",
       "      <th></th>\n",
       "      <th>RTL_STORE_CD</th>\n",
       "      <th>RTL_FIPS_COUNTY_DSC</th>\n",
       "      <th>RTL_PREMISE_TYPE_CD</th>\n",
       "      <th>RTL_CHANNEL_DSC</th>\n",
       "      <th>RTL_SUBCHANNEL_DSC</th>\n",
       "      <th>RTL_BEER_FLAG</th>\n",
       "      <th>RTL_LIQUOR_FLG</th>\n",
       "      <th>BEERTYPE</th>\n",
       "      <th>LowPoint_Y</th>\n",
       "    </tr>\n",
       "  </thead>\n",
       "  <tbody>\n",
       "    <tr>\n",
       "      <th>0</th>\n",
       "      <td>101856127</td>\n",
       "      <td>GRAND</td>\n",
       "      <td>OFF</td>\n",
       "      <td>CONVENIENCE STORE</td>\n",
       "      <td>CONVENTIONAL CONVENIENCE</td>\n",
       "      <td>Y</td>\n",
       "      <td>N</td>\n",
       "      <td>LowPoint</td>\n",
       "      <td></td>\n",
       "    </tr>\n",
       "    <tr>\n",
       "      <th>1</th>\n",
       "      <td>101948415</td>\n",
       "      <td>GARFIELD</td>\n",
       "      <td>OFF</td>\n",
       "      <td>CONVENIENCE STORE</td>\n",
       "      <td>CONVENTIONAL CONVENIENCE</td>\n",
       "      <td>Y</td>\n",
       "      <td>N</td>\n",
       "      <td>LowPoint</td>\n",
       "      <td></td>\n",
       "    </tr>\n",
       "    <tr>\n",
       "      <th>2</th>\n",
       "      <td>105604679</td>\n",
       "      <td>CACHE</td>\n",
       "      <td>ON</td>\n",
       "      <td>DINING</td>\n",
       "      <td>CASUAL DINING</td>\n",
       "      <td>Y</td>\n",
       "      <td>Y</td>\n",
       "      <td>LowPoint</td>\n",
       "      <td></td>\n",
       "    </tr>\n",
       "    <tr>\n",
       "      <th>3</th>\n",
       "      <td>100437548</td>\n",
       "      <td>SALT LAKE</td>\n",
       "      <td>OFF</td>\n",
       "      <td>CONVENIENCE STORE</td>\n",
       "      <td>CONVENTIONAL CONVENIENCE</td>\n",
       "      <td>Y</td>\n",
       "      <td>N</td>\n",
       "      <td>LowPoint</td>\n",
       "      <td></td>\n",
       "    </tr>\n",
       "    <tr>\n",
       "      <th>4</th>\n",
       "      <td>101943195</td>\n",
       "      <td>SALT LAKE</td>\n",
       "      <td>OFF</td>\n",
       "      <td>EXTENDED MASTER OFF-PREMISE</td>\n",
       "      <td>OTHER OFF-PREMISE</td>\n",
       "      <td>N</td>\n",
       "      <td>N</td>\n",
       "      <td>LowPoint</td>\n",
       "      <td></td>\n",
       "    </tr>\n",
       "  </tbody>\n",
       "</table>\n",
       "</div>"
      ],
      "text/plain": [
       "  RTL_STORE_CD RTL_FIPS_COUNTY_DSC RTL_PREMISE_TYPE_CD  \\\n",
       "0    101856127               GRAND                 OFF   \n",
       "1    101948415            GARFIELD                 OFF   \n",
       "2    105604679               CACHE                  ON   \n",
       "3    100437548           SALT LAKE                 OFF   \n",
       "4    101943195           SALT LAKE                 OFF   \n",
       "\n",
       "               RTL_CHANNEL_DSC        RTL_SUBCHANNEL_DSC RTL_BEER_FLAG  \\\n",
       "0            CONVENIENCE STORE  CONVENTIONAL CONVENIENCE             Y   \n",
       "1            CONVENIENCE STORE  CONVENTIONAL CONVENIENCE             Y   \n",
       "2                       DINING             CASUAL DINING             Y   \n",
       "3            CONVENIENCE STORE  CONVENTIONAL CONVENIENCE             Y   \n",
       "4  EXTENDED MASTER OFF-PREMISE         OTHER OFF-PREMISE             N   \n",
       "\n",
       "  RTL_LIQUOR_FLG  BEERTYPE LowPoint_Y  \n",
       "0              N  LowPoint             \n",
       "1              N  LowPoint             \n",
       "2              Y  LowPoint             \n",
       "3              N  LowPoint             \n",
       "4              N  LowPoint             "
      ]
     },
     "execution_count": 10,
     "metadata": {},
     "output_type": "execute_result"
    }
   ],
   "source": [
    "RulesData = pd.merge(Stores, StoreType, on=\"RTL_STORE_CD\", how=\"left\")\n",
    "RulesData.loc[RulesData['BEERTYPE'].isnull(),\"BEERTYPE\"] = \"LowPoint\"\n",
    "RulesData.to_csv(data_dir + 'RulesDataUtah.csv')\n",
    "RulesData['LowPoint_Y'] = \"\"\n",
    "RulesData.head()"
   ]
  },
  {
   "cell_type": "code",
   "execution_count": 21,
   "metadata": {
    "collapsed": true
   },
   "outputs": [],
   "source": [
    "def Rules_Utah(dataframe):\n",
    "\n",
    "    for row in range(len(dataframe)):\n",
    "        if dataframe.loc[row,'RTL_CHANNEL_DSC'] == 'LIQUOR' or 'MILITARY' in dataframe.loc[row,'RTL_CHANNEL_DSC']:\n",
    "            \n",
    "            dataframe.loc[row,'LowPoint_Y'] = False\n",
    "        else:\n",
    "            \n",
    "            dataframe.loc[row,'LowPoint_Y'] = True\n",
    "    \n",
    "    return dataframe\n",
    "\n",
    "#save the Utah business rule into pickle\n",
    "pickle.dump(Rules_Utah, open('Utah_business_rule.p', 'wb'))"
   ]
  },
  {
   "cell_type": "code",
   "execution_count": 23,
   "metadata": {},
   "outputs": [
    {
     "data": {
      "text/html": [
       "<div>\n",
       "<style>\n",
       "    .dataframe thead tr:only-child th {\n",
       "        text-align: right;\n",
       "    }\n",
       "\n",
       "    .dataframe thead th {\n",
       "        text-align: left;\n",
       "    }\n",
       "\n",
       "    .dataframe tbody tr th {\n",
       "        vertical-align: top;\n",
       "    }\n",
       "</style>\n",
       "<table border=\"1\" class=\"dataframe\">\n",
       "  <thead>\n",
       "    <tr style=\"text-align: right;\">\n",
       "      <th></th>\n",
       "      <th>RTL_STORE_CD</th>\n",
       "      <th>RTL_FIPS_COUNTY_DSC</th>\n",
       "      <th>RTL_PREMISE_TYPE_CD</th>\n",
       "      <th>RTL_CHANNEL_DSC</th>\n",
       "      <th>RTL_SUBCHANNEL_DSC</th>\n",
       "      <th>RTL_BEER_FLAG</th>\n",
       "      <th>RTL_LIQUOR_FLG</th>\n",
       "      <th>BEERTYPE</th>\n",
       "      <th>LowPoint_Y</th>\n",
       "    </tr>\n",
       "  </thead>\n",
       "  <tbody>\n",
       "    <tr>\n",
       "      <th>0</th>\n",
       "      <td>101856127</td>\n",
       "      <td>GRAND</td>\n",
       "      <td>OFF</td>\n",
       "      <td>CONVENIENCE STORE</td>\n",
       "      <td>CONVENTIONAL CONVENIENCE</td>\n",
       "      <td>Y</td>\n",
       "      <td>N</td>\n",
       "      <td>LowPoint</td>\n",
       "      <td>True</td>\n",
       "    </tr>\n",
       "    <tr>\n",
       "      <th>1</th>\n",
       "      <td>101948415</td>\n",
       "      <td>GARFIELD</td>\n",
       "      <td>OFF</td>\n",
       "      <td>CONVENIENCE STORE</td>\n",
       "      <td>CONVENTIONAL CONVENIENCE</td>\n",
       "      <td>Y</td>\n",
       "      <td>N</td>\n",
       "      <td>LowPoint</td>\n",
       "      <td>True</td>\n",
       "    </tr>\n",
       "    <tr>\n",
       "      <th>2</th>\n",
       "      <td>105604679</td>\n",
       "      <td>CACHE</td>\n",
       "      <td>ON</td>\n",
       "      <td>DINING</td>\n",
       "      <td>CASUAL DINING</td>\n",
       "      <td>Y</td>\n",
       "      <td>Y</td>\n",
       "      <td>LowPoint</td>\n",
       "      <td>True</td>\n",
       "    </tr>\n",
       "    <tr>\n",
       "      <th>3</th>\n",
       "      <td>100437548</td>\n",
       "      <td>SALT LAKE</td>\n",
       "      <td>OFF</td>\n",
       "      <td>CONVENIENCE STORE</td>\n",
       "      <td>CONVENTIONAL CONVENIENCE</td>\n",
       "      <td>Y</td>\n",
       "      <td>N</td>\n",
       "      <td>LowPoint</td>\n",
       "      <td>True</td>\n",
       "    </tr>\n",
       "    <tr>\n",
       "      <th>4</th>\n",
       "      <td>101943195</td>\n",
       "      <td>SALT LAKE</td>\n",
       "      <td>OFF</td>\n",
       "      <td>EXTENDED MASTER OFF-PREMISE</td>\n",
       "      <td>OTHER OFF-PREMISE</td>\n",
       "      <td>N</td>\n",
       "      <td>N</td>\n",
       "      <td>LowPoint</td>\n",
       "      <td>True</td>\n",
       "    </tr>\n",
       "  </tbody>\n",
       "</table>\n",
       "</div>"
      ],
      "text/plain": [
       "  RTL_STORE_CD RTL_FIPS_COUNTY_DSC RTL_PREMISE_TYPE_CD  \\\n",
       "0    101856127               GRAND                 OFF   \n",
       "1    101948415            GARFIELD                 OFF   \n",
       "2    105604679               CACHE                  ON   \n",
       "3    100437548           SALT LAKE                 OFF   \n",
       "4    101943195           SALT LAKE                 OFF   \n",
       "\n",
       "               RTL_CHANNEL_DSC        RTL_SUBCHANNEL_DSC RTL_BEER_FLAG  \\\n",
       "0            CONVENIENCE STORE  CONVENTIONAL CONVENIENCE             Y   \n",
       "1            CONVENIENCE STORE  CONVENTIONAL CONVENIENCE             Y   \n",
       "2                       DINING             CASUAL DINING             Y   \n",
       "3            CONVENIENCE STORE  CONVENTIONAL CONVENIENCE             Y   \n",
       "4  EXTENDED MASTER OFF-PREMISE         OTHER OFF-PREMISE             N   \n",
       "\n",
       "  RTL_LIQUOR_FLG  BEERTYPE LowPoint_Y  \n",
       "0              N  LowPoint       True  \n",
       "1              N  LowPoint       True  \n",
       "2              Y  LowPoint       True  \n",
       "3              N  LowPoint       True  \n",
       "4              N  LowPoint       True  "
      ]
     },
     "execution_count": 23,
     "metadata": {},
     "output_type": "execute_result"
    }
   ],
   "source": [
    "Utah_rule_func = pickle.load(open('Utah_business_rule.p', 'rb'))\n",
    "        \n",
    "result_df = Utah_rule_func(RulesData)\n",
    "result_df.head()\n",
    "        "
   ]
  },
  {
   "cell_type": "code",
   "execution_count": 18,
   "metadata": {},
   "outputs": [
    {
     "data": {
      "text/html": [
       "<div>\n",
       "<style>\n",
       "    .dataframe thead tr:only-child th {\n",
       "        text-align: right;\n",
       "    }\n",
       "\n",
       "    .dataframe thead th {\n",
       "        text-align: left;\n",
       "    }\n",
       "\n",
       "    .dataframe tbody tr th {\n",
       "        vertical-align: top;\n",
       "    }\n",
       "</style>\n",
       "<table border=\"1\" class=\"dataframe\">\n",
       "  <thead>\n",
       "    <tr style=\"text-align: right;\">\n",
       "      <th></th>\n",
       "      <th>RTL_STORE_CD</th>\n",
       "      <th>RTL_FIPS_COUNTY_DSC</th>\n",
       "      <th>RTL_PREMISE_TYPE_CD</th>\n",
       "      <th>RTL_CHANNEL_DSC</th>\n",
       "      <th>RTL_SUBCHANNEL_DSC</th>\n",
       "      <th>RTL_BEER_FLAG</th>\n",
       "      <th>RTL_LIQUOR_FLG</th>\n",
       "      <th>BEERTYPE</th>\n",
       "      <th>LowPoint_Y</th>\n",
       "    </tr>\n",
       "  </thead>\n",
       "  <tbody>\n",
       "    <tr>\n",
       "      <th>0</th>\n",
       "      <td>101856127</td>\n",
       "      <td>GRAND</td>\n",
       "      <td>OFF</td>\n",
       "      <td>CONVENIENCE STORE</td>\n",
       "      <td>CONVENTIONAL CONVENIENCE</td>\n",
       "      <td>Y</td>\n",
       "      <td>N</td>\n",
       "      <td>LowPoint</td>\n",
       "      <td>True</td>\n",
       "    </tr>\n",
       "    <tr>\n",
       "      <th>1</th>\n",
       "      <td>101948415</td>\n",
       "      <td>GARFIELD</td>\n",
       "      <td>OFF</td>\n",
       "      <td>CONVENIENCE STORE</td>\n",
       "      <td>CONVENTIONAL CONVENIENCE</td>\n",
       "      <td>Y</td>\n",
       "      <td>N</td>\n",
       "      <td>LowPoint</td>\n",
       "      <td>True</td>\n",
       "    </tr>\n",
       "    <tr>\n",
       "      <th>2</th>\n",
       "      <td>105604679</td>\n",
       "      <td>CACHE</td>\n",
       "      <td>ON</td>\n",
       "      <td>DINING</td>\n",
       "      <td>CASUAL DINING</td>\n",
       "      <td>Y</td>\n",
       "      <td>Y</td>\n",
       "      <td>LowPoint</td>\n",
       "      <td>True</td>\n",
       "    </tr>\n",
       "    <tr>\n",
       "      <th>3</th>\n",
       "      <td>100437548</td>\n",
       "      <td>SALT LAKE</td>\n",
       "      <td>OFF</td>\n",
       "      <td>CONVENIENCE STORE</td>\n",
       "      <td>CONVENTIONAL CONVENIENCE</td>\n",
       "      <td>Y</td>\n",
       "      <td>N</td>\n",
       "      <td>LowPoint</td>\n",
       "      <td>True</td>\n",
       "    </tr>\n",
       "    <tr>\n",
       "      <th>4</th>\n",
       "      <td>101943195</td>\n",
       "      <td>SALT LAKE</td>\n",
       "      <td>OFF</td>\n",
       "      <td>EXTENDED MASTER OFF-PREMISE</td>\n",
       "      <td>OTHER OFF-PREMISE</td>\n",
       "      <td>N</td>\n",
       "      <td>N</td>\n",
       "      <td>LowPoint</td>\n",
       "      <td>True</td>\n",
       "    </tr>\n",
       "  </tbody>\n",
       "</table>\n",
       "</div>"
      ],
      "text/plain": [
       "  RTL_STORE_CD RTL_FIPS_COUNTY_DSC RTL_PREMISE_TYPE_CD  \\\n",
       "0    101856127               GRAND                 OFF   \n",
       "1    101948415            GARFIELD                 OFF   \n",
       "2    105604679               CACHE                  ON   \n",
       "3    100437548           SALT LAKE                 OFF   \n",
       "4    101943195           SALT LAKE                 OFF   \n",
       "\n",
       "               RTL_CHANNEL_DSC        RTL_SUBCHANNEL_DSC RTL_BEER_FLAG  \\\n",
       "0            CONVENIENCE STORE  CONVENTIONAL CONVENIENCE             Y   \n",
       "1            CONVENIENCE STORE  CONVENTIONAL CONVENIENCE             Y   \n",
       "2                       DINING             CASUAL DINING             Y   \n",
       "3            CONVENIENCE STORE  CONVENTIONAL CONVENIENCE             Y   \n",
       "4  EXTENDED MASTER OFF-PREMISE         OTHER OFF-PREMISE             N   \n",
       "\n",
       "  RTL_LIQUOR_FLG  BEERTYPE LowPoint_Y  \n",
       "0              N  LowPoint       True  \n",
       "1              N  LowPoint       True  \n",
       "2              Y  LowPoint       True  \n",
       "3              N  LowPoint       True  \n",
       "4              N  LowPoint       True  "
      ]
     },
     "execution_count": 18,
     "metadata": {},
     "output_type": "execute_result"
    }
   ],
   "source": [
    "tempDF = Rules_Utah(RulesData)\n",
    "tempDF.head()"
   ]
  },
  {
   "cell_type": "markdown",
   "metadata": {},
   "source": [
    "# Business Rules result"
   ]
  },
  {
   "cell_type": "code",
   "execution_count": 16,
   "metadata": {},
   "outputs": [
    {
     "data": {
      "text/plain": [
       "array([[2356,    4],\n",
       "       [   0,   42]])"
      ]
     },
     "execution_count": 16,
     "metadata": {},
     "output_type": "execute_result"
    }
   ],
   "source": [
    "# Confusion Matrix\n",
    "cm = confusion_matrix(RulesData['BEERTYPE'], tempDF['LowPoint_Y'])\n",
    "cm"
   ]
  },
  {
   "cell_type": "code",
   "execution_count": 20,
   "metadata": {},
   "outputs": [
    {
     "data": {
      "text/plain": [
       "0.99833472106577847"
      ]
     },
     "execution_count": 20,
     "metadata": {},
     "output_type": "execute_result"
    }
   ],
   "source": [
    "#Accuracy\n",
    "Accuracy = (cm[0,0] + cm[1,1])/ np.sum(cm)\n",
    "Accuracy"
   ]
  },
  {
   "cell_type": "code",
   "execution_count": 21,
   "metadata": {},
   "outputs": [
    {
     "name": "stdout",
     "output_type": "stream",
     "text": [
      "there are 4 false_LowPoint errors in the prediction\n"
     ]
    },
    {
     "data": {
      "text/html": [
       "<div>\n",
       "<style>\n",
       "    .dataframe thead tr:only-child th {\n",
       "        text-align: right;\n",
       "    }\n",
       "\n",
       "    .dataframe thead th {\n",
       "        text-align: left;\n",
       "    }\n",
       "\n",
       "    .dataframe tbody tr th {\n",
       "        vertical-align: top;\n",
       "    }\n",
       "</style>\n",
       "<table border=\"1\" class=\"dataframe\">\n",
       "  <thead>\n",
       "    <tr style=\"text-align: right;\">\n",
       "      <th></th>\n",
       "      <th>RTL_STORE_CD</th>\n",
       "      <th>RTL_FIPS_COUNTY_DSC</th>\n",
       "      <th>RTL_PREMISE_TYPE_CD</th>\n",
       "      <th>RTL_CHANNEL_DSC</th>\n",
       "      <th>RTL_SUBCHANNEL_DSC</th>\n",
       "      <th>RTL_BEER_FLAG</th>\n",
       "      <th>RTL_LIQUOR_FLG</th>\n",
       "      <th>BEERTYPE</th>\n",
       "      <th>PREDICTION</th>\n",
       "    </tr>\n",
       "  </thead>\n",
       "  <tbody>\n",
       "    <tr>\n",
       "      <th>151</th>\n",
       "      <td>101415007</td>\n",
       "      <td>DAVIS</td>\n",
       "      <td>OFF</td>\n",
       "      <td>MILITARY OFF-PREMISE</td>\n",
       "      <td>MILITARY LIQUOR STORE</td>\n",
       "      <td>Y</td>\n",
       "      <td>Y</td>\n",
       "      <td>LowPoint</td>\n",
       "      <td>NonLowPoint</td>\n",
       "    </tr>\n",
       "    <tr>\n",
       "      <th>293</th>\n",
       "      <td>101840007</td>\n",
       "      <td>DAVIS</td>\n",
       "      <td>ON</td>\n",
       "      <td>MILITARY ON-PREMISE</td>\n",
       "      <td>MILITARY RECREATION</td>\n",
       "      <td>Y</td>\n",
       "      <td>Y</td>\n",
       "      <td>LowPoint</td>\n",
       "      <td>NonLowPoint</td>\n",
       "    </tr>\n",
       "    <tr>\n",
       "      <th>322</th>\n",
       "      <td>101980806</td>\n",
       "      <td>DAVIS</td>\n",
       "      <td>ON</td>\n",
       "      <td>MILITARY ON-PREMISE</td>\n",
       "      <td>MILITARY DINING</td>\n",
       "      <td>Y</td>\n",
       "      <td>Y</td>\n",
       "      <td>LowPoint</td>\n",
       "      <td>NonLowPoint</td>\n",
       "    </tr>\n",
       "    <tr>\n",
       "      <th>1386</th>\n",
       "      <td>101840009</td>\n",
       "      <td>DAVIS</td>\n",
       "      <td>ON</td>\n",
       "      <td>MILITARY ON-PREMISE</td>\n",
       "      <td>MILITARY RECREATION</td>\n",
       "      <td>Y</td>\n",
       "      <td>Y</td>\n",
       "      <td>LowPoint</td>\n",
       "      <td>NonLowPoint</td>\n",
       "    </tr>\n",
       "  </tbody>\n",
       "</table>\n",
       "</div>"
      ],
      "text/plain": [
       "     RTL_STORE_CD RTL_FIPS_COUNTY_DSC RTL_PREMISE_TYPE_CD  \\\n",
       "151     101415007               DAVIS                 OFF   \n",
       "293     101840007               DAVIS                  ON   \n",
       "322     101980806               DAVIS                  ON   \n",
       "1386    101840009               DAVIS                  ON   \n",
       "\n",
       "           RTL_CHANNEL_DSC     RTL_SUBCHANNEL_DSC RTL_BEER_FLAG  \\\n",
       "151   MILITARY OFF-PREMISE  MILITARY LIQUOR STORE             Y   \n",
       "293    MILITARY ON-PREMISE    MILITARY RECREATION             Y   \n",
       "322    MILITARY ON-PREMISE        MILITARY DINING             Y   \n",
       "1386   MILITARY ON-PREMISE    MILITARY RECREATION             Y   \n",
       "\n",
       "     RTL_LIQUOR_FLG  BEERTYPE   PREDICTION  \n",
       "151               Y  LowPoint  NonLowPoint  \n",
       "293               Y  LowPoint  NonLowPoint  \n",
       "322               Y  LowPoint  NonLowPoint  \n",
       "1386              Y  LowPoint  NonLowPoint  "
      ]
     },
     "execution_count": 21,
     "metadata": {},
     "output_type": "execute_result"
    }
   ],
   "source": [
    "#check how many stores are predicted wrong; which are they; what characters do they have\n",
    "error_index_list = []\n",
    "for index in range(len(RulesData)):\n",
    "    if RulesData.loc[index , 'BEERTYPE'] != RulesData.loc[index , 'PREDICTION']:\n",
    "        error_index_list.append(index)\n",
    "print('there are', len(error_index_list), 'false_LowPoint errors in the prediction')\n",
    "\n",
    "#check the error predictions\n",
    "error_df = RulesData.loc[error_index_list, ]\n",
    "error_df.head()"
   ]
  },
  {
   "cell_type": "code",
   "execution_count": 22,
   "metadata": {},
   "outputs": [
    {
     "data": {
      "image/png": "[encoded data removed]",
      "text/plain": [
       "<matplotlib.figure.Figure at 0x7fc060166630>"
      ]
     },
     "metadata": {},
     "output_type": "display_data"
    }
   ],
   "source": [
    "false_LowPoint = error_df.loc[error_df['BEERTYPE'] == 'LowPoint']\n",
    "#create false_NonLowPoint by County\n",
    "graph_counts(false_LowPoint, 'RTL_FIPS_COUNTY_DSC', False, 'bar', True, 15)"
   ]
  },
  {
   "cell_type": "code",
   "execution_count": 23,
   "metadata": {},
   "outputs": [
    {
     "data": {
      "image/png": "[encoded data removed]",
      "text/plain": [
       "<matplotlib.figure.Figure at 0x7fc060144d30>"
      ]
     },
     "metadata": {},
     "output_type": "display_data"
    }
   ],
   "source": [
    "#create false_LowPoint by premise type\n",
    "graph_counts(false_LowPoint, 'RTL_PREMISE_TYPE_CD', False, 'bar', True, 15)"
   ]
  },
  {
   "cell_type": "code",
   "execution_count": 24,
   "metadata": {},
   "outputs": [
    {
     "data": {
      "image/png": "[encoded data removed]",
      "text/plain": [
       "<matplotlib.figure.Figure at 0x7fc060239ef0>"
      ]
     },
     "metadata": {},
     "output_type": "display_data"
    }
   ],
   "source": [
    "#create false_LowPoint by Channel\n",
    "graph_counts(false_LowPoint, 'RTL_CHANNEL_DSC', False, 'bar', True, 15)"
   ]
  },
  {
   "cell_type": "code",
   "execution_count": 25,
   "metadata": {},
   "outputs": [
    {
     "data": {
      "image/png": "[encoded data removed]",
      "text/plain": [
       "<matplotlib.figure.Figure at 0x7fc0625635c0>"
      ]
     },
     "metadata": {},
     "output_type": "display_data"
    }
   ],
   "source": [
    "#create false_LowPoint by sub channel\n",
    "graph_counts(false_LowPoint, 'RTL_SUBCHANNEL_DSC', False, 'bar', True, 15)"
   ]
  },
  {
   "cell_type": "code",
   "execution_count": 26,
   "metadata": {},
   "outputs": [
    {
     "data": {
      "image/png": "[encoded data removed]",
      "text/plain": [
       "<matplotlib.figure.Figure at 0x7fc060138d68>"
      ]
     },
     "metadata": {},
     "output_type": "display_data"
    }
   ],
   "source": [
    "#create false_LowPoint by Beer License\n",
    "graph_counts(false_LowPoint, 'RTL_BEER_FLAG', False, 'pie', True, 15)"
   ]
  },
  {
   "cell_type": "code",
   "execution_count": 27,
   "metadata": {},
   "outputs": [
    {
     "data": {
      "image/png": "[encoded data removed]",
      "text/plain": [
       "<matplotlib.figure.Figure at 0x7fc0604fcf28>"
      ]
     },
     "metadata": {},
     "output_type": "display_data"
    }
   ],
   "source": [
    "#create false_LowPoint by Liquor License\n",
    "graph_counts(false_LowPoint, 'RTL_LIQUOR_FLG', False, 'pie', True, 15)"
   ]
  },
  {
   "cell_type": "code",
   "execution_count": null,
   "metadata": {
    "collapsed": true
   },
   "outputs": [],
   "source": []
  },
  {
   "cell_type": "markdown",
   "metadata": {
    "collapsed": true
   },
   "source": [
    "### Decision Tree Approach"
   ]
  },
  {
   "cell_type": "code",
   "execution_count": 28,
   "metadata": {
    "collapsed": true
   },
   "outputs": [],
   "source": [
    "# prepare data to fit model\n",
    "X_labels = [c for c in FullData.columns if c not in ['RTL_STORE_CD','BEERTYPE','RTL_FIPS_COUNTY_DSC','RTL_PREMISE_TYPE_CD','RTL_CHANNEL_DSC','RTL_SUBCHANNEL_DSC','RTL_BEER_FLAG',\"RTL_LIQUOR_FLG\"]]\n",
    "X = FullData.loc[:,X_labels]\n",
    "Y = FullData['BEERTYPE']"
   ]
  },
  {
   "cell_type": "code",
   "execution_count": 29,
   "metadata": {},
   "outputs": [
    {
     "data": {
      "text/plain": [
       "{'max_depth': 2,\n",
       " 'min_samples_leaf': 3,\n",
       " 'min_samples_split': 3,\n",
       " 'random_state': 0}"
      ]
     },
     "execution_count": 29,
     "metadata": {},
     "output_type": "execute_result"
    }
   ],
   "source": [
    "parameters = {'max_depth':range(1,21), 'min_samples_leaf':range(3,21,3), 'min_samples_split':range(3,21,3), 'random_state': [0]}\n",
    "clf = tree.DecisionTreeClassifier()\n",
    "clf = GridSearchCV(clf, parameters, n_jobs = -2)\n",
    "clf.fit(X, Y)\n",
    "best_params = clf.best_params_\n",
    "best_params"
   ]
  },
  {
   "cell_type": "markdown",
   "metadata": {},
   "source": [
    "# Decision Tree Result"
   ]
  },
  {
   "cell_type": "code",
   "execution_count": 30,
   "metadata": {},
   "outputs": [
    {
     "name": "stdout",
     "output_type": "stream",
     "text": [
      "the best depth is: 2 with minimium leaf = 3 minimium split = 3 with accuracy: 99.917 %\n"
     ]
    }
   ],
   "source": [
    "#the result: with the best tree depth and accuracy\n",
    "best_depth = best_params['max_depth']\n",
    "best_leaf = best_params['min_samples_leaf']\n",
    "best_split = best_params['min_samples_split']\n",
    "accuracy = clf.best_score_ \n",
    "\n",
    "print('the best depth is:', best_depth, 'with minimium leaf =',best_leaf , 'minimium split =',best_split, 'with accuracy:',round(accuracy*100, 3), '%')"
   ]
  },
  {
   "cell_type": "code",
   "execution_count": 31,
   "metadata": {},
   "outputs": [
    {
     "data": {
      "text/html": [
       "<div>\n",
       "<style>\n",
       "    .dataframe thead tr:only-child th {\n",
       "        text-align: right;\n",
       "    }\n",
       "\n",
       "    .dataframe thead th {\n",
       "        text-align: left;\n",
       "    }\n",
       "\n",
       "    .dataframe tbody tr th {\n",
       "        vertical-align: top;\n",
       "    }\n",
       "</style>\n",
       "<table border=\"1\" class=\"dataframe\">\n",
       "  <thead>\n",
       "    <tr style=\"text-align: right;\">\n",
       "      <th></th>\n",
       "      <th>RTL_STORE_CD</th>\n",
       "      <th>RTL_FIPS_COUNTY_DSC</th>\n",
       "      <th>RTL_PREMISE_TYPE_CD</th>\n",
       "      <th>RTL_CHANNEL_DSC</th>\n",
       "      <th>RTL_SUBCHANNEL_DSC</th>\n",
       "      <th>RTL_BEER_FLAG</th>\n",
       "      <th>RTL_LIQUOR_FLG</th>\n",
       "      <th>BEERTYPE</th>\n",
       "      <th>PRED_RESULT</th>\n",
       "    </tr>\n",
       "  </thead>\n",
       "  <tbody>\n",
       "    <tr>\n",
       "      <th>0</th>\n",
       "      <td>101856127</td>\n",
       "      <td>GRAND</td>\n",
       "      <td>OFF</td>\n",
       "      <td>CONVENIENCE STORE</td>\n",
       "      <td>CONVENTIONAL CONVENIENCE</td>\n",
       "      <td>Y</td>\n",
       "      <td>N</td>\n",
       "      <td>LowPoint</td>\n",
       "      <td>LowPoint</td>\n",
       "    </tr>\n",
       "    <tr>\n",
       "      <th>1</th>\n",
       "      <td>101948415</td>\n",
       "      <td>GARFIELD</td>\n",
       "      <td>OFF</td>\n",
       "      <td>CONVENIENCE STORE</td>\n",
       "      <td>CONVENTIONAL CONVENIENCE</td>\n",
       "      <td>Y</td>\n",
       "      <td>N</td>\n",
       "      <td>LowPoint</td>\n",
       "      <td>LowPoint</td>\n",
       "    </tr>\n",
       "    <tr>\n",
       "      <th>2</th>\n",
       "      <td>105604679</td>\n",
       "      <td>CACHE</td>\n",
       "      <td>ON</td>\n",
       "      <td>DINING</td>\n",
       "      <td>CASUAL DINING</td>\n",
       "      <td>Y</td>\n",
       "      <td>Y</td>\n",
       "      <td>LowPoint</td>\n",
       "      <td>LowPoint</td>\n",
       "    </tr>\n",
       "    <tr>\n",
       "      <th>3</th>\n",
       "      <td>100437548</td>\n",
       "      <td>SALT LAKE</td>\n",
       "      <td>OFF</td>\n",
       "      <td>CONVENIENCE STORE</td>\n",
       "      <td>CONVENTIONAL CONVENIENCE</td>\n",
       "      <td>Y</td>\n",
       "      <td>N</td>\n",
       "      <td>LowPoint</td>\n",
       "      <td>LowPoint</td>\n",
       "    </tr>\n",
       "    <tr>\n",
       "      <th>4</th>\n",
       "      <td>101943195</td>\n",
       "      <td>SALT LAKE</td>\n",
       "      <td>OFF</td>\n",
       "      <td>EXTENDED MASTER OFF-PREMISE</td>\n",
       "      <td>OTHER OFF-PREMISE</td>\n",
       "      <td>N</td>\n",
       "      <td>N</td>\n",
       "      <td>LowPoint</td>\n",
       "      <td>LowPoint</td>\n",
       "    </tr>\n",
       "  </tbody>\n",
       "</table>\n",
       "</div>"
      ],
      "text/plain": [
       "  RTL_STORE_CD RTL_FIPS_COUNTY_DSC RTL_PREMISE_TYPE_CD  \\\n",
       "0    101856127               GRAND                 OFF   \n",
       "1    101948415            GARFIELD                 OFF   \n",
       "2    105604679               CACHE                  ON   \n",
       "3    100437548           SALT LAKE                 OFF   \n",
       "4    101943195           SALT LAKE                 OFF   \n",
       "\n",
       "               RTL_CHANNEL_DSC        RTL_SUBCHANNEL_DSC RTL_BEER_FLAG  \\\n",
       "0            CONVENIENCE STORE  CONVENTIONAL CONVENIENCE             Y   \n",
       "1            CONVENIENCE STORE  CONVENTIONAL CONVENIENCE             Y   \n",
       "2                       DINING             CASUAL DINING             Y   \n",
       "3            CONVENIENCE STORE  CONVENTIONAL CONVENIENCE             Y   \n",
       "4  EXTENDED MASTER OFF-PREMISE         OTHER OFF-PREMISE             N   \n",
       "\n",
       "  RTL_LIQUOR_FLG  BEERTYPE PRED_RESULT  \n",
       "0              N  LowPoint    LowPoint  \n",
       "1              N  LowPoint    LowPoint  \n",
       "2              Y  LowPoint    LowPoint  \n",
       "3              N  LowPoint    LowPoint  \n",
       "4              N  LowPoint    LowPoint  "
      ]
     },
     "execution_count": 31,
     "metadata": {},
     "output_type": "execute_result"
    }
   ],
   "source": [
    "#check the errors:\n",
    "\n",
    "#create a new data frame to store the prediction result. \n",
    "result_df = FullData.loc[:, 'RTL_STORE_CD': 'BEERTYPE']\n",
    "result_df['PRED_RESULT'] = clf.predict(X)\n",
    "result_df.head()"
   ]
  },
  {
   "cell_type": "code",
   "execution_count": 32,
   "metadata": {
    "scrolled": true
   },
   "outputs": [
    {
     "name": "stdout",
     "output_type": "stream",
     "text": [
      "there are 2 errors in the prediction\n"
     ]
    },
    {
     "name": "stderr",
     "output_type": "stream",
     "text": [
      "/usr/local/lib/python3.5/dist-packages/ipykernel_launcher.py:4: DeprecationWarning: \n",
      ".ix is deprecated. Please use\n",
      ".loc for label based indexing or\n",
      ".iloc for positional indexing\n",
      "\n",
      "See the documentation here:\n",
      "http://pandas.pydata.org/pandas-docs/stable/indexing.html#deprecate_ix\n",
      "  after removing the cwd from sys.path.\n"
     ]
    }
   ],
   "source": [
    "#check how many stores are predicted wrong; which are they; what characters do they have\n",
    "error_index_list = []\n",
    "for index in range(len(result_df)):\n",
    "    if result_df.ix[index , 'BEERTYPE'] != result_df.ix[index , 'PRED_RESULT']:\n",
    "        error_index_list.append(index)\n",
    "print('there are', len(error_index_list), 'errors in the prediction')"
   ]
  },
  {
   "cell_type": "code",
   "execution_count": 33,
   "metadata": {
    "scrolled": true
   },
   "outputs": [
    {
     "name": "stdout",
     "output_type": "stream",
     "text": [
      "there are 1 false_NonLowPoint errors.\n",
      "there are 1 false_LowPoint errors.\n"
     ]
    },
    {
     "data": {
      "text/html": [
       "<div>\n",
       "<style>\n",
       "    .dataframe thead tr:only-child th {\n",
       "        text-align: right;\n",
       "    }\n",
       "\n",
       "    .dataframe thead th {\n",
       "        text-align: left;\n",
       "    }\n",
       "\n",
       "    .dataframe tbody tr th {\n",
       "        vertical-align: top;\n",
       "    }\n",
       "</style>\n",
       "<table border=\"1\" class=\"dataframe\">\n",
       "  <thead>\n",
       "    <tr style=\"text-align: right;\">\n",
       "      <th></th>\n",
       "      <th>RTL_STORE_CD</th>\n",
       "      <th>RTL_FIPS_COUNTY_DSC</th>\n",
       "      <th>RTL_PREMISE_TYPE_CD</th>\n",
       "      <th>RTL_CHANNEL_DSC</th>\n",
       "      <th>RTL_SUBCHANNEL_DSC</th>\n",
       "      <th>RTL_BEER_FLAG</th>\n",
       "      <th>RTL_LIQUOR_FLG</th>\n",
       "      <th>BEERTYPE</th>\n",
       "      <th>PRED_RESULT</th>\n",
       "    </tr>\n",
       "  </thead>\n",
       "  <tbody>\n",
       "    <tr>\n",
       "      <th>151</th>\n",
       "      <td>101415007</td>\n",
       "      <td>DAVIS</td>\n",
       "      <td>OFF</td>\n",
       "      <td>MILITARY OFF-PREMISE</td>\n",
       "      <td>MILITARY LIQUOR STORE</td>\n",
       "      <td>Y</td>\n",
       "      <td>Y</td>\n",
       "      <td>LowPoint</td>\n",
       "      <td>NonLowPoint</td>\n",
       "    </tr>\n",
       "  </tbody>\n",
       "</table>\n",
       "</div>"
      ],
      "text/plain": [
       "    RTL_STORE_CD RTL_FIPS_COUNTY_DSC RTL_PREMISE_TYPE_CD  \\\n",
       "151    101415007               DAVIS                 OFF   \n",
       "\n",
       "          RTL_CHANNEL_DSC     RTL_SUBCHANNEL_DSC RTL_BEER_FLAG RTL_LIQUOR_FLG  \\\n",
       "151  MILITARY OFF-PREMISE  MILITARY LIQUOR STORE             Y              Y   \n",
       "\n",
       "     BEERTYPE  PRED_RESULT  \n",
       "151  LowPoint  NonLowPoint  "
      ]
     },
     "execution_count": 33,
     "metadata": {},
     "output_type": "execute_result"
    }
   ],
   "source": [
    "#check the error predictions\n",
    "error_df = result_df.ix[error_index_list, ]\n",
    "false_NonLowPoint = error_df.loc[error_df['BEERTYPE'] == 'LowPoint']\n",
    "false_LowPoint = error_df.loc[error_df['BEERTYPE'] == 'NonLowPoint']\n",
    "print('there are', len(false_NonLowPoint), 'false_NonLowPoint errors.')\n",
    "print('there are', len(false_LowPoint), 'false_LowPoint errors.')\n",
    "false_NonLowPoint.head()"
   ]
  },
  {
   "cell_type": "code",
   "execution_count": 34,
   "metadata": {},
   "outputs": [
    {
     "data": {
      "image/png": "[encoded data removed]",
      "text/plain": [
       "<matplotlib.figure.Figure at 0x7fc060241898>"
      ]
     },
     "metadata": {},
     "output_type": "display_data"
    }
   ],
   "source": [
    "#create false_NonLowPoint by County\n",
    "graph_counts(false_NonLowPoint, 'RTL_FIPS_COUNTY_DSC', False, 'bar', True, 15)"
   ]
  },
  {
   "cell_type": "code",
   "execution_count": 35,
   "metadata": {},
   "outputs": [
    {
     "data": {
      "image/png": "[encoded data removed]",
      "text/plain": [
       "<matplotlib.figure.Figure at 0x7fc060518710>"
      ]
     },
     "metadata": {},
     "output_type": "display_data"
    }
   ],
   "source": [
    "#create false_LowPoint by County\n",
    "graph_counts(false_LowPoint, 'RTL_FIPS_COUNTY_DSC', False, 'bar', True, 15)"
   ]
  },
  {
   "cell_type": "code",
   "execution_count": 36,
   "metadata": {},
   "outputs": [
    {
     "data": {
      "image/png": "[encoded data removed]",
      "text/plain": [
       "<matplotlib.figure.Figure at 0x7fc0625a6860>"
      ]
     },
     "metadata": {},
     "output_type": "display_data"
    }
   ],
   "source": [
    "#create false_NonLowPoint by premise type\n",
    "graph_counts(false_NonLowPoint, 'RTL_PREMISE_TYPE_CD', False, 'bar', True, 15)"
   ]
  },
  {
   "cell_type": "code",
   "execution_count": 37,
   "metadata": {},
   "outputs": [
    {
     "data": {
      "image/png": "[encoded data removed]",
      "text/plain": [
       "<matplotlib.figure.Figure at 0x7fc0600f0da0>"
      ]
     },
     "metadata": {},
     "output_type": "display_data"
    }
   ],
   "source": [
    "#create false_LowPoint by premise type\n",
    "graph_counts(false_LowPoint, 'RTL_PREMISE_TYPE_CD', False, 'bar', True, 15)"
   ]
  },
  {
   "cell_type": "code",
   "execution_count": 38,
   "metadata": {},
   "outputs": [
    {
     "data": {
      "image/png": "[encoded data removed]",
      "text/plain": [
       "<matplotlib.figure.Figure at 0x7fc06022eb38>"
      ]
     },
     "metadata": {},
     "output_type": "display_data"
    }
   ],
   "source": [
    "#create false_NonLowPoint by Channel\n",
    "graph_counts(false_NonLowPoint, 'RTL_CHANNEL_DSC', False, 'bar', True, 15)"
   ]
  },
  {
   "cell_type": "code",
   "execution_count": 39,
   "metadata": {},
   "outputs": [
    {
     "data": {
      "image/png": "[encoded data removed]",
      "text/plain": [
       "<matplotlib.figure.Figure at 0x7fc06020d748>"
      ]
     },
     "metadata": {},
     "output_type": "display_data"
    }
   ],
   "source": [
    "#create false_LowPoint by Channel\n",
    "graph_counts(false_LowPoint, 'RTL_CHANNEL_DSC', False, 'bar', True, 15)"
   ]
  },
  {
   "cell_type": "code",
   "execution_count": 40,
   "metadata": {},
   "outputs": [
    {
     "data": {
      "image/png": "[encoded data removed]",
      "text/plain": [
       "<matplotlib.figure.Figure at 0x7fc0603663c8>"
      ]
     },
     "metadata": {},
     "output_type": "display_data"
    }
   ],
   "source": [
    "#create false_NonLowPoint by sub channel\n",
    "graph_counts(false_NonLowPoint, 'RTL_SUBCHANNEL_DSC', False, 'bar', True, 15)"
   ]
  },
  {
   "cell_type": "code",
   "execution_count": 41,
   "metadata": {},
   "outputs": [
    {
     "data": {
      "image/png": "[encoded data removed]",
      "text/plain": [
       "<matplotlib.figure.Figure at 0x7fc0604bd748>"
      ]
     },
     "metadata": {},
     "output_type": "display_data"
    }
   ],
   "source": [
    "#create false_LowPoint by sub channel\n",
    "graph_counts(false_LowPoint, 'RTL_SUBCHANNEL_DSC', False, 'bar', True, 15)"
   ]
  },
  {
   "cell_type": "code",
   "execution_count": 42,
   "metadata": {},
   "outputs": [
    {
     "data": {
      "image/png": "[encoded data removed]",
      "text/plain": [
       "<matplotlib.figure.Figure at 0x7fc0603c4550>"
      ]
     },
     "metadata": {},
     "output_type": "display_data"
    }
   ],
   "source": [
    "#create false_NonLowPoint by Beer License\n",
    "graph_counts(false_NonLowPoint, 'RTL_BEER_FLAG', False, 'pie', True, 15)"
   ]
  },
  {
   "cell_type": "code",
   "execution_count": 43,
   "metadata": {},
   "outputs": [
    {
     "data": {
      "image/png": "[encoded data removed]",
      "text/plain": [
       "<matplotlib.figure.Figure at 0x7fc060325ef0>"
      ]
     },
     "metadata": {},
     "output_type": "display_data"
    }
   ],
   "source": [
    "#create false_LowPoint by Beer License\n",
    "graph_counts(false_LowPoint, 'RTL_BEER_FLAG', False, 'pie', True, 15)"
   ]
  },
  {
   "cell_type": "code",
   "execution_count": 44,
   "metadata": {},
   "outputs": [
    {
     "data": {
      "image/png": "[encoded data removed]",
      "text/plain": [
       "<matplotlib.figure.Figure at 0x7fc0601d9710>"
      ]
     },
     "metadata": {},
     "output_type": "display_data"
    }
   ],
   "source": [
    "#create false_NonLowPoint by Liquor License\n",
    "graph_counts(false_NonLowPoint, 'RTL_LIQUOR_FLG', False, 'pie', True, 15)"
   ]
  },
  {
   "cell_type": "code",
   "execution_count": 45,
   "metadata": {},
   "outputs": [
    {
     "data": {
      "image/png": "[encoded data removed]",
      "text/plain": [
       "<matplotlib.figure.Figure at 0x7fc0601b3f60>"
      ]
     },
     "metadata": {},
     "output_type": "display_data"
    }
   ],
   "source": [
    "#create false_LowPoint by Liquor License\n",
    "graph_counts(false_LowPoint, 'RTL_LIQUOR_FLG', False, 'pie', True, 15)"
   ]
  },
  {
   "cell_type": "code",
   "execution_count": 46,
   "metadata": {},
   "outputs": [
    {
     "data": {
      "text/plain": [
       "CHANNEL_LIQUOR                  0.89471\n",
       "CHANNEL_MILITARY OFF-PREMISE    0.10529\n",
       "dtype: float64"
      ]
     },
     "execution_count": 46,
     "metadata": {},
     "output_type": "execute_result"
    }
   ],
   "source": [
    "#feature importance\n",
    "clf = tree.DecisionTreeClassifier(max_depth=best_depth, min_samples_leaf= best_leaf, min_samples_split = best_split, random_state=0)\n",
    "clf = clf.fit(X,Y)\n",
    "\n",
    "#all the features with their importance scores.\n",
    "feature_score = pd.Series(data=clf.feature_importances_, index=X.columns).sort_values(ascending = False)\n",
    "\n",
    "#only show the features that have scores greater than 0\n",
    "feature_score[feature_score > 0]\n"
   ]
  },
  {
   "cell_type": "code",
   "execution_count": 47,
   "metadata": {},
   "outputs": [
    {
     "data": {
      "text/plain": [
       "array([[2359,    1],\n",
       "       [   1,   41]])"
      ]
     },
     "execution_count": 47,
     "metadata": {},
     "output_type": "execute_result"
    }
   ],
   "source": [
    "# Confusion Matrix\n",
    "cm = confusion_matrix(result_df['BEERTYPE'], result_df['PRED_RESULT'])\n",
    "cm"
   ]
  },
  {
   "cell_type": "code",
   "execution_count": 48,
   "metadata": {},
   "outputs": [
    {
     "data": {
      "text/plain": [
       "0.97619047619047616"
      ]
     },
     "execution_count": 48,
     "metadata": {},
     "output_type": "execute_result"
    }
   ],
   "source": [
    "# True Positive Rate\n",
    "TPR = cm[1,1]/(cm[1,1]+cm[1,0])\n",
    "TPR"
   ]
  },
  {
   "cell_type": "code",
   "execution_count": 49,
   "metadata": {},
   "outputs": [
    {
     "data": {
      "text/plain": [
       "0.023809523809523808"
      ]
     },
     "execution_count": 49,
     "metadata": {},
     "output_type": "execute_result"
    }
   ],
   "source": [
    "# False Negative Rate\n",
    "FNR = cm[1,0]/(cm[1,0]+cm[1,1])\n",
    "FNR"
   ]
  },
  {
   "cell_type": "code",
   "execution_count": 50,
   "metadata": {},
   "outputs": [
    {
     "data": {
      "text/plain": [
       "0.99957627118644066"
      ]
     },
     "execution_count": 50,
     "metadata": {},
     "output_type": "execute_result"
    }
   ],
   "source": [
    "# True Negative Rate\n",
    "TNR = cm[0,0]/(cm[0,0]+cm[0,1])\n",
    "TNR"
   ]
  },
  {
   "cell_type": "code",
   "execution_count": 51,
   "metadata": {},
   "outputs": [
    {
     "data": {
      "text/plain": [
       "0.00042372881355932202"
      ]
     },
     "execution_count": 51,
     "metadata": {},
     "output_type": "execute_result"
    }
   ],
   "source": [
    "# False Positive Rate\n",
    "FPR = cm[0,1]/(cm[0,1]+cm[0,0])\n",
    "FPR"
   ]
  },
  {
   "cell_type": "code",
   "execution_count": null,
   "metadata": {
    "collapsed": true
   },
   "outputs": [],
   "source": [
    "from sklearn.metrics import confusion_matrix\n",
    "def confusion_matrix_rate(dataframe, groundTruth, prediction):\n",
    "    dic ={}\n",
    "    cm = confusion_matrix(dataframe[str(groundTruth)], dataframe[str(prediction)])\n",
    "    TPR = cm[1,1]/(cm[1,1]+cm[1,0])\n",
    "    FNR = cm[1,0]/(cm[1,0]+cm[1,1])\n",
    "    TNR = cm[0,0]/(cm[0,0]+cm[0,1])\n",
    "    FPR = cm[0,1]/(cm[0,1]+cm[0,0])\n",
    "    \n",
    "    dic['TPR'] = TPR\n",
    "    dic['FNR'] = FNR\n",
    "    dic['TNR'] = TNR\n",
    "    dic['FPR'] = FPR\n",
    "    \n",
    "    \n",
    "    return(dic)"
   ]
  },
  {
   "cell_type": "code",
   "execution_count": null,
   "metadata": {
    "collapsed": true
   },
   "outputs": [],
   "source": [
    "confusion_matrix()"
   ]
  }
 ],
 "metadata": {
  "kernelspec": {
   "display_name": "Python 3",
   "language": "python",
   "name": "python3"
  },
  "language_info": {
   "codemirror_mode": {
    "name": "ipython",
    "version": 3
   },
   "file_extension": ".py",
   "mimetype": "text/x-python",
   "name": "python",
   "nbconvert_exporter": "python",
   "pygments_lexer": "ipython3",
   "version": "3.6.1"
  }
 },
 "nbformat": 4,
 "nbformat_minor": 2
}
