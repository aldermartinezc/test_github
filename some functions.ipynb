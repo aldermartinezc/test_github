{
 "cells": [
  {
   "cell_type": "code",
   "execution_count": null,
   "metadata": {
    "collapsed": true
   },
   "outputs": [],
   "source": [
    "#see which stores changed channel or sub-channel\n",
    "on_subset_DF = subset_DF.loc[subset_DF['RTL_PREMISE_TYPE_DSC'] == 'ON PREMISE']\n",
    "off_subset_DF = subset_DF.loc[subset_DF['RTL_PREMISE_TYPE_DSC'] == 'OFF PREMISE']"
   ]
  },
  {
   "cell_type": "code",
   "execution_count": null,
   "metadata": {
    "collapsed": true
   },
   "outputs": [],
   "source": [
    "#see which stores changed channel or sub-channel for on premise\n",
    "previous_store_num = '0'\n",
    "on_store_num_list = []\n",
    "for index in range(len(on_subset_DF)):\n",
    "    if on_subset_DF.loc[index, 'RTL_TDLINX_STORE_CD'] == previous_store_num:\n",
    "        if on_subset_DF.loc[index, 'RTL_CHANNEL_DSC'] != on_subset_DF.loc[index-1, 'RTL_CHANNEL_DSC']:\n",
    "            index_list.append(previous_store_num)\n",
    "        elif on_subset_DF.loc[index, 'RTL_SUBCHANNEL_DSC'] != on_subset_DF.loc[index-1, 'RTL_SUBCHANNEL_DSC']:\n",
    "            index_list.append(previous_store_num)\n",
    "    previous_store_num = on_subset_DF.loc[index, 'RTL_TDLINX_STORE_CD']"
   ]
  },
  {
   "cell_type": "code",
   "execution_count": null,
   "metadata": {
    "collapsed": true
   },
   "outputs": [],
   "source": [
    "#see which stores changed channel or sub-channel for off premise\n",
    "previous_store_num = '0'\n",
    "off_store_num_list = []\n",
    "for index in range(len(off_subset_DF)):\n",
    "    if off_subset_DF.loc[index, 'RTL_TDLINX_STORE_CD'] == previous_store_num:\n",
    "        if off_subset_DF.loc[index, 'RTL_CHANNEL_DSC'] != off_subset_DF.loc[index-1, 'RTL_CHANNEL_DSC']:\n",
    "            index_list.append(previous_store_num)\n",
    "        elif off_subset_DF.loc[index, 'RTL_SUBCHANNEL_DSC'] != off_subset_DF.loc[index-1, 'RTL_SUBCHANNEL_DSC']:\n",
    "            index_list.append(previous_store_num)\n",
    "    previous_store_num = off_subset_DF.loc[index, 'RTL_TDLINX_STORE_CD']"
   ]
  },
  {
   "cell_type": "code",
   "execution_count": null,
   "metadata": {
    "collapsed": true
   },
   "outputs": [],
   "source": [
    "#find all the stores that are closed already\n",
    "previous_store_num = '0'\n",
    "closed_store_list = []\n",
    "for each in list(set(subset_DF['RTL_TDLINX_STORE_CD'])):\n",
    "    tempDF = subset_DF.loc[subset_DF['RTL_TDLINX_STORE_CD'] == 'each']\n",
    "    if 'OPEN STORE' not in list(tempDF['RTL_STORE_STTS_DSC']):\n",
    "        closed_store_list.append(each)\n",
    "closed_store_list"
   ]
  },
  {
   "cell_type": "code",
   "execution_count": null,
   "metadata": {
    "collapsed": true
   },
   "outputs": [],
   "source": [
    "#see if any store that actually changed the beertype (beertype is defined by sql)\n",
    "previous_store_num = '0'\n",
    "store_num_list = []\n",
    "for index in range(len(subset_DF)):\n",
    "    if subset_DF.loc[index, 'RTL_TDLINX_STORE_CD'] == previous_store_num:\n",
    "        if 'LowPoint'in list(subset_DF.loc[index-1, 'TY_BEERTYPE':'YA2_BEERTYPE']) and 'NonLowPoint'in list(subset_DF.loc[index, 'TY_BEERTYPE':'YA2_BEERTYPE']):\n",
    "            store_num_list.append(previous_store_num)\n",
    "        elif 'NonLowPoint'in list(subset_DF.loc[index-1, 'TY_BEERTYPE':'YA2_BEERTYPE']) and 'LowPoint'in list(subset_DF.loc[index, 'TY_BEERTYPE':'YA2_BEERTYPE']):\n",
    "            store_num_list.append(previous_store_num)\n",
    "    previous_store_num = subset_DF.loc[index, 'RTL_TDLINX_STORE_CD']\n",
    "store_num_list"
   ]
  },
  {
   "cell_type": "code",
   "execution_count": null,
   "metadata": {
    "collapsed": true
   },
   "outputs": [],
   "source": [
    "# for the stores that don't have beer type, should I use the model that we build before to predict?"
   ]
  },
  {
   "cell_type": "code",
   "execution_count": null,
   "metadata": {
    "collapsed": true
   },
   "outputs": [],
   "source": [
    "#show the channel distribution\n",
    "graph_counts('Kansas', subset_DF, 'RTL_CHANNEL_DSC', False, None, None, 'pie', True, 'all', False, False)"
   ]
  },
  {
   "cell_type": "code",
   "execution_count": null,
   "metadata": {
    "collapsed": true
   },
   "outputs": [],
   "source": [
    "#show the subchannel distribution\n",
    "graph_counts('Kansas', subset_DF, 'RTL_SUBCHANNEL_DSC', False, None, None, 'pie', True, 'all', False, False)"
   ]
  },
  {
   "cell_type": "code",
   "execution_count": null,
   "metadata": {
    "collapsed": true
   },
   "outputs": [],
   "source": [
    "#show the premise type distribution\n",
    "graph_counts('Kansas', subset_DF, 'RTL_PREMISE_TYPE_DSC', False, None, None, 'pie', True, 'all', False, False)"
   ]
  },
  {
   "cell_type": "code",
   "execution_count": 22,
   "metadata": {
    "collapsed": false
   },
   "outputs": [
    {
     "data": {
      "text/html": [
       "<div>\n",
       "<table border=\"1\" class=\"dataframe\">\n",
       "  <thead>\n",
       "    <tr style=\"text-align: right;\">\n",
       "      <th></th>\n",
       "      <th>A</th>\n",
       "      <th>B</th>\n",
       "      <th>C</th>\n",
       "    </tr>\n",
       "  </thead>\n",
       "  <tbody>\n",
       "    <tr>\n",
       "      <th>0</th>\n",
       "      <td>apple</td>\n",
       "      <td>banana</td>\n",
       "      <td>orange</td>\n",
       "    </tr>\n",
       "    <tr>\n",
       "      <th>1</th>\n",
       "      <td>happy</td>\n",
       "      <td>sad</td>\n",
       "      <td>mad</td>\n",
       "    </tr>\n",
       "  </tbody>\n",
       "</table>\n",
       "</div>"
      ],
      "text/plain": [
       "       A       B       C\n",
       "0  apple  banana  orange\n",
       "1  happy     sad     mad"
      ]
     },
     "execution_count": 22,
     "metadata": {},
     "output_type": "execute_result"
    }
   ],
   "source": [
    "tempDF"
   ]
  },
  {
   "cell_type": "code",
   "execution_count": 30,
   "metadata": {
    "collapsed": false
   },
   "outputs": [
    {
     "data": {
      "text/plain": [
       "True"
      ]
     },
     "execution_count": 30,
     "metadata": {},
     "output_type": "execute_result"
    }
   ],
   "source": [
    "'sad' in list(tempDF.loc[tempDF['A'] == 'happy']['B'])"
   ]
  },
  {
   "cell_type": "code",
   "execution_count": null,
   "metadata": {
    "collapsed": true
   },
   "outputs": [],
   "source": []
  }
 ],
 "metadata": {
  "kernelspec": {
   "display_name": "Python [default]",
   "language": "python",
   "name": "python3"
  },
  "language_info": {
   "codemirror_mode": {
    "name": "ipython",
    "version": 3
   },
   "file_extension": ".py",
   "mimetype": "text/x-python",
   "name": "python",
   "nbconvert_exporter": "python",
   "pygments_lexer": "ipython3",
   "version": "3.5.2"
  }
 },
 "nbformat": 4,
 "nbformat_minor": 2
}
