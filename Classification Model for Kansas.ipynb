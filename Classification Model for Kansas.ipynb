{
 "cells": [
  {
   "cell_type": "code",
   "execution_count": 1,
   "metadata": {
    "collapsed": true
   },
   "outputs": [],
   "source": [
    "# packages used\n",
    "import pandas as pd\n",
    "import numpy as np\n",
    "from sklearn import tree\n",
    "#from sklearn.ensemble import BaggingClassifier\n",
    "#from sklearn.ensemble import RandomForestClassifier\n",
    "#from sklearn.ensemble import AdaBoostClassifier\n",
    "from sklearn.model_selection import train_test_split\n",
    "from sklearn.model_selection import cross_val_score\n",
    "%matplotlib inline\n",
    "import matplotlib.pyplot as plt"
   ]
  },
  {
   "cell_type": "code",
   "execution_count": 2,
   "metadata": {
    "collapsed": true
   },
   "outputs": [],
   "source": [
    "# Load the data\n",
    "data_dir = 'Data/'\n",
    "Stores = pd.read_csv(data_dir + 'AllStoresKansas.csv', dtype = str)\n",
    "StoreType = pd.read_csv(data_dir + 'NonLowPointStoresKansas.csv', dtype = str)"
   ]
  },
  {
   "cell_type": "code",
   "execution_count": 3,
   "metadata": {},
   "outputs": [
    {
     "data": {
      "text/html": [
       "<div>\n",
       "<style>\n",
       "    .dataframe thead tr:only-child th {\n",
       "        text-align: right;\n",
       "    }\n",
       "\n",
       "    .dataframe thead th {\n",
       "        text-align: left;\n",
       "    }\n",
       "\n",
       "    .dataframe tbody tr th {\n",
       "        vertical-align: top;\n",
       "    }\n",
       "</style>\n",
       "<table border=\"1\" class=\"dataframe\">\n",
       "  <thead>\n",
       "    <tr style=\"text-align: right;\">\n",
       "      <th></th>\n",
       "      <th>RTL_STORE_CD</th>\n",
       "      <th>RTL_FIPS_COUNTY_DSC</th>\n",
       "      <th>RTL_PREMISE_TYPE_CD</th>\n",
       "      <th>RTL_CHANNEL_DSC</th>\n",
       "      <th>RTL_SUBCHANNEL_DSC</th>\n",
       "      <th>RTL_BEER_FLAG</th>\n",
       "      <th>RTL_LIQUOR_FLG</th>\n",
       "    </tr>\n",
       "  </thead>\n",
       "  <tbody>\n",
       "    <tr>\n",
       "      <th>0</th>\n",
       "      <td>101403888</td>\n",
       "      <td>SEDGWICK</td>\n",
       "      <td>OFF</td>\n",
       "      <td>LIQUOR</td>\n",
       "      <td>CONVENTIONAL LIQUOR</td>\n",
       "      <td>Y</td>\n",
       "      <td>Y</td>\n",
       "    </tr>\n",
       "    <tr>\n",
       "      <th>1</th>\n",
       "      <td>100091604</td>\n",
       "      <td>SALINE</td>\n",
       "      <td>OFF</td>\n",
       "      <td>CONVENIENCE STORE</td>\n",
       "      <td>CONVENTIONAL CONVENIENCE</td>\n",
       "      <td>Y</td>\n",
       "      <td>N</td>\n",
       "    </tr>\n",
       "    <tr>\n",
       "      <th>2</th>\n",
       "      <td>200697901</td>\n",
       "      <td>SEDGWICK</td>\n",
       "      <td>OFF</td>\n",
       "      <td>CONVENIENCE STORE</td>\n",
       "      <td>CONVENTIONAL CONVENIENCE</td>\n",
       "      <td>Y</td>\n",
       "      <td>N</td>\n",
       "    </tr>\n",
       "    <tr>\n",
       "      <th>3</th>\n",
       "      <td>100091143</td>\n",
       "      <td>HARPER</td>\n",
       "      <td>OFF</td>\n",
       "      <td>GROCERY</td>\n",
       "      <td>SUPERMARKET-CONVENTIONAL</td>\n",
       "      <td>Y</td>\n",
       "      <td>N</td>\n",
       "    </tr>\n",
       "    <tr>\n",
       "      <th>4</th>\n",
       "      <td>107381463</td>\n",
       "      <td>DOUGLAS</td>\n",
       "      <td>OFF</td>\n",
       "      <td>GROCERY</td>\n",
       "      <td>SUPERMARKET-NATURAL/GOURMET FOODS</td>\n",
       "      <td>Y</td>\n",
       "      <td>N</td>\n",
       "    </tr>\n",
       "  </tbody>\n",
       "</table>\n",
       "</div>"
      ],
      "text/plain": [
       "  RTL_STORE_CD RTL_FIPS_COUNTY_DSC RTL_PREMISE_TYPE_CD    RTL_CHANNEL_DSC  \\\n",
       "0    101403888            SEDGWICK                 OFF             LIQUOR   \n",
       "1    100091604              SALINE                 OFF  CONVENIENCE STORE   \n",
       "2    200697901            SEDGWICK                 OFF  CONVENIENCE STORE   \n",
       "3    100091143              HARPER                 OFF            GROCERY   \n",
       "4    107381463             DOUGLAS                 OFF            GROCERY   \n",
       "\n",
       "                  RTL_SUBCHANNEL_DSC RTL_BEER_FLAG RTL_LIQUOR_FLG  \n",
       "0                CONVENTIONAL LIQUOR             Y              Y  \n",
       "1           CONVENTIONAL CONVENIENCE             Y              N  \n",
       "2           CONVENTIONAL CONVENIENCE             Y              N  \n",
       "3           SUPERMARKET-CONVENTIONAL             Y              N  \n",
       "4  SUPERMARKET-NATURAL/GOURMET FOODS             Y              N  "
      ]
     },
     "execution_count": 3,
     "metadata": {},
     "output_type": "execute_result"
    }
   ],
   "source": [
    "Stores.head()"
   ]
  },
  {
   "cell_type": "code",
   "execution_count": 4,
   "metadata": {},
   "outputs": [
    {
     "data": {
      "text/html": [
       "<div>\n",
       "<style>\n",
       "    .dataframe thead tr:only-child th {\n",
       "        text-align: right;\n",
       "    }\n",
       "\n",
       "    .dataframe thead th {\n",
       "        text-align: left;\n",
       "    }\n",
       "\n",
       "    .dataframe tbody tr th {\n",
       "        vertical-align: top;\n",
       "    }\n",
       "</style>\n",
       "<table border=\"1\" class=\"dataframe\">\n",
       "  <thead>\n",
       "    <tr style=\"text-align: right;\">\n",
       "      <th></th>\n",
       "      <th>RTL_STORE_CD</th>\n",
       "      <th>BEERTYPE</th>\n",
       "    </tr>\n",
       "  </thead>\n",
       "  <tbody>\n",
       "    <tr>\n",
       "      <th>0</th>\n",
       "      <td>201919318</td>\n",
       "      <td>NonLowPoint</td>\n",
       "    </tr>\n",
       "    <tr>\n",
       "      <th>1</th>\n",
       "      <td>205526360</td>\n",
       "      <td>NonLowPoint</td>\n",
       "    </tr>\n",
       "    <tr>\n",
       "      <th>2</th>\n",
       "      <td>100765511</td>\n",
       "      <td>NonLowPoint</td>\n",
       "    </tr>\n",
       "    <tr>\n",
       "      <th>3</th>\n",
       "      <td>101868466</td>\n",
       "      <td>NonLowPoint</td>\n",
       "    </tr>\n",
       "    <tr>\n",
       "      <th>4</th>\n",
       "      <td>103714116</td>\n",
       "      <td>NonLowPoint</td>\n",
       "    </tr>\n",
       "  </tbody>\n",
       "</table>\n",
       "</div>"
      ],
      "text/plain": [
       "  RTL_STORE_CD     BEERTYPE\n",
       "0    201919318  NonLowPoint\n",
       "1    205526360  NonLowPoint\n",
       "2    100765511  NonLowPoint\n",
       "3    101868466  NonLowPoint\n",
       "4    103714116  NonLowPoint"
      ]
     },
     "execution_count": 4,
     "metadata": {},
     "output_type": "execute_result"
    }
   ],
   "source": [
    "StoreType.head()"
   ]
  },
  {
   "cell_type": "code",
   "execution_count": 5,
   "metadata": {
    "collapsed": true
   },
   "outputs": [],
   "source": [
    "FullData = pd.merge(Stores, StoreType, on=\"RTL_STORE_CD\", how=\"left\")"
   ]
  },
  {
   "cell_type": "code",
   "execution_count": 6,
   "metadata": {
    "collapsed": true
   },
   "outputs": [],
   "source": [
    "FullData.loc[FullData['BEERTYPE'].isnull(),\"BEERTYPE\"] = \"LowPoint\""
   ]
  },
  {
   "cell_type": "code",
   "execution_count": 7,
   "metadata": {},
   "outputs": [
    {
     "data": {
      "text/html": [
       "<div>\n",
       "<style>\n",
       "    .dataframe thead tr:only-child th {\n",
       "        text-align: right;\n",
       "    }\n",
       "\n",
       "    .dataframe thead th {\n",
       "        text-align: left;\n",
       "    }\n",
       "\n",
       "    .dataframe tbody tr th {\n",
       "        vertical-align: top;\n",
       "    }\n",
       "</style>\n",
       "<table border=\"1\" class=\"dataframe\">\n",
       "  <thead>\n",
       "    <tr style=\"text-align: right;\">\n",
       "      <th></th>\n",
       "      <th>RTL_STORE_CD</th>\n",
       "      <th>RTL_FIPS_COUNTY_DSC</th>\n",
       "      <th>RTL_PREMISE_TYPE_CD</th>\n",
       "      <th>RTL_CHANNEL_DSC</th>\n",
       "      <th>RTL_SUBCHANNEL_DSC</th>\n",
       "      <th>RTL_BEER_FLAG</th>\n",
       "      <th>RTL_LIQUOR_FLG</th>\n",
       "      <th>BEERTYPE</th>\n",
       "      <th>COUNTY_ALLEN</th>\n",
       "      <th>COUNTY_ANDERSON</th>\n",
       "      <th>...</th>\n",
       "      <th>SUBCHANNEL_SUPERMARKET-NATURAL/GOURMET FOODS</th>\n",
       "      <th>SUBCHANNEL_THEATER</th>\n",
       "      <th>SUBCHANNEL_UNKNOWN</th>\n",
       "      <th>SUBCHANNEL_WINE SPECIALTY STORE</th>\n",
       "      <th>BEER_LICENSE_N</th>\n",
       "      <th>BEER_LICENSE_U</th>\n",
       "      <th>BEER_LICENSE_Y</th>\n",
       "      <th>LIQUOR_LICENSE_N</th>\n",
       "      <th>LIQUOR_LICENSE_U</th>\n",
       "      <th>LIQUOR_LICENSE_Y</th>\n",
       "    </tr>\n",
       "  </thead>\n",
       "  <tbody>\n",
       "    <tr>\n",
       "      <th>0</th>\n",
       "      <td>101403888</td>\n",
       "      <td>SEDGWICK</td>\n",
       "      <td>OFF</td>\n",
       "      <td>LIQUOR</td>\n",
       "      <td>CONVENTIONAL LIQUOR</td>\n",
       "      <td>Y</td>\n",
       "      <td>Y</td>\n",
       "      <td>NonLowPoint</td>\n",
       "      <td>0</td>\n",
       "      <td>0</td>\n",
       "      <td>...</td>\n",
       "      <td>0</td>\n",
       "      <td>0</td>\n",
       "      <td>0</td>\n",
       "      <td>0</td>\n",
       "      <td>0</td>\n",
       "      <td>0</td>\n",
       "      <td>1</td>\n",
       "      <td>0</td>\n",
       "      <td>0</td>\n",
       "      <td>1</td>\n",
       "    </tr>\n",
       "    <tr>\n",
       "      <th>1</th>\n",
       "      <td>100091604</td>\n",
       "      <td>SALINE</td>\n",
       "      <td>OFF</td>\n",
       "      <td>CONVENIENCE STORE</td>\n",
       "      <td>CONVENTIONAL CONVENIENCE</td>\n",
       "      <td>Y</td>\n",
       "      <td>N</td>\n",
       "      <td>LowPoint</td>\n",
       "      <td>0</td>\n",
       "      <td>0</td>\n",
       "      <td>...</td>\n",
       "      <td>0</td>\n",
       "      <td>0</td>\n",
       "      <td>0</td>\n",
       "      <td>0</td>\n",
       "      <td>0</td>\n",
       "      <td>0</td>\n",
       "      <td>1</td>\n",
       "      <td>1</td>\n",
       "      <td>0</td>\n",
       "      <td>0</td>\n",
       "    </tr>\n",
       "    <tr>\n",
       "      <th>2</th>\n",
       "      <td>200697901</td>\n",
       "      <td>SEDGWICK</td>\n",
       "      <td>OFF</td>\n",
       "      <td>CONVENIENCE STORE</td>\n",
       "      <td>CONVENTIONAL CONVENIENCE</td>\n",
       "      <td>Y</td>\n",
       "      <td>N</td>\n",
       "      <td>LowPoint</td>\n",
       "      <td>0</td>\n",
       "      <td>0</td>\n",
       "      <td>...</td>\n",
       "      <td>0</td>\n",
       "      <td>0</td>\n",
       "      <td>0</td>\n",
       "      <td>0</td>\n",
       "      <td>0</td>\n",
       "      <td>0</td>\n",
       "      <td>1</td>\n",
       "      <td>1</td>\n",
       "      <td>0</td>\n",
       "      <td>0</td>\n",
       "    </tr>\n",
       "    <tr>\n",
       "      <th>3</th>\n",
       "      <td>100091143</td>\n",
       "      <td>HARPER</td>\n",
       "      <td>OFF</td>\n",
       "      <td>GROCERY</td>\n",
       "      <td>SUPERMARKET-CONVENTIONAL</td>\n",
       "      <td>Y</td>\n",
       "      <td>N</td>\n",
       "      <td>LowPoint</td>\n",
       "      <td>0</td>\n",
       "      <td>0</td>\n",
       "      <td>...</td>\n",
       "      <td>0</td>\n",
       "      <td>0</td>\n",
       "      <td>0</td>\n",
       "      <td>0</td>\n",
       "      <td>0</td>\n",
       "      <td>0</td>\n",
       "      <td>1</td>\n",
       "      <td>1</td>\n",
       "      <td>0</td>\n",
       "      <td>0</td>\n",
       "    </tr>\n",
       "    <tr>\n",
       "      <th>4</th>\n",
       "      <td>107381463</td>\n",
       "      <td>DOUGLAS</td>\n",
       "      <td>OFF</td>\n",
       "      <td>GROCERY</td>\n",
       "      <td>SUPERMARKET-NATURAL/GOURMET FOODS</td>\n",
       "      <td>Y</td>\n",
       "      <td>N</td>\n",
       "      <td>LowPoint</td>\n",
       "      <td>0</td>\n",
       "      <td>0</td>\n",
       "      <td>...</td>\n",
       "      <td>1</td>\n",
       "      <td>0</td>\n",
       "      <td>0</td>\n",
       "      <td>0</td>\n",
       "      <td>0</td>\n",
       "      <td>0</td>\n",
       "      <td>1</td>\n",
       "      <td>1</td>\n",
       "      <td>0</td>\n",
       "      <td>0</td>\n",
       "    </tr>\n",
       "  </tbody>\n",
       "</table>\n",
       "<p>5 rows × 209 columns</p>\n",
       "</div>"
      ],
      "text/plain": [
       "  RTL_STORE_CD RTL_FIPS_COUNTY_DSC RTL_PREMISE_TYPE_CD    RTL_CHANNEL_DSC  \\\n",
       "0    101403888            SEDGWICK                 OFF             LIQUOR   \n",
       "1    100091604              SALINE                 OFF  CONVENIENCE STORE   \n",
       "2    200697901            SEDGWICK                 OFF  CONVENIENCE STORE   \n",
       "3    100091143              HARPER                 OFF            GROCERY   \n",
       "4    107381463             DOUGLAS                 OFF            GROCERY   \n",
       "\n",
       "                  RTL_SUBCHANNEL_DSC RTL_BEER_FLAG RTL_LIQUOR_FLG  \\\n",
       "0                CONVENTIONAL LIQUOR             Y              Y   \n",
       "1           CONVENTIONAL CONVENIENCE             Y              N   \n",
       "2           CONVENTIONAL CONVENIENCE             Y              N   \n",
       "3           SUPERMARKET-CONVENTIONAL             Y              N   \n",
       "4  SUPERMARKET-NATURAL/GOURMET FOODS             Y              N   \n",
       "\n",
       "      BEERTYPE  COUNTY_ALLEN  COUNTY_ANDERSON        ...         \\\n",
       "0  NonLowPoint             0                0        ...          \n",
       "1     LowPoint             0                0        ...          \n",
       "2     LowPoint             0                0        ...          \n",
       "3     LowPoint             0                0        ...          \n",
       "4     LowPoint             0                0        ...          \n",
       "\n",
       "   SUBCHANNEL_SUPERMARKET-NATURAL/GOURMET FOODS  SUBCHANNEL_THEATER  \\\n",
       "0                                             0                   0   \n",
       "1                                             0                   0   \n",
       "2                                             0                   0   \n",
       "3                                             0                   0   \n",
       "4                                             1                   0   \n",
       "\n",
       "   SUBCHANNEL_UNKNOWN  SUBCHANNEL_WINE SPECIALTY STORE  BEER_LICENSE_N  \\\n",
       "0                   0                                0               0   \n",
       "1                   0                                0               0   \n",
       "2                   0                                0               0   \n",
       "3                   0                                0               0   \n",
       "4                   0                                0               0   \n",
       "\n",
       "   BEER_LICENSE_U  BEER_LICENSE_Y  LIQUOR_LICENSE_N  LIQUOR_LICENSE_U  \\\n",
       "0               0               1                 0                 0   \n",
       "1               0               1                 1                 0   \n",
       "2               0               1                 1                 0   \n",
       "3               0               1                 1                 0   \n",
       "4               0               1                 1                 0   \n",
       "\n",
       "   LIQUOR_LICENSE_Y  \n",
       "0                 1  \n",
       "1                 0  \n",
       "2                 0  \n",
       "3                 0  \n",
       "4                 0  \n",
       "\n",
       "[5 rows x 209 columns]"
      ]
     },
     "execution_count": 7,
     "metadata": {},
     "output_type": "execute_result"
    }
   ],
   "source": [
    "FullData = pd.concat([FullData, pd.get_dummies(FullData['RTL_FIPS_COUNTY_DSC'],prefix='COUNTY')], axis=1)\n",
    "FullData = pd.concat([FullData, pd.get_dummies(FullData['RTL_PREMISE_TYPE_CD'],prefix='PREMISE')], axis=1)\n",
    "FullData = pd.concat([FullData, pd.get_dummies(FullData['RTL_CHANNEL_DSC'],prefix='CHANNEL')], axis=1)\n",
    "FullData = pd.concat([FullData, pd.get_dummies(FullData['RTL_SUBCHANNEL_DSC'],prefix='SUBCHANNEL')], axis=1)\n",
    "FullData = pd.concat([FullData, pd.get_dummies(FullData['RTL_BEER_FLAG'],prefix='BEER_LICENSE')], axis=1)\n",
    "FullData = pd.concat([FullData, pd.get_dummies(FullData['RTL_LIQUOR_FLG'],prefix='LIQUOR_LICENSE')], axis=1)\n",
    "FullData.head()"
   ]
  },
  {
   "cell_type": "code",
   "execution_count": 8,
   "metadata": {},
   "outputs": [
    {
     "data": {
      "text/plain": [
       "<matplotlib.axes._subplots.AxesSubplot at 0x7fe2dde3bf60>"
      ]
     },
     "execution_count": 8,
     "metadata": {},
     "output_type": "execute_result"
    },
    {
     "data": {
      "image/png": "[encoded data removed]",
      "text/plain": [
       "<matplotlib.figure.Figure at 0x7fe2dddec550>"
      ]
     },
     "metadata": {},
     "output_type": "display_data"
    }
   ],
   "source": [
    "# Total Number Counts of Stores by Trade Channel\n",
    "Channel = FullData.loc[:,'RTL_CHANNEL_DSC']\n",
    "Channel = Channel.value_counts()\n",
    "Channel.plot.bar()"
   ]
  },
  {
   "cell_type": "code",
   "execution_count": 9,
   "metadata": {},
   "outputs": [
    {
     "data": {
      "text/plain": [
       "<matplotlib.axes._subplots.AxesSubplot at 0x7fe2dbd36978>"
      ]
     },
     "execution_count": 9,
     "metadata": {},
     "output_type": "execute_result"
    },
    {
     "data": {
      "image/png": "[encoded data removed]",
      "text/plain": [
       "<matplotlib.figure.Figure at 0x7fe2dbd468d0>"
      ]
     },
     "metadata": {},
     "output_type": "display_data"
    }
   ],
   "source": [
    "# Percentage of Stores which sell NonLowPoint(>3.2% ABW) Beer vs LowPoint(<3.2% ABW)  Beer\n",
    "Type = FullData.loc[:,'BEERTYPE']\n",
    "Type = Type.value_counts()\n",
    "Type.plot.pie(autopct='%1.1f%%', figsize=(5,5))"
   ]
  },
  {
   "cell_type": "code",
   "execution_count": 10,
   "metadata": {},
   "outputs": [
    {
     "data": {
      "text/plain": [
       "<matplotlib.axes._subplots.AxesSubplot at 0x7fe2dbc60278>"
      ]
     },
     "execution_count": 10,
     "metadata": {},
     "output_type": "execute_result"
    },
    {
     "data": {
      "image/png": "[encoded data removed]",
      "text/plain": [
       "<matplotlib.figure.Figure at 0x7fe2dddec390>"
      ]
     },
     "metadata": {},
     "output_type": "display_data"
    }
   ],
   "source": [
    "# Percentage of Stores which Off Premise vs On Premise\n",
    "Premise = FullData.loc[:,'RTL_PREMISE_TYPE_CD']\n",
    "Premise = Premise.value_counts()\n",
    "Premise.plot.pie(autopct='%1.1f%%', figsize=(5,5))"
   ]
  },
  {
   "cell_type": "code",
   "execution_count": 11,
   "metadata": {},
   "outputs": [],
   "source": [
    "# Count number of stores per channel\n",
    "LowPointChannel =FullData.loc[FullData[\"BEERTYPE\"]==\"LowPoint\",'RTL_CHANNEL_DSC'].value_counts()\n",
    "NonLowPointChannel =FullData.loc[FullData[\"BEERTYPE\"]==\"NonLowPoint\",'RTL_CHANNEL_DSC'].value_counts()"
   ]
  },
  {
   "cell_type": "code",
   "execution_count": 12,
   "metadata": {},
   "outputs": [
    {
     "data": {
      "text/plain": [
       "<matplotlib.text.Text at 0x7fe2dbb08f98>"
      ]
     },
     "execution_count": 12,
     "metadata": {},
     "output_type": "execute_result"
    },
    {
     "data": {
      "image/png": "[encoded data removed]",
      "text/plain": [
       "<matplotlib.figure.Figure at 0x7fe2dbc7f4e0>"
      ]
     },
     "metadata": {},
     "output_type": "display_data"
    }
   ],
   "source": [
    "#Plot Channels by Type of Beer\n",
    "fig, axes = plt.subplots(nrows=1, ncols=2, figsize=(10, 4))\n",
    "\n",
    "LowPointChannel.plot(ax=axes[0], kind='bar'); axes[0].set_title('Low Point Channels')\n",
    "NonLowPointChannel.plot(ax=axes[1], kind='bar', color = 'r'); axes[1].set_title('Non Low Point Channels')\n",
    "fig.suptitle('Channels by Type of Beer')\n",
    "#plt.tight_layout()"
   ]
  },
  {
   "cell_type": "code",
   "execution_count": null,
   "metadata": {},
   "outputs": [],
   "source": []
  },
  {
   "cell_type": "code",
   "execution_count": null,
   "metadata": {},
   "outputs": [],
   "source": []
  },
  {
   "cell_type": "code",
   "execution_count": null,
   "metadata": {},
   "outputs": [],
   "source": []
  },
  {
   "cell_type": "code",
   "execution_count": null,
   "metadata": {
    "collapsed": true
   },
   "outputs": [],
   "source": []
  },
  {
   "cell_type": "code",
   "execution_count": 13,
   "metadata": {
    "collapsed": true
   },
   "outputs": [],
   "source": [
    "### Prepare Data"
   ]
  },
  {
   "cell_type": "code",
   "execution_count": 14,
   "metadata": {
    "collapsed": true
   },
   "outputs": [],
   "source": [
    "# prepare data to fit model\n",
    "X_labels = [c for c in FullData.columns if c not in ['RTL_STORE_CD','BEERTYPE','RTL_FIPS_COUNTY_DSC','RTL_PREMISE_TYPE_CD','RTL_CHANNEL_DSC','RTL_SUBCHANNEL_DSC','RTL_BEER_FLAG',\"RTL_LIQUOR_FLG\"]]\n",
    "X = FullData.loc[:,X_labels]\n",
    "Y = FullData['BEERTYPE']\n",
    "\n",
    "# split data to training and test data\n",
    "X_train, X_test, Y_train, Y_test = train_test_split(X, Y, test_size=0.4, random_state=0)"
   ]
  },
  {
   "cell_type": "code",
   "execution_count": 15,
   "metadata": {
    "collapsed": true
   },
   "outputs": [],
   "source": [
    "clf = tree.DecisionTreeClassifier(min_samples_split = 10)\n",
    "clf = clf.fit(X_train,Y_train)"
   ]
  },
  {
   "cell_type": "code",
   "execution_count": 16,
   "metadata": {},
   "outputs": [
    {
     "data": {
      "text/plain": [
       "0.94876660341555974"
      ]
     },
     "execution_count": 16,
     "metadata": {},
     "output_type": "execute_result"
    }
   ],
   "source": [
    "clf.score(X_test, Y_test)"
   ]
  },
  {
   "cell_type": "code",
   "execution_count": 17,
   "metadata": {},
   "outputs": [
    {
     "data": {
      "text/html": [
       "<div>\n",
       "<style>\n",
       "    .dataframe thead tr:only-child th {\n",
       "        text-align: right;\n",
       "    }\n",
       "\n",
       "    .dataframe thead th {\n",
       "        text-align: left;\n",
       "    }\n",
       "\n",
       "    .dataframe tbody tr th {\n",
       "        vertical-align: top;\n",
       "    }\n",
       "</style>\n",
       "<table border=\"1\" class=\"dataframe\">\n",
       "  <thead>\n",
       "    <tr style=\"text-align: right;\">\n",
       "      <th></th>\n",
       "      <th>depth</th>\n",
       "      <th>min_sample_leaf</th>\n",
       "      <th>mean</th>\n",
       "      <th>std</th>\n",
       "      <th>depth_leaf</th>\n",
       "    </tr>\n",
       "  </thead>\n",
       "  <tbody>\n",
       "    <tr>\n",
       "      <th>404</th>\n",
       "      <td>11</td>\n",
       "      <td>5</td>\n",
       "      <td>0.950285</td>\n",
       "      <td>0.007333</td>\n",
       "      <td>11_5</td>\n",
       "    </tr>\n",
       "    <tr>\n",
       "      <th>400</th>\n",
       "      <td>11</td>\n",
       "      <td>1</td>\n",
       "      <td>0.949904</td>\n",
       "      <td>0.008198</td>\n",
       "      <td>11_1</td>\n",
       "    </tr>\n",
       "    <tr>\n",
       "      <th>361</th>\n",
       "      <td>10</td>\n",
       "      <td>2</td>\n",
       "      <td>0.949527</td>\n",
       "      <td>0.008526</td>\n",
       "      <td>10_2</td>\n",
       "    </tr>\n",
       "    <tr>\n",
       "      <th>405</th>\n",
       "      <td>11</td>\n",
       "      <td>6</td>\n",
       "      <td>0.949526</td>\n",
       "      <td>0.007053</td>\n",
       "      <td>11_6</td>\n",
       "    </tr>\n",
       "    <tr>\n",
       "      <th>724</th>\n",
       "      <td>19</td>\n",
       "      <td>5</td>\n",
       "      <td>0.949147</td>\n",
       "      <td>0.006929</td>\n",
       "      <td>19_5</td>\n",
       "    </tr>\n",
       "  </tbody>\n",
       "</table>\n",
       "</div>"
      ],
      "text/plain": [
       "     depth  min_sample_leaf      mean       std depth_leaf\n",
       "404     11                5  0.950285  0.007333       11_5\n",
       "400     11                1  0.949904  0.008198       11_1\n",
       "361     10                2  0.949527  0.008526       10_2\n",
       "405     11                6  0.949526  0.007053       11_6\n",
       "724     19                5  0.949147  0.006929       19_5"
      ]
     },
     "execution_count": 17,
     "metadata": {},
     "output_type": "execute_result"
    }
   ],
   "source": [
    "#try to find the best tree depth with min split.\n",
    "\n",
    "#tree depth\n",
    "\n",
    "#Fit a classification tree to the data with various values of the parameters max_depth and min_samples_leaf, \n",
    "#Report the cross-validation errors associated with different values of these parameters.\n",
    "\n",
    "# change the parameter depth and compute test error\n",
    "TreeDepth = range(1,21)\n",
    "MinLeaf = range(1,41)\n",
    "results = []\n",
    "for d in TreeDepth:\n",
    "    for l in MinLeaf:\n",
    "        clf = tree.DecisionTreeClassifier(max_depth=d, min_samples_leaf=l,random_state=0)\n",
    "        clf = clf.fit(X,Y)    \n",
    "        scores = cross_val_score(clf, X, Y, cv=5)\n",
    "        results.append((d,l,scores.mean(), scores.std()))\n",
    "    \n",
    "df_tree_accuracy = pd.DataFrame(data=results,columns=['depth','min_sample_leaf','mean','std'])\n",
    "df_tree_accuracy['depth_leaf']= df_tree_accuracy['depth'].astype(str)+\"_\"+df_tree_accuracy['min_sample_leaf'].astype(str)\n",
    "\n",
    "#sort the dataframe\n",
    "df_tree_accuracy = df_tree_accuracy.sort_values(['mean'], ascending = False)\n",
    "df_tree_accuracy.head()"
   ]
  },
  {
   "cell_type": "markdown",
   "metadata": {},
   "source": [
    "# Result"
   ]
  },
  {
   "cell_type": "code",
   "execution_count": 18,
   "metadata": {},
   "outputs": [
    {
     "name": "stdout",
     "output_type": "stream",
     "text": [
      "the best depth is: 11 with accuracy: 95.029 %\n"
     ]
    }
   ],
   "source": [
    "#the result: with the best tree depth and accuracy\n",
    "best_depth = df_tree_accuracy[df_tree_accuracy['mean'] == max(df_tree_accuracy['mean'])]\n",
    "best_depth = int(best_depth['depth'])\n",
    "print('the best depth is:', best_depth, 'with accuracy:',round(max(df_tree_accuracy['mean'])*100, 3), '%')"
   ]
  },
  {
   "cell_type": "code",
   "execution_count": 19,
   "metadata": {},
   "outputs": [
    {
     "data": {
      "text/html": [
       "<div>\n",
       "<style>\n",
       "    .dataframe thead tr:only-child th {\n",
       "        text-align: right;\n",
       "    }\n",
       "\n",
       "    .dataframe thead th {\n",
       "        text-align: left;\n",
       "    }\n",
       "\n",
       "    .dataframe tbody tr th {\n",
       "        vertical-align: top;\n",
       "    }\n",
       "</style>\n",
       "<table border=\"1\" class=\"dataframe\">\n",
       "  <thead>\n",
       "    <tr style=\"text-align: right;\">\n",
       "      <th></th>\n",
       "      <th>RTL_STORE_CD</th>\n",
       "      <th>RTL_FIPS_COUNTY_DSC</th>\n",
       "      <th>RTL_PREMISE_TYPE_CD</th>\n",
       "      <th>RTL_CHANNEL_DSC</th>\n",
       "      <th>RTL_SUBCHANNEL_DSC</th>\n",
       "      <th>RTL_BEER_FLAG</th>\n",
       "      <th>RTL_LIQUOR_FLG</th>\n",
       "      <th>BEERTYPE</th>\n",
       "      <th>PRED_RESULT</th>\n",
       "    </tr>\n",
       "  </thead>\n",
       "  <tbody>\n",
       "    <tr>\n",
       "      <th>0</th>\n",
       "      <td>101403888</td>\n",
       "      <td>SEDGWICK</td>\n",
       "      <td>OFF</td>\n",
       "      <td>LIQUOR</td>\n",
       "      <td>CONVENTIONAL LIQUOR</td>\n",
       "      <td>Y</td>\n",
       "      <td>Y</td>\n",
       "      <td>NonLowPoint</td>\n",
       "      <td>NonLowPoint</td>\n",
       "    </tr>\n",
       "    <tr>\n",
       "      <th>1</th>\n",
       "      <td>100091604</td>\n",
       "      <td>SALINE</td>\n",
       "      <td>OFF</td>\n",
       "      <td>CONVENIENCE STORE</td>\n",
       "      <td>CONVENTIONAL CONVENIENCE</td>\n",
       "      <td>Y</td>\n",
       "      <td>N</td>\n",
       "      <td>LowPoint</td>\n",
       "      <td>LowPoint</td>\n",
       "    </tr>\n",
       "    <tr>\n",
       "      <th>2</th>\n",
       "      <td>200697901</td>\n",
       "      <td>SEDGWICK</td>\n",
       "      <td>OFF</td>\n",
       "      <td>CONVENIENCE STORE</td>\n",
       "      <td>CONVENTIONAL CONVENIENCE</td>\n",
       "      <td>Y</td>\n",
       "      <td>N</td>\n",
       "      <td>LowPoint</td>\n",
       "      <td>LowPoint</td>\n",
       "    </tr>\n",
       "    <tr>\n",
       "      <th>3</th>\n",
       "      <td>100091143</td>\n",
       "      <td>HARPER</td>\n",
       "      <td>OFF</td>\n",
       "      <td>GROCERY</td>\n",
       "      <td>SUPERMARKET-CONVENTIONAL</td>\n",
       "      <td>Y</td>\n",
       "      <td>N</td>\n",
       "      <td>LowPoint</td>\n",
       "      <td>LowPoint</td>\n",
       "    </tr>\n",
       "    <tr>\n",
       "      <th>4</th>\n",
       "      <td>107381463</td>\n",
       "      <td>DOUGLAS</td>\n",
       "      <td>OFF</td>\n",
       "      <td>GROCERY</td>\n",
       "      <td>SUPERMARKET-NATURAL/GOURMET FOODS</td>\n",
       "      <td>Y</td>\n",
       "      <td>N</td>\n",
       "      <td>LowPoint</td>\n",
       "      <td>LowPoint</td>\n",
       "    </tr>\n",
       "  </tbody>\n",
       "</table>\n",
       "</div>"
      ],
      "text/plain": [
       "  RTL_STORE_CD RTL_FIPS_COUNTY_DSC RTL_PREMISE_TYPE_CD    RTL_CHANNEL_DSC  \\\n",
       "0    101403888            SEDGWICK                 OFF             LIQUOR   \n",
       "1    100091604              SALINE                 OFF  CONVENIENCE STORE   \n",
       "2    200697901            SEDGWICK                 OFF  CONVENIENCE STORE   \n",
       "3    100091143              HARPER                 OFF            GROCERY   \n",
       "4    107381463             DOUGLAS                 OFF            GROCERY   \n",
       "\n",
       "                  RTL_SUBCHANNEL_DSC RTL_BEER_FLAG RTL_LIQUOR_FLG  \\\n",
       "0                CONVENTIONAL LIQUOR             Y              Y   \n",
       "1           CONVENTIONAL CONVENIENCE             Y              N   \n",
       "2           CONVENTIONAL CONVENIENCE             Y              N   \n",
       "3           SUPERMARKET-CONVENTIONAL             Y              N   \n",
       "4  SUPERMARKET-NATURAL/GOURMET FOODS             Y              N   \n",
       "\n",
       "      BEERTYPE  PRED_RESULT  \n",
       "0  NonLowPoint  NonLowPoint  \n",
       "1     LowPoint     LowPoint  \n",
       "2     LowPoint     LowPoint  \n",
       "3     LowPoint     LowPoint  \n",
       "4     LowPoint     LowPoint  "
      ]
     },
     "execution_count": 19,
     "metadata": {},
     "output_type": "execute_result"
    }
   ],
   "source": [
    "#check the errors:\n",
    "\n",
    "#create a new data frame to store the prediction result. \n",
    "result_df = FullData.loc[:, 'RTL_STORE_CD': 'BEERTYPE']\n",
    "result_df['PRED_RESULT'] = clf.predict(X)\n",
    "result_df.head()"
   ]
  },
  {
   "cell_type": "code",
   "execution_count": 20,
   "metadata": {
    "scrolled": true
   },
   "outputs": [
    {
     "name": "stdout",
     "output_type": "stream",
     "text": [
      "there are 184 errors in the prediction\n"
     ]
    },
    {
     "name": "stderr",
     "output_type": "stream",
     "text": [
      "/usr/local/lib/python3.5/dist-packages/ipykernel_launcher.py:4: DeprecationWarning: \n",
      ".ix is deprecated. Please use\n",
      ".loc for label based indexing or\n",
      ".iloc for positional indexing\n",
      "\n",
      "See the documentation here:\n",
      "http://pandas.pydata.org/pandas-docs/stable/indexing.html#deprecate_ix\n",
      "  after removing the cwd from sys.path.\n"
     ]
    }
   ],
   "source": [
    "#check how many stores are predicted wrong; which are they; what characters do they have\n",
    "error_index_list = []\n",
    "for index in range(len(result_df)):\n",
    "    if result_df.ix[index , 'BEERTYPE'] != result_df.ix[index , 'PRED_RESULT']:\n",
    "        error_index_list.append(index)\n",
    "print('there are', len(error_index_list), 'errors in the prediction')"
   ]
  },
  {
   "cell_type": "code",
   "execution_count": 21,
   "metadata": {
    "scrolled": true
   },
   "outputs": [
    {
     "ename": "NameError",
     "evalue": "name 'errors' is not defined",
     "output_type": "error",
     "traceback": [
      "\u001b[0;31m---------------------------------------------------------------------------\u001b[0m",
      "\u001b[0;31mNameError\u001b[0m                                 Traceback (most recent call last)",
      "\u001b[0;32m<ipython-input-21-75903c674fa0>\u001b[0m in \u001b[0;36m<module>\u001b[0;34m()\u001b[0m\n\u001b[1;32m      2\u001b[0m \u001b[0merror_df\u001b[0m \u001b[0;34m=\u001b[0m \u001b[0mresult_df\u001b[0m\u001b[0;34m.\u001b[0m\u001b[0mix\u001b[0m\u001b[0;34m[\u001b[0m\u001b[0merror_index_list\u001b[0m\u001b[0;34m,\u001b[0m \u001b[0;34m]\u001b[0m\u001b[0;34m\u001b[0m\u001b[0m\n\u001b[1;32m      3\u001b[0m \u001b[0mfalse_NonLowPoint\u001b[0m \u001b[0;34m=\u001b[0m \u001b[0merror_df\u001b[0m\u001b[0;34m.\u001b[0m\u001b[0mloc\u001b[0m\u001b[0;34m[\u001b[0m\u001b[0merror_df\u001b[0m\u001b[0;34m[\u001b[0m\u001b[0;34m'BEERTYPE'\u001b[0m\u001b[0;34m]\u001b[0m \u001b[0;34m==\u001b[0m \u001b[0;34m'LowPoint'\u001b[0m\u001b[0;34m]\u001b[0m\u001b[0;34m\u001b[0m\u001b[0m\n\u001b[0;32m----> 4\u001b[0;31m \u001b[0mprint\u001b[0m\u001b[0;34m(\u001b[0m\u001b[0;34m'there are'\u001b[0m\u001b[0;34m,\u001b[0m \u001b[0mlen\u001b[0m\u001b[0;34m(\u001b[0m\u001b[0mfalse_NonLowPoint\u001b[0m\u001b[0;34m)\u001b[0m\u001b[0;34m,\u001b[0m \u001b[0merrors\u001b[0m \u001b[0;34m)\u001b[0m\u001b[0;34m\u001b[0m\u001b[0m\n\u001b[0m\u001b[1;32m      5\u001b[0m \u001b[0mfalse_NonLowPoint\u001b[0m\u001b[0;34m.\u001b[0m\u001b[0mhead\u001b[0m\u001b[0;34m(\u001b[0m\u001b[0;34m)\u001b[0m\u001b[0;34m\u001b[0m\u001b[0m\n",
      "\u001b[0;31mNameError\u001b[0m: name 'errors' is not defined"
     ]
    }
   ],
   "source": [
    "#check the error predictions\n",
    "error_df = result_df.ix[error_index_list, ]\n",
    "false_NonLowPoint = error_df.loc[error_df['BEERTYPE'] == 'LowPoint']\n",
    "print('there are', len(false_NonLowPoint), errors )\n",
    "false_NonLowPoint.head()"
   ]
  },
  {
   "cell_type": "code",
   "execution_count": null,
   "metadata": {
    "collapsed": true
   },
   "outputs": [],
   "source": [
    "# Percentage of Stores which sell NonLowPoint(>3.2% ABW) Beer vs LowPoint(<3.2% ABW)  Beer\n",
    "Type = FullData.loc[:,'BEERTYPE']\n",
    "Type = Type.value_counts()\n",
    "Type.plot.pie(autopct='%1.1f%%', figsize=(5,5))"
   ]
  },
  {
   "cell_type": "code",
   "execution_count": null,
   "metadata": {
    "collapsed": true
   },
   "outputs": [],
   "source": [
    "false_LowPoint = error_df.loc[error_df['BEERTYPE'] == 'NonLowPoint']\n",
    "false_LowPoint"
   ]
  },
  {
   "cell_type": "code",
   "execution_count": null,
   "metadata": {
    "collapsed": true
   },
   "outputs": [],
   "source": []
  },
  {
   "cell_type": "code",
   "execution_count": null,
   "metadata": {},
   "outputs": [],
   "source": [
    "#feature importance\n",
    "\n",
    "#all the features with their importance scores.\n",
    "feature_score = pd.Series(data=clf.feature_importances_, index=X.columns).sort_values(ascending = False)\n",
    "\n",
    "#only show the features that have scores greater than 0\n",
    "feature_score[feature_score > 0]"
   ]
  },
  {
   "cell_type": "code",
   "execution_count": null,
   "metadata": {
    "collapsed": true
   },
   "outputs": [],
   "source": []
  },
  {
   "cell_type": "code",
   "execution_count": null,
   "metadata": {
    "collapsed": true
   },
   "outputs": [],
   "source": []
  },
  {
   "cell_type": "code",
   "execution_count": null,
   "metadata": {
    "collapsed": true
   },
   "outputs": [],
   "source": []
  }
 ],
 "metadata": {
  "kernelspec": {
   "display_name": "Python 3",
   "language": "python",
   "name": "python3"
  },
  "language_info": {
   "codemirror_mode": {
    "name": "ipython",
    "version": 3
   },
   "file_extension": ".py",
   "mimetype": "text/x-python",
   "name": "python",
   "nbconvert_exporter": "python",
   "pygments_lexer": "ipython3",
   "version": "3.5.2"
  }
 },
 "nbformat": 4,
 "nbformat_minor": 2
}
