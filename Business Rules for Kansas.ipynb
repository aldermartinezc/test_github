{
 "cells": [
  {
   "cell_type": "markdown",
   "metadata": {
    "collapsed": true
   },
   "source": [
    "## Classification Model for Kansas"
   ]
  },
  {
   "cell_type": "code",
   "execution_count": 14,
   "metadata": {
    "collapsed": true
   },
   "outputs": [],
   "source": [
    "# packages used\n",
    "import pandas as pd\n",
    "import numpy as np\n",
    "from sklearn import tree\n",
    "#from sklearn.ensemble import BaggingClassifier\n",
    "#from sklearn.ensemble import RandomForestClassifier\n",
    "#from sklearn.ensemble import AdaBoostClassifier\n",
    "from sklearn.model_selection import train_test_split\n",
    "from sklearn.model_selection import cross_val_score\n",
    "from sklearn.metrics import confusion_matrix\n",
    "import matplotlib.pyplot as plt\n",
    "%matplotlib inline"
   ]
  },
  {
   "cell_type": "code",
   "execution_count": 15,
   "metadata": {
    "collapsed": true
   },
   "outputs": [],
   "source": [
    "# Load the data\n",
    "data_dir = 'Data/'\n",
    "Stores = pd.read_csv(data_dir + 'AllStoresKansas.csv', dtype = str)\n",
    "StoreType = pd.read_csv(data_dir + 'NonLowPointStoresKansas.csv', dtype = str)\n",
    "KansasCounties = pd.read_csv(data_dir + 'KansasCounties.csv', dtype = str)"
   ]
  },
  {
   "cell_type": "code",
   "execution_count": 16,
   "metadata": {},
   "outputs": [
    {
     "data": {
      "text/html": [
       "<div>\n",
       "<style>\n",
       "    .dataframe thead tr:only-child th {\n",
       "        text-align: right;\n",
       "    }\n",
       "\n",
       "    .dataframe thead th {\n",
       "        text-align: left;\n",
       "    }\n",
       "\n",
       "    .dataframe tbody tr th {\n",
       "        vertical-align: top;\n",
       "    }\n",
       "</style>\n",
       "<table border=\"1\" class=\"dataframe\">\n",
       "  <thead>\n",
       "    <tr style=\"text-align: right;\">\n",
       "      <th></th>\n",
       "      <th>RTL_STORE_CD</th>\n",
       "      <th>RTL_FIPS_COUNTY_DSC</th>\n",
       "      <th>RTL_PREMISE_TYPE_CD</th>\n",
       "      <th>RTL_CHANNEL_DSC</th>\n",
       "      <th>RTL_SUBCHANNEL_DSC</th>\n",
       "      <th>RTL_BEER_FLAG</th>\n",
       "      <th>RTL_LIQUOR_FLG</th>\n",
       "    </tr>\n",
       "  </thead>\n",
       "  <tbody>\n",
       "    <tr>\n",
       "      <th>0</th>\n",
       "      <td>101403888</td>\n",
       "      <td>SEDGWICK</td>\n",
       "      <td>OFF</td>\n",
       "      <td>LIQUOR</td>\n",
       "      <td>CONVENTIONAL LIQUOR</td>\n",
       "      <td>Y</td>\n",
       "      <td>Y</td>\n",
       "    </tr>\n",
       "    <tr>\n",
       "      <th>1</th>\n",
       "      <td>100091604</td>\n",
       "      <td>SALINE</td>\n",
       "      <td>OFF</td>\n",
       "      <td>CONVENIENCE STORE</td>\n",
       "      <td>CONVENTIONAL CONVENIENCE</td>\n",
       "      <td>Y</td>\n",
       "      <td>N</td>\n",
       "    </tr>\n",
       "    <tr>\n",
       "      <th>2</th>\n",
       "      <td>200697901</td>\n",
       "      <td>SEDGWICK</td>\n",
       "      <td>OFF</td>\n",
       "      <td>CONVENIENCE STORE</td>\n",
       "      <td>CONVENTIONAL CONVENIENCE</td>\n",
       "      <td>Y</td>\n",
       "      <td>N</td>\n",
       "    </tr>\n",
       "    <tr>\n",
       "      <th>3</th>\n",
       "      <td>100091143</td>\n",
       "      <td>HARPER</td>\n",
       "      <td>OFF</td>\n",
       "      <td>GROCERY</td>\n",
       "      <td>SUPERMARKET-CONVENTIONAL</td>\n",
       "      <td>Y</td>\n",
       "      <td>N</td>\n",
       "    </tr>\n",
       "    <tr>\n",
       "      <th>4</th>\n",
       "      <td>107381463</td>\n",
       "      <td>DOUGLAS</td>\n",
       "      <td>OFF</td>\n",
       "      <td>GROCERY</td>\n",
       "      <td>SUPERMARKET-NATURAL/GOURMET FOODS</td>\n",
       "      <td>Y</td>\n",
       "      <td>N</td>\n",
       "    </tr>\n",
       "  </tbody>\n",
       "</table>\n",
       "</div>"
      ],
      "text/plain": [
       "  RTL_STORE_CD RTL_FIPS_COUNTY_DSC RTL_PREMISE_TYPE_CD    RTL_CHANNEL_DSC  \\\n",
       "0    101403888            SEDGWICK                 OFF             LIQUOR   \n",
       "1    100091604              SALINE                 OFF  CONVENIENCE STORE   \n",
       "2    200697901            SEDGWICK                 OFF  CONVENIENCE STORE   \n",
       "3    100091143              HARPER                 OFF            GROCERY   \n",
       "4    107381463             DOUGLAS                 OFF            GROCERY   \n",
       "\n",
       "                  RTL_SUBCHANNEL_DSC RTL_BEER_FLAG RTL_LIQUOR_FLG  \n",
       "0                CONVENTIONAL LIQUOR             Y              Y  \n",
       "1           CONVENTIONAL CONVENIENCE             Y              N  \n",
       "2           CONVENTIONAL CONVENIENCE             Y              N  \n",
       "3           SUPERMARKET-CONVENTIONAL             Y              N  \n",
       "4  SUPERMARKET-NATURAL/GOURMET FOODS             Y              N  "
      ]
     },
     "execution_count": 16,
     "metadata": {},
     "output_type": "execute_result"
    }
   ],
   "source": [
    "Stores.head()"
   ]
  },
  {
   "cell_type": "code",
   "execution_count": 17,
   "metadata": {},
   "outputs": [
    {
     "data": {
      "text/html": [
       "<div>\n",
       "<style>\n",
       "    .dataframe thead tr:only-child th {\n",
       "        text-align: right;\n",
       "    }\n",
       "\n",
       "    .dataframe thead th {\n",
       "        text-align: left;\n",
       "    }\n",
       "\n",
       "    .dataframe tbody tr th {\n",
       "        vertical-align: top;\n",
       "    }\n",
       "</style>\n",
       "<table border=\"1\" class=\"dataframe\">\n",
       "  <thead>\n",
       "    <tr style=\"text-align: right;\">\n",
       "      <th></th>\n",
       "      <th>RTL_STORE_CD</th>\n",
       "      <th>BEERTYPE</th>\n",
       "    </tr>\n",
       "  </thead>\n",
       "  <tbody>\n",
       "    <tr>\n",
       "      <th>0</th>\n",
       "      <td>201919318</td>\n",
       "      <td>NonLowPoint</td>\n",
       "    </tr>\n",
       "    <tr>\n",
       "      <th>1</th>\n",
       "      <td>205526360</td>\n",
       "      <td>NonLowPoint</td>\n",
       "    </tr>\n",
       "    <tr>\n",
       "      <th>2</th>\n",
       "      <td>100765511</td>\n",
       "      <td>NonLowPoint</td>\n",
       "    </tr>\n",
       "    <tr>\n",
       "      <th>3</th>\n",
       "      <td>101868466</td>\n",
       "      <td>NonLowPoint</td>\n",
       "    </tr>\n",
       "    <tr>\n",
       "      <th>4</th>\n",
       "      <td>103714116</td>\n",
       "      <td>NonLowPoint</td>\n",
       "    </tr>\n",
       "  </tbody>\n",
       "</table>\n",
       "</div>"
      ],
      "text/plain": [
       "  RTL_STORE_CD     BEERTYPE\n",
       "0    201919318  NonLowPoint\n",
       "1    205526360  NonLowPoint\n",
       "2    100765511  NonLowPoint\n",
       "3    101868466  NonLowPoint\n",
       "4    103714116  NonLowPoint"
      ]
     },
     "execution_count": 17,
     "metadata": {},
     "output_type": "execute_result"
    }
   ],
   "source": [
    "StoreType.head()"
   ]
  },
  {
   "cell_type": "code",
   "execution_count": 18,
   "metadata": {
    "collapsed": true
   },
   "outputs": [],
   "source": [
    "FullData = pd.merge(Stores, StoreType, on=\"RTL_STORE_CD\", how=\"left\")"
   ]
  },
  {
   "cell_type": "code",
   "execution_count": 19,
   "metadata": {
    "collapsed": true
   },
   "outputs": [],
   "source": [
    "FullData.loc[FullData['BEERTYPE'].isnull(),\"BEERTYPE\"] = \"LowPoint\""
   ]
  },
  {
   "cell_type": "code",
   "execution_count": 20,
   "metadata": {},
   "outputs": [
    {
     "data": {
      "text/html": [
       "<div>\n",
       "<style>\n",
       "    .dataframe thead tr:only-child th {\n",
       "        text-align: right;\n",
       "    }\n",
       "\n",
       "    .dataframe thead th {\n",
       "        text-align: left;\n",
       "    }\n",
       "\n",
       "    .dataframe tbody tr th {\n",
       "        vertical-align: top;\n",
       "    }\n",
       "</style>\n",
       "<table border=\"1\" class=\"dataframe\">\n",
       "  <thead>\n",
       "    <tr style=\"text-align: right;\">\n",
       "      <th></th>\n",
       "      <th>RTL_STORE_CD</th>\n",
       "      <th>RTL_FIPS_COUNTY_DSC</th>\n",
       "      <th>RTL_PREMISE_TYPE_CD</th>\n",
       "      <th>RTL_CHANNEL_DSC</th>\n",
       "      <th>RTL_SUBCHANNEL_DSC</th>\n",
       "      <th>RTL_BEER_FLAG</th>\n",
       "      <th>RTL_LIQUOR_FLG</th>\n",
       "      <th>BEERTYPE</th>\n",
       "      <th>COUNTY_ALLEN</th>\n",
       "      <th>COUNTY_ANDERSON</th>\n",
       "      <th>...</th>\n",
       "      <th>SUBCHANNEL_SUPERMARKET-NATURAL/GOURMET FOODS</th>\n",
       "      <th>SUBCHANNEL_THEATER</th>\n",
       "      <th>SUBCHANNEL_UNKNOWN</th>\n",
       "      <th>SUBCHANNEL_WINE SPECIALTY STORE</th>\n",
       "      <th>BEER_LICENSE_N</th>\n",
       "      <th>BEER_LICENSE_U</th>\n",
       "      <th>BEER_LICENSE_Y</th>\n",
       "      <th>LIQUOR_LICENSE_N</th>\n",
       "      <th>LIQUOR_LICENSE_U</th>\n",
       "      <th>LIQUOR_LICENSE_Y</th>\n",
       "    </tr>\n",
       "  </thead>\n",
       "  <tbody>\n",
       "    <tr>\n",
       "      <th>0</th>\n",
       "      <td>101403888</td>\n",
       "      <td>SEDGWICK</td>\n",
       "      <td>OFF</td>\n",
       "      <td>LIQUOR</td>\n",
       "      <td>CONVENTIONAL LIQUOR</td>\n",
       "      <td>Y</td>\n",
       "      <td>Y</td>\n",
       "      <td>NonLowPoint</td>\n",
       "      <td>0</td>\n",
       "      <td>0</td>\n",
       "      <td>...</td>\n",
       "      <td>0</td>\n",
       "      <td>0</td>\n",
       "      <td>0</td>\n",
       "      <td>0</td>\n",
       "      <td>0</td>\n",
       "      <td>0</td>\n",
       "      <td>1</td>\n",
       "      <td>0</td>\n",
       "      <td>0</td>\n",
       "      <td>1</td>\n",
       "    </tr>\n",
       "    <tr>\n",
       "      <th>1</th>\n",
       "      <td>100091604</td>\n",
       "      <td>SALINE</td>\n",
       "      <td>OFF</td>\n",
       "      <td>CONVENIENCE STORE</td>\n",
       "      <td>CONVENTIONAL CONVENIENCE</td>\n",
       "      <td>Y</td>\n",
       "      <td>N</td>\n",
       "      <td>LowPoint</td>\n",
       "      <td>0</td>\n",
       "      <td>0</td>\n",
       "      <td>...</td>\n",
       "      <td>0</td>\n",
       "      <td>0</td>\n",
       "      <td>0</td>\n",
       "      <td>0</td>\n",
       "      <td>0</td>\n",
       "      <td>0</td>\n",
       "      <td>1</td>\n",
       "      <td>1</td>\n",
       "      <td>0</td>\n",
       "      <td>0</td>\n",
       "    </tr>\n",
       "    <tr>\n",
       "      <th>2</th>\n",
       "      <td>200697901</td>\n",
       "      <td>SEDGWICK</td>\n",
       "      <td>OFF</td>\n",
       "      <td>CONVENIENCE STORE</td>\n",
       "      <td>CONVENTIONAL CONVENIENCE</td>\n",
       "      <td>Y</td>\n",
       "      <td>N</td>\n",
       "      <td>LowPoint</td>\n",
       "      <td>0</td>\n",
       "      <td>0</td>\n",
       "      <td>...</td>\n",
       "      <td>0</td>\n",
       "      <td>0</td>\n",
       "      <td>0</td>\n",
       "      <td>0</td>\n",
       "      <td>0</td>\n",
       "      <td>0</td>\n",
       "      <td>1</td>\n",
       "      <td>1</td>\n",
       "      <td>0</td>\n",
       "      <td>0</td>\n",
       "    </tr>\n",
       "    <tr>\n",
       "      <th>3</th>\n",
       "      <td>100091143</td>\n",
       "      <td>HARPER</td>\n",
       "      <td>OFF</td>\n",
       "      <td>GROCERY</td>\n",
       "      <td>SUPERMARKET-CONVENTIONAL</td>\n",
       "      <td>Y</td>\n",
       "      <td>N</td>\n",
       "      <td>LowPoint</td>\n",
       "      <td>0</td>\n",
       "      <td>0</td>\n",
       "      <td>...</td>\n",
       "      <td>0</td>\n",
       "      <td>0</td>\n",
       "      <td>0</td>\n",
       "      <td>0</td>\n",
       "      <td>0</td>\n",
       "      <td>0</td>\n",
       "      <td>1</td>\n",
       "      <td>1</td>\n",
       "      <td>0</td>\n",
       "      <td>0</td>\n",
       "    </tr>\n",
       "    <tr>\n",
       "      <th>4</th>\n",
       "      <td>107381463</td>\n",
       "      <td>DOUGLAS</td>\n",
       "      <td>OFF</td>\n",
       "      <td>GROCERY</td>\n",
       "      <td>SUPERMARKET-NATURAL/GOURMET FOODS</td>\n",
       "      <td>Y</td>\n",
       "      <td>N</td>\n",
       "      <td>LowPoint</td>\n",
       "      <td>0</td>\n",
       "      <td>0</td>\n",
       "      <td>...</td>\n",
       "      <td>1</td>\n",
       "      <td>0</td>\n",
       "      <td>0</td>\n",
       "      <td>0</td>\n",
       "      <td>0</td>\n",
       "      <td>0</td>\n",
       "      <td>1</td>\n",
       "      <td>1</td>\n",
       "      <td>0</td>\n",
       "      <td>0</td>\n",
       "    </tr>\n",
       "  </tbody>\n",
       "</table>\n",
       "<p>5 rows × 209 columns</p>\n",
       "</div>"
      ],
      "text/plain": [
       "  RTL_STORE_CD RTL_FIPS_COUNTY_DSC RTL_PREMISE_TYPE_CD    RTL_CHANNEL_DSC  \\\n",
       "0    101403888            SEDGWICK                 OFF             LIQUOR   \n",
       "1    100091604              SALINE                 OFF  CONVENIENCE STORE   \n",
       "2    200697901            SEDGWICK                 OFF  CONVENIENCE STORE   \n",
       "3    100091143              HARPER                 OFF            GROCERY   \n",
       "4    107381463             DOUGLAS                 OFF            GROCERY   \n",
       "\n",
       "                  RTL_SUBCHANNEL_DSC RTL_BEER_FLAG RTL_LIQUOR_FLG  \\\n",
       "0                CONVENTIONAL LIQUOR             Y              Y   \n",
       "1           CONVENTIONAL CONVENIENCE             Y              N   \n",
       "2           CONVENTIONAL CONVENIENCE             Y              N   \n",
       "3           SUPERMARKET-CONVENTIONAL             Y              N   \n",
       "4  SUPERMARKET-NATURAL/GOURMET FOODS             Y              N   \n",
       "\n",
       "      BEERTYPE  COUNTY_ALLEN  COUNTY_ANDERSON        ...         \\\n",
       "0  NonLowPoint             0                0        ...          \n",
       "1     LowPoint             0                0        ...          \n",
       "2     LowPoint             0                0        ...          \n",
       "3     LowPoint             0                0        ...          \n",
       "4     LowPoint             0                0        ...          \n",
       "\n",
       "   SUBCHANNEL_SUPERMARKET-NATURAL/GOURMET FOODS  SUBCHANNEL_THEATER  \\\n",
       "0                                             0                   0   \n",
       "1                                             0                   0   \n",
       "2                                             0                   0   \n",
       "3                                             0                   0   \n",
       "4                                             1                   0   \n",
       "\n",
       "   SUBCHANNEL_UNKNOWN  SUBCHANNEL_WINE SPECIALTY STORE  BEER_LICENSE_N  \\\n",
       "0                   0                                0               0   \n",
       "1                   0                                0               0   \n",
       "2                   0                                0               0   \n",
       "3                   0                                0               0   \n",
       "4                   0                                0               0   \n",
       "\n",
       "   BEER_LICENSE_U  BEER_LICENSE_Y  LIQUOR_LICENSE_N  LIQUOR_LICENSE_U  \\\n",
       "0               0               1                 0                 0   \n",
       "1               0               1                 1                 0   \n",
       "2               0               1                 1                 0   \n",
       "3               0               1                 1                 0   \n",
       "4               0               1                 1                 0   \n",
       "\n",
       "   LIQUOR_LICENSE_Y  \n",
       "0                 1  \n",
       "1                 0  \n",
       "2                 0  \n",
       "3                 0  \n",
       "4                 0  \n",
       "\n",
       "[5 rows x 209 columns]"
      ]
     },
     "execution_count": 20,
     "metadata": {},
     "output_type": "execute_result"
    }
   ],
   "source": [
    "FullData = pd.concat([FullData, pd.get_dummies(FullData['RTL_FIPS_COUNTY_DSC'],prefix='COUNTY')], axis=1)\n",
    "FullData = pd.concat([FullData, pd.get_dummies(FullData['RTL_PREMISE_TYPE_CD'],prefix='PREMISE')], axis=1)\n",
    "FullData = pd.concat([FullData, pd.get_dummies(FullData['RTL_CHANNEL_DSC'],prefix='CHANNEL')], axis=1)\n",
    "FullData = pd.concat([FullData, pd.get_dummies(FullData['RTL_SUBCHANNEL_DSC'],prefix='SUBCHANNEL')], axis=1)\n",
    "FullData = pd.concat([FullData, pd.get_dummies(FullData['RTL_BEER_FLAG'],prefix='BEER_LICENSE')], axis=1)\n",
    "FullData = pd.concat([FullData, pd.get_dummies(FullData['RTL_LIQUOR_FLG'],prefix='LIQUOR_LICENSE')], axis=1)\n",
    "FullData.head()"
   ]
  },
  {
   "cell_type": "code",
   "execution_count": 21,
   "metadata": {},
   "outputs": [
    {
     "data": {
      "text/html": [
       "<div>\n",
       "<style>\n",
       "    .dataframe thead tr:only-child th {\n",
       "        text-align: right;\n",
       "    }\n",
       "\n",
       "    .dataframe thead th {\n",
       "        text-align: left;\n",
       "    }\n",
       "\n",
       "    .dataframe tbody tr th {\n",
       "        vertical-align: top;\n",
       "    }\n",
       "</style>\n",
       "<table border=\"1\" class=\"dataframe\">\n",
       "  <thead>\n",
       "    <tr style=\"text-align: right;\">\n",
       "      <th></th>\n",
       "      <th>COUNTY</th>\n",
       "      <th>STATE</th>\n",
       "      <th>STATUS</th>\n",
       "    </tr>\n",
       "  </thead>\n",
       "  <tbody>\n",
       "    <tr>\n",
       "      <th>0</th>\n",
       "      <td>ALLEN</td>\n",
       "      <td>KANSAS</td>\n",
       "      <td>MIXED</td>\n",
       "    </tr>\n",
       "    <tr>\n",
       "      <th>1</th>\n",
       "      <td>ANDERSON</td>\n",
       "      <td>KANSAS</td>\n",
       "      <td>MIXED</td>\n",
       "    </tr>\n",
       "    <tr>\n",
       "      <th>2</th>\n",
       "      <td>ATCHISON</td>\n",
       "      <td>KANSAS</td>\n",
       "      <td>MIXED</td>\n",
       "    </tr>\n",
       "    <tr>\n",
       "      <th>3</th>\n",
       "      <td>BARBER</td>\n",
       "      <td>KANSAS</td>\n",
       "      <td>WET</td>\n",
       "    </tr>\n",
       "    <tr>\n",
       "      <th>4</th>\n",
       "      <td>BARTON</td>\n",
       "      <td>KANSAS</td>\n",
       "      <td>WET</td>\n",
       "    </tr>\n",
       "  </tbody>\n",
       "</table>\n",
       "</div>"
      ],
      "text/plain": [
       "     COUNTY    STATE STATUS\n",
       "0     ALLEN   KANSAS  MIXED\n",
       "1  ANDERSON   KANSAS  MIXED\n",
       "2  ATCHISON   KANSAS  MIXED\n",
       "3    BARBER   KANSAS    WET\n",
       "4    BARTON   KANSAS    WET"
      ]
     },
     "execution_count": 21,
     "metadata": {},
     "output_type": "execute_result"
    }
   ],
   "source": [
    "KansasCounties.head()"
   ]
  },
  {
   "cell_type": "code",
   "execution_count": 22,
   "metadata": {
    "collapsed": true
   },
   "outputs": [],
   "source": [
    "RulesData = pd.merge(FullData, KansasCounties, left_on=\"RTL_FIPS_COUNTY_DSC\", right_on='COUNTY' , how=\"left\")"
   ]
  },
  {
   "cell_type": "code",
   "execution_count": 71,
   "metadata": {},
   "outputs": [
    {
     "data": {
      "text/html": [
       "<div>\n",
       "<style>\n",
       "    .dataframe thead tr:only-child th {\n",
       "        text-align: right;\n",
       "    }\n",
       "\n",
       "    .dataframe thead th {\n",
       "        text-align: left;\n",
       "    }\n",
       "\n",
       "    .dataframe tbody tr th {\n",
       "        vertical-align: top;\n",
       "    }\n",
       "</style>\n",
       "<table border=\"1\" class=\"dataframe\">\n",
       "  <thead>\n",
       "    <tr style=\"text-align: right;\">\n",
       "      <th></th>\n",
       "      <th>RTL_STORE_CD</th>\n",
       "      <th>RTL_FIPS_COUNTY_DSC</th>\n",
       "      <th>RTL_PREMISE_TYPE_CD</th>\n",
       "      <th>RTL_CHANNEL_DSC</th>\n",
       "      <th>RTL_SUBCHANNEL_DSC</th>\n",
       "      <th>RTL_BEER_FLAG</th>\n",
       "      <th>RTL_LIQUOR_FLG</th>\n",
       "      <th>BEERTYPE</th>\n",
       "      <th>COUNTY_ALLEN</th>\n",
       "      <th>COUNTY_ANDERSON</th>\n",
       "      <th>...</th>\n",
       "      <th>BEER_LICENSE_U</th>\n",
       "      <th>BEER_LICENSE_Y</th>\n",
       "      <th>LIQUOR_LICENSE_N</th>\n",
       "      <th>LIQUOR_LICENSE_U</th>\n",
       "      <th>LIQUOR_LICENSE_Y</th>\n",
       "      <th>COUNTY</th>\n",
       "      <th>STATE</th>\n",
       "      <th>STATUS</th>\n",
       "      <th>Prediction</th>\n",
       "      <th>PREDICTION</th>\n",
       "    </tr>\n",
       "  </thead>\n",
       "  <tbody>\n",
       "    <tr>\n",
       "      <th>0</th>\n",
       "      <td>101403888</td>\n",
       "      <td>SEDGWICK</td>\n",
       "      <td>OFF</td>\n",
       "      <td>LIQUOR</td>\n",
       "      <td>CONVENTIONAL LIQUOR</td>\n",
       "      <td>Y</td>\n",
       "      <td>Y</td>\n",
       "      <td>NonLowPoint</td>\n",
       "      <td>0</td>\n",
       "      <td>0</td>\n",
       "      <td>...</td>\n",
       "      <td>0</td>\n",
       "      <td>1</td>\n",
       "      <td>0</td>\n",
       "      <td>0</td>\n",
       "      <td>1</td>\n",
       "      <td>SEDGWICK</td>\n",
       "      <td>KANSAS</td>\n",
       "      <td>WET</td>\n",
       "      <td></td>\n",
       "      <td>NonLowPoint</td>\n",
       "    </tr>\n",
       "    <tr>\n",
       "      <th>1</th>\n",
       "      <td>100091604</td>\n",
       "      <td>SALINE</td>\n",
       "      <td>OFF</td>\n",
       "      <td>CONVENIENCE STORE</td>\n",
       "      <td>CONVENTIONAL CONVENIENCE</td>\n",
       "      <td>Y</td>\n",
       "      <td>N</td>\n",
       "      <td>LowPoint</td>\n",
       "      <td>0</td>\n",
       "      <td>0</td>\n",
       "      <td>...</td>\n",
       "      <td>0</td>\n",
       "      <td>1</td>\n",
       "      <td>1</td>\n",
       "      <td>0</td>\n",
       "      <td>0</td>\n",
       "      <td>SALINE</td>\n",
       "      <td>KANSAS</td>\n",
       "      <td>WET</td>\n",
       "      <td></td>\n",
       "      <td>LowPoint</td>\n",
       "    </tr>\n",
       "    <tr>\n",
       "      <th>2</th>\n",
       "      <td>200697901</td>\n",
       "      <td>SEDGWICK</td>\n",
       "      <td>OFF</td>\n",
       "      <td>CONVENIENCE STORE</td>\n",
       "      <td>CONVENTIONAL CONVENIENCE</td>\n",
       "      <td>Y</td>\n",
       "      <td>N</td>\n",
       "      <td>LowPoint</td>\n",
       "      <td>0</td>\n",
       "      <td>0</td>\n",
       "      <td>...</td>\n",
       "      <td>0</td>\n",
       "      <td>1</td>\n",
       "      <td>1</td>\n",
       "      <td>0</td>\n",
       "      <td>0</td>\n",
       "      <td>SEDGWICK</td>\n",
       "      <td>KANSAS</td>\n",
       "      <td>WET</td>\n",
       "      <td></td>\n",
       "      <td>LowPoint</td>\n",
       "    </tr>\n",
       "    <tr>\n",
       "      <th>3</th>\n",
       "      <td>100091143</td>\n",
       "      <td>HARPER</td>\n",
       "      <td>OFF</td>\n",
       "      <td>GROCERY</td>\n",
       "      <td>SUPERMARKET-CONVENTIONAL</td>\n",
       "      <td>Y</td>\n",
       "      <td>N</td>\n",
       "      <td>LowPoint</td>\n",
       "      <td>0</td>\n",
       "      <td>0</td>\n",
       "      <td>...</td>\n",
       "      <td>0</td>\n",
       "      <td>1</td>\n",
       "      <td>1</td>\n",
       "      <td>0</td>\n",
       "      <td>0</td>\n",
       "      <td>HARPER</td>\n",
       "      <td>KANSAS</td>\n",
       "      <td>MIXED</td>\n",
       "      <td></td>\n",
       "      <td>LowPoint</td>\n",
       "    </tr>\n",
       "    <tr>\n",
       "      <th>4</th>\n",
       "      <td>107381463</td>\n",
       "      <td>DOUGLAS</td>\n",
       "      <td>OFF</td>\n",
       "      <td>GROCERY</td>\n",
       "      <td>SUPERMARKET-NATURAL/GOURMET FOODS</td>\n",
       "      <td>Y</td>\n",
       "      <td>N</td>\n",
       "      <td>LowPoint</td>\n",
       "      <td>0</td>\n",
       "      <td>0</td>\n",
       "      <td>...</td>\n",
       "      <td>0</td>\n",
       "      <td>1</td>\n",
       "      <td>1</td>\n",
       "      <td>0</td>\n",
       "      <td>0</td>\n",
       "      <td>DOUGLAS</td>\n",
       "      <td>KANSAS</td>\n",
       "      <td>WET</td>\n",
       "      <td></td>\n",
       "      <td>LowPoint</td>\n",
       "    </tr>\n",
       "  </tbody>\n",
       "</table>\n",
       "<p>5 rows × 214 columns</p>\n",
       "</div>"
      ],
      "text/plain": [
       "  RTL_STORE_CD RTL_FIPS_COUNTY_DSC RTL_PREMISE_TYPE_CD    RTL_CHANNEL_DSC  \\\n",
       "0    101403888            SEDGWICK                 OFF             LIQUOR   \n",
       "1    100091604              SALINE                 OFF  CONVENIENCE STORE   \n",
       "2    200697901            SEDGWICK                 OFF  CONVENIENCE STORE   \n",
       "3    100091143              HARPER                 OFF            GROCERY   \n",
       "4    107381463             DOUGLAS                 OFF            GROCERY   \n",
       "\n",
       "                  RTL_SUBCHANNEL_DSC RTL_BEER_FLAG RTL_LIQUOR_FLG  \\\n",
       "0                CONVENTIONAL LIQUOR             Y              Y   \n",
       "1           CONVENTIONAL CONVENIENCE             Y              N   \n",
       "2           CONVENTIONAL CONVENIENCE             Y              N   \n",
       "3           SUPERMARKET-CONVENTIONAL             Y              N   \n",
       "4  SUPERMARKET-NATURAL/GOURMET FOODS             Y              N   \n",
       "\n",
       "      BEERTYPE  COUNTY_ALLEN  COUNTY_ANDERSON     ...       BEER_LICENSE_U  \\\n",
       "0  NonLowPoint             0                0     ...                    0   \n",
       "1     LowPoint             0                0     ...                    0   \n",
       "2     LowPoint             0                0     ...                    0   \n",
       "3     LowPoint             0                0     ...                    0   \n",
       "4     LowPoint             0                0     ...                    0   \n",
       "\n",
       "   BEER_LICENSE_Y  LIQUOR_LICENSE_N  LIQUOR_LICENSE_U  LIQUOR_LICENSE_Y  \\\n",
       "0               1                 0                 0                 1   \n",
       "1               1                 1                 0                 0   \n",
       "2               1                 1                 0                 0   \n",
       "3               1                 1                 0                 0   \n",
       "4               1                 1                 0                 0   \n",
       "\n",
       "     COUNTY    STATE  STATUS  Prediction   PREDICTION  \n",
       "0  SEDGWICK   KANSAS     WET              NonLowPoint  \n",
       "1    SALINE   KANSAS     WET                 LowPoint  \n",
       "2  SEDGWICK   KANSAS     WET                 LowPoint  \n",
       "3    HARPER   KANSAS   MIXED                 LowPoint  \n",
       "4   DOUGLAS   KANSAS     WET                 LowPoint  \n",
       "\n",
       "[5 rows x 214 columns]"
      ]
     },
     "execution_count": 71,
     "metadata": {},
     "output_type": "execute_result"
    }
   ],
   "source": [
    "RulesData.head()"
   ]
  },
  {
   "cell_type": "code",
   "execution_count": 68,
   "metadata": {
    "collapsed": true
   },
   "outputs": [],
   "source": [
    "RulesData.to_csv(data_dir + 'RulesDataKansas.csv')"
   ]
  },
  {
   "cell_type": "markdown",
   "metadata": {},
   "source": [
    "## Business Rules Classification"
   ]
  },
  {
   "cell_type": "code",
   "execution_count": 44,
   "metadata": {
    "collapsed": true
   },
   "outputs": [],
   "source": [
    "RulesData['PREDICTION'] = \"\""
   ]
  },
  {
   "cell_type": "code",
   "execution_count": 53,
   "metadata": {},
   "outputs": [
    {
     "data": {
      "text/plain": [
       "['GRAY', 'HASKELL', 'JEWELL', 'MEADE', 'STANTON', 'WALLACE']"
      ]
     },
     "execution_count": 53,
     "metadata": {},
     "output_type": "execute_result"
    }
   ],
   "source": [
    "list(KansasCounties.loc[KansasCounties['STATUS'] == 'DRY','COUNTY'])"
   ]
  },
  {
   "cell_type": "code",
   "execution_count": 54,
   "metadata": {},
   "outputs": [
    {
     "data": {
      "text/plain": [
       "True"
      ]
     },
     "execution_count": 54,
     "metadata": {},
     "output_type": "execute_result"
    }
   ],
   "source": [
    "'HASKELL' in list(KansasCounties.loc[KansasCounties['STATUS'] == 'DRY','COUNTY'])"
   ]
  },
  {
   "cell_type": "markdown",
   "metadata": {
    "collapsed": true
   },
   "source": [
    "#### Rules"
   ]
  },
  {
   "cell_type": "code",
   "execution_count": 85,
   "metadata": {
    "collapsed": true
   },
   "outputs": [],
   "source": [
    "for row in range(0,len(RulesData)):\n",
    "    if RulesData.loc[row,'RTL_PREMISE_TYPE_CD'] == 'OFF':\n",
    "        if RulesData.loc[row,'RTL_CHANNEL_DSC'] == 'LIQUOR':\n",
    "            RulesData.loc[row,'PREDICTION'] = 'NonLowPoint'\n",
    "        elif RulesData.loc[row,'RTL_CHANNEL_DSC'] == 'MILITARY OFF-PREMISE':\n",
    "            RulesData.loc[row,'PREDICTION'] = 'NonLowPoint'    \n",
    "        else:\n",
    "            RulesData.loc[row,'PREDICTION'] = 'LowPoint'\n",
    "    else:\n",
    "        if RulesData.loc[row,'RTL_FIPS_COUNTY_DSC'] in list(KansasCounties.loc[KansasCounties['STATUS'] == 'DRY','COUNTY']):\n",
    "            RulesData.loc[row,'PREDICTION'] = 'LowPoint'\n",
    "        elif RulesData.loc[row,'RTL_FIPS_COUNTY_DSC'] in list(KansasCounties.loc[KansasCounties['STATUS'] == 'WET','COUNTY']):\n",
    "            if RulesData.loc[row,'RTL_BEER_FLAG'] == 'Y':\n",
    "                if RulesData.loc[row,'RTL_LIQUOR_FLG'] == 'Y':\n",
    "                    RulesData.loc[row,'PREDICTION'] = 'NonLowPoint'\n",
    "                else:\n",
    "                    RulesData.loc[row,'PREDICTION'] = 'LowPoint'\n",
    "            else:\n",
    "                RulesData.loc[row,'PREDICTION'] = 'LowPoint'\n",
    "        else:\n",
    "            if RulesData.loc[row,'RTL_BEER_FLAG'] == 'Y':\n",
    "                if RulesData.loc[row,'RTL_LIQUOR_FLG'] == 'Y':\n",
    "                    RulesData.loc[row,'PREDICTION'] = 'NonLowPoint'\n",
    "                else:\n",
    "                    RulesData.loc[row,'PREDICTION'] = 'LowPoint'\n",
    "            else:\n",
    "                RulesData.loc[row,'PREDICTION'] = 'LowPoint'        "
   ]
  },
  {
   "cell_type": "code",
   "execution_count": 86,
   "metadata": {
    "scrolled": true
   },
   "outputs": [
    {
     "name": "stdout",
     "output_type": "stream",
     "text": [
      "there are 209 errors in the prediction\n"
     ]
    }
   ],
   "source": [
    "#check how many stores are predicted wrong; which are they; what characters do they have\n",
    "error_index_list = []\n",
    "for index in range(len(RulesData)):\n",
    "    if RulesData.ix[index , 'BEERTYPE'] != RulesData.ix[index , 'PREDICTION']:\n",
    "        error_index_list.append(index)\n",
    "print('there are', len(error_index_list), 'errors in the prediction')"
   ]
  },
  {
   "cell_type": "code",
   "execution_count": 87,
   "metadata": {},
   "outputs": [
    {
     "name": "stdout",
     "output_type": "stream",
     "text": [
      "there are 118 false_NonLowPoint errors.\n"
     ]
    },
    {
     "data": {
      "text/html": [
       "<div>\n",
       "<style>\n",
       "    .dataframe thead tr:only-child th {\n",
       "        text-align: right;\n",
       "    }\n",
       "\n",
       "    .dataframe thead th {\n",
       "        text-align: left;\n",
       "    }\n",
       "\n",
       "    .dataframe tbody tr th {\n",
       "        vertical-align: top;\n",
       "    }\n",
       "</style>\n",
       "<table border=\"1\" class=\"dataframe\">\n",
       "  <thead>\n",
       "    <tr style=\"text-align: right;\">\n",
       "      <th></th>\n",
       "      <th>RTL_STORE_CD</th>\n",
       "      <th>RTL_FIPS_COUNTY_DSC</th>\n",
       "      <th>RTL_PREMISE_TYPE_CD</th>\n",
       "      <th>RTL_CHANNEL_DSC</th>\n",
       "      <th>RTL_SUBCHANNEL_DSC</th>\n",
       "      <th>RTL_BEER_FLAG</th>\n",
       "      <th>RTL_LIQUOR_FLG</th>\n",
       "      <th>BEERTYPE</th>\n",
       "      <th>COUNTY_ALLEN</th>\n",
       "      <th>COUNTY_ANDERSON</th>\n",
       "      <th>...</th>\n",
       "      <th>BEER_LICENSE_U</th>\n",
       "      <th>BEER_LICENSE_Y</th>\n",
       "      <th>LIQUOR_LICENSE_N</th>\n",
       "      <th>LIQUOR_LICENSE_U</th>\n",
       "      <th>LIQUOR_LICENSE_Y</th>\n",
       "      <th>COUNTY</th>\n",
       "      <th>STATE</th>\n",
       "      <th>STATUS</th>\n",
       "      <th>Prediction</th>\n",
       "      <th>PREDICTION</th>\n",
       "    </tr>\n",
       "  </thead>\n",
       "  <tbody>\n",
       "    <tr>\n",
       "      <th>5</th>\n",
       "      <td>201953385</td>\n",
       "      <td>NEOSHO</td>\n",
       "      <td>ON</td>\n",
       "      <td>DINING</td>\n",
       "      <td>CASUAL DINING</td>\n",
       "      <td>Y</td>\n",
       "      <td>Y</td>\n",
       "      <td>LowPoint</td>\n",
       "      <td>0</td>\n",
       "      <td>0</td>\n",
       "      <td>...</td>\n",
       "      <td>0</td>\n",
       "      <td>1</td>\n",
       "      <td>0</td>\n",
       "      <td>0</td>\n",
       "      <td>1</td>\n",
       "      <td>NEOSHO</td>\n",
       "      <td>KANSAS</td>\n",
       "      <td>MIXED</td>\n",
       "      <td></td>\n",
       "      <td>NonLowPoint</td>\n",
       "    </tr>\n",
       "    <tr>\n",
       "      <th>8</th>\n",
       "      <td>201644381</td>\n",
       "      <td>STEVENS</td>\n",
       "      <td>ON</td>\n",
       "      <td>BAR/NIGHTCLUB</td>\n",
       "      <td>NEIGHBORHOOD BAR</td>\n",
       "      <td>Y</td>\n",
       "      <td>Y</td>\n",
       "      <td>LowPoint</td>\n",
       "      <td>0</td>\n",
       "      <td>0</td>\n",
       "      <td>...</td>\n",
       "      <td>0</td>\n",
       "      <td>1</td>\n",
       "      <td>0</td>\n",
       "      <td>0</td>\n",
       "      <td>1</td>\n",
       "      <td>STEVENS</td>\n",
       "      <td>KANSAS</td>\n",
       "      <td>WET</td>\n",
       "      <td></td>\n",
       "      <td>NonLowPoint</td>\n",
       "    </tr>\n",
       "    <tr>\n",
       "      <th>23</th>\n",
       "      <td>101907187</td>\n",
       "      <td>GEARY</td>\n",
       "      <td>ON</td>\n",
       "      <td>MILITARY ON-PREMISE</td>\n",
       "      <td>MILITARY FOOD SERVICE</td>\n",
       "      <td>Y</td>\n",
       "      <td>Y</td>\n",
       "      <td>LowPoint</td>\n",
       "      <td>0</td>\n",
       "      <td>0</td>\n",
       "      <td>...</td>\n",
       "      <td>0</td>\n",
       "      <td>1</td>\n",
       "      <td>0</td>\n",
       "      <td>0</td>\n",
       "      <td>1</td>\n",
       "      <td>GEARY</td>\n",
       "      <td>KANSAS</td>\n",
       "      <td>WET</td>\n",
       "      <td></td>\n",
       "      <td>NonLowPoint</td>\n",
       "    </tr>\n",
       "    <tr>\n",
       "      <th>55</th>\n",
       "      <td>201989706</td>\n",
       "      <td>KINGMAN</td>\n",
       "      <td>ON</td>\n",
       "      <td>DINING</td>\n",
       "      <td>CASUAL DINING</td>\n",
       "      <td>Y</td>\n",
       "      <td>Y</td>\n",
       "      <td>LowPoint</td>\n",
       "      <td>0</td>\n",
       "      <td>0</td>\n",
       "      <td>...</td>\n",
       "      <td>0</td>\n",
       "      <td>1</td>\n",
       "      <td>0</td>\n",
       "      <td>0</td>\n",
       "      <td>1</td>\n",
       "      <td>KINGMAN</td>\n",
       "      <td>KANSAS</td>\n",
       "      <td>MIXED</td>\n",
       "      <td></td>\n",
       "      <td>NonLowPoint</td>\n",
       "    </tr>\n",
       "    <tr>\n",
       "      <th>66</th>\n",
       "      <td>202912930</td>\n",
       "      <td>CRAWFORD</td>\n",
       "      <td>ON</td>\n",
       "      <td>BAR/NIGHTCLUB</td>\n",
       "      <td>NEIGHBORHOOD BAR</td>\n",
       "      <td>Y</td>\n",
       "      <td>Y</td>\n",
       "      <td>LowPoint</td>\n",
       "      <td>0</td>\n",
       "      <td>0</td>\n",
       "      <td>...</td>\n",
       "      <td>0</td>\n",
       "      <td>1</td>\n",
       "      <td>0</td>\n",
       "      <td>0</td>\n",
       "      <td>1</td>\n",
       "      <td>CRAWFORD</td>\n",
       "      <td>KANSAS</td>\n",
       "      <td>WET</td>\n",
       "      <td></td>\n",
       "      <td>NonLowPoint</td>\n",
       "    </tr>\n",
       "  </tbody>\n",
       "</table>\n",
       "<p>5 rows × 214 columns</p>\n",
       "</div>"
      ],
      "text/plain": [
       "   RTL_STORE_CD RTL_FIPS_COUNTY_DSC RTL_PREMISE_TYPE_CD      RTL_CHANNEL_DSC  \\\n",
       "5     201953385              NEOSHO                  ON               DINING   \n",
       "8     201644381             STEVENS                  ON        BAR/NIGHTCLUB   \n",
       "23    101907187               GEARY                  ON  MILITARY ON-PREMISE   \n",
       "55    201989706             KINGMAN                  ON               DINING   \n",
       "66    202912930            CRAWFORD                  ON        BAR/NIGHTCLUB   \n",
       "\n",
       "       RTL_SUBCHANNEL_DSC RTL_BEER_FLAG RTL_LIQUOR_FLG  BEERTYPE  \\\n",
       "5           CASUAL DINING             Y              Y  LowPoint   \n",
       "8        NEIGHBORHOOD BAR             Y              Y  LowPoint   \n",
       "23  MILITARY FOOD SERVICE             Y              Y  LowPoint   \n",
       "55          CASUAL DINING             Y              Y  LowPoint   \n",
       "66       NEIGHBORHOOD BAR             Y              Y  LowPoint   \n",
       "\n",
       "    COUNTY_ALLEN  COUNTY_ANDERSON     ...       BEER_LICENSE_U  \\\n",
       "5              0                0     ...                    0   \n",
       "8              0                0     ...                    0   \n",
       "23             0                0     ...                    0   \n",
       "55             0                0     ...                    0   \n",
       "66             0                0     ...                    0   \n",
       "\n",
       "    BEER_LICENSE_Y  LIQUOR_LICENSE_N  LIQUOR_LICENSE_U  LIQUOR_LICENSE_Y  \\\n",
       "5                1                 0                 0                 1   \n",
       "8                1                 0                 0                 1   \n",
       "23               1                 0                 0                 1   \n",
       "55               1                 0                 0                 1   \n",
       "66               1                 0                 0                 1   \n",
       "\n",
       "      COUNTY    STATE  STATUS  Prediction   PREDICTION  \n",
       "5     NEOSHO   KANSAS   MIXED              NonLowPoint  \n",
       "8    STEVENS   KANSAS     WET              NonLowPoint  \n",
       "23     GEARY   KANSAS     WET              NonLowPoint  \n",
       "55   KINGMAN   KANSAS   MIXED              NonLowPoint  \n",
       "66  CRAWFORD   KANSAS     WET              NonLowPoint  \n",
       "\n",
       "[5 rows x 214 columns]"
      ]
     },
     "execution_count": 87,
     "metadata": {},
     "output_type": "execute_result"
    }
   ],
   "source": [
    "#check the error predictions\n",
    "error_df = RulesData.ix[error_index_list, ]\n",
    "false_NonLowPoint = error_df.loc[error_df['BEERTYPE'] == 'LowPoint']\n",
    "print('there are', len(false_NonLowPoint), 'false_NonLowPoint errors.')\n",
    "false_NonLowPoint.head()"
   ]
  },
  {
   "cell_type": "code",
   "execution_count": 88,
   "metadata": {},
   "outputs": [
    {
     "name": "stdout",
     "output_type": "stream",
     "text": [
      "there are 91 false_LowPoint errors.\n"
     ]
    },
    {
     "data": {
      "text/html": [
       "<div>\n",
       "<style>\n",
       "    .dataframe thead tr:only-child th {\n",
       "        text-align: right;\n",
       "    }\n",
       "\n",
       "    .dataframe thead th {\n",
       "        text-align: left;\n",
       "    }\n",
       "\n",
       "    .dataframe tbody tr th {\n",
       "        vertical-align: top;\n",
       "    }\n",
       "</style>\n",
       "<table border=\"1\" class=\"dataframe\">\n",
       "  <thead>\n",
       "    <tr style=\"text-align: right;\">\n",
       "      <th></th>\n",
       "      <th>RTL_STORE_CD</th>\n",
       "      <th>RTL_FIPS_COUNTY_DSC</th>\n",
       "      <th>RTL_PREMISE_TYPE_CD</th>\n",
       "      <th>RTL_CHANNEL_DSC</th>\n",
       "      <th>RTL_SUBCHANNEL_DSC</th>\n",
       "      <th>RTL_BEER_FLAG</th>\n",
       "      <th>RTL_LIQUOR_FLG</th>\n",
       "      <th>BEERTYPE</th>\n",
       "      <th>COUNTY_ALLEN</th>\n",
       "      <th>COUNTY_ANDERSON</th>\n",
       "      <th>...</th>\n",
       "      <th>BEER_LICENSE_U</th>\n",
       "      <th>BEER_LICENSE_Y</th>\n",
       "      <th>LIQUOR_LICENSE_N</th>\n",
       "      <th>LIQUOR_LICENSE_U</th>\n",
       "      <th>LIQUOR_LICENSE_Y</th>\n",
       "      <th>COUNTY</th>\n",
       "      <th>STATE</th>\n",
       "      <th>STATUS</th>\n",
       "      <th>Prediction</th>\n",
       "      <th>PREDICTION</th>\n",
       "    </tr>\n",
       "  </thead>\n",
       "  <tbody>\n",
       "    <tr>\n",
       "      <th>22</th>\n",
       "      <td>105527771</td>\n",
       "      <td>JOHNSON</td>\n",
       "      <td>ON</td>\n",
       "      <td>DINING</td>\n",
       "      <td>CASUAL DINING</td>\n",
       "      <td>Y</td>\n",
       "      <td>N</td>\n",
       "      <td>NonLowPoint</td>\n",
       "      <td>0</td>\n",
       "      <td>0</td>\n",
       "      <td>...</td>\n",
       "      <td>0</td>\n",
       "      <td>1</td>\n",
       "      <td>1</td>\n",
       "      <td>0</td>\n",
       "      <td>0</td>\n",
       "      <td>JOHNSON</td>\n",
       "      <td>KANSAS</td>\n",
       "      <td>MIXED</td>\n",
       "      <td></td>\n",
       "      <td>LowPoint</td>\n",
       "    </tr>\n",
       "    <tr>\n",
       "      <th>72</th>\n",
       "      <td>100683776</td>\n",
       "      <td>MIAMI</td>\n",
       "      <td>OFF</td>\n",
       "      <td>CONVENIENCE STORE</td>\n",
       "      <td>CONVENTIONAL CONVENIENCE</td>\n",
       "      <td>Y</td>\n",
       "      <td>N</td>\n",
       "      <td>NonLowPoint</td>\n",
       "      <td>0</td>\n",
       "      <td>0</td>\n",
       "      <td>...</td>\n",
       "      <td>0</td>\n",
       "      <td>1</td>\n",
       "      <td>1</td>\n",
       "      <td>0</td>\n",
       "      <td>0</td>\n",
       "      <td>MIAMI</td>\n",
       "      <td>KANSAS</td>\n",
       "      <td>MIXED</td>\n",
       "      <td></td>\n",
       "      <td>LowPoint</td>\n",
       "    </tr>\n",
       "    <tr>\n",
       "      <th>78</th>\n",
       "      <td>200468114</td>\n",
       "      <td>BUTLER</td>\n",
       "      <td>OFF</td>\n",
       "      <td>CONVENIENCE STORE</td>\n",
       "      <td>CONVENTIONAL CONVENIENCE</td>\n",
       "      <td>Y</td>\n",
       "      <td>N</td>\n",
       "      <td>NonLowPoint</td>\n",
       "      <td>0</td>\n",
       "      <td>0</td>\n",
       "      <td>...</td>\n",
       "      <td>0</td>\n",
       "      <td>1</td>\n",
       "      <td>1</td>\n",
       "      <td>0</td>\n",
       "      <td>0</td>\n",
       "      <td>BUTLER</td>\n",
       "      <td>KANSAS</td>\n",
       "      <td>MIXED</td>\n",
       "      <td></td>\n",
       "      <td>LowPoint</td>\n",
       "    </tr>\n",
       "    <tr>\n",
       "      <th>94</th>\n",
       "      <td>201990354</td>\n",
       "      <td>BUTLER</td>\n",
       "      <td>OFF</td>\n",
       "      <td>CONVENIENCE STORE</td>\n",
       "      <td>CONVENTIONAL CONVENIENCE</td>\n",
       "      <td>Y</td>\n",
       "      <td>N</td>\n",
       "      <td>NonLowPoint</td>\n",
       "      <td>0</td>\n",
       "      <td>0</td>\n",
       "      <td>...</td>\n",
       "      <td>0</td>\n",
       "      <td>1</td>\n",
       "      <td>1</td>\n",
       "      <td>0</td>\n",
       "      <td>0</td>\n",
       "      <td>BUTLER</td>\n",
       "      <td>KANSAS</td>\n",
       "      <td>MIXED</td>\n",
       "      <td></td>\n",
       "      <td>LowPoint</td>\n",
       "    </tr>\n",
       "    <tr>\n",
       "      <th>154</th>\n",
       "      <td>201403677</td>\n",
       "      <td>JEFFERSON</td>\n",
       "      <td>OFF</td>\n",
       "      <td>CONVENIENCE STORE</td>\n",
       "      <td>CONVENTIONAL CONVENIENCE</td>\n",
       "      <td>Y</td>\n",
       "      <td>N</td>\n",
       "      <td>NonLowPoint</td>\n",
       "      <td>0</td>\n",
       "      <td>0</td>\n",
       "      <td>...</td>\n",
       "      <td>0</td>\n",
       "      <td>1</td>\n",
       "      <td>1</td>\n",
       "      <td>0</td>\n",
       "      <td>0</td>\n",
       "      <td>JEFFERSON</td>\n",
       "      <td>KANSAS</td>\n",
       "      <td>MIXED</td>\n",
       "      <td></td>\n",
       "      <td>LowPoint</td>\n",
       "    </tr>\n",
       "  </tbody>\n",
       "</table>\n",
       "<p>5 rows × 214 columns</p>\n",
       "</div>"
      ],
      "text/plain": [
       "    RTL_STORE_CD RTL_FIPS_COUNTY_DSC RTL_PREMISE_TYPE_CD    RTL_CHANNEL_DSC  \\\n",
       "22     105527771             JOHNSON                  ON             DINING   \n",
       "72     100683776               MIAMI                 OFF  CONVENIENCE STORE   \n",
       "78     200468114              BUTLER                 OFF  CONVENIENCE STORE   \n",
       "94     201990354              BUTLER                 OFF  CONVENIENCE STORE   \n",
       "154    201403677           JEFFERSON                 OFF  CONVENIENCE STORE   \n",
       "\n",
       "           RTL_SUBCHANNEL_DSC RTL_BEER_FLAG RTL_LIQUOR_FLG     BEERTYPE  \\\n",
       "22              CASUAL DINING             Y              N  NonLowPoint   \n",
       "72   CONVENTIONAL CONVENIENCE             Y              N  NonLowPoint   \n",
       "78   CONVENTIONAL CONVENIENCE             Y              N  NonLowPoint   \n",
       "94   CONVENTIONAL CONVENIENCE             Y              N  NonLowPoint   \n",
       "154  CONVENTIONAL CONVENIENCE             Y              N  NonLowPoint   \n",
       "\n",
       "     COUNTY_ALLEN  COUNTY_ANDERSON     ...      BEER_LICENSE_U  \\\n",
       "22              0                0     ...                   0   \n",
       "72              0                0     ...                   0   \n",
       "78              0                0     ...                   0   \n",
       "94              0                0     ...                   0   \n",
       "154             0                0     ...                   0   \n",
       "\n",
       "     BEER_LICENSE_Y  LIQUOR_LICENSE_N  LIQUOR_LICENSE_U  LIQUOR_LICENSE_Y  \\\n",
       "22                1                 1                 0                 0   \n",
       "72                1                 1                 0                 0   \n",
       "78                1                 1                 0                 0   \n",
       "94                1                 1                 0                 0   \n",
       "154               1                 1                 0                 0   \n",
       "\n",
       "        COUNTY    STATE  STATUS  Prediction  PREDICTION  \n",
       "22     JOHNSON   KANSAS   MIXED                LowPoint  \n",
       "72       MIAMI   KANSAS   MIXED                LowPoint  \n",
       "78      BUTLER   KANSAS   MIXED                LowPoint  \n",
       "94      BUTLER   KANSAS   MIXED                LowPoint  \n",
       "154  JEFFERSON   KANSAS   MIXED                LowPoint  \n",
       "\n",
       "[5 rows x 214 columns]"
      ]
     },
     "execution_count": 88,
     "metadata": {},
     "output_type": "execute_result"
    }
   ],
   "source": [
    "false_LowPoint = error_df.loc[error_df['BEERTYPE'] == 'NonLowPoint']\n",
    "print('there are', len(false_LowPoint), 'false_LowPoint errors.')\n",
    "false_LowPoint.head()"
   ]
  },
  {
   "cell_type": "code",
   "execution_count": 89,
   "metadata": {},
   "outputs": [
    {
     "data": {
      "text/plain": [
       "array([[1381,  118],\n",
       "       [  91, 1045]])"
      ]
     },
     "execution_count": 89,
     "metadata": {},
     "output_type": "execute_result"
    }
   ],
   "source": [
    "# Confusion Matrix\n",
    "cm = confusion_matrix(RulesData['BEERTYPE'], RulesData['PREDICTION'])\n",
    "cm"
   ]
  },
  {
   "cell_type": "code",
   "execution_count": 90,
   "metadata": {},
   "outputs": [
    {
     "data": {
      "text/plain": [
       "0.91989436619718312"
      ]
     },
     "execution_count": 90,
     "metadata": {},
     "output_type": "execute_result"
    }
   ],
   "source": [
    "# True Positive Rate\n",
    "TPR = cm[1,1]/(cm[1,1]+cm[1,0])\n",
    "TPR"
   ]
  },
  {
   "cell_type": "code",
   "execution_count": 91,
   "metadata": {},
   "outputs": [
    {
     "data": {
      "text/plain": [
       "0.080105633802816906"
      ]
     },
     "execution_count": 91,
     "metadata": {},
     "output_type": "execute_result"
    }
   ],
   "source": [
    "# False Negative Rate\n",
    "FNR = cm[1,0]/(cm[1,0]+cm[1,1])\n",
    "FNR"
   ]
  },
  {
   "cell_type": "code",
   "execution_count": 92,
   "metadata": {},
   "outputs": [
    {
     "data": {
      "text/plain": [
       "0.92128085390260173"
      ]
     },
     "execution_count": 92,
     "metadata": {},
     "output_type": "execute_result"
    }
   ],
   "source": [
    "# True Negative Rate\n",
    "TNR = cm[0,0]/(cm[0,0]+cm[0,1])\n",
    "TNR"
   ]
  },
  {
   "cell_type": "code",
   "execution_count": 93,
   "metadata": {},
   "outputs": [
    {
     "data": {
      "text/plain": [
       "0.07871914609739826"
      ]
     },
     "execution_count": 93,
     "metadata": {},
     "output_type": "execute_result"
    }
   ],
   "source": [
    "# False Positive Rate\n",
    "FPR = cm[0,1]/(cm[0,1]+cm[0,0])\n",
    "FPR"
   ]
  },
  {
   "cell_type": "code",
   "execution_count": 94,
   "metadata": {},
   "outputs": [
    {
     "data": {
      "text/plain": [
       "0.92068311195445918"
      ]
     },
     "execution_count": 94,
     "metadata": {},
     "output_type": "execute_result"
    }
   ],
   "source": [
    "Accuracy = (cm[0,0] + cm[1,1])/ np.sum(cm)\n",
    "Accuracy"
   ]
  },
  {
   "cell_type": "code",
   "execution_count": null,
   "metadata": {
    "collapsed": true
   },
   "outputs": [],
   "source": []
  },
  {
   "cell_type": "code",
   "execution_count": null,
   "metadata": {
    "collapsed": true
   },
   "outputs": [],
   "source": []
  },
  {
   "cell_type": "code",
   "execution_count": 8,
   "metadata": {},
   "outputs": [
    {
     "data": {
      "text/plain": [
       "<matplotlib.axes._subplots.AxesSubplot at 0x7fe7596e86a0>"
      ]
     },
     "execution_count": 8,
     "metadata": {},
     "output_type": "execute_result"
    },
    {
     "data": {
      "image/png": "[encoded data removed]",
      "text/plain": [
       "<matplotlib.figure.Figure at 0x7fe7705b2550>"
      ]
     },
     "metadata": {},
     "output_type": "display_data"
    }
   ],
   "source": [
    "# Total Number of Stores by County\n",
    "County = FullData.loc[:,'RTL_FIPS_COUNTY_DSC']\n",
    "County = County.value_counts().head(20)\n",
    "County.plot.bar(figsize=(10,4))"
   ]
  },
  {
   "cell_type": "code",
   "execution_count": 9,
   "metadata": {},
   "outputs": [
    {
     "name": "stdout",
     "output_type": "stream",
     "text": [
      "Total Stores in Kansas  2635\n",
      "Total Low Point Stores in Kansas  1499\n",
      "Total Non Low Point Stores in Kansas  1136\n"
     ]
    },
    {
     "data": {
      "text/plain": [
       "<matplotlib.text.Text at 0x7fe758cdf668>"
      ]
     },
     "execution_count": 9,
     "metadata": {},
     "output_type": "execute_result"
    },
    {
     "data": {
      "image/png": "[encoded data removed]",
      "text/plain": [
       "<matplotlib.figure.Figure at 0x7fe7596ba160>"
      ]
     },
     "metadata": {},
     "output_type": "display_data"
    }
   ],
   "source": [
    "# Total Number Counts of Stores by Trade Channel\n",
    "Channel = FullData.loc[:,'RTL_CHANNEL_DSC'].value_counts()\n",
    "Type = FullData.loc[:,'BEERTYPE'].value_counts()\n",
    "\n",
    "print(\"Total Stores in Kansas \",len(FullData))\n",
    "print(\"Total Low Point Stores in Kansas \",len(FullData.loc[FullData[\"BEERTYPE\"]==\"LowPoint\",:]))\n",
    "print(\"Total Non Low Point Stores in Kansas \",len(FullData.loc[FullData[\"BEERTYPE\"]==\"NonLowPoint\",:]))\n",
    "\n",
    "#Plot Channels by Type of Beer\n",
    "fig, axes = plt.subplots(nrows=1, ncols=2, figsize=(10, 4))\n",
    "\n",
    "Channel.plot(ax=axes[0], kind='bar'); axes[0].set_title('Count of Stores by Channel')\n",
    "Type.plot(ax=axes[1], kind='pie',autopct='%1.1f%%'); axes[1].set_title('Percentage of Stores by Type')\n"
   ]
  },
  {
   "cell_type": "code",
   "execution_count": 10,
   "metadata": {
    "collapsed": true
   },
   "outputs": [],
   "source": [
    "# Count number of stores per channel\n",
    "LowPointChannel =FullData.loc[FullData[\"BEERTYPE\"]==\"LowPoint\",'RTL_CHANNEL_DSC'].value_counts()\n",
    "NonLowPointChannel =FullData.loc[FullData[\"BEERTYPE\"]==\"NonLowPoint\",'RTL_CHANNEL_DSC'].value_counts()"
   ]
  },
  {
   "cell_type": "code",
   "execution_count": 11,
   "metadata": {},
   "outputs": [
    {
     "data": {
      "text/plain": [
       "<matplotlib.text.Text at 0x7fe758b6fe80>"
      ]
     },
     "execution_count": 11,
     "metadata": {},
     "output_type": "execute_result"
    },
    {
     "data": {
      "image/png": "[encoded data removed]",
      "text/plain": [
       "<matplotlib.figure.Figure at 0x7fe7595969b0>"
      ]
     },
     "metadata": {},
     "output_type": "display_data"
    }
   ],
   "source": [
    "#Plot Channels by Type of Beer\n",
    "fig, axes = plt.subplots(nrows=1, ncols=2, figsize=(10, 4))\n",
    "\n",
    "LowPointChannel.plot(ax=axes[0], kind='bar'); axes[0].set_title('Low Point Channels')\n",
    "NonLowPointChannel.plot(ax=axes[1], kind='bar', color = 'orange'); axes[1].set_title('Non Low Point Channels')\n",
    "fig.suptitle('Channels by Type of Beer')\n"
   ]
  },
  {
   "cell_type": "code",
   "execution_count": 12,
   "metadata": {},
   "outputs": [
    {
     "data": {
      "text/plain": [
       "<matplotlib.axes._subplots.AxesSubplot at 0x7fe758cb0c50>"
      ]
     },
     "execution_count": 12,
     "metadata": {},
     "output_type": "execute_result"
    },
    {
     "data": {
      "image/png": "[encoded data removed]",
      "text/plain": [
       "<matplotlib.figure.Figure at 0x7fe7595d7ba8>"
      ]
     },
     "metadata": {},
     "output_type": "display_data"
    }
   ],
   "source": [
    "# Total Number of Stores by SubChannel\n",
    "SubChannel = FullData.loc[:,'RTL_SUBCHANNEL_DSC']\n",
    "SubChannel = SubChannel.value_counts().head(20)\n",
    "SubChannel.plot.bar(figsize=(10,4))"
   ]
  },
  {
   "cell_type": "code",
   "execution_count": 60,
   "metadata": {},
   "outputs": [
    {
     "data": {
      "text/plain": [
       "<matplotlib.text.Text at 0x7f3a18af0ba8>"
      ]
     },
     "execution_count": 60,
     "metadata": {},
     "output_type": "execute_result"
    },
    {
     "data": {
      "image/png": "[encoded data removed]",
      "text/plain": [
       "<matplotlib.figure.Figure at 0x7f3a187c3550>"
      ]
     },
     "metadata": {},
     "output_type": "display_data"
    }
   ],
   "source": [
    "# Percentage of Stores which Off Premise vs On Premise\n",
    "fig, axes = plt.subplots(nrows=1, ncols=3, figsize=(20, 6))\n",
    "\n",
    "Premise = FullData.loc[:,'RTL_PREMISE_TYPE_CD'].value_counts()\n",
    "OnPremiseType = FullData.loc[FullData[\"RTL_PREMISE_TYPE_CD\"]==\"ON\",'BEERTYPE'].value_counts()\n",
    "OffPremiseType = FullData.loc[FullData[\"RTL_PREMISE_TYPE_CD\"]==\"OFF\",'BEERTYPE'].value_counts()\n",
    "\n",
    "Premise.plot(ax=axes[0], kind='pie',autopct='%1.1f%%'); axes[0].set_title('Percentage of Stores by Premise')\n",
    "OnPremiseType.plot(ax=axes[1], kind='pie',autopct='%1.1f%%'); axes[1].set_title('Percentage of On Premise Stores by Type')\n",
    "OffPremiseType.plot(ax=axes[2], kind='pie',autopct='%1.1f%%'); axes[2].set_title('Percentage of Off Premise Stores by Type')\n"
   ]
  },
  {
   "cell_type": "markdown",
   "metadata": {
    "collapsed": true
   },
   "source": [
    "### Prepare Data"
   ]
  },
  {
   "cell_type": "code",
   "execution_count": 14,
   "metadata": {
    "collapsed": true
   },
   "outputs": [],
   "source": [
    "# prepare data to fit model\n",
    "X_labels = [c for c in FullData.columns if c not in ['RTL_STORE_CD','BEERTYPE','RTL_FIPS_COUNTY_DSC','RTL_PREMISE_TYPE_CD','RTL_CHANNEL_DSC','RTL_SUBCHANNEL_DSC','RTL_BEER_FLAG',\"RTL_LIQUOR_FLG\"]]\n",
    "X = FullData.loc[:,X_labels]\n",
    "Y = FullData['BEERTYPE']"
   ]
  },
  {
   "cell_type": "code",
   "execution_count": 15,
   "metadata": {},
   "outputs": [
    {
     "data": {
      "text/html": [
       "<div>\n",
       "<style>\n",
       "    .dataframe thead tr:only-child th {\n",
       "        text-align: right;\n",
       "    }\n",
       "\n",
       "    .dataframe thead th {\n",
       "        text-align: left;\n",
       "    }\n",
       "\n",
       "    .dataframe tbody tr th {\n",
       "        vertical-align: top;\n",
       "    }\n",
       "</style>\n",
       "<table border=\"1\" class=\"dataframe\">\n",
       "  <thead>\n",
       "    <tr style=\"text-align: right;\">\n",
       "      <th></th>\n",
       "      <th>depth</th>\n",
       "      <th>min_sample_leaf</th>\n",
       "      <th>mean</th>\n",
       "      <th>std</th>\n",
       "      <th>depth_leaf</th>\n",
       "    </tr>\n",
       "  </thead>\n",
       "  <tbody>\n",
       "    <tr>\n",
       "      <th>204</th>\n",
       "      <td>11</td>\n",
       "      <td>5</td>\n",
       "      <td>0.950285</td>\n",
       "      <td>0.007333</td>\n",
       "      <td>11_5</td>\n",
       "    </tr>\n",
       "    <tr>\n",
       "      <th>200</th>\n",
       "      <td>11</td>\n",
       "      <td>1</td>\n",
       "      <td>0.949904</td>\n",
       "      <td>0.008198</td>\n",
       "      <td>11_1</td>\n",
       "    </tr>\n",
       "    <tr>\n",
       "      <th>181</th>\n",
       "      <td>10</td>\n",
       "      <td>2</td>\n",
       "      <td>0.949527</td>\n",
       "      <td>0.008526</td>\n",
       "      <td>10_2</td>\n",
       "    </tr>\n",
       "    <tr>\n",
       "      <th>205</th>\n",
       "      <td>11</td>\n",
       "      <td>6</td>\n",
       "      <td>0.949526</td>\n",
       "      <td>0.007053</td>\n",
       "      <td>11_6</td>\n",
       "    </tr>\n",
       "    <tr>\n",
       "      <th>364</th>\n",
       "      <td>19</td>\n",
       "      <td>5</td>\n",
       "      <td>0.949147</td>\n",
       "      <td>0.006929</td>\n",
       "      <td>19_5</td>\n",
       "    </tr>\n",
       "  </tbody>\n",
       "</table>\n",
       "</div>"
      ],
      "text/plain": [
       "     depth  min_sample_leaf      mean       std depth_leaf\n",
       "204     11                5  0.950285  0.007333       11_5\n",
       "200     11                1  0.949904  0.008198       11_1\n",
       "181     10                2  0.949527  0.008526       10_2\n",
       "205     11                6  0.949526  0.007053       11_6\n",
       "364     19                5  0.949147  0.006929       19_5"
      ]
     },
     "execution_count": 15,
     "metadata": {},
     "output_type": "execute_result"
    }
   ],
   "source": [
    "#try to find the best tree depth with min split.\n",
    "\n",
    "#tree depth\n",
    "\n",
    "#Fit a classification tree to the data with various values of the parameters max_depth and min_samples_leaf, \n",
    "#Report the cross-validation errors associated with different values of these parameters.\n",
    "\n",
    "# change the parameter depth and compute test error\n",
    "TreeDepth = range(1,21)\n",
    "MinLeaf = range(1,21)\n",
    "results = []\n",
    "for d in TreeDepth:\n",
    "    for l in MinLeaf:\n",
    "        clf = tree.DecisionTreeClassifier(max_depth=d, min_samples_leaf=l,random_state=0)\n",
    "        clf = clf.fit(X,Y)    \n",
    "        scores = cross_val_score(clf, X, Y, cv=5)\n",
    "        results.append((d,l,scores.mean(), scores.std()))\n",
    "    \n",
    "df_tree_accuracy = pd.DataFrame(data=results,columns=['depth','min_sample_leaf','mean','std'])\n",
    "df_tree_accuracy['depth_leaf']= df_tree_accuracy['depth'].astype(str)+\"_\"+df_tree_accuracy['min_sample_leaf'].astype(str)\n",
    "\n",
    "#sort the dataframe\n",
    "df_tree_accuracy = df_tree_accuracy.sort_values(['mean'], ascending = False)\n",
    "df_tree_accuracy.head()"
   ]
  },
  {
   "cell_type": "markdown",
   "metadata": {},
   "source": [
    "# Result"
   ]
  },
  {
   "cell_type": "code",
   "execution_count": 16,
   "metadata": {},
   "outputs": [
    {
     "name": "stdout",
     "output_type": "stream",
     "text": [
      "the best depth is: 11 with min split: 5 with accuracy: 95.029 %\n"
     ]
    }
   ],
   "source": [
    "#the result: with the best tree depth and accuracy\n",
    "best_depth = df_tree_accuracy[df_tree_accuracy['mean'] == max(df_tree_accuracy['mean'])]\n",
    "best_depth = int(best_depth['depth'])\n",
    "\n",
    "min_leaf = df_tree_accuracy[df_tree_accuracy['mean'] == max(df_tree_accuracy['mean'])]\n",
    "min_leaf = int(min_leaf['min_sample_leaf'])\n",
    "print('the best depth is:', best_depth, 'with min split:',min_leaf ,'with accuracy:',round(max(df_tree_accuracy['mean'])*100, 3), '%')\n",
    "\n"
   ]
  },
  {
   "cell_type": "code",
   "execution_count": 17,
   "metadata": {},
   "outputs": [
    {
     "data": {
      "text/html": [
       "<div>\n",
       "<style>\n",
       "    .dataframe thead tr:only-child th {\n",
       "        text-align: right;\n",
       "    }\n",
       "\n",
       "    .dataframe thead th {\n",
       "        text-align: left;\n",
       "    }\n",
       "\n",
       "    .dataframe tbody tr th {\n",
       "        vertical-align: top;\n",
       "    }\n",
       "</style>\n",
       "<table border=\"1\" class=\"dataframe\">\n",
       "  <thead>\n",
       "    <tr style=\"text-align: right;\">\n",
       "      <th></th>\n",
       "      <th>RTL_STORE_CD</th>\n",
       "      <th>RTL_FIPS_COUNTY_DSC</th>\n",
       "      <th>RTL_PREMISE_TYPE_CD</th>\n",
       "      <th>RTL_CHANNEL_DSC</th>\n",
       "      <th>RTL_SUBCHANNEL_DSC</th>\n",
       "      <th>RTL_BEER_FLAG</th>\n",
       "      <th>RTL_LIQUOR_FLG</th>\n",
       "      <th>BEERTYPE</th>\n",
       "      <th>PRED_RESULT</th>\n",
       "    </tr>\n",
       "  </thead>\n",
       "  <tbody>\n",
       "    <tr>\n",
       "      <th>0</th>\n",
       "      <td>101403888</td>\n",
       "      <td>SEDGWICK</td>\n",
       "      <td>OFF</td>\n",
       "      <td>LIQUOR</td>\n",
       "      <td>CONVENTIONAL LIQUOR</td>\n",
       "      <td>Y</td>\n",
       "      <td>Y</td>\n",
       "      <td>NonLowPoint</td>\n",
       "      <td>NonLowPoint</td>\n",
       "    </tr>\n",
       "    <tr>\n",
       "      <th>1</th>\n",
       "      <td>100091604</td>\n",
       "      <td>SALINE</td>\n",
       "      <td>OFF</td>\n",
       "      <td>CONVENIENCE STORE</td>\n",
       "      <td>CONVENTIONAL CONVENIENCE</td>\n",
       "      <td>Y</td>\n",
       "      <td>N</td>\n",
       "      <td>LowPoint</td>\n",
       "      <td>LowPoint</td>\n",
       "    </tr>\n",
       "    <tr>\n",
       "      <th>2</th>\n",
       "      <td>200697901</td>\n",
       "      <td>SEDGWICK</td>\n",
       "      <td>OFF</td>\n",
       "      <td>CONVENIENCE STORE</td>\n",
       "      <td>CONVENTIONAL CONVENIENCE</td>\n",
       "      <td>Y</td>\n",
       "      <td>N</td>\n",
       "      <td>LowPoint</td>\n",
       "      <td>LowPoint</td>\n",
       "    </tr>\n",
       "    <tr>\n",
       "      <th>3</th>\n",
       "      <td>100091143</td>\n",
       "      <td>HARPER</td>\n",
       "      <td>OFF</td>\n",
       "      <td>GROCERY</td>\n",
       "      <td>SUPERMARKET-CONVENTIONAL</td>\n",
       "      <td>Y</td>\n",
       "      <td>N</td>\n",
       "      <td>LowPoint</td>\n",
       "      <td>LowPoint</td>\n",
       "    </tr>\n",
       "    <tr>\n",
       "      <th>4</th>\n",
       "      <td>107381463</td>\n",
       "      <td>DOUGLAS</td>\n",
       "      <td>OFF</td>\n",
       "      <td>GROCERY</td>\n",
       "      <td>SUPERMARKET-NATURAL/GOURMET FOODS</td>\n",
       "      <td>Y</td>\n",
       "      <td>N</td>\n",
       "      <td>LowPoint</td>\n",
       "      <td>LowPoint</td>\n",
       "    </tr>\n",
       "  </tbody>\n",
       "</table>\n",
       "</div>"
      ],
      "text/plain": [
       "  RTL_STORE_CD RTL_FIPS_COUNTY_DSC RTL_PREMISE_TYPE_CD    RTL_CHANNEL_DSC  \\\n",
       "0    101403888            SEDGWICK                 OFF             LIQUOR   \n",
       "1    100091604              SALINE                 OFF  CONVENIENCE STORE   \n",
       "2    200697901            SEDGWICK                 OFF  CONVENIENCE STORE   \n",
       "3    100091143              HARPER                 OFF            GROCERY   \n",
       "4    107381463             DOUGLAS                 OFF            GROCERY   \n",
       "\n",
       "                  RTL_SUBCHANNEL_DSC RTL_BEER_FLAG RTL_LIQUOR_FLG  \\\n",
       "0                CONVENTIONAL LIQUOR             Y              Y   \n",
       "1           CONVENTIONAL CONVENIENCE             Y              N   \n",
       "2           CONVENTIONAL CONVENIENCE             Y              N   \n",
       "3           SUPERMARKET-CONVENTIONAL             Y              N   \n",
       "4  SUPERMARKET-NATURAL/GOURMET FOODS             Y              N   \n",
       "\n",
       "      BEERTYPE  PRED_RESULT  \n",
       "0  NonLowPoint  NonLowPoint  \n",
       "1     LowPoint     LowPoint  \n",
       "2     LowPoint     LowPoint  \n",
       "3     LowPoint     LowPoint  \n",
       "4     LowPoint     LowPoint  "
      ]
     },
     "execution_count": 17,
     "metadata": {},
     "output_type": "execute_result"
    }
   ],
   "source": [
    "#check the errors:\n",
    "\n",
    "#create a new data frame to store the prediction result. \n",
    "result_df = FullData.loc[:, 'RTL_STORE_CD': 'BEERTYPE']\n",
    "result_df['PRED_RESULT'] = clf.predict(X)\n",
    "result_df.head()"
   ]
  },
  {
   "cell_type": "code",
   "execution_count": 18,
   "metadata": {
    "scrolled": true
   },
   "outputs": [
    {
     "name": "stdout",
     "output_type": "stream",
     "text": [
      "there are 161 errors in the prediction\n"
     ]
    },
    {
     "name": "stderr",
     "output_type": "stream",
     "text": [
      "/usr/local/lib/python3.5/dist-packages/ipykernel_launcher.py:4: DeprecationWarning: \n",
      ".ix is deprecated. Please use\n",
      ".loc for label based indexing or\n",
      ".iloc for positional indexing\n",
      "\n",
      "See the documentation here:\n",
      "http://pandas.pydata.org/pandas-docs/stable/indexing.html#deprecate_ix\n",
      "  after removing the cwd from sys.path.\n"
     ]
    }
   ],
   "source": [
    "#check how many stores are predicted wrong; which are they; what characters do they have\n",
    "error_index_list = []\n",
    "for index in range(len(result_df)):\n",
    "    if result_df.ix[index , 'BEERTYPE'] != result_df.ix[index , 'PRED_RESULT']:\n",
    "        error_index_list.append(index)\n",
    "print('there are', len(error_index_list), 'errors in the prediction')"
   ]
  },
  {
   "cell_type": "code",
   "execution_count": 19,
   "metadata": {
    "scrolled": true
   },
   "outputs": [
    {
     "name": "stdout",
     "output_type": "stream",
     "text": [
      "there are 39 false_NonLowPoint errors.\n"
     ]
    },
    {
     "data": {
      "text/html": [
       "<div>\n",
       "<style>\n",
       "    .dataframe thead tr:only-child th {\n",
       "        text-align: right;\n",
       "    }\n",
       "\n",
       "    .dataframe thead th {\n",
       "        text-align: left;\n",
       "    }\n",
       "\n",
       "    .dataframe tbody tr th {\n",
       "        vertical-align: top;\n",
       "    }\n",
       "</style>\n",
       "<table border=\"1\" class=\"dataframe\">\n",
       "  <thead>\n",
       "    <tr style=\"text-align: right;\">\n",
       "      <th></th>\n",
       "      <th>RTL_STORE_CD</th>\n",
       "      <th>RTL_FIPS_COUNTY_DSC</th>\n",
       "      <th>RTL_PREMISE_TYPE_CD</th>\n",
       "      <th>RTL_CHANNEL_DSC</th>\n",
       "      <th>RTL_SUBCHANNEL_DSC</th>\n",
       "      <th>RTL_BEER_FLAG</th>\n",
       "      <th>RTL_LIQUOR_FLG</th>\n",
       "      <th>BEERTYPE</th>\n",
       "      <th>PRED_RESULT</th>\n",
       "    </tr>\n",
       "  </thead>\n",
       "  <tbody>\n",
       "    <tr>\n",
       "      <th>23</th>\n",
       "      <td>101907187</td>\n",
       "      <td>GEARY</td>\n",
       "      <td>ON</td>\n",
       "      <td>MILITARY ON-PREMISE</td>\n",
       "      <td>MILITARY FOOD SERVICE</td>\n",
       "      <td>Y</td>\n",
       "      <td>Y</td>\n",
       "      <td>LowPoint</td>\n",
       "      <td>NonLowPoint</td>\n",
       "    </tr>\n",
       "    <tr>\n",
       "      <th>111</th>\n",
       "      <td>100091796</td>\n",
       "      <td>RENO</td>\n",
       "      <td>OFF</td>\n",
       "      <td>GROCERY</td>\n",
       "      <td>SUPERMARKET-CONVENTIONAL</td>\n",
       "      <td>Y</td>\n",
       "      <td>Y</td>\n",
       "      <td>LowPoint</td>\n",
       "      <td>NonLowPoint</td>\n",
       "    </tr>\n",
       "    <tr>\n",
       "      <th>145</th>\n",
       "      <td>302192363</td>\n",
       "      <td>SEDGWICK</td>\n",
       "      <td>ON</td>\n",
       "      <td>DINING</td>\n",
       "      <td>CASUAL DINING</td>\n",
       "      <td>Y</td>\n",
       "      <td>Y</td>\n",
       "      <td>LowPoint</td>\n",
       "      <td>NonLowPoint</td>\n",
       "    </tr>\n",
       "    <tr>\n",
       "      <th>168</th>\n",
       "      <td>101735995</td>\n",
       "      <td>MONTGOMERY</td>\n",
       "      <td>ON</td>\n",
       "      <td>RECREATION</td>\n",
       "      <td>PRIVATE CLUB</td>\n",
       "      <td>Y</td>\n",
       "      <td>Y</td>\n",
       "      <td>LowPoint</td>\n",
       "      <td>NonLowPoint</td>\n",
       "    </tr>\n",
       "    <tr>\n",
       "      <th>185</th>\n",
       "      <td>301621538</td>\n",
       "      <td>JOHNSON</td>\n",
       "      <td>ON</td>\n",
       "      <td>DINING</td>\n",
       "      <td>CASUAL DINING</td>\n",
       "      <td>Y</td>\n",
       "      <td>Y</td>\n",
       "      <td>LowPoint</td>\n",
       "      <td>NonLowPoint</td>\n",
       "    </tr>\n",
       "  </tbody>\n",
       "</table>\n",
       "</div>"
      ],
      "text/plain": [
       "    RTL_STORE_CD RTL_FIPS_COUNTY_DSC RTL_PREMISE_TYPE_CD      RTL_CHANNEL_DSC  \\\n",
       "23     101907187               GEARY                  ON  MILITARY ON-PREMISE   \n",
       "111    100091796                RENO                 OFF              GROCERY   \n",
       "145    302192363            SEDGWICK                  ON               DINING   \n",
       "168    101735995          MONTGOMERY                  ON           RECREATION   \n",
       "185    301621538             JOHNSON                  ON               DINING   \n",
       "\n",
       "           RTL_SUBCHANNEL_DSC RTL_BEER_FLAG RTL_LIQUOR_FLG  BEERTYPE  \\\n",
       "23      MILITARY FOOD SERVICE             Y              Y  LowPoint   \n",
       "111  SUPERMARKET-CONVENTIONAL             Y              Y  LowPoint   \n",
       "145             CASUAL DINING             Y              Y  LowPoint   \n",
       "168              PRIVATE CLUB             Y              Y  LowPoint   \n",
       "185             CASUAL DINING             Y              Y  LowPoint   \n",
       "\n",
       "     PRED_RESULT  \n",
       "23   NonLowPoint  \n",
       "111  NonLowPoint  \n",
       "145  NonLowPoint  \n",
       "168  NonLowPoint  \n",
       "185  NonLowPoint  "
      ]
     },
     "execution_count": 19,
     "metadata": {},
     "output_type": "execute_result"
    }
   ],
   "source": [
    "#check the error predictions\n",
    "error_df = result_df.ix[error_index_list, ]\n",
    "false_NonLowPoint = error_df.loc[error_df['BEERTYPE'] == 'LowPoint']\n",
    "print('there are', len(false_NonLowPoint), 'false_NonLowPoint errors.')\n",
    "false_NonLowPoint.head()"
   ]
  },
  {
   "cell_type": "code",
   "execution_count": 20,
   "metadata": {},
   "outputs": [
    {
     "name": "stdout",
     "output_type": "stream",
     "text": [
      "there are 122 false_LowPoint errors.\n"
     ]
    },
    {
     "data": {
      "text/html": [
       "<div>\n",
       "<style>\n",
       "    .dataframe thead tr:only-child th {\n",
       "        text-align: right;\n",
       "    }\n",
       "\n",
       "    .dataframe thead th {\n",
       "        text-align: left;\n",
       "    }\n",
       "\n",
       "    .dataframe tbody tr th {\n",
       "        vertical-align: top;\n",
       "    }\n",
       "</style>\n",
       "<table border=\"1\" class=\"dataframe\">\n",
       "  <thead>\n",
       "    <tr style=\"text-align: right;\">\n",
       "      <th></th>\n",
       "      <th>RTL_STORE_CD</th>\n",
       "      <th>RTL_FIPS_COUNTY_DSC</th>\n",
       "      <th>RTL_PREMISE_TYPE_CD</th>\n",
       "      <th>RTL_CHANNEL_DSC</th>\n",
       "      <th>RTL_SUBCHANNEL_DSC</th>\n",
       "      <th>RTL_BEER_FLAG</th>\n",
       "      <th>RTL_LIQUOR_FLG</th>\n",
       "      <th>BEERTYPE</th>\n",
       "      <th>PRED_RESULT</th>\n",
       "    </tr>\n",
       "  </thead>\n",
       "  <tbody>\n",
       "    <tr>\n",
       "      <th>22</th>\n",
       "      <td>105527771</td>\n",
       "      <td>JOHNSON</td>\n",
       "      <td>ON</td>\n",
       "      <td>DINING</td>\n",
       "      <td>CASUAL DINING</td>\n",
       "      <td>Y</td>\n",
       "      <td>N</td>\n",
       "      <td>NonLowPoint</td>\n",
       "      <td>LowPoint</td>\n",
       "    </tr>\n",
       "    <tr>\n",
       "      <th>72</th>\n",
       "      <td>100683776</td>\n",
       "      <td>MIAMI</td>\n",
       "      <td>OFF</td>\n",
       "      <td>CONVENIENCE STORE</td>\n",
       "      <td>CONVENTIONAL CONVENIENCE</td>\n",
       "      <td>Y</td>\n",
       "      <td>N</td>\n",
       "      <td>NonLowPoint</td>\n",
       "      <td>LowPoint</td>\n",
       "    </tr>\n",
       "    <tr>\n",
       "      <th>78</th>\n",
       "      <td>200468114</td>\n",
       "      <td>BUTLER</td>\n",
       "      <td>OFF</td>\n",
       "      <td>CONVENIENCE STORE</td>\n",
       "      <td>CONVENTIONAL CONVENIENCE</td>\n",
       "      <td>Y</td>\n",
       "      <td>N</td>\n",
       "      <td>NonLowPoint</td>\n",
       "      <td>LowPoint</td>\n",
       "    </tr>\n",
       "    <tr>\n",
       "      <th>82</th>\n",
       "      <td>107308403</td>\n",
       "      <td>FINNEY</td>\n",
       "      <td>ON</td>\n",
       "      <td>DINING</td>\n",
       "      <td>CASUAL DINING</td>\n",
       "      <td>Y</td>\n",
       "      <td>Y</td>\n",
       "      <td>NonLowPoint</td>\n",
       "      <td>LowPoint</td>\n",
       "    </tr>\n",
       "    <tr>\n",
       "      <th>94</th>\n",
       "      <td>201990354</td>\n",
       "      <td>BUTLER</td>\n",
       "      <td>OFF</td>\n",
       "      <td>CONVENIENCE STORE</td>\n",
       "      <td>CONVENTIONAL CONVENIENCE</td>\n",
       "      <td>Y</td>\n",
       "      <td>N</td>\n",
       "      <td>NonLowPoint</td>\n",
       "      <td>LowPoint</td>\n",
       "    </tr>\n",
       "  </tbody>\n",
       "</table>\n",
       "</div>"
      ],
      "text/plain": [
       "   RTL_STORE_CD RTL_FIPS_COUNTY_DSC RTL_PREMISE_TYPE_CD    RTL_CHANNEL_DSC  \\\n",
       "22    105527771             JOHNSON                  ON             DINING   \n",
       "72    100683776               MIAMI                 OFF  CONVENIENCE STORE   \n",
       "78    200468114              BUTLER                 OFF  CONVENIENCE STORE   \n",
       "82    107308403              FINNEY                  ON             DINING   \n",
       "94    201990354              BUTLER                 OFF  CONVENIENCE STORE   \n",
       "\n",
       "          RTL_SUBCHANNEL_DSC RTL_BEER_FLAG RTL_LIQUOR_FLG     BEERTYPE  \\\n",
       "22             CASUAL DINING             Y              N  NonLowPoint   \n",
       "72  CONVENTIONAL CONVENIENCE             Y              N  NonLowPoint   \n",
       "78  CONVENTIONAL CONVENIENCE             Y              N  NonLowPoint   \n",
       "82             CASUAL DINING             Y              Y  NonLowPoint   \n",
       "94  CONVENTIONAL CONVENIENCE             Y              N  NonLowPoint   \n",
       "\n",
       "   PRED_RESULT  \n",
       "22    LowPoint  \n",
       "72    LowPoint  \n",
       "78    LowPoint  \n",
       "82    LowPoint  \n",
       "94    LowPoint  "
      ]
     },
     "execution_count": 20,
     "metadata": {},
     "output_type": "execute_result"
    }
   ],
   "source": [
    "false_LowPoint = error_df.loc[error_df['BEERTYPE'] == 'NonLowPoint']\n",
    "print('there are', len(false_LowPoint), 'false_LowPoint errors.')\n",
    "false_LowPoint.head()"
   ]
  },
  {
   "cell_type": "code",
   "execution_count": 21,
   "metadata": {
    "collapsed": true
   },
   "outputs": [],
   "source": [
    "#create statistics for false_NonLowPoint\n",
    "county_false_NonLowPoint = false_NonLowPoint.loc[:,'RTL_FIPS_COUNTY_DSC'].value_counts().head(15)\n",
    "premise_false_NonLowPoint = false_NonLowPoint.loc[:,'RTL_PREMISE_TYPE_CD'].value_counts()\n",
    "channel_false_NonLowPoint = false_NonLowPoint.loc[:,'RTL_CHANNEL_DSC'].value_counts()\n",
    "sub_channel_false_NonLowPoint = false_NonLowPoint.loc[:,'RTL_SUBCHANNEL_DSC'].value_counts()\n",
    "beer_license_false_NonLowPoint = false_NonLowPoint.loc[:,'RTL_BEER_FLAG'].value_counts()\n",
    "liquor_license_false_NonLowPoint = false_NonLowPoint.loc[:,'RTL_LIQUOR_FLG'].value_counts()"
   ]
  },
  {
   "cell_type": "code",
   "execution_count": 22,
   "metadata": {
    "collapsed": true
   },
   "outputs": [],
   "source": [
    "#create statistics for false_LowPoint\n",
    "county_false_LowPoint = false_LowPoint.loc[:,'RTL_FIPS_COUNTY_DSC'].value_counts().head(15)\n",
    "premise_false_LowPoint = false_LowPoint.loc[:,'RTL_PREMISE_TYPE_CD'].value_counts()\n",
    "channel_false_LowPoint = false_LowPoint.loc[:,'RTL_CHANNEL_DSC'].value_counts()\n",
    "sub_channel_false_LowPoint = false_LowPoint.loc[:,'RTL_SUBCHANNEL_DSC'].value_counts()\n",
    "beer_license_false_LowPoint = false_LowPoint.loc[:,'RTL_BEER_FLAG'].value_counts()\n",
    "liquor_license_false_LowPoint = false_LowPoint.loc[:,'RTL_LIQUOR_FLG'].value_counts()"
   ]
  },
  {
   "cell_type": "code",
   "execution_count": 34,
   "metadata": {},
   "outputs": [
    {
     "data": {
      "image/png": "[encoded data removed]",
      "text/plain": [
       "<matplotlib.figure.Figure at 0x7fe72d220d68>"
      ]
     },
     "metadata": {},
     "output_type": "display_data"
    }
   ],
   "source": [
    "#plot for false_NonLowPoint\n",
    "fig, axes = plt.subplots(nrows=2, ncols=3)\n",
    "\n",
    "bottom_limit = 1\n",
    "upper_limit = 1.2\n",
    "\n",
    "county_false_NonLowPoint.plot(ax=axes[0,0], kind='bar'); axes[0,0].set_title('county')\n",
    "axes[0,0].set_yticks([bottom_limit*min(county_false_NonLowPoint), int(upper_limit*max(county_false_NonLowPoint))])\n",
    "   \n",
    "premise_false_NonLowPoint.plot(ax=axes[0,1], kind='bar'); axes[0,1].set_title('premise type')\n",
    "axes[0,1].set_yticks([bottom_limit*min(premise_false_NonLowPoint), int(upper_limit*max(premise_false_NonLowPoint))])\n",
    "\n",
    "channel_false_NonLowPoint.plot(ax=axes[0,2], kind='bar'); axes[0,2].set_title('channel')\n",
    "axes[0,2].set_yticks([bottom_limit*min(channel_false_NonLowPoint), int(upper_limit*max(channel_false_NonLowPoint))])\n",
    "\n",
    "sub_channel_false_NonLowPoint.plot(ax=axes[1,0], kind='bar'); axes[1,0].set_title('sub channel')\n",
    "axes[1,0].set_yticks([bottom_limit*min(sub_channel_false_NonLowPoint), int(upper_limit*max(sub_channel_false_NonLowPoint))])\n",
    "\n",
    "beer_license_false_NonLowPoint.plot(ax=axes[1,1], kind='bar'); axes[1,1].set_title('beer license')\n",
    "\n",
    "liquor_license_false_NonLowPoint.plot(ax=axes[1,2], kind='bar'); axes[1,2].set_title('liquor license')\n",
    "\n",
    "#adjust the plot\n",
    "plt.subplots_adjust(left=2, bottom=2, right=4, top=3, wspace=0.3, hspace=2)"
   ]
  },
  {
   "cell_type": "code",
   "execution_count": 32,
   "metadata": {},
   "outputs": [
    {
     "data": {
      "image/png": "[encoded data removed]",
      "text/plain": [
       "<matplotlib.figure.Figure at 0x7fe72cdf6198>"
      ]
     },
     "metadata": {},
     "output_type": "display_data"
    }
   ],
   "source": [
    "#plot for false_LowPoint\n",
    "fig, axes = plt.subplots(nrows=2, ncols=3)\n",
    "\n",
    "bottom_limit = 1\n",
    "upper_limit = 1.2\n",
    "\n",
    "county_false_LowPoint.plot(ax=axes[0,0], kind='bar'); axes[0,0].set_title('county')\n",
    "axes[0,0].set_yticks([bottom_limit*min(county_false_NonLowPoint), int(upper_limit*max(county_false_LowPoint))])\n",
    "   \n",
    "premise_false_LowPoint.plot(ax=axes[0,1], kind='bar'); axes[0,1].set_title('premise type')\n",
    "axes[0,1].set_yticks([bottom_limit*min(premise_false_LowPoint), int(upper_limit*max(premise_false_LowPoint))])\n",
    "\n",
    "channel_false_LowPoint.plot(ax=axes[0,2], kind='bar'); axes[0,2].set_title('channel')\n",
    "axes[0,2].set_yticks([bottom_limit*min(channel_false_LowPoint), int(upper_limit*max(channel_false_LowPoint))])\n",
    "\n",
    "sub_channel_false_LowPoint.plot(ax=axes[1,0], kind='bar'); axes[1,0].set_title('sub channel')\n",
    "axes[1,0].set_yticks([bottom_limit*min(sub_channel_false_LowPoint), int(upper_limit*max(sub_channel_false_LowPoint))])\n",
    "\n",
    "beer_license_false_LowPoint.plot(ax=axes[1,1], kind='bar'); axes[1,1].set_title('beer license')\n",
    "\n",
    "liquor_license_false_LowPoint.plot(ax=axes[1,2], kind='bar'); axes[1,2].set_title('liquor license')\n",
    "\n",
    "#adjust the plot\n",
    "plt.subplots_adjust(left=2, bottom=2, right=4, top=3, wspace=0.2, hspace=5)\n"
   ]
  },
  {
   "cell_type": "code",
   "execution_count": 54,
   "metadata": {},
   "outputs": [
    {
     "data": {
      "text/plain": [
       "LIQUOR_LICENSE_Y                       0.822187\n",
       "CHANNEL_LIQUOR                         0.038693\n",
       "COUNTY_DOUGLAS                         0.023023\n",
       "COUNTY_SHAWNEE                         0.019458\n",
       "COUNTY_JOHNSON                         0.018480\n",
       "COUNTY_SEDGWICK                        0.013052\n",
       "SUBCHANNEL_CASUAL DINING               0.010100\n",
       "COUNTY_RILEY                           0.008852\n",
       "COUNTY_WYANDOTTE                       0.006862\n",
       "COUNTY_LEAVENWORTH                     0.006772\n",
       "PREMISE_ON                             0.005707\n",
       "PREMISE_NR                             0.005210\n",
       "COUNTY_RENO                            0.004092\n",
       "PREMISE_OFF                            0.003006\n",
       "SUBCHANNEL_FAST CASUAL                 0.002702\n",
       "CHANNEL_CONVENIENCE STORE              0.001847\n",
       "COUNTY_BUTLER                          0.001756\n",
       "CHANNEL_BAR/NIGHTCLUB                  0.001662\n",
       "SUBCHANNEL_SUPERCENTER                 0.001476\n",
       "CHANNEL_DINING                         0.001454\n",
       "CHANNEL_EXTENDED MASTER OFF-PREMISE    0.001040\n",
       "CHANNEL_RECREATION                     0.000726\n",
       "SUBCHANNEL_NEIGHBORHOOD BAR            0.000466\n",
       "SUBCHANNEL_SMALL GROCERY               0.000341\n",
       "COUNTY_ATCHISON                        0.000321\n",
       "SUBCHANNEL_CONVENTIONAL CONVENIENCE    0.000302\n",
       "SUBCHANNEL_SUPERMARKET-CONVENTIONAL    0.000301\n",
       "SUBCHANNEL_ETHNIC MARKETS              0.000092\n",
       "SUBCHANNEL_BILLIARD/BOWLING/ARCADE     0.000021\n",
       "dtype: float64"
      ]
     },
     "execution_count": 54,
     "metadata": {},
     "output_type": "execute_result"
    }
   ],
   "source": [
    "#feature importance\n",
    "clf = tree.DecisionTreeClassifier(max_depth=best_depth, min_samples_leaf=min_leaf,random_state=0)\n",
    "clf = clf.fit(X,Y)\n",
    "\n",
    "#all the features with their importance scores.\n",
    "feature_score = pd.Series(data=clf.feature_importances_, index=X.columns).sort_values(ascending = False)\n",
    "\n",
    "#only show the features that have scores greater than 0\n",
    "feature_score[feature_score > 0]\n"
   ]
  },
  {
   "cell_type": "code",
   "execution_count": 63,
   "metadata": {},
   "outputs": [
    {
     "data": {
      "text/plain": [
       "array([[1460,   39],\n",
       "       [ 122, 1014]])"
      ]
     },
     "execution_count": 63,
     "metadata": {},
     "output_type": "execute_result"
    }
   ],
   "source": [
    "# Confusion Matrix\n",
    "cm = confusion_matrix(result_df['BEERTYPE'], result_df['PRED_RESULT'])\n",
    "cm"
   ]
  },
  {
   "cell_type": "code",
   "execution_count": 71,
   "metadata": {},
   "outputs": [
    {
     "data": {
      "text/plain": [
       "0.89260563380281688"
      ]
     },
     "execution_count": 71,
     "metadata": {},
     "output_type": "execute_result"
    }
   ],
   "source": [
    "# True Positive Rate\n",
    "TPR = cm[1,1]/(cm[1,1]+cm[1,0])\n",
    "TPR"
   ]
  },
  {
   "cell_type": "code",
   "execution_count": 75,
   "metadata": {},
   "outputs": [
    {
     "data": {
      "text/plain": [
       "0.10739436619718309"
      ]
     },
     "execution_count": 75,
     "metadata": {},
     "output_type": "execute_result"
    }
   ],
   "source": [
    "# False Negative Rate\n",
    "FNR = cm[1,0]/(cm[1,0]+cm[1,1])\n",
    "FNR"
   ]
  },
  {
   "cell_type": "code",
   "execution_count": 72,
   "metadata": {},
   "outputs": [
    {
     "data": {
      "text/plain": [
       "0.97398265510340232"
      ]
     },
     "execution_count": 72,
     "metadata": {},
     "output_type": "execute_result"
    }
   ],
   "source": [
    "# True Negative Rate\n",
    "TNR = cm[0,0]/(cm[0,0]+cm[0,1])\n",
    "TNR"
   ]
  },
  {
   "cell_type": "code",
   "execution_count": 73,
   "metadata": {},
   "outputs": [
    {
     "data": {
      "text/plain": [
       "0.026017344896597731"
      ]
     },
     "execution_count": 73,
     "metadata": {},
     "output_type": "execute_result"
    }
   ],
   "source": [
    "# False Positive Rate\n",
    "FPR = cm[0,1]/(cm[0,1]+cm[0,0])\n",
    "FPR"
   ]
  },
  {
   "cell_type": "code",
   "execution_count": null,
   "metadata": {
    "collapsed": true
   },
   "outputs": [],
   "source": []
  }
 ],
 "metadata": {
  "kernelspec": {
   "display_name": "Python 3",
   "language": "python",
   "name": "python3"
  },
  "language_info": {
   "codemirror_mode": {
    "name": "ipython",
    "version": 3
   },
   "file_extension": ".py",
   "mimetype": "text/x-python",
   "name": "python",
   "nbconvert_exporter": "python",
   "pygments_lexer": "ipython3",
   "version": "3.5.2"
  }
 },
 "nbformat": 4,
 "nbformat_minor": 2
}
